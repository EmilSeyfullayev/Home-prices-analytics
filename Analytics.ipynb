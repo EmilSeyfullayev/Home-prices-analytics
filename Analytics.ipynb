{
  "nbformat": 4,
  "nbformat_minor": 0,
  "metadata": {
    "colab": {
      "name": "Analytics.ipynb",
      "provenance": [],
      "collapsed_sections": [],
      "mount_file_id": "1ssMOINw9xix8h6iYb6j1ZXVWsRjRigXp",
      "authorship_tag": "ABX9TyOR4nOdz5CcZNXg8nfadjpL",
      "include_colab_link": true
    },
    "kernelspec": {
      "name": "python3",
      "display_name": "Python 3"
    },
    "language_info": {
      "name": "python"
    }
  },
  "cells": [
    {
      "cell_type": "markdown",
      "metadata": {
        "id": "view-in-github",
        "colab_type": "text"
      },
      "source": [
        "<a href=\"https://colab.research.google.com/github/EmilSeyfullayev/Home-prices-analytics/blob/main/Analytics.ipynb\" target=\"_parent\"><img src=\"https://colab.research.google.com/assets/colab-badge.svg\" alt=\"Open In Colab\"/></a>"
      ]
    },
    {
      "cell_type": "markdown",
      "source": [
        "### Imports"
      ],
      "metadata": {
        "id": "UQ6E0qMWZXr_"
      }
    },
    {
      "cell_type": "code",
      "source": [
        "import pandas as pd\n",
        "import numpy as np\n",
        "import matplotlib.pyplot as plt\n",
        "import seaborn as sns\n",
        "sns.set_style('whitegrid')\n",
        "import time\n",
        "import datetime"
      ],
      "metadata": {
        "id": "MfXfvUURX5hh"
      },
      "execution_count": 256,
      "outputs": []
    },
    {
      "cell_type": "code",
      "source": [
        "!pip install gsheetsdb"
      ],
      "metadata": {
        "id": "0Q0qaj51YMXE"
      },
      "execution_count": null,
      "outputs": []
    },
    {
      "cell_type": "code",
      "source": [
        "from gsheetsdb import connect"
      ],
      "metadata": {
        "id": "nyCRqWFxYuv2"
      },
      "execution_count": 3,
      "outputs": []
    },
    {
      "cell_type": "code",
      "source": [
        "conn = connect()"
      ],
      "metadata": {
        "id": "vEUXktOBY7s6"
      },
      "execution_count": 4,
      "outputs": []
    },
    {
      "cell_type": "code",
      "source": [
        "sheet_url = 'https://docs.google.com/spreadsheets/d/1J1Lw1vGLEIee31gMLiE8Oihy9LuWSKhvuDdf9qSEKMo/edit?usp=sharing'"
      ],
      "metadata": {
        "id": "D19cKtYHZDTm"
      },
      "execution_count": 5,
      "outputs": []
    },
    {
      "cell_type": "code",
      "source": [
        "df = pd.read_sql(f'SELECT * FROM \"{sheet_url}\"', conn)"
      ],
      "metadata": {
        "id": "cMHUpp7vY971"
      },
      "execution_count": 6,
      "outputs": []
    },
    {
      "cell_type": "code",
      "source": [
        ""
      ],
      "metadata": {
        "id": "xzcVAFx-K63Q"
      },
      "execution_count": null,
      "outputs": []
    },
    {
      "cell_type": "code",
      "source": [
        "df.shape"
      ],
      "metadata": {
        "colab": {
          "base_uri": "https://localhost:8080/"
        },
        "id": "AXxpI5UUZJgc",
        "outputId": "0c0c00dd-569a-45cc-a685-7d76250dc103"
      },
      "execution_count": 7,
      "outputs": [
        {
          "output_type": "execute_result",
          "data": {
            "text/plain": [
              "(18692, 26)"
            ]
          },
          "metadata": {},
          "execution_count": 7
        }
      ]
    },
    {
      "cell_type": "code",
      "source": [
        "len(df.drop_duplicates(subset='ids')) # No duplicate ids"
      ],
      "metadata": {
        "colab": {
          "base_uri": "https://localhost:8080/"
        },
        "id": "l6MU-fDcZqoE",
        "outputId": "a7d000ef-9219-4438-a245-e34c101f8e65"
      },
      "execution_count": 8,
      "outputs": [
        {
          "output_type": "execute_result",
          "data": {
            "text/plain": [
              "18692"
            ]
          },
          "metadata": {},
          "execution_count": 8
        }
      ]
    },
    {
      "cell_type": "code",
      "source": [
        "checkpoint_raw = df.copy()"
      ],
      "metadata": {
        "id": "xq9_CkhBOYKx"
      },
      "execution_count": 9,
      "outputs": []
    },
    {
      "cell_type": "code",
      "source": [
        "df = checkpoint_raw.copy()"
      ],
      "metadata": {
        "id": "ilBEI8u2P_5B"
      },
      "execution_count": 10,
      "outputs": []
    },
    {
      "cell_type": "markdown",
      "source": [
        "# Analytics"
      ],
      "metadata": {
        "id": "qydj-2oDZTTb"
      }
    },
    {
      "cell_type": "markdown",
      "source": [
        "## Preprocessing"
      ],
      "metadata": {
        "id": "XdvANu5IaIDa"
      }
    },
    {
      "cell_type": "code",
      "source": [
        "df.columns.values"
      ],
      "metadata": {
        "colab": {
          "base_uri": "https://localhost:8080/"
        },
        "id": "KpuVpY_WaWse",
        "outputId": "61ba6012-bd30-4e30-f0c3-9bf954ae17b5"
      },
      "execution_count": 11,
      "outputs": [
        {
          "output_type": "execute_result",
          "data": {
            "text/plain": [
              "array(['ids', 'vipped_featured', 'prices', 'texts', 'categories',\n",
              "       'floors', 'areas_m2', 'rooms', 'documents', 'credits', 'address',\n",
              "       'district', 'latitudes', 'longitudes', 'ownerships', 'names',\n",
              "       'emails', 'phone_numbers_appened', 'ad_number', 'watches',\n",
              "       'ad_refreshed_date', 'agency_titles', 'photo_counts',\n",
              "       'phot_pseudo_links', 'date_of_parsing', 'deal_ended'], dtype=object)"
            ]
          },
          "metadata": {},
          "execution_count": 11
        }
      ]
    },
    {
      "cell_type": "code",
      "source": [
        "# Necessary columns\n",
        "necessary_columns = [\n",
        "                     \"ids\",\n",
        "                     \"vipped_featured\", \n",
        "                     \"prices\",\n",
        "                     \"categories\",\n",
        "                     \"floors\",\n",
        "                     \"areas_m2\",\n",
        "                     \"rooms\",\n",
        "                     \"documents\",\n",
        "                     \"credits\",\n",
        "                     \"address\",\n",
        "                     \"district\",\n",
        "                     \"latitudes\",\n",
        "                     \"longitudes\",\n",
        "                     \"ownerships\",\n",
        "                     \"watches\",\n",
        "                     \"ad_refreshed_date\",\n",
        "                     \"agency_titles\",\n",
        "                     \"date_of_parsing\",\n",
        "                     \"deal_ended\"\n",
        "]\n",
        "df = df[necessary_columns]"
      ],
      "metadata": {
        "id": "R8ms5yefcA6Y"
      },
      "execution_count": 12,
      "outputs": []
    },
    {
      "cell_type": "code",
      "source": [
        "df.head()"
      ],
      "metadata": {
        "colab": {
          "base_uri": "https://localhost:8080/",
          "height": 635
        },
        "id": "IiNcvHgsZuQG",
        "outputId": "184fb819-bf6a-4a9e-dc29-b5035f0b642c"
      },
      "execution_count": 13,
      "outputs": [
        {
          "output_type": "execute_result",
          "data": {
            "text/html": [
              "\n",
              "  <div id=\"df-ecc7e8ac-ba9e-4e27-8b9b-7f18d215497f\">\n",
              "    <div class=\"colab-df-container\">\n",
              "      <div>\n",
              "<style scoped>\n",
              "    .dataframe tbody tr th:only-of-type {\n",
              "        vertical-align: middle;\n",
              "    }\n",
              "\n",
              "    .dataframe tbody tr th {\n",
              "        vertical-align: top;\n",
              "    }\n",
              "\n",
              "    .dataframe thead th {\n",
              "        text-align: right;\n",
              "    }\n",
              "</style>\n",
              "<table border=\"1\" class=\"dataframe\">\n",
              "  <thead>\n",
              "    <tr style=\"text-align: right;\">\n",
              "      <th></th>\n",
              "      <th>ids</th>\n",
              "      <th>vipped_featured</th>\n",
              "      <th>prices</th>\n",
              "      <th>categories</th>\n",
              "      <th>floors</th>\n",
              "      <th>areas_m2</th>\n",
              "      <th>rooms</th>\n",
              "      <th>documents</th>\n",
              "      <th>credits</th>\n",
              "      <th>address</th>\n",
              "      <th>district</th>\n",
              "      <th>latitudes</th>\n",
              "      <th>longitudes</th>\n",
              "      <th>ownerships</th>\n",
              "      <th>watches</th>\n",
              "      <th>ad_refreshed_date</th>\n",
              "      <th>agency_titles</th>\n",
              "      <th>date_of_parsing</th>\n",
              "      <th>deal_ended</th>\n",
              "    </tr>\n",
              "  </thead>\n",
              "  <tbody>\n",
              "    <tr>\n",
              "      <th>0</th>\n",
              "      <td>2348807</td>\n",
              "      <td>featuredvipped</td>\n",
              "      <td>54 000</td>\n",
              "      <td>Köhnə tikili</td>\n",
              "      <td>2 / 5</td>\n",
              "      <td>50 m²</td>\n",
              "      <td>2</td>\n",
              "      <td>var</td>\n",
              "      <td>var</td>\n",
              "      <td>Ünvan: Bakı şəhəri, R.Şahsuvarov küç 31</td>\n",
              "      <td>Suraxanı r.; Hövsan q.</td>\n",
              "      <td>40.35582129</td>\n",
              "      <td>50.06357475</td>\n",
              "      <td>mülkiyyətçi</td>\n",
              "      <td>3363</td>\n",
              "      <td>01 Yanvar 2022</td>\n",
              "      <td>0</td>\n",
              "      <td>2022-01-03 11:36:55</td>\n",
              "      <td>0</td>\n",
              "    </tr>\n",
              "    <tr>\n",
              "      <th>1</th>\n",
              "      <td>1710054</td>\n",
              "      <td>vipped</td>\n",
              "      <td>289 000</td>\n",
              "      <td>Yeni tikili</td>\n",
              "      <td>5 / 17</td>\n",
              "      <td>180 m²</td>\n",
              "      <td>4</td>\n",
              "      <td>var</td>\n",
              "      <td>var</td>\n",
              "      <td>Ünvan: Bakı şəhəri, Affiyədin Cəlilov küç.</td>\n",
              "      <td>Şah İsmayıl Xətai m.; Xətai r.</td>\n",
              "      <td>40.37891689</td>\n",
              "      <td>49.875682</td>\n",
              "      <td>mülkiyyətçi</td>\n",
              "      <td>7348</td>\n",
              "      <td>22 Dekabr 2021</td>\n",
              "      <td>0</td>\n",
              "      <td>2022-01-03 11:36:55</td>\n",
              "      <td>0</td>\n",
              "    </tr>\n",
              "    <tr>\n",
              "      <th>2</th>\n",
              "      <td>2524899</td>\n",
              "      <td>vipped</td>\n",
              "      <td>159 000</td>\n",
              "      <td>Yeni tikili</td>\n",
              "      <td>12 / 19</td>\n",
              "      <td>58 m²</td>\n",
              "      <td>2</td>\n",
              "      <td>var</td>\n",
              "      <td>var</td>\n",
              "      <td>Ünvan: Bakı şəhəri, Azadlıq prospekti</td>\n",
              "      <td>ASAN Xidmət №1 ; TQDK ; Neftçi bazası ; Nəsimi r.</td>\n",
              "      <td>40.39841488</td>\n",
              "      <td>49.83920251</td>\n",
              "      <td>vasitəçi (agent)</td>\n",
              "      <td>197</td>\n",
              "      <td>28 Dekabr 2021</td>\n",
              "      <td>0</td>\n",
              "      <td>2022-01-03 11:36:55</td>\n",
              "      <td>0</td>\n",
              "    </tr>\n",
              "    <tr>\n",
              "      <th>3</th>\n",
              "      <td>2529070</td>\n",
              "      <td>vipped</td>\n",
              "      <td>175 000</td>\n",
              "      <td>Yeni tikili</td>\n",
              "      <td>7 / 7</td>\n",
              "      <td>117 m²</td>\n",
              "      <td>3</td>\n",
              "      <td>var</td>\n",
              "      <td>var</td>\n",
              "      <td>Ünvan: Bakı şəhəri, Xəqani Rüstəmov küçəsi 6</td>\n",
              "      <td>Əhmədli m.; Xətai r.</td>\n",
              "      <td>40.3816452</td>\n",
              "      <td>49.9584505</td>\n",
              "      <td>mülkiyyətçi</td>\n",
              "      <td>376</td>\n",
              "      <td>25 Dekabr 2021</td>\n",
              "      <td>0</td>\n",
              "      <td>2022-01-03 11:36:55</td>\n",
              "      <td>0</td>\n",
              "    </tr>\n",
              "    <tr>\n",
              "      <th>4</th>\n",
              "      <td>2541267</td>\n",
              "      <td>0</td>\n",
              "      <td>104 000</td>\n",
              "      <td>Yeni tikili</td>\n",
              "      <td>11 / 12</td>\n",
              "      <td>65 m²</td>\n",
              "      <td>2</td>\n",
              "      <td>var</td>\n",
              "      <td>xeyr</td>\n",
              "      <td>Ünvan: Bakı şəhəri, S.S.Axundov küç.</td>\n",
              "      <td>Azadlıq Prospekti m.; Binəqədi r.; 8-ci mikror...</td>\n",
              "      <td>40.42705637</td>\n",
              "      <td>49.84432445</td>\n",
              "      <td>vasitəçi (agent)</td>\n",
              "      <td>28</td>\n",
              "      <td>Bugün 15:20</td>\n",
              "      <td>New House 20 Yanvar daşınmaz əmlak agentliyi</td>\n",
              "      <td>2022-01-03 11:36:55</td>\n",
              "      <td>0</td>\n",
              "    </tr>\n",
              "  </tbody>\n",
              "</table>\n",
              "</div>\n",
              "      <button class=\"colab-df-convert\" onclick=\"convertToInteractive('df-ecc7e8ac-ba9e-4e27-8b9b-7f18d215497f')\"\n",
              "              title=\"Convert this dataframe to an interactive table.\"\n",
              "              style=\"display:none;\">\n",
              "        \n",
              "  <svg xmlns=\"http://www.w3.org/2000/svg\" height=\"24px\"viewBox=\"0 0 24 24\"\n",
              "       width=\"24px\">\n",
              "    <path d=\"M0 0h24v24H0V0z\" fill=\"none\"/>\n",
              "    <path d=\"M18.56 5.44l.94 2.06.94-2.06 2.06-.94-2.06-.94-.94-2.06-.94 2.06-2.06.94zm-11 1L8.5 8.5l.94-2.06 2.06-.94-2.06-.94L8.5 2.5l-.94 2.06-2.06.94zm10 10l.94 2.06.94-2.06 2.06-.94-2.06-.94-.94-2.06-.94 2.06-2.06.94z\"/><path d=\"M17.41 7.96l-1.37-1.37c-.4-.4-.92-.59-1.43-.59-.52 0-1.04.2-1.43.59L10.3 9.45l-7.72 7.72c-.78.78-.78 2.05 0 2.83L4 21.41c.39.39.9.59 1.41.59.51 0 1.02-.2 1.41-.59l7.78-7.78 2.81-2.81c.8-.78.8-2.07 0-2.86zM5.41 20L4 18.59l7.72-7.72 1.47 1.35L5.41 20z\"/>\n",
              "  </svg>\n",
              "      </button>\n",
              "      \n",
              "  <style>\n",
              "    .colab-df-container {\n",
              "      display:flex;\n",
              "      flex-wrap:wrap;\n",
              "      gap: 12px;\n",
              "    }\n",
              "\n",
              "    .colab-df-convert {\n",
              "      background-color: #E8F0FE;\n",
              "      border: none;\n",
              "      border-radius: 50%;\n",
              "      cursor: pointer;\n",
              "      display: none;\n",
              "      fill: #1967D2;\n",
              "      height: 32px;\n",
              "      padding: 0 0 0 0;\n",
              "      width: 32px;\n",
              "    }\n",
              "\n",
              "    .colab-df-convert:hover {\n",
              "      background-color: #E2EBFA;\n",
              "      box-shadow: 0px 1px 2px rgba(60, 64, 67, 0.3), 0px 1px 3px 1px rgba(60, 64, 67, 0.15);\n",
              "      fill: #174EA6;\n",
              "    }\n",
              "\n",
              "    [theme=dark] .colab-df-convert {\n",
              "      background-color: #3B4455;\n",
              "      fill: #D2E3FC;\n",
              "    }\n",
              "\n",
              "    [theme=dark] .colab-df-convert:hover {\n",
              "      background-color: #434B5C;\n",
              "      box-shadow: 0px 1px 3px 1px rgba(0, 0, 0, 0.15);\n",
              "      filter: drop-shadow(0px 1px 2px rgba(0, 0, 0, 0.3));\n",
              "      fill: #FFFFFF;\n",
              "    }\n",
              "  </style>\n",
              "\n",
              "      <script>\n",
              "        const buttonEl =\n",
              "          document.querySelector('#df-ecc7e8ac-ba9e-4e27-8b9b-7f18d215497f button.colab-df-convert');\n",
              "        buttonEl.style.display =\n",
              "          google.colab.kernel.accessAllowed ? 'block' : 'none';\n",
              "\n",
              "        async function convertToInteractive(key) {\n",
              "          const element = document.querySelector('#df-ecc7e8ac-ba9e-4e27-8b9b-7f18d215497f');\n",
              "          const dataTable =\n",
              "            await google.colab.kernel.invokeFunction('convertToInteractive',\n",
              "                                                     [key], {});\n",
              "          if (!dataTable) return;\n",
              "\n",
              "          const docLinkHtml = 'Like what you see? Visit the ' +\n",
              "            '<a target=\"_blank\" href=https://colab.research.google.com/notebooks/data_table.ipynb>data table notebook</a>'\n",
              "            + ' to learn more about interactive tables.';\n",
              "          element.innerHTML = '';\n",
              "          dataTable['output_type'] = 'display_data';\n",
              "          await google.colab.output.renderOutput(dataTable, element);\n",
              "          const docLink = document.createElement('div');\n",
              "          docLink.innerHTML = docLinkHtml;\n",
              "          element.appendChild(docLink);\n",
              "        }\n",
              "      </script>\n",
              "    </div>\n",
              "  </div>\n",
              "  "
            ],
            "text/plain": [
              "       ids vipped_featured  ...     date_of_parsing deal_ended\n",
              "0  2348807  featuredvipped  ... 2022-01-03 11:36:55          0\n",
              "1  1710054          vipped  ... 2022-01-03 11:36:55          0\n",
              "2  2524899          vipped  ... 2022-01-03 11:36:55          0\n",
              "3  2529070          vipped  ... 2022-01-03 11:36:55          0\n",
              "4  2541267               0  ... 2022-01-03 11:36:55          0\n",
              "\n",
              "[5 rows x 19 columns]"
            ]
          },
          "metadata": {},
          "execution_count": 13
        }
      ]
    },
    {
      "cell_type": "code",
      "source": [
        "df.shape"
      ],
      "metadata": {
        "colab": {
          "base_uri": "https://localhost:8080/"
        },
        "id": "zEP45hv6Z7W9",
        "outputId": "0c756133-84e4-482e-bed3-298a2d75e4f0"
      },
      "execution_count": 14,
      "outputs": [
        {
          "output_type": "execute_result",
          "data": {
            "text/plain": [
              "(18692, 19)"
            ]
          },
          "metadata": {},
          "execution_count": 14
        }
      ]
    },
    {
      "cell_type": "markdown",
      "source": [
        "### Vipped Featured ordinary ads"
      ],
      "metadata": {
        "id": "2QZSs7H0ddB4"
      }
    },
    {
      "cell_type": "code",
      "source": [
        "df['vipped_featured'].value_counts()"
      ],
      "metadata": {
        "colab": {
          "base_uri": "https://localhost:8080/"
        },
        "id": "iZCjP7eGdikc",
        "outputId": "afd01dc2-cca0-4334-b534-a3b0b95c1c81"
      },
      "execution_count": 15,
      "outputs": [
        {
          "output_type": "execute_result",
          "data": {
            "text/plain": [
              "0                 18302\n",
              "vipped              278\n",
              "featuredvipped       86\n",
              "featured             26\n",
              "Name: vipped_featured, dtype: int64"
            ]
          },
          "metadata": {},
          "execution_count": 15
        }
      ]
    },
    {
      "cell_type": "code",
      "source": [
        "ad_type = pd.get_dummies(df['vipped_featured'], prefix='ad_type', drop_first=True)\n",
        "ad_type # ad_type_0 is reference category"
      ],
      "metadata": {
        "colab": {
          "base_uri": "https://localhost:8080/",
          "height": 424
        },
        "id": "D7x4muM8duFi",
        "outputId": "370e5329-0576-44bd-d07a-596d22eb212c"
      },
      "execution_count": 16,
      "outputs": [
        {
          "output_type": "execute_result",
          "data": {
            "text/html": [
              "\n",
              "  <div id=\"df-44ba29e6-0b96-4d14-acf9-de613bfd2c18\">\n",
              "    <div class=\"colab-df-container\">\n",
              "      <div>\n",
              "<style scoped>\n",
              "    .dataframe tbody tr th:only-of-type {\n",
              "        vertical-align: middle;\n",
              "    }\n",
              "\n",
              "    .dataframe tbody tr th {\n",
              "        vertical-align: top;\n",
              "    }\n",
              "\n",
              "    .dataframe thead th {\n",
              "        text-align: right;\n",
              "    }\n",
              "</style>\n",
              "<table border=\"1\" class=\"dataframe\">\n",
              "  <thead>\n",
              "    <tr style=\"text-align: right;\">\n",
              "      <th></th>\n",
              "      <th>ad_type_featured</th>\n",
              "      <th>ad_type_featuredvipped</th>\n",
              "      <th>ad_type_vipped</th>\n",
              "    </tr>\n",
              "  </thead>\n",
              "  <tbody>\n",
              "    <tr>\n",
              "      <th>0</th>\n",
              "      <td>0</td>\n",
              "      <td>1</td>\n",
              "      <td>0</td>\n",
              "    </tr>\n",
              "    <tr>\n",
              "      <th>1</th>\n",
              "      <td>0</td>\n",
              "      <td>0</td>\n",
              "      <td>1</td>\n",
              "    </tr>\n",
              "    <tr>\n",
              "      <th>2</th>\n",
              "      <td>0</td>\n",
              "      <td>0</td>\n",
              "      <td>1</td>\n",
              "    </tr>\n",
              "    <tr>\n",
              "      <th>3</th>\n",
              "      <td>0</td>\n",
              "      <td>0</td>\n",
              "      <td>1</td>\n",
              "    </tr>\n",
              "    <tr>\n",
              "      <th>4</th>\n",
              "      <td>0</td>\n",
              "      <td>0</td>\n",
              "      <td>0</td>\n",
              "    </tr>\n",
              "    <tr>\n",
              "      <th>...</th>\n",
              "      <td>...</td>\n",
              "      <td>...</td>\n",
              "      <td>...</td>\n",
              "    </tr>\n",
              "    <tr>\n",
              "      <th>18687</th>\n",
              "      <td>0</td>\n",
              "      <td>0</td>\n",
              "      <td>0</td>\n",
              "    </tr>\n",
              "    <tr>\n",
              "      <th>18688</th>\n",
              "      <td>0</td>\n",
              "      <td>0</td>\n",
              "      <td>0</td>\n",
              "    </tr>\n",
              "    <tr>\n",
              "      <th>18689</th>\n",
              "      <td>0</td>\n",
              "      <td>0</td>\n",
              "      <td>0</td>\n",
              "    </tr>\n",
              "    <tr>\n",
              "      <th>18690</th>\n",
              "      <td>0</td>\n",
              "      <td>0</td>\n",
              "      <td>0</td>\n",
              "    </tr>\n",
              "    <tr>\n",
              "      <th>18691</th>\n",
              "      <td>0</td>\n",
              "      <td>0</td>\n",
              "      <td>0</td>\n",
              "    </tr>\n",
              "  </tbody>\n",
              "</table>\n",
              "<p>18692 rows × 3 columns</p>\n",
              "</div>\n",
              "      <button class=\"colab-df-convert\" onclick=\"convertToInteractive('df-44ba29e6-0b96-4d14-acf9-de613bfd2c18')\"\n",
              "              title=\"Convert this dataframe to an interactive table.\"\n",
              "              style=\"display:none;\">\n",
              "        \n",
              "  <svg xmlns=\"http://www.w3.org/2000/svg\" height=\"24px\"viewBox=\"0 0 24 24\"\n",
              "       width=\"24px\">\n",
              "    <path d=\"M0 0h24v24H0V0z\" fill=\"none\"/>\n",
              "    <path d=\"M18.56 5.44l.94 2.06.94-2.06 2.06-.94-2.06-.94-.94-2.06-.94 2.06-2.06.94zm-11 1L8.5 8.5l.94-2.06 2.06-.94-2.06-.94L8.5 2.5l-.94 2.06-2.06.94zm10 10l.94 2.06.94-2.06 2.06-.94-2.06-.94-.94-2.06-.94 2.06-2.06.94z\"/><path d=\"M17.41 7.96l-1.37-1.37c-.4-.4-.92-.59-1.43-.59-.52 0-1.04.2-1.43.59L10.3 9.45l-7.72 7.72c-.78.78-.78 2.05 0 2.83L4 21.41c.39.39.9.59 1.41.59.51 0 1.02-.2 1.41-.59l7.78-7.78 2.81-2.81c.8-.78.8-2.07 0-2.86zM5.41 20L4 18.59l7.72-7.72 1.47 1.35L5.41 20z\"/>\n",
              "  </svg>\n",
              "      </button>\n",
              "      \n",
              "  <style>\n",
              "    .colab-df-container {\n",
              "      display:flex;\n",
              "      flex-wrap:wrap;\n",
              "      gap: 12px;\n",
              "    }\n",
              "\n",
              "    .colab-df-convert {\n",
              "      background-color: #E8F0FE;\n",
              "      border: none;\n",
              "      border-radius: 50%;\n",
              "      cursor: pointer;\n",
              "      display: none;\n",
              "      fill: #1967D2;\n",
              "      height: 32px;\n",
              "      padding: 0 0 0 0;\n",
              "      width: 32px;\n",
              "    }\n",
              "\n",
              "    .colab-df-convert:hover {\n",
              "      background-color: #E2EBFA;\n",
              "      box-shadow: 0px 1px 2px rgba(60, 64, 67, 0.3), 0px 1px 3px 1px rgba(60, 64, 67, 0.15);\n",
              "      fill: #174EA6;\n",
              "    }\n",
              "\n",
              "    [theme=dark] .colab-df-convert {\n",
              "      background-color: #3B4455;\n",
              "      fill: #D2E3FC;\n",
              "    }\n",
              "\n",
              "    [theme=dark] .colab-df-convert:hover {\n",
              "      background-color: #434B5C;\n",
              "      box-shadow: 0px 1px 3px 1px rgba(0, 0, 0, 0.15);\n",
              "      filter: drop-shadow(0px 1px 2px rgba(0, 0, 0, 0.3));\n",
              "      fill: #FFFFFF;\n",
              "    }\n",
              "  </style>\n",
              "\n",
              "      <script>\n",
              "        const buttonEl =\n",
              "          document.querySelector('#df-44ba29e6-0b96-4d14-acf9-de613bfd2c18 button.colab-df-convert');\n",
              "        buttonEl.style.display =\n",
              "          google.colab.kernel.accessAllowed ? 'block' : 'none';\n",
              "\n",
              "        async function convertToInteractive(key) {\n",
              "          const element = document.querySelector('#df-44ba29e6-0b96-4d14-acf9-de613bfd2c18');\n",
              "          const dataTable =\n",
              "            await google.colab.kernel.invokeFunction('convertToInteractive',\n",
              "                                                     [key], {});\n",
              "          if (!dataTable) return;\n",
              "\n",
              "          const docLinkHtml = 'Like what you see? Visit the ' +\n",
              "            '<a target=\"_blank\" href=https://colab.research.google.com/notebooks/data_table.ipynb>data table notebook</a>'\n",
              "            + ' to learn more about interactive tables.';\n",
              "          element.innerHTML = '';\n",
              "          dataTable['output_type'] = 'display_data';\n",
              "          await google.colab.output.renderOutput(dataTable, element);\n",
              "          const docLink = document.createElement('div');\n",
              "          docLink.innerHTML = docLinkHtml;\n",
              "          element.appendChild(docLink);\n",
              "        }\n",
              "      </script>\n",
              "    </div>\n",
              "  </div>\n",
              "  "
            ],
            "text/plain": [
              "       ad_type_featured  ad_type_featuredvipped  ad_type_vipped\n",
              "0                     0                       1               0\n",
              "1                     0                       0               1\n",
              "2                     0                       0               1\n",
              "3                     0                       0               1\n",
              "4                     0                       0               0\n",
              "...                 ...                     ...             ...\n",
              "18687                 0                       0               0\n",
              "18688                 0                       0               0\n",
              "18689                 0                       0               0\n",
              "18690                 0                       0               0\n",
              "18691                 0                       0               0\n",
              "\n",
              "[18692 rows x 3 columns]"
            ]
          },
          "metadata": {},
          "execution_count": 16
        }
      ]
    },
    {
      "cell_type": "code",
      "source": [
        "df = pd.concat([df, ad_type], axis=1)\n",
        "df.columns.values"
      ],
      "metadata": {
        "colab": {
          "base_uri": "https://localhost:8080/"
        },
        "id": "qMIr_7TGeLVZ",
        "outputId": "4e299fc0-d12b-4cc8-f7eb-8d680247063d"
      },
      "execution_count": 17,
      "outputs": [
        {
          "output_type": "execute_result",
          "data": {
            "text/plain": [
              "array(['ids', 'vipped_featured', 'prices', 'categories', 'floors',\n",
              "       'areas_m2', 'rooms', 'documents', 'credits', 'address', 'district',\n",
              "       'latitudes', 'longitudes', 'ownerships', 'watches',\n",
              "       'ad_refreshed_date', 'agency_titles', 'date_of_parsing',\n",
              "       'deal_ended', 'ad_type_featured', 'ad_type_featuredvipped',\n",
              "       'ad_type_vipped'], dtype=object)"
            ]
          },
          "metadata": {},
          "execution_count": 17
        }
      ]
    },
    {
      "cell_type": "markdown",
      "source": [
        "### Price"
      ],
      "metadata": {
        "id": "WxFM2zYsbnwk"
      }
    },
    {
      "cell_type": "code",
      "source": [
        "df['prices'] = pd.to_numeric(\n",
        "    df['prices'].apply(lambda x: str(x).replace(\" \", \"\"))\n",
        ")"
      ],
      "metadata": {
        "id": "LO4A-N3SZ_Dk"
      },
      "execution_count": 18,
      "outputs": []
    },
    {
      "cell_type": "markdown",
      "source": [
        "### Categories"
      ],
      "metadata": {
        "id": "uDT-XJ7ielV4"
      }
    },
    {
      "cell_type": "code",
      "source": [
        "df['categories'].value_counts()"
      ],
      "metadata": {
        "colab": {
          "base_uri": "https://localhost:8080/"
        },
        "id": "DDsYwMgnevy2",
        "outputId": "00df1d37-6c50-4d33-d809-52a787c41639"
      },
      "execution_count": 19,
      "outputs": [
        {
          "output_type": "execute_result",
          "data": {
            "text/plain": [
              "Yeni tikili     12600\n",
              "Köhnə tikili     6086\n",
              "0                   6\n",
              "Name: categories, dtype: int64"
            ]
          },
          "metadata": {},
          "execution_count": 19
        }
      ]
    },
    {
      "cell_type": "code",
      "source": [
        "categories = pd.get_dummies(df['categories'], drop_first=True) # 0 is reference category\n",
        "categories"
      ],
      "metadata": {
        "colab": {
          "base_uri": "https://localhost:8080/",
          "height": 424
        },
        "id": "npFAjGPEbt33",
        "outputId": "fecefbaa-5f9a-47ca-b928-c6958584cbd7"
      },
      "execution_count": 20,
      "outputs": [
        {
          "output_type": "execute_result",
          "data": {
            "text/html": [
              "\n",
              "  <div id=\"df-6b5568de-0db4-4d76-9ec6-b8262dc135ad\">\n",
              "    <div class=\"colab-df-container\">\n",
              "      <div>\n",
              "<style scoped>\n",
              "    .dataframe tbody tr th:only-of-type {\n",
              "        vertical-align: middle;\n",
              "    }\n",
              "\n",
              "    .dataframe tbody tr th {\n",
              "        vertical-align: top;\n",
              "    }\n",
              "\n",
              "    .dataframe thead th {\n",
              "        text-align: right;\n",
              "    }\n",
              "</style>\n",
              "<table border=\"1\" class=\"dataframe\">\n",
              "  <thead>\n",
              "    <tr style=\"text-align: right;\">\n",
              "      <th></th>\n",
              "      <th>Köhnə tikili</th>\n",
              "      <th>Yeni tikili</th>\n",
              "    </tr>\n",
              "  </thead>\n",
              "  <tbody>\n",
              "    <tr>\n",
              "      <th>0</th>\n",
              "      <td>1</td>\n",
              "      <td>0</td>\n",
              "    </tr>\n",
              "    <tr>\n",
              "      <th>1</th>\n",
              "      <td>0</td>\n",
              "      <td>1</td>\n",
              "    </tr>\n",
              "    <tr>\n",
              "      <th>2</th>\n",
              "      <td>0</td>\n",
              "      <td>1</td>\n",
              "    </tr>\n",
              "    <tr>\n",
              "      <th>3</th>\n",
              "      <td>0</td>\n",
              "      <td>1</td>\n",
              "    </tr>\n",
              "    <tr>\n",
              "      <th>4</th>\n",
              "      <td>0</td>\n",
              "      <td>1</td>\n",
              "    </tr>\n",
              "    <tr>\n",
              "      <th>...</th>\n",
              "      <td>...</td>\n",
              "      <td>...</td>\n",
              "    </tr>\n",
              "    <tr>\n",
              "      <th>18687</th>\n",
              "      <td>1</td>\n",
              "      <td>0</td>\n",
              "    </tr>\n",
              "    <tr>\n",
              "      <th>18688</th>\n",
              "      <td>1</td>\n",
              "      <td>0</td>\n",
              "    </tr>\n",
              "    <tr>\n",
              "      <th>18689</th>\n",
              "      <td>0</td>\n",
              "      <td>1</td>\n",
              "    </tr>\n",
              "    <tr>\n",
              "      <th>18690</th>\n",
              "      <td>0</td>\n",
              "      <td>1</td>\n",
              "    </tr>\n",
              "    <tr>\n",
              "      <th>18691</th>\n",
              "      <td>0</td>\n",
              "      <td>1</td>\n",
              "    </tr>\n",
              "  </tbody>\n",
              "</table>\n",
              "<p>18692 rows × 2 columns</p>\n",
              "</div>\n",
              "      <button class=\"colab-df-convert\" onclick=\"convertToInteractive('df-6b5568de-0db4-4d76-9ec6-b8262dc135ad')\"\n",
              "              title=\"Convert this dataframe to an interactive table.\"\n",
              "              style=\"display:none;\">\n",
              "        \n",
              "  <svg xmlns=\"http://www.w3.org/2000/svg\" height=\"24px\"viewBox=\"0 0 24 24\"\n",
              "       width=\"24px\">\n",
              "    <path d=\"M0 0h24v24H0V0z\" fill=\"none\"/>\n",
              "    <path d=\"M18.56 5.44l.94 2.06.94-2.06 2.06-.94-2.06-.94-.94-2.06-.94 2.06-2.06.94zm-11 1L8.5 8.5l.94-2.06 2.06-.94-2.06-.94L8.5 2.5l-.94 2.06-2.06.94zm10 10l.94 2.06.94-2.06 2.06-.94-2.06-.94-.94-2.06-.94 2.06-2.06.94z\"/><path d=\"M17.41 7.96l-1.37-1.37c-.4-.4-.92-.59-1.43-.59-.52 0-1.04.2-1.43.59L10.3 9.45l-7.72 7.72c-.78.78-.78 2.05 0 2.83L4 21.41c.39.39.9.59 1.41.59.51 0 1.02-.2 1.41-.59l7.78-7.78 2.81-2.81c.8-.78.8-2.07 0-2.86zM5.41 20L4 18.59l7.72-7.72 1.47 1.35L5.41 20z\"/>\n",
              "  </svg>\n",
              "      </button>\n",
              "      \n",
              "  <style>\n",
              "    .colab-df-container {\n",
              "      display:flex;\n",
              "      flex-wrap:wrap;\n",
              "      gap: 12px;\n",
              "    }\n",
              "\n",
              "    .colab-df-convert {\n",
              "      background-color: #E8F0FE;\n",
              "      border: none;\n",
              "      border-radius: 50%;\n",
              "      cursor: pointer;\n",
              "      display: none;\n",
              "      fill: #1967D2;\n",
              "      height: 32px;\n",
              "      padding: 0 0 0 0;\n",
              "      width: 32px;\n",
              "    }\n",
              "\n",
              "    .colab-df-convert:hover {\n",
              "      background-color: #E2EBFA;\n",
              "      box-shadow: 0px 1px 2px rgba(60, 64, 67, 0.3), 0px 1px 3px 1px rgba(60, 64, 67, 0.15);\n",
              "      fill: #174EA6;\n",
              "    }\n",
              "\n",
              "    [theme=dark] .colab-df-convert {\n",
              "      background-color: #3B4455;\n",
              "      fill: #D2E3FC;\n",
              "    }\n",
              "\n",
              "    [theme=dark] .colab-df-convert:hover {\n",
              "      background-color: #434B5C;\n",
              "      box-shadow: 0px 1px 3px 1px rgba(0, 0, 0, 0.15);\n",
              "      filter: drop-shadow(0px 1px 2px rgba(0, 0, 0, 0.3));\n",
              "      fill: #FFFFFF;\n",
              "    }\n",
              "  </style>\n",
              "\n",
              "      <script>\n",
              "        const buttonEl =\n",
              "          document.querySelector('#df-6b5568de-0db4-4d76-9ec6-b8262dc135ad button.colab-df-convert');\n",
              "        buttonEl.style.display =\n",
              "          google.colab.kernel.accessAllowed ? 'block' : 'none';\n",
              "\n",
              "        async function convertToInteractive(key) {\n",
              "          const element = document.querySelector('#df-6b5568de-0db4-4d76-9ec6-b8262dc135ad');\n",
              "          const dataTable =\n",
              "            await google.colab.kernel.invokeFunction('convertToInteractive',\n",
              "                                                     [key], {});\n",
              "          if (!dataTable) return;\n",
              "\n",
              "          const docLinkHtml = 'Like what you see? Visit the ' +\n",
              "            '<a target=\"_blank\" href=https://colab.research.google.com/notebooks/data_table.ipynb>data table notebook</a>'\n",
              "            + ' to learn more about interactive tables.';\n",
              "          element.innerHTML = '';\n",
              "          dataTable['output_type'] = 'display_data';\n",
              "          await google.colab.output.renderOutput(dataTable, element);\n",
              "          const docLink = document.createElement('div');\n",
              "          docLink.innerHTML = docLinkHtml;\n",
              "          element.appendChild(docLink);\n",
              "        }\n",
              "      </script>\n",
              "    </div>\n",
              "  </div>\n",
              "  "
            ],
            "text/plain": [
              "       Köhnə tikili  Yeni tikili\n",
              "0                 1            0\n",
              "1                 0            1\n",
              "2                 0            1\n",
              "3                 0            1\n",
              "4                 0            1\n",
              "...             ...          ...\n",
              "18687             1            0\n",
              "18688             1            0\n",
              "18689             0            1\n",
              "18690             0            1\n",
              "18691             0            1\n",
              "\n",
              "[18692 rows x 2 columns]"
            ]
          },
          "metadata": {},
          "execution_count": 20
        }
      ]
    },
    {
      "cell_type": "code",
      "source": [
        "df = pd.concat([df, categories], axis=1)\n",
        "df.columns.values"
      ],
      "metadata": {
        "colab": {
          "base_uri": "https://localhost:8080/"
        },
        "id": "Fl8xglyjetm8",
        "outputId": "47c218b7-1c35-4420-9440-10b1987c4fb5"
      },
      "execution_count": 21,
      "outputs": [
        {
          "output_type": "execute_result",
          "data": {
            "text/plain": [
              "array(['ids', 'vipped_featured', 'prices', 'categories', 'floors',\n",
              "       'areas_m2', 'rooms', 'documents', 'credits', 'address', 'district',\n",
              "       'latitudes', 'longitudes', 'ownerships', 'watches',\n",
              "       'ad_refreshed_date', 'agency_titles', 'date_of_parsing',\n",
              "       'deal_ended', 'ad_type_featured', 'ad_type_featuredvipped',\n",
              "       'ad_type_vipped', 'Köhnə tikili', 'Yeni tikili'], dtype=object)"
            ]
          },
          "metadata": {},
          "execution_count": 21
        }
      ]
    },
    {
      "cell_type": "markdown",
      "source": [
        "### Floors"
      ],
      "metadata": {
        "id": "bvvg2TC3fiGG"
      }
    },
    {
      "cell_type": "code",
      "source": [
        "df['floors'].value_counts()"
      ],
      "metadata": {
        "colab": {
          "base_uri": "https://localhost:8080/"
        },
        "id": "YBqQgifrfptq",
        "outputId": "d50f20ae-d704-4023-b0e9-f2df631dc796"
      },
      "execution_count": 22,
      "outputs": [
        {
          "output_type": "execute_result",
          "data": {
            "text/plain": [
              "5 / 5      681\n",
              "4 / 5      670\n",
              "3 / 5      550\n",
              "2 / 5      516\n",
              "1 / 5      359\n",
              "          ... \n",
              "3 / 33       1\n",
              "16 / 30      1\n",
              "18 / 32      1\n",
              "1 / 19       1\n",
              "25 / 27      1\n",
              "Name: floors, Length: 346, dtype: int64"
            ]
          },
          "metadata": {},
          "execution_count": 22
        }
      ]
    },
    {
      "cell_type": "code",
      "source": [
        "apartment_floor = df['floors'].apply(lambda x: str(x).split(\" / \")[0])\n",
        "\n",
        "buildings_floor = []\n",
        "\n",
        "for i in df['floors']:\n",
        "  try:\n",
        "    buildings_floor.append(str(i).split(\" / \")[1])\n",
        "  except:\n",
        "    buildings_floor.append(np.nan)"
      ],
      "metadata": {
        "id": "a8kXU-CSftzA"
      },
      "execution_count": 23,
      "outputs": []
    },
    {
      "cell_type": "code",
      "source": [
        "df['apartment_floor'] = apartment_floor\n",
        "df['buildings_floor'] = buildings_floor"
      ],
      "metadata": {
        "id": "WdQ5KG31f5hh"
      },
      "execution_count": 24,
      "outputs": []
    },
    {
      "cell_type": "code",
      "source": [
        "df['apartment_floor'] = pd.to_numeric(df['apartment_floor'])\n",
        "df['buildings_floor'] = pd.to_numeric(df['buildings_floor'])"
      ],
      "metadata": {
        "id": "fPivc8doPII4"
      },
      "execution_count": 25,
      "outputs": []
    },
    {
      "cell_type": "code",
      "source": [
        "df['percent_of_building_height'] = round(df['apartment_floor']/df['buildings_floor']*100)"
      ],
      "metadata": {
        "id": "IkkJTMLcO947"
      },
      "execution_count": 26,
      "outputs": []
    },
    {
      "cell_type": "markdown",
      "source": [
        "### Area m2"
      ],
      "metadata": {
        "id": "nFTg1I_bizKb"
      }
    },
    {
      "cell_type": "code",
      "source": [
        "df['areas_m2'] = df['areas_m2'].apply(lambda x: float(x.rstrip(\" m²\")))"
      ],
      "metadata": {
        "id": "d0XIE93-lzME"
      },
      "execution_count": 27,
      "outputs": []
    },
    {
      "cell_type": "markdown",
      "source": [
        "### Rooms"
      ],
      "metadata": {
        "id": "-6czJ3vTl6y8"
      }
    },
    {
      "cell_type": "code",
      "source": [
        "df['rooms'] = pd.to_numeric(df['rooms'])"
      ],
      "metadata": {
        "id": "0IvGqDt_mhkR"
      },
      "execution_count": 28,
      "outputs": []
    },
    {
      "cell_type": "markdown",
      "source": [
        "### Documents and Credits availability"
      ],
      "metadata": {
        "id": "y10acit7s0q7"
      }
    },
    {
      "cell_type": "code",
      "source": [
        "df['documents'].value_counts()"
      ],
      "metadata": {
        "colab": {
          "base_uri": "https://localhost:8080/"
        },
        "id": "n3QRkAcftF6D",
        "outputId": "c29dc640-dbae-410f-b1c3-3b9de7ee7449"
      },
      "execution_count": 29,
      "outputs": [
        {
          "output_type": "execute_result",
          "data": {
            "text/plain": [
              "var    18686\n",
              "0          6\n",
              "Name: documents, dtype: int64"
            ]
          },
          "metadata": {},
          "execution_count": 29
        }
      ]
    },
    {
      "cell_type": "code",
      "source": [
        "df[df['documents'] == \"0\"] # so I think to drop all rows with this condition"
      ],
      "metadata": {
        "colab": {
          "base_uri": "https://localhost:8080/",
          "height": 423
        },
        "id": "hxegBDQXtHcd",
        "outputId": "c49941f5-b970-43c4-e403-b9230e69b8a7"
      },
      "execution_count": 30,
      "outputs": [
        {
          "output_type": "execute_result",
          "data": {
            "text/html": [
              "\n",
              "  <div id=\"df-ec05331b-b0ca-47d9-bdbe-2056d571c9e8\">\n",
              "    <div class=\"colab-df-container\">\n",
              "      <div>\n",
              "<style scoped>\n",
              "    .dataframe tbody tr th:only-of-type {\n",
              "        vertical-align: middle;\n",
              "    }\n",
              "\n",
              "    .dataframe tbody tr th {\n",
              "        vertical-align: top;\n",
              "    }\n",
              "\n",
              "    .dataframe thead th {\n",
              "        text-align: right;\n",
              "    }\n",
              "</style>\n",
              "<table border=\"1\" class=\"dataframe\">\n",
              "  <thead>\n",
              "    <tr style=\"text-align: right;\">\n",
              "      <th></th>\n",
              "      <th>ids</th>\n",
              "      <th>vipped_featured</th>\n",
              "      <th>prices</th>\n",
              "      <th>categories</th>\n",
              "      <th>floors</th>\n",
              "      <th>areas_m2</th>\n",
              "      <th>rooms</th>\n",
              "      <th>documents</th>\n",
              "      <th>credits</th>\n",
              "      <th>address</th>\n",
              "      <th>district</th>\n",
              "      <th>latitudes</th>\n",
              "      <th>longitudes</th>\n",
              "      <th>ownerships</th>\n",
              "      <th>watches</th>\n",
              "      <th>ad_refreshed_date</th>\n",
              "      <th>agency_titles</th>\n",
              "      <th>date_of_parsing</th>\n",
              "      <th>deal_ended</th>\n",
              "      <th>ad_type_featured</th>\n",
              "      <th>ad_type_featuredvipped</th>\n",
              "      <th>ad_type_vipped</th>\n",
              "      <th>Köhnə tikili</th>\n",
              "      <th>Yeni tikili</th>\n",
              "      <th>apartment_floor</th>\n",
              "      <th>buildings_floor</th>\n",
              "      <th>percent_of_building_height</th>\n",
              "    </tr>\n",
              "  </thead>\n",
              "  <tbody>\n",
              "    <tr>\n",
              "      <th>574</th>\n",
              "      <td>2540391</td>\n",
              "      <td>0</td>\n",
              "      <td>0</td>\n",
              "      <td>0</td>\n",
              "      <td>0</td>\n",
              "      <td>0.0</td>\n",
              "      <td>0</td>\n",
              "      <td>0</td>\n",
              "      <td>xeyr</td>\n",
              "      <td>0</td>\n",
              "      <td>None</td>\n",
              "      <td>0</td>\n",
              "      <td>0</td>\n",
              "      <td>0</td>\n",
              "      <td>0</td>\n",
              "      <td>0</td>\n",
              "      <td>0</td>\n",
              "      <td>2022-01-03 13:48:28</td>\n",
              "      <td>0</td>\n",
              "      <td>0</td>\n",
              "      <td>0</td>\n",
              "      <td>0</td>\n",
              "      <td>0</td>\n",
              "      <td>0</td>\n",
              "      <td>0</td>\n",
              "      <td>NaN</td>\n",
              "      <td>NaN</td>\n",
              "    </tr>\n",
              "    <tr>\n",
              "      <th>1809</th>\n",
              "      <td>2537858</td>\n",
              "      <td>0</td>\n",
              "      <td>0</td>\n",
              "      <td>0</td>\n",
              "      <td>0</td>\n",
              "      <td>0.0</td>\n",
              "      <td>0</td>\n",
              "      <td>0</td>\n",
              "      <td>xeyr</td>\n",
              "      <td>0</td>\n",
              "      <td>None</td>\n",
              "      <td>0</td>\n",
              "      <td>0</td>\n",
              "      <td>0</td>\n",
              "      <td>0</td>\n",
              "      <td>0</td>\n",
              "      <td>0</td>\n",
              "      <td>2022-01-03 16:45:50</td>\n",
              "      <td>0</td>\n",
              "      <td>0</td>\n",
              "      <td>0</td>\n",
              "      <td>0</td>\n",
              "      <td>0</td>\n",
              "      <td>0</td>\n",
              "      <td>0</td>\n",
              "      <td>NaN</td>\n",
              "      <td>NaN</td>\n",
              "    </tr>\n",
              "    <tr>\n",
              "      <th>2176</th>\n",
              "      <td>2517926</td>\n",
              "      <td>0</td>\n",
              "      <td>0</td>\n",
              "      <td>0</td>\n",
              "      <td>0</td>\n",
              "      <td>0.0</td>\n",
              "      <td>0</td>\n",
              "      <td>0</td>\n",
              "      <td>xeyr</td>\n",
              "      <td>0</td>\n",
              "      <td>None</td>\n",
              "      <td>0</td>\n",
              "      <td>0</td>\n",
              "      <td>0</td>\n",
              "      <td>0</td>\n",
              "      <td>0</td>\n",
              "      <td>0</td>\n",
              "      <td>2022-01-04 02:11:18</td>\n",
              "      <td>0</td>\n",
              "      <td>0</td>\n",
              "      <td>0</td>\n",
              "      <td>0</td>\n",
              "      <td>0</td>\n",
              "      <td>0</td>\n",
              "      <td>0</td>\n",
              "      <td>NaN</td>\n",
              "      <td>NaN</td>\n",
              "    </tr>\n",
              "    <tr>\n",
              "      <th>4480</th>\n",
              "      <td>2529047</td>\n",
              "      <td>0</td>\n",
              "      <td>0</td>\n",
              "      <td>0</td>\n",
              "      <td>0</td>\n",
              "      <td>0.0</td>\n",
              "      <td>0</td>\n",
              "      <td>0</td>\n",
              "      <td>xeyr</td>\n",
              "      <td>0</td>\n",
              "      <td>None</td>\n",
              "      <td>0</td>\n",
              "      <td>0</td>\n",
              "      <td>0</td>\n",
              "      <td>0</td>\n",
              "      <td>0</td>\n",
              "      <td>0</td>\n",
              "      <td>2022-01-04 08:33:26</td>\n",
              "      <td>0</td>\n",
              "      <td>0</td>\n",
              "      <td>0</td>\n",
              "      <td>0</td>\n",
              "      <td>0</td>\n",
              "      <td>0</td>\n",
              "      <td>0</td>\n",
              "      <td>NaN</td>\n",
              "      <td>NaN</td>\n",
              "    </tr>\n",
              "    <tr>\n",
              "      <th>11144</th>\n",
              "      <td>2518566</td>\n",
              "      <td>0</td>\n",
              "      <td>0</td>\n",
              "      <td>0</td>\n",
              "      <td>0</td>\n",
              "      <td>0.0</td>\n",
              "      <td>0</td>\n",
              "      <td>0</td>\n",
              "      <td>xeyr</td>\n",
              "      <td>0</td>\n",
              "      <td>None</td>\n",
              "      <td>0</td>\n",
              "      <td>0</td>\n",
              "      <td>0</td>\n",
              "      <td>0</td>\n",
              "      <td>0</td>\n",
              "      <td>0</td>\n",
              "      <td>2022-01-04 10:59:18</td>\n",
              "      <td>0</td>\n",
              "      <td>0</td>\n",
              "      <td>0</td>\n",
              "      <td>0</td>\n",
              "      <td>0</td>\n",
              "      <td>0</td>\n",
              "      <td>0</td>\n",
              "      <td>NaN</td>\n",
              "      <td>NaN</td>\n",
              "    </tr>\n",
              "    <tr>\n",
              "      <th>12459</th>\n",
              "      <td>2502400</td>\n",
              "      <td>0</td>\n",
              "      <td>0</td>\n",
              "      <td>0</td>\n",
              "      <td>0</td>\n",
              "      <td>0.0</td>\n",
              "      <td>0</td>\n",
              "      <td>0</td>\n",
              "      <td>xeyr</td>\n",
              "      <td>0</td>\n",
              "      <td>None</td>\n",
              "      <td>0</td>\n",
              "      <td>0</td>\n",
              "      <td>0</td>\n",
              "      <td>0</td>\n",
              "      <td>0</td>\n",
              "      <td>0</td>\n",
              "      <td>2022-01-04 14:07:11</td>\n",
              "      <td>0</td>\n",
              "      <td>0</td>\n",
              "      <td>0</td>\n",
              "      <td>0</td>\n",
              "      <td>0</td>\n",
              "      <td>0</td>\n",
              "      <td>0</td>\n",
              "      <td>NaN</td>\n",
              "      <td>NaN</td>\n",
              "    </tr>\n",
              "  </tbody>\n",
              "</table>\n",
              "</div>\n",
              "      <button class=\"colab-df-convert\" onclick=\"convertToInteractive('df-ec05331b-b0ca-47d9-bdbe-2056d571c9e8')\"\n",
              "              title=\"Convert this dataframe to an interactive table.\"\n",
              "              style=\"display:none;\">\n",
              "        \n",
              "  <svg xmlns=\"http://www.w3.org/2000/svg\" height=\"24px\"viewBox=\"0 0 24 24\"\n",
              "       width=\"24px\">\n",
              "    <path d=\"M0 0h24v24H0V0z\" fill=\"none\"/>\n",
              "    <path d=\"M18.56 5.44l.94 2.06.94-2.06 2.06-.94-2.06-.94-.94-2.06-.94 2.06-2.06.94zm-11 1L8.5 8.5l.94-2.06 2.06-.94-2.06-.94L8.5 2.5l-.94 2.06-2.06.94zm10 10l.94 2.06.94-2.06 2.06-.94-2.06-.94-.94-2.06-.94 2.06-2.06.94z\"/><path d=\"M17.41 7.96l-1.37-1.37c-.4-.4-.92-.59-1.43-.59-.52 0-1.04.2-1.43.59L10.3 9.45l-7.72 7.72c-.78.78-.78 2.05 0 2.83L4 21.41c.39.39.9.59 1.41.59.51 0 1.02-.2 1.41-.59l7.78-7.78 2.81-2.81c.8-.78.8-2.07 0-2.86zM5.41 20L4 18.59l7.72-7.72 1.47 1.35L5.41 20z\"/>\n",
              "  </svg>\n",
              "      </button>\n",
              "      \n",
              "  <style>\n",
              "    .colab-df-container {\n",
              "      display:flex;\n",
              "      flex-wrap:wrap;\n",
              "      gap: 12px;\n",
              "    }\n",
              "\n",
              "    .colab-df-convert {\n",
              "      background-color: #E8F0FE;\n",
              "      border: none;\n",
              "      border-radius: 50%;\n",
              "      cursor: pointer;\n",
              "      display: none;\n",
              "      fill: #1967D2;\n",
              "      height: 32px;\n",
              "      padding: 0 0 0 0;\n",
              "      width: 32px;\n",
              "    }\n",
              "\n",
              "    .colab-df-convert:hover {\n",
              "      background-color: #E2EBFA;\n",
              "      box-shadow: 0px 1px 2px rgba(60, 64, 67, 0.3), 0px 1px 3px 1px rgba(60, 64, 67, 0.15);\n",
              "      fill: #174EA6;\n",
              "    }\n",
              "\n",
              "    [theme=dark] .colab-df-convert {\n",
              "      background-color: #3B4455;\n",
              "      fill: #D2E3FC;\n",
              "    }\n",
              "\n",
              "    [theme=dark] .colab-df-convert:hover {\n",
              "      background-color: #434B5C;\n",
              "      box-shadow: 0px 1px 3px 1px rgba(0, 0, 0, 0.15);\n",
              "      filter: drop-shadow(0px 1px 2px rgba(0, 0, 0, 0.3));\n",
              "      fill: #FFFFFF;\n",
              "    }\n",
              "  </style>\n",
              "\n",
              "      <script>\n",
              "        const buttonEl =\n",
              "          document.querySelector('#df-ec05331b-b0ca-47d9-bdbe-2056d571c9e8 button.colab-df-convert');\n",
              "        buttonEl.style.display =\n",
              "          google.colab.kernel.accessAllowed ? 'block' : 'none';\n",
              "\n",
              "        async function convertToInteractive(key) {\n",
              "          const element = document.querySelector('#df-ec05331b-b0ca-47d9-bdbe-2056d571c9e8');\n",
              "          const dataTable =\n",
              "            await google.colab.kernel.invokeFunction('convertToInteractive',\n",
              "                                                     [key], {});\n",
              "          if (!dataTable) return;\n",
              "\n",
              "          const docLinkHtml = 'Like what you see? Visit the ' +\n",
              "            '<a target=\"_blank\" href=https://colab.research.google.com/notebooks/data_table.ipynb>data table notebook</a>'\n",
              "            + ' to learn more about interactive tables.';\n",
              "          element.innerHTML = '';\n",
              "          dataTable['output_type'] = 'display_data';\n",
              "          await google.colab.output.renderOutput(dataTable, element);\n",
              "          const docLink = document.createElement('div');\n",
              "          docLink.innerHTML = docLinkHtml;\n",
              "          element.appendChild(docLink);\n",
              "        }\n",
              "      </script>\n",
              "    </div>\n",
              "  </div>\n",
              "  "
            ],
            "text/plain": [
              "           ids vipped_featured  ...  buildings_floor percent_of_building_height\n",
              "574    2540391               0  ...              NaN                        NaN\n",
              "1809   2537858               0  ...              NaN                        NaN\n",
              "2176   2517926               0  ...              NaN                        NaN\n",
              "4480   2529047               0  ...              NaN                        NaN\n",
              "11144  2518566               0  ...              NaN                        NaN\n",
              "12459  2502400               0  ...              NaN                        NaN\n",
              "\n",
              "[6 rows x 27 columns]"
            ]
          },
          "metadata": {},
          "execution_count": 30
        }
      ]
    },
    {
      "cell_type": "code",
      "source": [
        "df = df[~(df['documents'] == \"0\")].reset_index(drop=True)"
      ],
      "metadata": {
        "id": "kRKT6KwGtTGU"
      },
      "execution_count": 31,
      "outputs": []
    },
    {
      "cell_type": "code",
      "source": [
        "df['documents'].value_counts() # drop whole column"
      ],
      "metadata": {
        "colab": {
          "base_uri": "https://localhost:8080/"
        },
        "id": "DwMZuqlPux-V",
        "outputId": "a5da1018-4e42-42b9-8099-afed85bd7ca6"
      },
      "execution_count": 32,
      "outputs": [
        {
          "output_type": "execute_result",
          "data": {
            "text/plain": [
              "var    18686\n",
              "Name: documents, dtype: int64"
            ]
          },
          "metadata": {},
          "execution_count": 32
        }
      ]
    },
    {
      "cell_type": "code",
      "source": [
        "df = df.drop('documents', axis=1)"
      ],
      "metadata": {
        "id": "1bwb_vQZvAdH"
      },
      "execution_count": 33,
      "outputs": []
    },
    {
      "cell_type": "code",
      "source": [
        "df['credits'].value_counts()"
      ],
      "metadata": {
        "colab": {
          "base_uri": "https://localhost:8080/"
        },
        "id": "TDMy1dA5vIuZ",
        "outputId": "e0e2f4de-24c0-4122-86ca-decf8ecda4f0"
      },
      "execution_count": 34,
      "outputs": [
        {
          "output_type": "execute_result",
          "data": {
            "text/plain": [
              "xeyr    15424\n",
              "var      3262\n",
              "Name: credits, dtype: int64"
            ]
          },
          "metadata": {},
          "execution_count": 34
        }
      ]
    },
    {
      "cell_type": "code",
      "source": [
        "credits = pd.get_dummies(df['credits'], prefix='Credit')\n",
        "credits = credits['Credit_var'] # Credit_xeyr will be reference category"
      ],
      "metadata": {
        "id": "_-E_9f8NvU0K"
      },
      "execution_count": 35,
      "outputs": []
    },
    {
      "cell_type": "code",
      "source": [
        "df = pd.concat([df, credits], axis=1)"
      ],
      "metadata": {
        "id": "urur0vOhvc_D"
      },
      "execution_count": 36,
      "outputs": []
    },
    {
      "cell_type": "markdown",
      "source": [
        "### Address and District"
      ],
      "metadata": {
        "id": "mypHnz47wote"
      }
    },
    {
      "cell_type": "code",
      "source": [
        "df['address'].isna().sum()"
      ],
      "metadata": {
        "colab": {
          "base_uri": "https://localhost:8080/"
        },
        "id": "OJkvgU60wqFS",
        "outputId": "7501e4e6-c7ea-4418-9d52-af499de100f7"
      },
      "execution_count": 37,
      "outputs": [
        {
          "output_type": "execute_result",
          "data": {
            "text/plain": [
              "0"
            ]
          },
          "metadata": {},
          "execution_count": 37
        }
      ]
    },
    {
      "cell_type": "code",
      "source": [
        "len(df['address'].unique())"
      ],
      "metadata": {
        "colab": {
          "base_uri": "https://localhost:8080/"
        },
        "id": "nB7_qR0SxRZ6",
        "outputId": "defc49d4-28fd-4674-f50f-aa8a0edfa685"
      },
      "execution_count": 38,
      "outputs": [
        {
          "output_type": "execute_result",
          "data": {
            "text/plain": [
              "7257"
            ]
          },
          "metadata": {},
          "execution_count": 38
        }
      ]
    },
    {
      "cell_type": "code",
      "source": [
        "df['address'].value_counts().head(10)"
      ],
      "metadata": {
        "colab": {
          "base_uri": "https://localhost:8080/"
        },
        "id": "dwP_VoEcwzq-",
        "outputId": "7bd73ccf-5cd9-4553-e164-7f269a100257"
      },
      "execution_count": 39,
      "outputs": [
        {
          "output_type": "execute_result",
          "data": {
            "text/plain": [
              "Ünvan: Bakı şəhəri, Gəncə prospekti       264\n",
              "Ünvan: Bakı şəhəri, Mir Cəlal küç.        189\n",
              "Ünvan: Bakı şəhəri, Azadlıq pr.           171\n",
              "Ünvan: Bakı şəhəri, Məhəmməd Hadi küç.    169\n",
              "Ünvan: Bakı şəhəri, Əsəd Əhmədov küç.     166\n",
              "Ünvan: Bakı şəhəri, Gəncə pr.             160\n",
              "Ünvan: Bakı şəhəri, Təbriz küç.           131\n",
              "Ünvan: Bakı şəhəri, Azadlıq prospekti     126\n",
              "Ünvan: Bakı şəhəri, Şərifzadə küç.        124\n",
              "Ünvan: Bakı şəhəri, Əliyar Əliyev küç.    108\n",
              "Name: address, dtype: int64"
            ]
          },
          "metadata": {},
          "execution_count": 39
        }
      ]
    },
    {
      "cell_type": "code",
      "source": [
        "df['address'] = df['address'].apply(lambda x: x.lstrip(\"Ünvan: Bakı şəhəri, \"))"
      ],
      "metadata": {
        "id": "1o7Wgznrxo69"
      },
      "execution_count": 40,
      "outputs": []
    },
    {
      "cell_type": "code",
      "source": [
        "df['address'].value_counts().head(10)"
      ],
      "metadata": {
        "colab": {
          "base_uri": "https://localhost:8080/"
        },
        "id": "ibKVDlWCw_c4",
        "outputId": "944970b4-6ad4-4bb4-fa3f-c6aff5d97464"
      },
      "execution_count": 41,
      "outputs": [
        {
          "output_type": "execute_result",
          "data": {
            "text/plain": [
              "Gəncə prospekti       264\n",
              "Mir Cəlal küç.        189\n",
              "Azadlıq pr.           172\n",
              "Məhəmməd Hadi küç.    169\n",
              "Əsəd Əhmədov küç.     166\n",
              "Gəncə pr.             160\n",
              "Azadlıq prospekti     131\n",
              "Təbriz küç.           131\n",
              "Şərifzadə küç.        124\n",
              "Əliyar Əliyev küç.    109\n",
              "Name: address, dtype: int64"
            ]
          },
          "metadata": {},
          "execution_count": 41
        }
      ]
    },
    {
      "cell_type": "code",
      "source": [
        "df['address'].value_counts().sum() #they are too much to create dummy variables"
      ],
      "metadata": {
        "colab": {
          "base_uri": "https://localhost:8080/"
        },
        "id": "jGZsm4VuQbUm",
        "outputId": "1aa4eba1-b2e0-4db6-93ae-666efd818ca6"
      },
      "execution_count": 42,
      "outputs": [
        {
          "output_type": "execute_result",
          "data": {
            "text/plain": [
              "18686"
            ]
          },
          "metadata": {},
          "execution_count": 42
        }
      ]
    },
    {
      "cell_type": "code",
      "source": [
        "df = df[df['latitudes']>38]"
      ],
      "metadata": {
        "id": "8N_wsb0v1OEP"
      },
      "execution_count": 128,
      "outputs": []
    },
    {
      "cell_type": "code",
      "source": [
        "df['district'].value_counts().head(10)"
      ],
      "metadata": {
        "colab": {
          "base_uri": "https://localhost:8080/"
        },
        "id": "JVToY5QJyGvn",
        "outputId": "3d03b3fc-a19c-4e14-bf01-831bf9483db0"
      },
      "execution_count": 129,
      "outputs": [
        {
          "output_type": "execute_result",
          "data": {
            "text/plain": [
              "Şah İsmayıl Xətai m.; Xətai r.                                  907\n",
              "Yasamal r.; Yeni Yasamal q.                                     903\n",
              "Xətai r.; Əhmədli q.                                            561\n",
              "Nərimanov r.                                                    507\n",
              "İnşaatçılar m.; Yasamal r.                                      409\n",
              "Yasamal r.                                                      371\n",
              "Nəriman Nərimanov m.; Nərimanov r.                              300\n",
              "Azadlıq Prospekti m.; Binəqədi r.; 8-ci mikrorayon q.           293\n",
              "Nəriman Nərimanov m.; Nəriman Nərimanov parkı ; Nərimanov r.    286\n",
              "Sabunçu r.; Bakıxanov q.                                        285\n",
              "Name: district, dtype: int64"
            ]
          },
          "metadata": {},
          "execution_count": 129
        }
      ]
    },
    {
      "cell_type": "code",
      "source": [
        "def number_of_max_district_per_one_home():\n",
        "  n = 0\n",
        "  for i in df['district'].apply(lambda x: x.split(\"; \")):\n",
        "    if len(i) > n:\n",
        "      n = len(i)\n",
        "  \n",
        "  return n\n",
        "\n",
        "number_of_max_district_per_one_home()\n",
        "    \n"
      ],
      "metadata": {
        "colab": {
          "base_uri": "https://localhost:8080/"
        },
        "id": "MS7PQbsWycqc",
        "outputId": "52c514f8-900c-48f8-f06f-9b7582a9c3bd"
      },
      "execution_count": 130,
      "outputs": [
        {
          "output_type": "execute_result",
          "data": {
            "text/plain": [
              "12"
            ]
          },
          "metadata": {},
          "execution_count": 130
        }
      ]
    },
    {
      "cell_type": "code",
      "source": [
        "df['district'].apply(lambda x: x.split(\"; \"))"
      ],
      "metadata": {
        "colab": {
          "base_uri": "https://localhost:8080/"
        },
        "id": "GjmBoIJFy1cL",
        "outputId": "9e616f98-bc1f-41ed-d8c4-9245974e578b"
      },
      "execution_count": 131,
      "outputs": [
        {
          "output_type": "execute_result",
          "data": {
            "text/plain": [
              "0                                 [Suraxanı r., Hövsan q.]\n",
              "1                         [Şah İsmayıl Xətai m., Xətai r.]\n",
              "2        [ASAN Xidmət №1 , TQDK , Neftçi bazası , Nəsim...\n",
              "3                                   [Əhmədli m., Xətai r.]\n",
              "4        [Azadlıq Prospekti m., Binəqədi r., 8-ci mikro...\n",
              "                               ...                        \n",
              "18681    [Xalqlar Dostluğu m., Nizami r., 8-ci kilometr...\n",
              "18682    [Xalqlar Dostluğu m., Nizami r., 8-ci kilometr...\n",
              "18683    [İncəsənət və Mədəniyyət Un. , Hüseyn Cavid pa...\n",
              "18684    [Azərbaycan turizm institutu , Respublika stad...\n",
              "18685                                          [Nizami r.]\n",
              "Name: district, Length: 18685, dtype: object"
            ]
          },
          "metadata": {},
          "execution_count": 131
        }
      ]
    },
    {
      "cell_type": "code",
      "source": [
        "districts_in_lists = list(df['district'].apply(lambda x: x.split(\"; \")))"
      ],
      "metadata": {
        "id": "ZT_u6h4O0e9k"
      },
      "execution_count": 132,
      "outputs": []
    },
    {
      "cell_type": "code",
      "source": [
        "districts_in_lists[:10]"
      ],
      "metadata": {
        "colab": {
          "base_uri": "https://localhost:8080/"
        },
        "id": "_CjYM2AQUVPS",
        "outputId": "a09fc0a7-0619-4dde-cbaf-688b61e3fcb2"
      },
      "execution_count": 133,
      "outputs": [
        {
          "output_type": "execute_result",
          "data": {
            "text/plain": [
              "[['Suraxanı r.', 'Hövsan q.'],\n",
              " ['Şah İsmayıl Xətai m.', 'Xətai r.'],\n",
              " ['ASAN Xidmət №1 ', 'TQDK ', 'Neftçi bazası ', 'Nəsimi r.'],\n",
              " ['Əhmədli m.', 'Xətai r.'],\n",
              " ['Azadlıq Prospekti m.', 'Binəqədi r.', '8-ci mikrorayon q.'],\n",
              " ['Nəsimi bazarı ',\n",
              "  'Koala parkı ',\n",
              "  'Dostluq kinoteatrı ',\n",
              "  'Park Zorge ',\n",
              "  'Nərimanov r.'],\n",
              " ['Nəriman Nərimanov m.', 'Nəriman Nərimanov parkı ', 'Nərimanov r.'],\n",
              " ['Suraxanı r.', 'Qaraçuxur q.'],\n",
              " ['8 Noyabr m.', 'Nəsimi r.'],\n",
              " ['Axundov bağı ',\n",
              "  'İqsadiyyat Universiteti ',\n",
              "  'Dövlət İdarəçilik Akademiyası ',\n",
              "  'İçəri Şəhər m.',\n",
              "  'Prezident parkı ',\n",
              "  'Qubernator parkı ',\n",
              "  'Sovetski ',\n",
              "  'Nərimanov heykəli ',\n",
              "  'M.Ə.Sabir parkı ',\n",
              "  'Səbail r.']]"
            ]
          },
          "metadata": {},
          "execution_count": 133
        }
      ]
    },
    {
      "cell_type": "code",
      "source": [
        "districts = []\n",
        "\n",
        "for i in districts_in_lists:\n",
        "  for z in i:\n",
        "    districts.append(z.strip())"
      ],
      "metadata": {
        "id": "BqVEdwVH0Lti"
      },
      "execution_count": 134,
      "outputs": []
    },
    {
      "cell_type": "code",
      "source": [
        "districts[:10]"
      ],
      "metadata": {
        "colab": {
          "base_uri": "https://localhost:8080/"
        },
        "id": "kgp0U-JF0tUq",
        "outputId": "30c3b005-8c32-4d1d-e7b9-fa25c2abf0c8"
      },
      "execution_count": 135,
      "outputs": [
        {
          "output_type": "execute_result",
          "data": {
            "text/plain": [
              "['Suraxanı r.',\n",
              " 'Hövsan q.',\n",
              " 'Şah İsmayıl Xətai m.',\n",
              " 'Xətai r.',\n",
              " 'ASAN Xidmət №1',\n",
              " 'TQDK',\n",
              " 'Neftçi bazası',\n",
              " 'Nəsimi r.',\n",
              " 'Əhmədli m.',\n",
              " 'Xətai r.']"
            ]
          },
          "metadata": {},
          "execution_count": 135
        }
      ]
    },
    {
      "cell_type": "code",
      "source": [
        "len(districts)"
      ],
      "metadata": {
        "colab": {
          "base_uri": "https://localhost:8080/"
        },
        "id": "a48BNYkG0vdO",
        "outputId": "b3a63575-6f51-42eb-b3a0-7edecbd3a9ce"
      },
      "execution_count": 136,
      "outputs": [
        {
          "output_type": "execute_result",
          "data": {
            "text/plain": [
              "51694"
            ]
          },
          "metadata": {},
          "execution_count": 136
        }
      ]
    },
    {
      "cell_type": "code",
      "source": [
        "len(set(districts))"
      ],
      "metadata": {
        "colab": {
          "base_uri": "https://localhost:8080/"
        },
        "id": "BjPNOuZE09rR",
        "outputId": "75b64b4b-b3b7-4296-c299-64577b0cffe3"
      },
      "execution_count": 137,
      "outputs": [
        {
          "output_type": "execute_result",
          "data": {
            "text/plain": [
              "182"
            ]
          },
          "metadata": {},
          "execution_count": 137
        }
      ]
    },
    {
      "cell_type": "code",
      "source": [
        "pd.Series(districts).value_counts().head(100).reset_index()['index']"
      ],
      "metadata": {
        "colab": {
          "base_uri": "https://localhost:8080/"
        },
        "id": "vcfX1iOH2-LC",
        "outputId": "4c6d2e9c-3197-4047-e29c-7e83ec7dc9fe"
      },
      "execution_count": 138,
      "outputs": [
        {
          "output_type": "execute_result",
          "data": {
            "text/plain": [
              "0             Yasamal r.\n",
              "1               Xətai r.\n",
              "2              Nəsimi r.\n",
              "3           Nərimanov r.\n",
              "4            Binəqədi r.\n",
              "             ...        \n",
              "95              Space TV\n",
              "96    3-cü mikrorayon q.\n",
              "97             Port Baku\n",
              "98          Xalça Muzeyi\n",
              "99            Masazır q.\n",
              "Name: index, Length: 100, dtype: object"
            ]
          },
          "metadata": {},
          "execution_count": 138
        }
      ]
    },
    {
      "cell_type": "code",
      "source": [
        "districts_for_dummies = list(pd.Series(districts).value_counts().head(100).reset_index()['index'])"
      ],
      "metadata": {
        "id": "oWF4aoECRqsh"
      },
      "execution_count": 139,
      "outputs": []
    },
    {
      "cell_type": "markdown",
      "source": [
        "### First variant districts"
      ],
      "metadata": {
        "id": "XwggazPYXdU1"
      }
    },
    {
      "cell_type": "code",
      "source": [
        "districts_for_dummies = ['Yasamal r.', 'Xətai r.', 'Nəsimi r.', 'Nərimanov r.',\n",
        "       'Binəqədi r.', 'Şah İsmayıl Xətai m.', 'Nizami r.', 'Əhmədli q.',\n",
        "       'Yeni Yasamal q.', 'İnşaatçılar m.', 'Yasamal q.',\n",
        "       'Elmlər Akademiyası m.', 'Nəriman Nərimanov m.', 'Səbail r.',\n",
        "       'Memar Əcəmi m.', 'Həzi Aslanov m.', '28 May m.', 'Nizami m.',\n",
        "       'Yasamal bazarı', '8-ci kilometr q.', 'ASAN Xidmət №1',\n",
        "       '8-ci mikrorayon q.', 'Nəriman Nərimanov parkı',\n",
        "       'Tibb Universiteti', '9-cu mikrorayon q.', 'Gənclik m.',\n",
        "       'Neftçi bazası', 'Azadlıq Prospekti m.', '20 Yanvar m.',\n",
        "       'Həzi Aslanov q.', 'Qara Qarayev m.', 'Əhmədli m.', 'Sabunçu r.',\n",
        "       '8 Noyabr m.', 'Azərbaycan Dillər Universiteti', 'Neftçilər m.',\n",
        "       'Bakı Slavyan Universiteti', 'Nəsimi bazarı', 'Sahil m.',\n",
        "       '4-cü mikrorayon q.', 'Səməd Vurğun parkı', 'Hüseyn Cavid parkı',\n",
        "       'ASAN Xidmət №3', 'Sirk', 'Dövlət Statistika Komitəsi',\n",
        "       'Təhsil Nazirliyi', 'Bakıxanov q.', 'Respublika stadionu',\n",
        "       'İçəri Şəhər m.', 'İncəsənət və Mədəniyyət Un.', 'Koala parkı',\n",
        "       'Neft Akademiyası', 'Azərbaycan turizm institutu',\n",
        "       'Zərifə Əliyeva adına park', 'Bakı Musiqi Akademiyası',\n",
        "       'Zabitlər parkı', 'Beşmərtəbə', 'Bakı Asiya Universiteti',\n",
        "       'Suraxanı r.', 'Milli Konservatoriya', '7-ci mikrorayon q.',\n",
        "       'Dostluq kinoteatrı', 'Xalqlar Dostluğu m.', 'M.Hüseynzadə parkı',\n",
        "       'Bakı Dövlət Universiteti', 'Nizami kinoteatrı',\n",
        "       'Texniki Universiteti', 'Şərq bazarı', 'Malokan bağı',\n",
        "       'ASAN Xidmət №2', 'TQDK', 'Cavanşir körpüsü', 'Sahil bağı',\n",
        "       'Pedaqoji Universiteti', 'M.Ə.Sabir parkı', 'Rusiya səfirliyi',\n",
        "       'Park Zorge', 'Rəssamlıq Akademiyası', 'Zoopark',\n",
        "       'Nərimanov heykəli', 'Axundov bağı', 'Mərkəzi Univermaq',\n",
        "       'Sevil Qazıyeva parkı', 'İqsadiyyat Universiteti', 'Abşeron r.',\n",
        "       'Sovetski', 'İzmir parkı', 'Qış parkı',\n",
        "       'Dövlət İdarəçilik Akademiyası', 'Fontanlar bağı',\n",
        "       'Qubernator parkı', 'Prezident parkı', 'Nəsimi m.', 'Ağ şəhər',\n",
        "       'Badamdar q.', 'Space TV', 'Xalça Muzeyi', 'Port Baku',\n",
        "       '3-cü mikrorayon q.', 'Masazır q.']"
      ],
      "metadata": {
        "id": "sQdxYq2vXT4w"
      },
      "execution_count": 140,
      "outputs": []
    },
    {
      "cell_type": "code",
      "source": [
        "districts_set = list(set(districts))"
      ],
      "metadata": {
        "id": "9Rj17wCZ1BAo"
      },
      "execution_count": 141,
      "outputs": []
    },
    {
      "cell_type": "code",
      "source": [
        "def district_dummies_vars():\n",
        "\n",
        "  district = []\n",
        "\n",
        "  for list_of_districts in districts_in_lists:\n",
        "\n",
        "    if list_of_districts[0] in districts_for_dummies:\n",
        "      \n",
        "      district.append(list_of_districts[0])\n",
        "\n",
        "    else:\n",
        "\n",
        "      district.append('0')\n",
        "  \n",
        "  return district"
      ],
      "metadata": {
        "id": "4PWi3zb92fU9"
      },
      "execution_count": 142,
      "outputs": []
    },
    {
      "cell_type": "code",
      "source": [
        "district_variable = district_dummies_vars()"
      ],
      "metadata": {
        "id": "uh3-d6AoR-vJ"
      },
      "execution_count": 143,
      "outputs": []
    },
    {
      "cell_type": "code",
      "source": [
        "pd.Series(district_variable).value_counts()"
      ],
      "metadata": {
        "colab": {
          "base_uri": "https://localhost:8080/"
        },
        "id": "_NLSkiOuSAYR",
        "outputId": "947b3819-80fa-4bef-d2d4-6697abd5b1c5"
      },
      "execution_count": 144,
      "outputs": [
        {
          "output_type": "execute_result",
          "data": {
            "text/plain": [
              "0                        6553\n",
              "Yasamal r.               1409\n",
              "Xətai r.                 1088\n",
              "Şah İsmayıl Xətai m.      968\n",
              "Binəqədi r.               805\n",
              "İnşaatçılar m.            744\n",
              "Memar Əcəmi m.            730\n",
              "Həzi Aslanov m.           631\n",
              "Nəriman Nərimanov m.      602\n",
              "Nərimanov r.              508\n",
              "Elmlər Akademiyası m.     403\n",
              "Azadlıq Prospekti m.      396\n",
              "Qara Qarayev m.           379\n",
              "Neftçilər m.              347\n",
              "20 Yanvar m.              344\n",
              "Sabunçu r.                340\n",
              "Səbail r.                 320\n",
              "Əhmədli m.                301\n",
              "Nizami r.                 225\n",
              "Suraxanı r.               222\n",
              "Xalqlar Dostluğu m.       221\n",
              "Gənclik m.                220\n",
              "Nizami m.                 169\n",
              "Abşeron r.                168\n",
              "8 Noyabr m.               158\n",
              "Nəsimi r.                 145\n",
              "Nəsimi m.                 113\n",
              "28 May m.                  91\n",
              "Sahil m.                   65\n",
              "İçəri Şəhər m.             20\n",
              "dtype: int64"
            ]
          },
          "metadata": {},
          "execution_count": 144
        }
      ]
    },
    {
      "cell_type": "code",
      "source": [
        "len(district_variable) # we can add this variable"
      ],
      "metadata": {
        "colab": {
          "base_uri": "https://localhost:8080/"
        },
        "id": "1HgurSZDVdKT",
        "outputId": "5c8c88c1-31fd-4084-f97c-938718c13c31"
      },
      "execution_count": 145,
      "outputs": [
        {
          "output_type": "execute_result",
          "data": {
            "text/plain": [
              "18685"
            ]
          },
          "metadata": {},
          "execution_count": 145
        }
      ]
    },
    {
      "cell_type": "code",
      "source": [
        "df.shape"
      ],
      "metadata": {
        "colab": {
          "base_uri": "https://localhost:8080/"
        },
        "id": "GPGDyhPZVrsv",
        "outputId": "3606f1a6-fe4f-4134-d7bc-86834f99b24a"
      },
      "execution_count": 146,
      "outputs": [
        {
          "output_type": "execute_result",
          "data": {
            "text/plain": [
              "(18685, 27)"
            ]
          },
          "metadata": {},
          "execution_count": 146
        }
      ]
    },
    {
      "cell_type": "code",
      "source": [
        "second_variant_districts = [x[0] for x in districts_in_lists]"
      ],
      "metadata": {
        "id": "skwDOsVtVtdk"
      },
      "execution_count": 147,
      "outputs": []
    },
    {
      "cell_type": "code",
      "source": [
        "pd.Series(second_variant_districts).value_counts()"
      ],
      "metadata": {
        "colab": {
          "base_uri": "https://localhost:8080/"
        },
        "id": "JMQClO3vWNAz",
        "outputId": "48e2d9ef-5331-42d4-b807-1cbde35b1d7a"
      },
      "execution_count": 148,
      "outputs": [
        {
          "output_type": "execute_result",
          "data": {
            "text/plain": [
              "Yasamal r.              1409\n",
              "Xətai r.                1088\n",
              "Şah İsmayıl Xətai m.     968\n",
              "Binəqədi r.              805\n",
              "İnşaatçılar m.           744\n",
              "                        ... \n",
              "Pirallahı r.               5\n",
              "Keşlə bazarı               4\n",
              "Bakı                       2\n",
              "Ulduz m.                   1\n",
              "Şəfa stadionu              1\n",
              "Length: 115, dtype: int64"
            ]
          },
          "metadata": {},
          "execution_count": 148
        }
      ]
    },
    {
      "cell_type": "code",
      "source": [
        "def second_variant_district_var():\n",
        "\n",
        "  first_district = []\n",
        "\n",
        "  for i in districts_in_lists:  \n",
        "    first_district.append(i[0])\n",
        "\n",
        "  return first_district\n"
      ],
      "metadata": {
        "id": "39yl-JKJW1zw"
      },
      "execution_count": 149,
      "outputs": []
    },
    {
      "cell_type": "code",
      "source": [
        "# first variant was about selecting the most frequent districts\n",
        "# second variant was about selecting the first district indicated in by the seller"
      ],
      "metadata": {
        "id": "l0igEdYiWNxV"
      },
      "execution_count": 150,
      "outputs": []
    },
    {
      "cell_type": "code",
      "source": [
        "first_district_indicated_by_seller = second_variant_district_var()"
      ],
      "metadata": {
        "id": "_7bC5nI9YVQ8"
      },
      "execution_count": 151,
      "outputs": []
    },
    {
      "cell_type": "code",
      "source": [
        "len(first_district_indicated_by_seller)"
      ],
      "metadata": {
        "colab": {
          "base_uri": "https://localhost:8080/"
        },
        "id": "T-OA3XIvzTyk",
        "outputId": "3d0564ca-947c-4921-cc29-e93b4a10b697"
      },
      "execution_count": 152,
      "outputs": [
        {
          "output_type": "execute_result",
          "data": {
            "text/plain": [
              "18685"
            ]
          },
          "metadata": {},
          "execution_count": 152
        }
      ]
    },
    {
      "cell_type": "code",
      "source": [
        "df.shape"
      ],
      "metadata": {
        "colab": {
          "base_uri": "https://localhost:8080/"
        },
        "id": "AnFJ9ekizeWV",
        "outputId": "cf73b5fc-534d-41d2-e85f-3261cea20030"
      },
      "execution_count": 153,
      "outputs": [
        {
          "output_type": "execute_result",
          "data": {
            "text/plain": [
              "(18685, 27)"
            ]
          },
          "metadata": {},
          "execution_count": 153
        }
      ]
    },
    {
      "cell_type": "code",
      "source": [
        "df['longitudes'] = pd.to_numeric(df['longitudes'])\n",
        "df['latitudes'] = pd.to_numeric(df['latitudes'])"
      ],
      "metadata": {
        "id": "nDSGi3ul0Ifx"
      },
      "execution_count": 154,
      "outputs": []
    },
    {
      "cell_type": "code",
      "source": [
        "plt.figure(dpi=200)\n",
        "sns.distplot(df[df['longitudes']>48]['longitudes'])"
      ],
      "metadata": {
        "colab": {
          "base_uri": "https://localhost:8080/",
          "height": 819
        },
        "id": "gtE-yE083XZy",
        "outputId": "6269a0fe-b33d-4bfa-ca8b-c3eab7511ced"
      },
      "execution_count": 155,
      "outputs": [
        {
          "output_type": "stream",
          "name": "stderr",
          "text": [
            "/usr/local/lib/python3.7/dist-packages/seaborn/distributions.py:2619: FutureWarning: `distplot` is a deprecated function and will be removed in a future version. Please adapt your code to use either `displot` (a figure-level function with similar flexibility) or `histplot` (an axes-level function for histograms).\n",
            "  warnings.warn(msg, FutureWarning)\n"
          ]
        },
        {
          "output_type": "execute_result",
          "data": {
            "text/plain": [
              "<matplotlib.axes._subplots.AxesSubplot at 0x7f5292a399d0>"
            ]
          },
          "metadata": {},
          "execution_count": 155
        },
        {
          "output_type": "display_data",
          "data": {
            "image/png": "[encoded data removed]",
            "text/plain": [
              "<Figure size 1200x800 with 1 Axes>"
            ]
          },
          "metadata": {
            "needs_background": "light"
          }
        }
      ]
    },
    {
      "cell_type": "code",
      "source": [
        "sns.displot(df[df['longitudes']>48]['longitudes'], height=8, aspect=2)"
      ],
      "metadata": {
        "colab": {
          "base_uri": "https://localhost:8080/",
          "height": 584
        },
        "id": "hggDetNXzgSe",
        "outputId": "2d39fba8-3613-43fe-d8b4-4f9f5b4d4a38"
      },
      "execution_count": 156,
      "outputs": [
        {
          "output_type": "execute_result",
          "data": {
            "text/plain": [
              "<seaborn.axisgrid.FacetGrid at 0x7f52ad0b82d0>"
            ]
          },
          "metadata": {},
          "execution_count": 156
        },
        {
          "output_type": "display_data",
          "data": {
            "image/png": "[encoded data removed]",
            "text/plain": [
              "<Figure size 1152x576 with 1 Axes>"
            ]
          },
          "metadata": {
            "needs_background": "light"
          }
        }
      ]
    },
    {
      "cell_type": "code",
      "source": [
        "plt.figure(dpi=130)\n",
        "sns.distplot(df[df['latitudes']>39]['latitudes'])"
      ],
      "metadata": {
        "colab": {
          "base_uri": "https://localhost:8080/",
          "height": 563
        },
        "id": "4hzZOBDRz_wl",
        "outputId": "b951fe51-5a25-4489-fdfd-08ec5c61b29d"
      },
      "execution_count": 157,
      "outputs": [
        {
          "output_type": "stream",
          "name": "stderr",
          "text": [
            "/usr/local/lib/python3.7/dist-packages/seaborn/distributions.py:2619: FutureWarning: `distplot` is a deprecated function and will be removed in a future version. Please adapt your code to use either `displot` (a figure-level function with similar flexibility) or `histplot` (an axes-level function for histograms).\n",
            "  warnings.warn(msg, FutureWarning)\n"
          ]
        },
        {
          "output_type": "execute_result",
          "data": {
            "text/plain": [
              "<matplotlib.axes._subplots.AxesSubplot at 0x7f528aee5a10>"
            ]
          },
          "metadata": {},
          "execution_count": 157
        },
        {
          "output_type": "display_data",
          "data": {
            "image/png": "[encoded data removed]",
            "text/plain": [
              "<Figure size 780x520 with 1 Axes>"
            ]
          },
          "metadata": {
            "needs_background": "light"
          }
        }
      ]
    },
    {
      "cell_type": "code",
      "source": [
        "df['latitudes'].max()"
      ],
      "metadata": {
        "colab": {
          "base_uri": "https://localhost:8080/"
        },
        "id": "5OhrTlbC03NQ",
        "outputId": "de4832a4-e2d7-4030-e098-e08a04bd4028"
      },
      "execution_count": 158,
      "outputs": [
        {
          "output_type": "execute_result",
          "data": {
            "text/plain": [
              "40.59192636277074"
            ]
          },
          "metadata": {},
          "execution_count": 158
        }
      ]
    },
    {
      "cell_type": "code",
      "source": [
        "df['latitudes'].min()"
      ],
      "metadata": {
        "colab": {
          "base_uri": "https://localhost:8080/"
        },
        "id": "xPmzTV-V089R",
        "outputId": "22a5e538-ca36-4a11-dd2d-f1a49bef0e64"
      },
      "execution_count": 159,
      "outputs": [
        {
          "output_type": "execute_result",
          "data": {
            "text/plain": [
              "39.95504531271095"
            ]
          },
          "metadata": {},
          "execution_count": 159
        }
      ]
    },
    {
      "cell_type": "code",
      "source": [
        "df['latitudes'].mean()"
      ],
      "metadata": {
        "colab": {
          "base_uri": "https://localhost:8080/"
        },
        "id": "hlW4jYv60_8t",
        "outputId": "cd91a94c-2ba1-449c-d6a3-555a6cf96f41"
      },
      "execution_count": 160,
      "outputs": [
        {
          "output_type": "execute_result",
          "data": {
            "text/plain": [
              "40.39404097300845"
            ]
          },
          "metadata": {},
          "execution_count": 160
        }
      ]
    },
    {
      "cell_type": "code",
      "source": [
        "df[df['latitudes'] < 38]"
      ],
      "metadata": {
        "colab": {
          "base_uri": "https://localhost:8080/",
          "height": 131
        },
        "id": "xBAyctOK1FiJ",
        "outputId": "47f2ee71-3165-4cf3-f8e3-bb3e9e27cfcb"
      },
      "execution_count": 161,
      "outputs": [
        {
          "output_type": "execute_result",
          "data": {
            "text/html": [
              "\n",
              "  <div id=\"df-86502533-c686-4266-becc-f676289e9398\">\n",
              "    <div class=\"colab-df-container\">\n",
              "      <div>\n",
              "<style scoped>\n",
              "    .dataframe tbody tr th:only-of-type {\n",
              "        vertical-align: middle;\n",
              "    }\n",
              "\n",
              "    .dataframe tbody tr th {\n",
              "        vertical-align: top;\n",
              "    }\n",
              "\n",
              "    .dataframe thead th {\n",
              "        text-align: right;\n",
              "    }\n",
              "</style>\n",
              "<table border=\"1\" class=\"dataframe\">\n",
              "  <thead>\n",
              "    <tr style=\"text-align: right;\">\n",
              "      <th></th>\n",
              "      <th>ids</th>\n",
              "      <th>vipped_featured</th>\n",
              "      <th>prices</th>\n",
              "      <th>categories</th>\n",
              "      <th>floors</th>\n",
              "      <th>areas_m2</th>\n",
              "      <th>rooms</th>\n",
              "      <th>credits</th>\n",
              "      <th>address</th>\n",
              "      <th>district</th>\n",
              "      <th>latitudes</th>\n",
              "      <th>longitudes</th>\n",
              "      <th>ownerships</th>\n",
              "      <th>watches</th>\n",
              "      <th>ad_refreshed_date</th>\n",
              "      <th>agency_titles</th>\n",
              "      <th>date_of_parsing</th>\n",
              "      <th>deal_ended</th>\n",
              "      <th>ad_type_featured</th>\n",
              "      <th>ad_type_featuredvipped</th>\n",
              "      <th>ad_type_vipped</th>\n",
              "      <th>Köhnə tikili</th>\n",
              "      <th>Yeni tikili</th>\n",
              "      <th>apartment_floor</th>\n",
              "      <th>buildings_floor</th>\n",
              "      <th>percent_of_building_height</th>\n",
              "      <th>Credit_var</th>\n",
              "    </tr>\n",
              "  </thead>\n",
              "  <tbody>\n",
              "  </tbody>\n",
              "</table>\n",
              "</div>\n",
              "      <button class=\"colab-df-convert\" onclick=\"convertToInteractive('df-86502533-c686-4266-becc-f676289e9398')\"\n",
              "              title=\"Convert this dataframe to an interactive table.\"\n",
              "              style=\"display:none;\">\n",
              "        \n",
              "  <svg xmlns=\"http://www.w3.org/2000/svg\" height=\"24px\"viewBox=\"0 0 24 24\"\n",
              "       width=\"24px\">\n",
              "    <path d=\"M0 0h24v24H0V0z\" fill=\"none\"/>\n",
              "    <path d=\"M18.56 5.44l.94 2.06.94-2.06 2.06-.94-2.06-.94-.94-2.06-.94 2.06-2.06.94zm-11 1L8.5 8.5l.94-2.06 2.06-.94-2.06-.94L8.5 2.5l-.94 2.06-2.06.94zm10 10l.94 2.06.94-2.06 2.06-.94-2.06-.94-.94-2.06-.94 2.06-2.06.94z\"/><path d=\"M17.41 7.96l-1.37-1.37c-.4-.4-.92-.59-1.43-.59-.52 0-1.04.2-1.43.59L10.3 9.45l-7.72 7.72c-.78.78-.78 2.05 0 2.83L4 21.41c.39.39.9.59 1.41.59.51 0 1.02-.2 1.41-.59l7.78-7.78 2.81-2.81c.8-.78.8-2.07 0-2.86zM5.41 20L4 18.59l7.72-7.72 1.47 1.35L5.41 20z\"/>\n",
              "  </svg>\n",
              "      </button>\n",
              "      \n",
              "  <style>\n",
              "    .colab-df-container {\n",
              "      display:flex;\n",
              "      flex-wrap:wrap;\n",
              "      gap: 12px;\n",
              "    }\n",
              "\n",
              "    .colab-df-convert {\n",
              "      background-color: #E8F0FE;\n",
              "      border: none;\n",
              "      border-radius: 50%;\n",
              "      cursor: pointer;\n",
              "      display: none;\n",
              "      fill: #1967D2;\n",
              "      height: 32px;\n",
              "      padding: 0 0 0 0;\n",
              "      width: 32px;\n",
              "    }\n",
              "\n",
              "    .colab-df-convert:hover {\n",
              "      background-color: #E2EBFA;\n",
              "      box-shadow: 0px 1px 2px rgba(60, 64, 67, 0.3), 0px 1px 3px 1px rgba(60, 64, 67, 0.15);\n",
              "      fill: #174EA6;\n",
              "    }\n",
              "\n",
              "    [theme=dark] .colab-df-convert {\n",
              "      background-color: #3B4455;\n",
              "      fill: #D2E3FC;\n",
              "    }\n",
              "\n",
              "    [theme=dark] .colab-df-convert:hover {\n",
              "      background-color: #434B5C;\n",
              "      box-shadow: 0px 1px 3px 1px rgba(0, 0, 0, 0.15);\n",
              "      filter: drop-shadow(0px 1px 2px rgba(0, 0, 0, 0.3));\n",
              "      fill: #FFFFFF;\n",
              "    }\n",
              "  </style>\n",
              "\n",
              "      <script>\n",
              "        const buttonEl =\n",
              "          document.querySelector('#df-86502533-c686-4266-becc-f676289e9398 button.colab-df-convert');\n",
              "        buttonEl.style.display =\n",
              "          google.colab.kernel.accessAllowed ? 'block' : 'none';\n",
              "\n",
              "        async function convertToInteractive(key) {\n",
              "          const element = document.querySelector('#df-86502533-c686-4266-becc-f676289e9398');\n",
              "          const dataTable =\n",
              "            await google.colab.kernel.invokeFunction('convertToInteractive',\n",
              "                                                     [key], {});\n",
              "          if (!dataTable) return;\n",
              "\n",
              "          const docLinkHtml = 'Like what you see? Visit the ' +\n",
              "            '<a target=\"_blank\" href=https://colab.research.google.com/notebooks/data_table.ipynb>data table notebook</a>'\n",
              "            + ' to learn more about interactive tables.';\n",
              "          element.innerHTML = '';\n",
              "          dataTable['output_type'] = 'display_data';\n",
              "          await google.colab.output.renderOutput(dataTable, element);\n",
              "          const docLink = document.createElement('div');\n",
              "          docLink.innerHTML = docLinkHtml;\n",
              "          element.appendChild(docLink);\n",
              "        }\n",
              "      </script>\n",
              "    </div>\n",
              "  </div>\n",
              "  "
            ],
            "text/plain": [
              "Empty DataFrame\n",
              "Columns: [ids, vipped_featured, prices, categories, floors, areas_m2, rooms, credits, address, district, latitudes, longitudes, ownerships, watches, ad_refreshed_date, agency_titles, date_of_parsing, deal_ended, ad_type_featured, ad_type_featuredvipped, ad_type_vipped, Köhnə tikili, Yeni tikili, apartment_floor, buildings_floor, percent_of_building_height, Credit_var]\n",
              "Index: []"
            ]
          },
          "metadata": {},
          "execution_count": 161
        }
      ]
    },
    {
      "cell_type": "code",
      "source": [
        "len(districts_set)"
      ],
      "metadata": {
        "colab": {
          "base_uri": "https://localhost:8080/"
        },
        "id": "yquaupQC4Qd8",
        "outputId": "19b47ae3-4e81-46a1-c729-147c97eed48f"
      },
      "execution_count": 162,
      "outputs": [
        {
          "output_type": "execute_result",
          "data": {
            "text/plain": [
              "182"
            ]
          },
          "metadata": {},
          "execution_count": 162
        }
      ]
    },
    {
      "cell_type": "code",
      "source": [
        "#example\n",
        "df[df['district'].str.contains(\"Suraxanı r.;\")]"
      ],
      "metadata": {
        "colab": {
          "base_uri": "https://localhost:8080/",
          "height": 939
        },
        "id": "VU_it9uq47FL",
        "outputId": "d40b1b58-b8f4-4a17-87fd-2caac0e688d8"
      },
      "execution_count": 163,
      "outputs": [
        {
          "output_type": "execute_result",
          "data": {
            "text/html": [
              "\n",
              "  <div id=\"df-3077544f-0bf1-4da4-8f04-7086643be8d3\">\n",
              "    <div class=\"colab-df-container\">\n",
              "      <div>\n",
              "<style scoped>\n",
              "    .dataframe tbody tr th:only-of-type {\n",
              "        vertical-align: middle;\n",
              "    }\n",
              "\n",
              "    .dataframe tbody tr th {\n",
              "        vertical-align: top;\n",
              "    }\n",
              "\n",
              "    .dataframe thead th {\n",
              "        text-align: right;\n",
              "    }\n",
              "</style>\n",
              "<table border=\"1\" class=\"dataframe\">\n",
              "  <thead>\n",
              "    <tr style=\"text-align: right;\">\n",
              "      <th></th>\n",
              "      <th>ids</th>\n",
              "      <th>vipped_featured</th>\n",
              "      <th>prices</th>\n",
              "      <th>categories</th>\n",
              "      <th>floors</th>\n",
              "      <th>areas_m2</th>\n",
              "      <th>rooms</th>\n",
              "      <th>credits</th>\n",
              "      <th>address</th>\n",
              "      <th>district</th>\n",
              "      <th>latitudes</th>\n",
              "      <th>longitudes</th>\n",
              "      <th>ownerships</th>\n",
              "      <th>watches</th>\n",
              "      <th>ad_refreshed_date</th>\n",
              "      <th>agency_titles</th>\n",
              "      <th>date_of_parsing</th>\n",
              "      <th>deal_ended</th>\n",
              "      <th>ad_type_featured</th>\n",
              "      <th>ad_type_featuredvipped</th>\n",
              "      <th>ad_type_vipped</th>\n",
              "      <th>Köhnə tikili</th>\n",
              "      <th>Yeni tikili</th>\n",
              "      <th>apartment_floor</th>\n",
              "      <th>buildings_floor</th>\n",
              "      <th>percent_of_building_height</th>\n",
              "      <th>Credit_var</th>\n",
              "    </tr>\n",
              "  </thead>\n",
              "  <tbody>\n",
              "    <tr>\n",
              "      <th>0</th>\n",
              "      <td>2348807</td>\n",
              "      <td>featuredvipped</td>\n",
              "      <td>54000</td>\n",
              "      <td>Köhnə tikili</td>\n",
              "      <td>2 / 5</td>\n",
              "      <td>50.0</td>\n",
              "      <td>2</td>\n",
              "      <td>var</td>\n",
              "      <td>R.Şahsuvarov küç 31</td>\n",
              "      <td>Suraxanı r.; Hövsan q.</td>\n",
              "      <td>40.355821</td>\n",
              "      <td>50.063575</td>\n",
              "      <td>mülkiyyətçi</td>\n",
              "      <td>3363</td>\n",
              "      <td>01 Yanvar 2022</td>\n",
              "      <td>0</td>\n",
              "      <td>2022-01-03 11:36:55</td>\n",
              "      <td>0</td>\n",
              "      <td>0</td>\n",
              "      <td>1</td>\n",
              "      <td>0</td>\n",
              "      <td>1</td>\n",
              "      <td>0</td>\n",
              "      <td>2</td>\n",
              "      <td>5.0</td>\n",
              "      <td>40.0</td>\n",
              "      <td>1</td>\n",
              "    </tr>\n",
              "    <tr>\n",
              "      <th>7</th>\n",
              "      <td>2541260</td>\n",
              "      <td>0</td>\n",
              "      <td>83800</td>\n",
              "      <td>Köhnə tikili</td>\n",
              "      <td>5 / 5</td>\n",
              "      <td>81.6</td>\n",
              "      <td>3</td>\n",
              "      <td>var</td>\n",
              "      <td>H. Əhmədov küç, b 8, m 89.</td>\n",
              "      <td>Suraxanı r.; Qaraçuxur q.</td>\n",
              "      <td>40.413457</td>\n",
              "      <td>49.960525</td>\n",
              "      <td>vasitəçi (agent)</td>\n",
              "      <td>22</td>\n",
              "      <td>Bugün 15:16</td>\n",
              "      <td>0</td>\n",
              "      <td>2022-01-03 11:36:55</td>\n",
              "      <td>0</td>\n",
              "      <td>0</td>\n",
              "      <td>0</td>\n",
              "      <td>0</td>\n",
              "      <td>1</td>\n",
              "      <td>0</td>\n",
              "      <td>5</td>\n",
              "      <td>5.0</td>\n",
              "      <td>100.0</td>\n",
              "      <td>1</td>\n",
              "    </tr>\n",
              "    <tr>\n",
              "      <th>101</th>\n",
              "      <td>2541155</td>\n",
              "      <td>0</td>\n",
              "      <td>40000</td>\n",
              "      <td>Köhnə tikili</td>\n",
              "      <td>2 / 2</td>\n",
              "      <td>88.0</td>\n",
              "      <td>6</td>\n",
              "      <td>xeyr</td>\n",
              "      <td>Axundov küçəsi ev16</td>\n",
              "      <td>Suraxanı r.; Bülbülə q.</td>\n",
              "      <td>40.434177</td>\n",
              "      <td>49.968055</td>\n",
              "      <td>mülkiyyətçi</td>\n",
              "      <td>22</td>\n",
              "      <td>Bugün 14:46</td>\n",
              "      <td>0</td>\n",
              "      <td>2022-01-03 13:48:28</td>\n",
              "      <td>0</td>\n",
              "      <td>0</td>\n",
              "      <td>0</td>\n",
              "      <td>0</td>\n",
              "      <td>1</td>\n",
              "      <td>0</td>\n",
              "      <td>2</td>\n",
              "      <td>2.0</td>\n",
              "      <td>100.0</td>\n",
              "      <td>0</td>\n",
              "    </tr>\n",
              "    <tr>\n",
              "      <th>367</th>\n",
              "      <td>2540746</td>\n",
              "      <td>0</td>\n",
              "      <td>83000</td>\n",
              "      <td>Köhnə tikili</td>\n",
              "      <td>4 / 9</td>\n",
              "      <td>90.0</td>\n",
              "      <td>3</td>\n",
              "      <td>xeyr</td>\n",
              "      <td>Samir Cəfərov küçəsi</td>\n",
              "      <td>Xalqlar Dostluğu m.; Suraxanı r.; Yeni Günəşli q.</td>\n",
              "      <td>40.397586</td>\n",
              "      <td>49.952898</td>\n",
              "      <td>vasitəçi (agent)</td>\n",
              "      <td>129</td>\n",
              "      <td>Bugün 12:24</td>\n",
              "      <td>Azər RA Əmlak  daşınmaz əmlak agentliyi</td>\n",
              "      <td>2022-01-03 13:48:28</td>\n",
              "      <td>0</td>\n",
              "      <td>0</td>\n",
              "      <td>0</td>\n",
              "      <td>0</td>\n",
              "      <td>1</td>\n",
              "      <td>0</td>\n",
              "      <td>4</td>\n",
              "      <td>9.0</td>\n",
              "      <td>44.0</td>\n",
              "      <td>0</td>\n",
              "    </tr>\n",
              "    <tr>\n",
              "      <th>429</th>\n",
              "      <td>2397222</td>\n",
              "      <td>0</td>\n",
              "      <td>80000</td>\n",
              "      <td>Köhnə tikili</td>\n",
              "      <td>9 / 9</td>\n",
              "      <td>70.0</td>\n",
              "      <td>3</td>\n",
              "      <td>var</td>\n",
              "      <td>Yeni Günəşli Q massiv</td>\n",
              "      <td>Suraxanı r.; Yeni Günəşli q.</td>\n",
              "      <td>40.377675</td>\n",
              "      <td>49.960670</td>\n",
              "      <td>mülkiyyətçi</td>\n",
              "      <td>1275</td>\n",
              "      <td>Bugün 11:45</td>\n",
              "      <td>0</td>\n",
              "      <td>2022-01-03 13:48:28</td>\n",
              "      <td>0</td>\n",
              "      <td>0</td>\n",
              "      <td>0</td>\n",
              "      <td>0</td>\n",
              "      <td>1</td>\n",
              "      <td>0</td>\n",
              "      <td>9</td>\n",
              "      <td>9.0</td>\n",
              "      <td>100.0</td>\n",
              "      <td>1</td>\n",
              "    </tr>\n",
              "    <tr>\n",
              "      <th>...</th>\n",
              "      <td>...</td>\n",
              "      <td>...</td>\n",
              "      <td>...</td>\n",
              "      <td>...</td>\n",
              "      <td>...</td>\n",
              "      <td>...</td>\n",
              "      <td>...</td>\n",
              "      <td>...</td>\n",
              "      <td>...</td>\n",
              "      <td>...</td>\n",
              "      <td>...</td>\n",
              "      <td>...</td>\n",
              "      <td>...</td>\n",
              "      <td>...</td>\n",
              "      <td>...</td>\n",
              "      <td>...</td>\n",
              "      <td>...</td>\n",
              "      <td>...</td>\n",
              "      <td>...</td>\n",
              "      <td>...</td>\n",
              "      <td>...</td>\n",
              "      <td>...</td>\n",
              "      <td>...</td>\n",
              "      <td>...</td>\n",
              "      <td>...</td>\n",
              "      <td>...</td>\n",
              "      <td>...</td>\n",
              "    </tr>\n",
              "    <tr>\n",
              "      <th>18461</th>\n",
              "      <td>2550315</td>\n",
              "      <td>0</td>\n",
              "      <td>112000</td>\n",
              "      <td>Köhnə tikili</td>\n",
              "      <td>3 / 9</td>\n",
              "      <td>100.0</td>\n",
              "      <td>4</td>\n",
              "      <td>xeyr</td>\n",
              "      <td>Yeni Günəşli D massivi</td>\n",
              "      <td>Suraxanı r.; Yeni Günəşli q.</td>\n",
              "      <td>40.385738</td>\n",
              "      <td>50.030156</td>\n",
              "      <td>vasitəçi (agent)</td>\n",
              "      <td>138</td>\n",
              "      <td>Dünən 19:25</td>\n",
              "      <td>0</td>\n",
              "      <td>2022-01-08 11:17:50</td>\n",
              "      <td>0</td>\n",
              "      <td>0</td>\n",
              "      <td>0</td>\n",
              "      <td>0</td>\n",
              "      <td>1</td>\n",
              "      <td>0</td>\n",
              "      <td>3</td>\n",
              "      <td>9.0</td>\n",
              "      <td>33.0</td>\n",
              "      <td>0</td>\n",
              "    </tr>\n",
              "    <tr>\n",
              "      <th>18468</th>\n",
              "      <td>2550299</td>\n",
              "      <td>0</td>\n",
              "      <td>52000</td>\n",
              "      <td>Köhnə tikili</td>\n",
              "      <td>8 / 9</td>\n",
              "      <td>35.0</td>\n",
              "      <td>1</td>\n",
              "      <td>xeyr</td>\n",
              "      <td>Yeni Günəşli, V massivi bina 22</td>\n",
              "      <td>Suraxanı r.; Massiv V q.</td>\n",
              "      <td>40.387384</td>\n",
              "      <td>49.982021</td>\n",
              "      <td>mülkiyyətçi</td>\n",
              "      <td>127</td>\n",
              "      <td>Dünən 19:20</td>\n",
              "      <td>0</td>\n",
              "      <td>2022-01-08 11:17:50</td>\n",
              "      <td>0</td>\n",
              "      <td>0</td>\n",
              "      <td>0</td>\n",
              "      <td>0</td>\n",
              "      <td>1</td>\n",
              "      <td>0</td>\n",
              "      <td>8</td>\n",
              "      <td>9.0</td>\n",
              "      <td>89.0</td>\n",
              "      <td>0</td>\n",
              "    </tr>\n",
              "    <tr>\n",
              "      <th>18474</th>\n",
              "      <td>2523339</td>\n",
              "      <td>0</td>\n",
              "      <td>67000</td>\n",
              "      <td>Köhnə tikili</td>\n",
              "      <td>6 / 9</td>\n",
              "      <td>57.4</td>\n",
              "      <td>2</td>\n",
              "      <td>xeyr</td>\n",
              "      <td>Massiv - D/Bina-17/Mənzil-65</td>\n",
              "      <td>Suraxanı r.; Yeni Günəşli q.</td>\n",
              "      <td>40.372595</td>\n",
              "      <td>49.978764</td>\n",
              "      <td>mülkiyyətçi</td>\n",
              "      <td>714</td>\n",
              "      <td>Dünən 19:09</td>\n",
              "      <td>0</td>\n",
              "      <td>2022-01-08 11:17:50</td>\n",
              "      <td>0</td>\n",
              "      <td>0</td>\n",
              "      <td>0</td>\n",
              "      <td>0</td>\n",
              "      <td>1</td>\n",
              "      <td>0</td>\n",
              "      <td>6</td>\n",
              "      <td>9.0</td>\n",
              "      <td>67.0</td>\n",
              "      <td>0</td>\n",
              "    </tr>\n",
              "    <tr>\n",
              "      <th>18565</th>\n",
              "      <td>2550101</td>\n",
              "      <td>0</td>\n",
              "      <td>110000</td>\n",
              "      <td>Köhnə tikili</td>\n",
              "      <td>8 / 9</td>\n",
              "      <td>100.0</td>\n",
              "      <td>4</td>\n",
              "      <td>xeyr</td>\n",
              "      <td>Yeni Günəşli qəs, AB massivi</td>\n",
              "      <td>Suraxanı r.; Massiv A q.</td>\n",
              "      <td>40.382380</td>\n",
              "      <td>49.974835</td>\n",
              "      <td>vasitəçi (agent)</td>\n",
              "      <td>109</td>\n",
              "      <td>Dünən 17:50</td>\n",
              "      <td>0</td>\n",
              "      <td>2022-01-08 11:17:50</td>\n",
              "      <td>0</td>\n",
              "      <td>0</td>\n",
              "      <td>0</td>\n",
              "      <td>0</td>\n",
              "      <td>1</td>\n",
              "      <td>0</td>\n",
              "      <td>8</td>\n",
              "      <td>9.0</td>\n",
              "      <td>89.0</td>\n",
              "      <td>0</td>\n",
              "    </tr>\n",
              "    <tr>\n",
              "      <th>18606</th>\n",
              "      <td>2550011</td>\n",
              "      <td>0</td>\n",
              "      <td>125000</td>\n",
              "      <td>Köhnə tikili</td>\n",
              "      <td>5 / 9</td>\n",
              "      <td>100.0</td>\n",
              "      <td>5</td>\n",
              "      <td>xeyr</td>\n",
              "      <td>Yeni Günəşli D massiv</td>\n",
              "      <td>Suraxanı r.; Yeni Günəşli q.</td>\n",
              "      <td>40.376742</td>\n",
              "      <td>49.978499</td>\n",
              "      <td>vasitəçi (agent)</td>\n",
              "      <td>78</td>\n",
              "      <td>Bugün 09:35</td>\n",
              "      <td>Real Əmlak Həzi Aslanov daşınmaz əmlak agentliyi</td>\n",
              "      <td>2022-01-08 11:17:50</td>\n",
              "      <td>0</td>\n",
              "      <td>0</td>\n",
              "      <td>0</td>\n",
              "      <td>0</td>\n",
              "      <td>1</td>\n",
              "      <td>0</td>\n",
              "      <td>5</td>\n",
              "      <td>9.0</td>\n",
              "      <td>56.0</td>\n",
              "      <td>0</td>\n",
              "    </tr>\n",
              "  </tbody>\n",
              "</table>\n",
              "<p>235 rows × 27 columns</p>\n",
              "</div>\n",
              "      <button class=\"colab-df-convert\" onclick=\"convertToInteractive('df-3077544f-0bf1-4da4-8f04-7086643be8d3')\"\n",
              "              title=\"Convert this dataframe to an interactive table.\"\n",
              "              style=\"display:none;\">\n",
              "        \n",
              "  <svg xmlns=\"http://www.w3.org/2000/svg\" height=\"24px\"viewBox=\"0 0 24 24\"\n",
              "       width=\"24px\">\n",
              "    <path d=\"M0 0h24v24H0V0z\" fill=\"none\"/>\n",
              "    <path d=\"M18.56 5.44l.94 2.06.94-2.06 2.06-.94-2.06-.94-.94-2.06-.94 2.06-2.06.94zm-11 1L8.5 8.5l.94-2.06 2.06-.94-2.06-.94L8.5 2.5l-.94 2.06-2.06.94zm10 10l.94 2.06.94-2.06 2.06-.94-2.06-.94-.94-2.06-.94 2.06-2.06.94z\"/><path d=\"M17.41 7.96l-1.37-1.37c-.4-.4-.92-.59-1.43-.59-.52 0-1.04.2-1.43.59L10.3 9.45l-7.72 7.72c-.78.78-.78 2.05 0 2.83L4 21.41c.39.39.9.59 1.41.59.51 0 1.02-.2 1.41-.59l7.78-7.78 2.81-2.81c.8-.78.8-2.07 0-2.86zM5.41 20L4 18.59l7.72-7.72 1.47 1.35L5.41 20z\"/>\n",
              "  </svg>\n",
              "      </button>\n",
              "      \n",
              "  <style>\n",
              "    .colab-df-container {\n",
              "      display:flex;\n",
              "      flex-wrap:wrap;\n",
              "      gap: 12px;\n",
              "    }\n",
              "\n",
              "    .colab-df-convert {\n",
              "      background-color: #E8F0FE;\n",
              "      border: none;\n",
              "      border-radius: 50%;\n",
              "      cursor: pointer;\n",
              "      display: none;\n",
              "      fill: #1967D2;\n",
              "      height: 32px;\n",
              "      padding: 0 0 0 0;\n",
              "      width: 32px;\n",
              "    }\n",
              "\n",
              "    .colab-df-convert:hover {\n",
              "      background-color: #E2EBFA;\n",
              "      box-shadow: 0px 1px 2px rgba(60, 64, 67, 0.3), 0px 1px 3px 1px rgba(60, 64, 67, 0.15);\n",
              "      fill: #174EA6;\n",
              "    }\n",
              "\n",
              "    [theme=dark] .colab-df-convert {\n",
              "      background-color: #3B4455;\n",
              "      fill: #D2E3FC;\n",
              "    }\n",
              "\n",
              "    [theme=dark] .colab-df-convert:hover {\n",
              "      background-color: #434B5C;\n",
              "      box-shadow: 0px 1px 3px 1px rgba(0, 0, 0, 0.15);\n",
              "      filter: drop-shadow(0px 1px 2px rgba(0, 0, 0, 0.3));\n",
              "      fill: #FFFFFF;\n",
              "    }\n",
              "  </style>\n",
              "\n",
              "      <script>\n",
              "        const buttonEl =\n",
              "          document.querySelector('#df-3077544f-0bf1-4da4-8f04-7086643be8d3 button.colab-df-convert');\n",
              "        buttonEl.style.display =\n",
              "          google.colab.kernel.accessAllowed ? 'block' : 'none';\n",
              "\n",
              "        async function convertToInteractive(key) {\n",
              "          const element = document.querySelector('#df-3077544f-0bf1-4da4-8f04-7086643be8d3');\n",
              "          const dataTable =\n",
              "            await google.colab.kernel.invokeFunction('convertToInteractive',\n",
              "                                                     [key], {});\n",
              "          if (!dataTable) return;\n",
              "\n",
              "          const docLinkHtml = 'Like what you see? Visit the ' +\n",
              "            '<a target=\"_blank\" href=https://colab.research.google.com/notebooks/data_table.ipynb>data table notebook</a>'\n",
              "            + ' to learn more about interactive tables.';\n",
              "          element.innerHTML = '';\n",
              "          dataTable['output_type'] = 'display_data';\n",
              "          await google.colab.output.renderOutput(dataTable, element);\n",
              "          const docLink = document.createElement('div');\n",
              "          docLink.innerHTML = docLinkHtml;\n",
              "          element.appendChild(docLink);\n",
              "        }\n",
              "      </script>\n",
              "    </div>\n",
              "  </div>\n",
              "  "
            ],
            "text/plain": [
              "           ids vipped_featured  ...  percent_of_building_height Credit_var\n",
              "0      2348807  featuredvipped  ...                        40.0          1\n",
              "7      2541260               0  ...                       100.0          1\n",
              "101    2541155               0  ...                       100.0          0\n",
              "367    2540746               0  ...                        44.0          0\n",
              "429    2397222               0  ...                       100.0          1\n",
              "...        ...             ...  ...                         ...        ...\n",
              "18461  2550315               0  ...                        33.0          0\n",
              "18468  2550299               0  ...                        89.0          0\n",
              "18474  2523339               0  ...                        67.0          0\n",
              "18565  2550101               0  ...                        89.0          0\n",
              "18606  2550011               0  ...                        56.0          0\n",
              "\n",
              "[235 rows x 27 columns]"
            ]
          },
          "metadata": {},
          "execution_count": 163
        }
      ]
    },
    {
      "cell_type": "code",
      "source": [
        "latitude_mean = []\n",
        "longitude_mean = []\n",
        "\n",
        "\n",
        "for i in districts_set:\n",
        "\n",
        "  latitude_mean.append(df[df['district'].str.contains(i)]['latitudes'].mean())\n",
        "  longitude_mean.append(df[df['district'].str.contains(i)]['longitudes'].mean())\n",
        "\n"
      ],
      "metadata": {
        "id": "1OEma5mW4atI"
      },
      "execution_count": 164,
      "outputs": []
    },
    {
      "cell_type": "code",
      "source": [
        "districts_temp = pd.DataFrame()\n",
        "districts_temp['districts'] = districts_set\n",
        "districts_temp['latitude_mean'] = latitude_mean\n",
        "districts_temp['longitude_mean'] = longitude_mean\n"
      ],
      "metadata": {
        "id": "Ru4NjHp86HDs"
      },
      "execution_count": 165,
      "outputs": []
    },
    {
      "cell_type": "code",
      "source": [
        "districts_temp"
      ],
      "metadata": {
        "colab": {
          "base_uri": "https://localhost:8080/",
          "height": 424
        },
        "id": "z7geFDqO6M4p",
        "outputId": "1cedc776-f1e1-494b-9b4d-448cfc799b9e"
      },
      "execution_count": 166,
      "outputs": [
        {
          "output_type": "execute_result",
          "data": {
            "text/html": [
              "\n",
              "  <div id=\"df-f6c2f0e1-ab93-4736-96c9-e8b37f81ef7c\">\n",
              "    <div class=\"colab-df-container\">\n",
              "      <div>\n",
              "<style scoped>\n",
              "    .dataframe tbody tr th:only-of-type {\n",
              "        vertical-align: middle;\n",
              "    }\n",
              "\n",
              "    .dataframe tbody tr th {\n",
              "        vertical-align: top;\n",
              "    }\n",
              "\n",
              "    .dataframe thead th {\n",
              "        text-align: right;\n",
              "    }\n",
              "</style>\n",
              "<table border=\"1\" class=\"dataframe\">\n",
              "  <thead>\n",
              "    <tr style=\"text-align: right;\">\n",
              "      <th></th>\n",
              "      <th>districts</th>\n",
              "      <th>latitude_mean</th>\n",
              "      <th>longitude_mean</th>\n",
              "    </tr>\n",
              "  </thead>\n",
              "  <tbody>\n",
              "    <tr>\n",
              "      <th>0</th>\n",
              "      <td>Çiçək q.</td>\n",
              "      <td>40.460965</td>\n",
              "      <td>49.662923</td>\n",
              "    </tr>\n",
              "    <tr>\n",
              "      <th>1</th>\n",
              "      <td>Azərbaycan kinoteatrı</td>\n",
              "      <td>40.370208</td>\n",
              "      <td>49.836696</td>\n",
              "    </tr>\n",
              "    <tr>\n",
              "      <th>2</th>\n",
              "      <td>Sevil Qazıyeva parkı</td>\n",
              "      <td>40.386949</td>\n",
              "      <td>49.832329</td>\n",
              "    </tr>\n",
              "    <tr>\n",
              "      <th>3</th>\n",
              "      <td>Biləcəri q.</td>\n",
              "      <td>40.432181</td>\n",
              "      <td>49.803850</td>\n",
              "    </tr>\n",
              "    <tr>\n",
              "      <th>4</th>\n",
              "      <td>Yasamal r.</td>\n",
              "      <td>40.385984</td>\n",
              "      <td>49.807679</td>\n",
              "    </tr>\n",
              "    <tr>\n",
              "      <th>...</th>\n",
              "      <td>...</td>\n",
              "      <td>...</td>\n",
              "      <td>...</td>\n",
              "    </tr>\n",
              "    <tr>\n",
              "      <th>177</th>\n",
              "      <td>Beşmərtəbə</td>\n",
              "      <td>40.377416</td>\n",
              "      <td>49.831915</td>\n",
              "    </tr>\n",
              "    <tr>\n",
              "      <th>178</th>\n",
              "      <td>Şimal DRES q.</td>\n",
              "      <td>40.487628</td>\n",
              "      <td>50.209064</td>\n",
              "    </tr>\n",
              "    <tr>\n",
              "      <th>179</th>\n",
              "      <td>Kürdəxanı q.</td>\n",
              "      <td>40.547881</td>\n",
              "      <td>49.904194</td>\n",
              "    </tr>\n",
              "    <tr>\n",
              "      <th>180</th>\n",
              "      <td>Şah İsmayıl Xətai m.</td>\n",
              "      <td>40.383049</td>\n",
              "      <td>49.872086</td>\n",
              "    </tr>\n",
              "    <tr>\n",
              "      <th>181</th>\n",
              "      <td>Texniki Universiteti</td>\n",
              "      <td>40.370693</td>\n",
              "      <td>49.817492</td>\n",
              "    </tr>\n",
              "  </tbody>\n",
              "</table>\n",
              "<p>182 rows × 3 columns</p>\n",
              "</div>\n",
              "      <button class=\"colab-df-convert\" onclick=\"convertToInteractive('df-f6c2f0e1-ab93-4736-96c9-e8b37f81ef7c')\"\n",
              "              title=\"Convert this dataframe to an interactive table.\"\n",
              "              style=\"display:none;\">\n",
              "        \n",
              "  <svg xmlns=\"http://www.w3.org/2000/svg\" height=\"24px\"viewBox=\"0 0 24 24\"\n",
              "       width=\"24px\">\n",
              "    <path d=\"M0 0h24v24H0V0z\" fill=\"none\"/>\n",
              "    <path d=\"M18.56 5.44l.94 2.06.94-2.06 2.06-.94-2.06-.94-.94-2.06-.94 2.06-2.06.94zm-11 1L8.5 8.5l.94-2.06 2.06-.94-2.06-.94L8.5 2.5l-.94 2.06-2.06.94zm10 10l.94 2.06.94-2.06 2.06-.94-2.06-.94-.94-2.06-.94 2.06-2.06.94z\"/><path d=\"M17.41 7.96l-1.37-1.37c-.4-.4-.92-.59-1.43-.59-.52 0-1.04.2-1.43.59L10.3 9.45l-7.72 7.72c-.78.78-.78 2.05 0 2.83L4 21.41c.39.39.9.59 1.41.59.51 0 1.02-.2 1.41-.59l7.78-7.78 2.81-2.81c.8-.78.8-2.07 0-2.86zM5.41 20L4 18.59l7.72-7.72 1.47 1.35L5.41 20z\"/>\n",
              "  </svg>\n",
              "      </button>\n",
              "      \n",
              "  <style>\n",
              "    .colab-df-container {\n",
              "      display:flex;\n",
              "      flex-wrap:wrap;\n",
              "      gap: 12px;\n",
              "    }\n",
              "\n",
              "    .colab-df-convert {\n",
              "      background-color: #E8F0FE;\n",
              "      border: none;\n",
              "      border-radius: 50%;\n",
              "      cursor: pointer;\n",
              "      display: none;\n",
              "      fill: #1967D2;\n",
              "      height: 32px;\n",
              "      padding: 0 0 0 0;\n",
              "      width: 32px;\n",
              "    }\n",
              "\n",
              "    .colab-df-convert:hover {\n",
              "      background-color: #E2EBFA;\n",
              "      box-shadow: 0px 1px 2px rgba(60, 64, 67, 0.3), 0px 1px 3px 1px rgba(60, 64, 67, 0.15);\n",
              "      fill: #174EA6;\n",
              "    }\n",
              "\n",
              "    [theme=dark] .colab-df-convert {\n",
              "      background-color: #3B4455;\n",
              "      fill: #D2E3FC;\n",
              "    }\n",
              "\n",
              "    [theme=dark] .colab-df-convert:hover {\n",
              "      background-color: #434B5C;\n",
              "      box-shadow: 0px 1px 3px 1px rgba(0, 0, 0, 0.15);\n",
              "      filter: drop-shadow(0px 1px 2px rgba(0, 0, 0, 0.3));\n",
              "      fill: #FFFFFF;\n",
              "    }\n",
              "  </style>\n",
              "\n",
              "      <script>\n",
              "        const buttonEl =\n",
              "          document.querySelector('#df-f6c2f0e1-ab93-4736-96c9-e8b37f81ef7c button.colab-df-convert');\n",
              "        buttonEl.style.display =\n",
              "          google.colab.kernel.accessAllowed ? 'block' : 'none';\n",
              "\n",
              "        async function convertToInteractive(key) {\n",
              "          const element = document.querySelector('#df-f6c2f0e1-ab93-4736-96c9-e8b37f81ef7c');\n",
              "          const dataTable =\n",
              "            await google.colab.kernel.invokeFunction('convertToInteractive',\n",
              "                                                     [key], {});\n",
              "          if (!dataTable) return;\n",
              "\n",
              "          const docLinkHtml = 'Like what you see? Visit the ' +\n",
              "            '<a target=\"_blank\" href=https://colab.research.google.com/notebooks/data_table.ipynb>data table notebook</a>'\n",
              "            + ' to learn more about interactive tables.';\n",
              "          element.innerHTML = '';\n",
              "          dataTable['output_type'] = 'display_data';\n",
              "          await google.colab.output.renderOutput(dataTable, element);\n",
              "          const docLink = document.createElement('div');\n",
              "          docLink.innerHTML = docLinkHtml;\n",
              "          element.appendChild(docLink);\n",
              "        }\n",
              "      </script>\n",
              "    </div>\n",
              "  </div>\n",
              "  "
            ],
            "text/plain": [
              "                 districts  latitude_mean  longitude_mean\n",
              "0                 Çiçək q.      40.460965       49.662923\n",
              "1    Azərbaycan kinoteatrı      40.370208       49.836696\n",
              "2     Sevil Qazıyeva parkı      40.386949       49.832329\n",
              "3              Biləcəri q.      40.432181       49.803850\n",
              "4               Yasamal r.      40.385984       49.807679\n",
              "..                     ...            ...             ...\n",
              "177             Beşmərtəbə      40.377416       49.831915\n",
              "178          Şimal DRES q.      40.487628       50.209064\n",
              "179           Kürdəxanı q.      40.547881       49.904194\n",
              "180   Şah İsmayıl Xətai m.      40.383049       49.872086\n",
              "181   Texniki Universiteti      40.370693       49.817492\n",
              "\n",
              "[182 rows x 3 columns]"
            ]
          },
          "metadata": {},
          "execution_count": 166
        }
      ]
    },
    {
      "cell_type": "code",
      "source": [
        "districts_temp.to_excel(\"lat_long.xlsx\")"
      ],
      "metadata": {
        "id": "4Ge7qxN8_czt"
      },
      "execution_count": 167,
      "outputs": []
    },
    {
      "cell_type": "code",
      "source": [
        "final_latitude = []\n",
        "final_longitude = []\n",
        "\n",
        "for i in districts_in_lists:\n",
        "\n",
        "  final_latitude.append(\n",
        "      districts_temp[districts_temp['districts'].str.contains(\"|\".join(i))]['latitude_mean'].mean()\n",
        "  )\n",
        "\n",
        "  final_longitude.append(\n",
        "      districts_temp[districts_temp['districts'].str.contains(\"|\".join(i))]['longitude_mean'].mean()\n",
        "  )\n",
        "  "
      ],
      "metadata": {
        "id": "KUITJGrY6kLg"
      },
      "execution_count": 168,
      "outputs": []
    },
    {
      "cell_type": "code",
      "source": [
        "len(final_latitude)"
      ],
      "metadata": {
        "colab": {
          "base_uri": "https://localhost:8080/"
        },
        "id": "8YxZinMJ-2P1",
        "outputId": "8ed5ae5f-e74b-4129-a455-ec6d531a44b8"
      },
      "execution_count": 169,
      "outputs": [
        {
          "output_type": "execute_result",
          "data": {
            "text/plain": [
              "18685"
            ]
          },
          "metadata": {},
          "execution_count": 169
        }
      ]
    },
    {
      "cell_type": "code",
      "source": [
        "len(final_longitude)"
      ],
      "metadata": {
        "colab": {
          "base_uri": "https://localhost:8080/"
        },
        "id": "IWnhckiP-5Gn",
        "outputId": "887a1fa5-e703-483b-af7d-46be627e1a58"
      },
      "execution_count": 170,
      "outputs": [
        {
          "output_type": "execute_result",
          "data": {
            "text/plain": [
              "18685"
            ]
          },
          "metadata": {},
          "execution_count": 170
        }
      ]
    },
    {
      "cell_type": "code",
      "source": [
        "df['final_latitude'] = final_latitude\n",
        "df['final_longitude'] = final_longitude"
      ],
      "metadata": {
        "id": "8riP72r3_OBW"
      },
      "execution_count": 171,
      "outputs": []
    },
    {
      "cell_type": "code",
      "source": [
        "df"
      ],
      "metadata": {
        "colab": {
          "base_uri": "https://localhost:8080/",
          "height": 1000
        },
        "id": "f5ZSTQ84ARui",
        "outputId": "ccf118d5-dc17-4f8b-a2ff-d0dfa3845d0c"
      },
      "execution_count": 172,
      "outputs": [
        {
          "output_type": "execute_result",
          "data": {
            "text/html": [
              "\n",
              "  <div id=\"df-04261426-c6cc-43d5-bd29-5cb606a4e850\">\n",
              "    <div class=\"colab-df-container\">\n",
              "      <div>\n",
              "<style scoped>\n",
              "    .dataframe tbody tr th:only-of-type {\n",
              "        vertical-align: middle;\n",
              "    }\n",
              "\n",
              "    .dataframe tbody tr th {\n",
              "        vertical-align: top;\n",
              "    }\n",
              "\n",
              "    .dataframe thead th {\n",
              "        text-align: right;\n",
              "    }\n",
              "</style>\n",
              "<table border=\"1\" class=\"dataframe\">\n",
              "  <thead>\n",
              "    <tr style=\"text-align: right;\">\n",
              "      <th></th>\n",
              "      <th>ids</th>\n",
              "      <th>vipped_featured</th>\n",
              "      <th>prices</th>\n",
              "      <th>categories</th>\n",
              "      <th>floors</th>\n",
              "      <th>areas_m2</th>\n",
              "      <th>rooms</th>\n",
              "      <th>credits</th>\n",
              "      <th>address</th>\n",
              "      <th>district</th>\n",
              "      <th>latitudes</th>\n",
              "      <th>longitudes</th>\n",
              "      <th>ownerships</th>\n",
              "      <th>watches</th>\n",
              "      <th>ad_refreshed_date</th>\n",
              "      <th>agency_titles</th>\n",
              "      <th>date_of_parsing</th>\n",
              "      <th>deal_ended</th>\n",
              "      <th>ad_type_featured</th>\n",
              "      <th>ad_type_featuredvipped</th>\n",
              "      <th>ad_type_vipped</th>\n",
              "      <th>Köhnə tikili</th>\n",
              "      <th>Yeni tikili</th>\n",
              "      <th>apartment_floor</th>\n",
              "      <th>buildings_floor</th>\n",
              "      <th>percent_of_building_height</th>\n",
              "      <th>Credit_var</th>\n",
              "      <th>final_latitude</th>\n",
              "      <th>final_longitude</th>\n",
              "    </tr>\n",
              "  </thead>\n",
              "  <tbody>\n",
              "    <tr>\n",
              "      <th>0</th>\n",
              "      <td>2348807</td>\n",
              "      <td>featuredvipped</td>\n",
              "      <td>54000</td>\n",
              "      <td>Köhnə tikili</td>\n",
              "      <td>2 / 5</td>\n",
              "      <td>50.0</td>\n",
              "      <td>2</td>\n",
              "      <td>var</td>\n",
              "      <td>R.Şahsuvarov küç 31</td>\n",
              "      <td>Suraxanı r.; Hövsan q.</td>\n",
              "      <td>40.355821</td>\n",
              "      <td>50.063575</td>\n",
              "      <td>mülkiyyətçi</td>\n",
              "      <td>3363</td>\n",
              "      <td>01 Yanvar 2022</td>\n",
              "      <td>0</td>\n",
              "      <td>2022-01-03 11:36:55</td>\n",
              "      <td>0</td>\n",
              "      <td>0</td>\n",
              "      <td>1</td>\n",
              "      <td>0</td>\n",
              "      <td>1</td>\n",
              "      <td>0</td>\n",
              "      <td>2</td>\n",
              "      <td>5.0</td>\n",
              "      <td>40.0</td>\n",
              "      <td>1</td>\n",
              "      <td>40.380489</td>\n",
              "      <td>50.032700</td>\n",
              "    </tr>\n",
              "    <tr>\n",
              "      <th>1</th>\n",
              "      <td>1710054</td>\n",
              "      <td>vipped</td>\n",
              "      <td>289000</td>\n",
              "      <td>Yeni tikili</td>\n",
              "      <td>5 / 17</td>\n",
              "      <td>180.0</td>\n",
              "      <td>4</td>\n",
              "      <td>var</td>\n",
              "      <td>Affiyədin Cəlilov küç.</td>\n",
              "      <td>Şah İsmayıl Xətai m.; Xətai r.</td>\n",
              "      <td>40.378917</td>\n",
              "      <td>49.875682</td>\n",
              "      <td>mülkiyyətçi</td>\n",
              "      <td>7348</td>\n",
              "      <td>22 Dekabr 2021</td>\n",
              "      <td>0</td>\n",
              "      <td>2022-01-03 11:36:55</td>\n",
              "      <td>0</td>\n",
              "      <td>0</td>\n",
              "      <td>0</td>\n",
              "      <td>1</td>\n",
              "      <td>0</td>\n",
              "      <td>1</td>\n",
              "      <td>5</td>\n",
              "      <td>17.0</td>\n",
              "      <td>29.0</td>\n",
              "      <td>1</td>\n",
              "      <td>40.380310</td>\n",
              "      <td>49.897551</td>\n",
              "    </tr>\n",
              "    <tr>\n",
              "      <th>2</th>\n",
              "      <td>2524899</td>\n",
              "      <td>vipped</td>\n",
              "      <td>159000</td>\n",
              "      <td>Yeni tikili</td>\n",
              "      <td>12 / 19</td>\n",
              "      <td>58.0</td>\n",
              "      <td>2</td>\n",
              "      <td>var</td>\n",
              "      <td>Azadlıq prospekti</td>\n",
              "      <td>ASAN Xidmət №1 ; TQDK ; Neftçi bazası ; Nəsimi r.</td>\n",
              "      <td>40.398415</td>\n",
              "      <td>49.839203</td>\n",
              "      <td>vasitəçi (agent)</td>\n",
              "      <td>197</td>\n",
              "      <td>28 Dekabr 2021</td>\n",
              "      <td>0</td>\n",
              "      <td>2022-01-03 11:36:55</td>\n",
              "      <td>0</td>\n",
              "      <td>0</td>\n",
              "      <td>0</td>\n",
              "      <td>1</td>\n",
              "      <td>0</td>\n",
              "      <td>1</td>\n",
              "      <td>12</td>\n",
              "      <td>19.0</td>\n",
              "      <td>63.0</td>\n",
              "      <td>1</td>\n",
              "      <td>40.395985</td>\n",
              "      <td>49.830862</td>\n",
              "    </tr>\n",
              "    <tr>\n",
              "      <th>3</th>\n",
              "      <td>2529070</td>\n",
              "      <td>vipped</td>\n",
              "      <td>175000</td>\n",
              "      <td>Yeni tikili</td>\n",
              "      <td>7 / 7</td>\n",
              "      <td>117.0</td>\n",
              "      <td>3</td>\n",
              "      <td>var</td>\n",
              "      <td>Xəqani Rüstəmov küçəsi 6</td>\n",
              "      <td>Əhmədli m.; Xətai r.</td>\n",
              "      <td>40.381645</td>\n",
              "      <td>49.958450</td>\n",
              "      <td>mülkiyyətçi</td>\n",
              "      <td>376</td>\n",
              "      <td>25 Dekabr 2021</td>\n",
              "      <td>0</td>\n",
              "      <td>2022-01-03 11:36:55</td>\n",
              "      <td>0</td>\n",
              "      <td>0</td>\n",
              "      <td>0</td>\n",
              "      <td>1</td>\n",
              "      <td>0</td>\n",
              "      <td>1</td>\n",
              "      <td>7</td>\n",
              "      <td>7.0</td>\n",
              "      <td>100.0</td>\n",
              "      <td>1</td>\n",
              "      <td>40.380453</td>\n",
              "      <td>49.939698</td>\n",
              "    </tr>\n",
              "    <tr>\n",
              "      <th>4</th>\n",
              "      <td>2541267</td>\n",
              "      <td>0</td>\n",
              "      <td>104000</td>\n",
              "      <td>Yeni tikili</td>\n",
              "      <td>11 / 12</td>\n",
              "      <td>65.0</td>\n",
              "      <td>2</td>\n",
              "      <td>xeyr</td>\n",
              "      <td>S.S.Axundov küç.</td>\n",
              "      <td>Azadlıq Prospekti m.; Binəqədi r.; 8-ci mikror...</td>\n",
              "      <td>40.427056</td>\n",
              "      <td>49.844324</td>\n",
              "      <td>vasitəçi (agent)</td>\n",
              "      <td>28</td>\n",
              "      <td>Bugün 15:20</td>\n",
              "      <td>New House 20 Yanvar daşınmaz əmlak agentliyi</td>\n",
              "      <td>2022-01-03 11:36:55</td>\n",
              "      <td>0</td>\n",
              "      <td>0</td>\n",
              "      <td>0</td>\n",
              "      <td>0</td>\n",
              "      <td>0</td>\n",
              "      <td>1</td>\n",
              "      <td>11</td>\n",
              "      <td>12.0</td>\n",
              "      <td>92.0</td>\n",
              "      <td>0</td>\n",
              "      <td>40.423288</td>\n",
              "      <td>49.838120</td>\n",
              "    </tr>\n",
              "    <tr>\n",
              "      <th>...</th>\n",
              "      <td>...</td>\n",
              "      <td>...</td>\n",
              "      <td>...</td>\n",
              "      <td>...</td>\n",
              "      <td>...</td>\n",
              "      <td>...</td>\n",
              "      <td>...</td>\n",
              "      <td>...</td>\n",
              "      <td>...</td>\n",
              "      <td>...</td>\n",
              "      <td>...</td>\n",
              "      <td>...</td>\n",
              "      <td>...</td>\n",
              "      <td>...</td>\n",
              "      <td>...</td>\n",
              "      <td>...</td>\n",
              "      <td>...</td>\n",
              "      <td>...</td>\n",
              "      <td>...</td>\n",
              "      <td>...</td>\n",
              "      <td>...</td>\n",
              "      <td>...</td>\n",
              "      <td>...</td>\n",
              "      <td>...</td>\n",
              "      <td>...</td>\n",
              "      <td>...</td>\n",
              "      <td>...</td>\n",
              "      <td>...</td>\n",
              "      <td>...</td>\n",
              "    </tr>\n",
              "    <tr>\n",
              "      <th>18681</th>\n",
              "      <td>2549837</td>\n",
              "      <td>0</td>\n",
              "      <td>76000</td>\n",
              "      <td>Köhnə tikili</td>\n",
              "      <td>1 / 5</td>\n",
              "      <td>60.0</td>\n",
              "      <td>2</td>\n",
              "      <td>var</td>\n",
              "      <td>Elşən Süleymanov küç.</td>\n",
              "      <td>Xalqlar Dostluğu m.; Nizami r.; 8-ci kilometr q.</td>\n",
              "      <td>40.396238</td>\n",
              "      <td>49.958658</td>\n",
              "      <td>mülkiyyətçi</td>\n",
              "      <td>130</td>\n",
              "      <td>Dünən 16:20</td>\n",
              "      <td>0</td>\n",
              "      <td>2022-01-08 11:17:50</td>\n",
              "      <td>0</td>\n",
              "      <td>0</td>\n",
              "      <td>0</td>\n",
              "      <td>0</td>\n",
              "      <td>1</td>\n",
              "      <td>0</td>\n",
              "      <td>1</td>\n",
              "      <td>5.0</td>\n",
              "      <td>20.0</td>\n",
              "      <td>1</td>\n",
              "      <td>40.405938</td>\n",
              "      <td>49.945491</td>\n",
              "    </tr>\n",
              "    <tr>\n",
              "      <th>18682</th>\n",
              "      <td>2549836</td>\n",
              "      <td>0</td>\n",
              "      <td>63000</td>\n",
              "      <td>Köhnə tikili</td>\n",
              "      <td>5 / 9</td>\n",
              "      <td>40.0</td>\n",
              "      <td>2</td>\n",
              "      <td>xeyr</td>\n",
              "      <td>Cəmşid Naxçıvanski küç.</td>\n",
              "      <td>Xalqlar Dostluğu m.; Nizami r.; 8-ci kilometr q.</td>\n",
              "      <td>40.402667</td>\n",
              "      <td>49.958212</td>\n",
              "      <td>vasitəçi (agent)</td>\n",
              "      <td>321</td>\n",
              "      <td>Dünən 16:20</td>\n",
              "      <td>0</td>\n",
              "      <td>2022-01-08 11:17:50</td>\n",
              "      <td>0</td>\n",
              "      <td>0</td>\n",
              "      <td>0</td>\n",
              "      <td>0</td>\n",
              "      <td>1</td>\n",
              "      <td>0</td>\n",
              "      <td>5</td>\n",
              "      <td>9.0</td>\n",
              "      <td>56.0</td>\n",
              "      <td>0</td>\n",
              "      <td>40.405938</td>\n",
              "      <td>49.945491</td>\n",
              "    </tr>\n",
              "    <tr>\n",
              "      <th>18683</th>\n",
              "      <td>2549834</td>\n",
              "      <td>0</td>\n",
              "      <td>530000</td>\n",
              "      <td>Yeni tikili</td>\n",
              "      <td>4 / 17</td>\n",
              "      <td>162.0</td>\n",
              "      <td>3</td>\n",
              "      <td>xeyr</td>\n",
              "      <td>Qutqaşınlı küç.56</td>\n",
              "      <td>İncəsənət və Mədəniyyət Un. ; Hüseyn Cavid par...</td>\n",
              "      <td>40.375866</td>\n",
              "      <td>49.820146</td>\n",
              "      <td>vasitəçi (agent)</td>\n",
              "      <td>64</td>\n",
              "      <td>Dünən 16:20</td>\n",
              "      <td>VİP House daşınmaz əmlak agentliyi</td>\n",
              "      <td>2022-01-08 11:17:50</td>\n",
              "      <td>0</td>\n",
              "      <td>0</td>\n",
              "      <td>0</td>\n",
              "      <td>0</td>\n",
              "      <td>0</td>\n",
              "      <td>1</td>\n",
              "      <td>4</td>\n",
              "      <td>17.0</td>\n",
              "      <td>24.0</td>\n",
              "      <td>0</td>\n",
              "      <td>40.381254</td>\n",
              "      <td>49.810698</td>\n",
              "    </tr>\n",
              "    <tr>\n",
              "      <th>18684</th>\n",
              "      <td>1476679</td>\n",
              "      <td>0</td>\n",
              "      <td>230000</td>\n",
              "      <td>Yeni tikili</td>\n",
              "      <td>12 / 16</td>\n",
              "      <td>146.0</td>\n",
              "      <td>3</td>\n",
              "      <td>xeyr</td>\n",
              "      <td>A.Cümə küç. 83</td>\n",
              "      <td>Azərbaycan turizm institutu ; Respublika stadi...</td>\n",
              "      <td>40.399796</td>\n",
              "      <td>49.859174</td>\n",
              "      <td>vasitəçi (agent)</td>\n",
              "      <td>2927</td>\n",
              "      <td>Dünən 16:18</td>\n",
              "      <td>Yadigar Əmlak daşınmaz əmlak agentliyi</td>\n",
              "      <td>2022-01-08 11:17:50</td>\n",
              "      <td>0</td>\n",
              "      <td>0</td>\n",
              "      <td>0</td>\n",
              "      <td>0</td>\n",
              "      <td>0</td>\n",
              "      <td>1</td>\n",
              "      <td>12</td>\n",
              "      <td>16.0</td>\n",
              "      <td>75.0</td>\n",
              "      <td>0</td>\n",
              "      <td>40.401032</td>\n",
              "      <td>49.857534</td>\n",
              "    </tr>\n",
              "    <tr>\n",
              "      <th>18685</th>\n",
              "      <td>2549672</td>\n",
              "      <td>0</td>\n",
              "      <td>105000</td>\n",
              "      <td>Yeni tikili</td>\n",
              "      <td>7 / 16</td>\n",
              "      <td>60.0</td>\n",
              "      <td>2</td>\n",
              "      <td>var</td>\n",
              "      <td>Naxçıvanski k.</td>\n",
              "      <td>Nizami r.</td>\n",
              "      <td>40.407804</td>\n",
              "      <td>49.957138</td>\n",
              "      <td>vasitəçi (agent)</td>\n",
              "      <td>82</td>\n",
              "      <td>Dünən 22:17</td>\n",
              "      <td>New Life daşınmaz əmlak agentliyi</td>\n",
              "      <td>2022-01-08 11:17:50</td>\n",
              "      <td>0</td>\n",
              "      <td>0</td>\n",
              "      <td>0</td>\n",
              "      <td>0</td>\n",
              "      <td>0</td>\n",
              "      <td>1</td>\n",
              "      <td>7</td>\n",
              "      <td>16.0</td>\n",
              "      <td>44.0</td>\n",
              "      <td>1</td>\n",
              "      <td>40.410069</td>\n",
              "      <td>49.940527</td>\n",
              "    </tr>\n",
              "  </tbody>\n",
              "</table>\n",
              "<p>18685 rows × 29 columns</p>\n",
              "</div>\n",
              "      <button class=\"colab-df-convert\" onclick=\"convertToInteractive('df-04261426-c6cc-43d5-bd29-5cb606a4e850')\"\n",
              "              title=\"Convert this dataframe to an interactive table.\"\n",
              "              style=\"display:none;\">\n",
              "        \n",
              "  <svg xmlns=\"http://www.w3.org/2000/svg\" height=\"24px\"viewBox=\"0 0 24 24\"\n",
              "       width=\"24px\">\n",
              "    <path d=\"M0 0h24v24H0V0z\" fill=\"none\"/>\n",
              "    <path d=\"M18.56 5.44l.94 2.06.94-2.06 2.06-.94-2.06-.94-.94-2.06-.94 2.06-2.06.94zm-11 1L8.5 8.5l.94-2.06 2.06-.94-2.06-.94L8.5 2.5l-.94 2.06-2.06.94zm10 10l.94 2.06.94-2.06 2.06-.94-2.06-.94-.94-2.06-.94 2.06-2.06.94z\"/><path d=\"M17.41 7.96l-1.37-1.37c-.4-.4-.92-.59-1.43-.59-.52 0-1.04.2-1.43.59L10.3 9.45l-7.72 7.72c-.78.78-.78 2.05 0 2.83L4 21.41c.39.39.9.59 1.41.59.51 0 1.02-.2 1.41-.59l7.78-7.78 2.81-2.81c.8-.78.8-2.07 0-2.86zM5.41 20L4 18.59l7.72-7.72 1.47 1.35L5.41 20z\"/>\n",
              "  </svg>\n",
              "      </button>\n",
              "      \n",
              "  <style>\n",
              "    .colab-df-container {\n",
              "      display:flex;\n",
              "      flex-wrap:wrap;\n",
              "      gap: 12px;\n",
              "    }\n",
              "\n",
              "    .colab-df-convert {\n",
              "      background-color: #E8F0FE;\n",
              "      border: none;\n",
              "      border-radius: 50%;\n",
              "      cursor: pointer;\n",
              "      display: none;\n",
              "      fill: #1967D2;\n",
              "      height: 32px;\n",
              "      padding: 0 0 0 0;\n",
              "      width: 32px;\n",
              "    }\n",
              "\n",
              "    .colab-df-convert:hover {\n",
              "      background-color: #E2EBFA;\n",
              "      box-shadow: 0px 1px 2px rgba(60, 64, 67, 0.3), 0px 1px 3px 1px rgba(60, 64, 67, 0.15);\n",
              "      fill: #174EA6;\n",
              "    }\n",
              "\n",
              "    [theme=dark] .colab-df-convert {\n",
              "      background-color: #3B4455;\n",
              "      fill: #D2E3FC;\n",
              "    }\n",
              "\n",
              "    [theme=dark] .colab-df-convert:hover {\n",
              "      background-color: #434B5C;\n",
              "      box-shadow: 0px 1px 3px 1px rgba(0, 0, 0, 0.15);\n",
              "      filter: drop-shadow(0px 1px 2px rgba(0, 0, 0, 0.3));\n",
              "      fill: #FFFFFF;\n",
              "    }\n",
              "  </style>\n",
              "\n",
              "      <script>\n",
              "        const buttonEl =\n",
              "          document.querySelector('#df-04261426-c6cc-43d5-bd29-5cb606a4e850 button.colab-df-convert');\n",
              "        buttonEl.style.display =\n",
              "          google.colab.kernel.accessAllowed ? 'block' : 'none';\n",
              "\n",
              "        async function convertToInteractive(key) {\n",
              "          const element = document.querySelector('#df-04261426-c6cc-43d5-bd29-5cb606a4e850');\n",
              "          const dataTable =\n",
              "            await google.colab.kernel.invokeFunction('convertToInteractive',\n",
              "                                                     [key], {});\n",
              "          if (!dataTable) return;\n",
              "\n",
              "          const docLinkHtml = 'Like what you see? Visit the ' +\n",
              "            '<a target=\"_blank\" href=https://colab.research.google.com/notebooks/data_table.ipynb>data table notebook</a>'\n",
              "            + ' to learn more about interactive tables.';\n",
              "          element.innerHTML = '';\n",
              "          dataTable['output_type'] = 'display_data';\n",
              "          await google.colab.output.renderOutput(dataTable, element);\n",
              "          const docLink = document.createElement('div');\n",
              "          docLink.innerHTML = docLinkHtml;\n",
              "          element.appendChild(docLink);\n",
              "        }\n",
              "      </script>\n",
              "    </div>\n",
              "  </div>\n",
              "  "
            ],
            "text/plain": [
              "           ids vipped_featured  ...  final_latitude final_longitude\n",
              "0      2348807  featuredvipped  ...       40.380489       50.032700\n",
              "1      1710054          vipped  ...       40.380310       49.897551\n",
              "2      2524899          vipped  ...       40.395985       49.830862\n",
              "3      2529070          vipped  ...       40.380453       49.939698\n",
              "4      2541267               0  ...       40.423288       49.838120\n",
              "...        ...             ...  ...             ...             ...\n",
              "18681  2549837               0  ...       40.405938       49.945491\n",
              "18682  2549836               0  ...       40.405938       49.945491\n",
              "18683  2549834               0  ...       40.381254       49.810698\n",
              "18684  1476679               0  ...       40.401032       49.857534\n",
              "18685  2549672               0  ...       40.410069       49.940527\n",
              "\n",
              "[18685 rows x 29 columns]"
            ]
          },
          "metadata": {},
          "execution_count": 172
        }
      ]
    },
    {
      "cell_type": "code",
      "source": [
        "df.shape"
      ],
      "metadata": {
        "colab": {
          "base_uri": "https://localhost:8080/"
        },
        "id": "fQWmTeSeBSdh",
        "outputId": "98c3a49f-d0a1-4d9a-aa12-88f64853236c"
      },
      "execution_count": 174,
      "outputs": [
        {
          "output_type": "execute_result",
          "data": {
            "text/plain": [
              "(18685, 29)"
            ]
          },
          "metadata": {},
          "execution_count": 174
        }
      ]
    },
    {
      "cell_type": "code",
      "source": [
        "df[['district','latitudes', 'longitudes', 'final_latitude', 'final_longitude']]"
      ],
      "metadata": {
        "colab": {
          "base_uri": "https://localhost:8080/",
          "height": 424
        },
        "id": "SMdiq7ZZA1fv",
        "outputId": "300d09a7-972a-4e1a-f66b-da5e3b898556"
      },
      "execution_count": 178,
      "outputs": [
        {
          "output_type": "execute_result",
          "data": {
            "text/html": [
              "\n",
              "  <div id=\"df-f4382225-1baa-4c95-8853-8304b31a7870\">\n",
              "    <div class=\"colab-df-container\">\n",
              "      <div>\n",
              "<style scoped>\n",
              "    .dataframe tbody tr th:only-of-type {\n",
              "        vertical-align: middle;\n",
              "    }\n",
              "\n",
              "    .dataframe tbody tr th {\n",
              "        vertical-align: top;\n",
              "    }\n",
              "\n",
              "    .dataframe thead th {\n",
              "        text-align: right;\n",
              "    }\n",
              "</style>\n",
              "<table border=\"1\" class=\"dataframe\">\n",
              "  <thead>\n",
              "    <tr style=\"text-align: right;\">\n",
              "      <th></th>\n",
              "      <th>district</th>\n",
              "      <th>latitudes</th>\n",
              "      <th>longitudes</th>\n",
              "      <th>final_latitude</th>\n",
              "      <th>final_longitude</th>\n",
              "    </tr>\n",
              "  </thead>\n",
              "  <tbody>\n",
              "    <tr>\n",
              "      <th>0</th>\n",
              "      <td>Suraxanı r.; Hövsan q.</td>\n",
              "      <td>40.355821</td>\n",
              "      <td>50.063575</td>\n",
              "      <td>40.380489</td>\n",
              "      <td>50.032700</td>\n",
              "    </tr>\n",
              "    <tr>\n",
              "      <th>1</th>\n",
              "      <td>Şah İsmayıl Xətai m.; Xətai r.</td>\n",
              "      <td>40.378917</td>\n",
              "      <td>49.875682</td>\n",
              "      <td>40.380310</td>\n",
              "      <td>49.897551</td>\n",
              "    </tr>\n",
              "    <tr>\n",
              "      <th>2</th>\n",
              "      <td>ASAN Xidmət №1 ; TQDK ; Neftçi bazası ; Nəsimi r.</td>\n",
              "      <td>40.398415</td>\n",
              "      <td>49.839203</td>\n",
              "      <td>40.395985</td>\n",
              "      <td>49.830862</td>\n",
              "    </tr>\n",
              "    <tr>\n",
              "      <th>3</th>\n",
              "      <td>Əhmədli m.; Xətai r.</td>\n",
              "      <td>40.381645</td>\n",
              "      <td>49.958450</td>\n",
              "      <td>40.380453</td>\n",
              "      <td>49.939698</td>\n",
              "    </tr>\n",
              "    <tr>\n",
              "      <th>4</th>\n",
              "      <td>Azadlıq Prospekti m.; Binəqədi r.; 8-ci mikror...</td>\n",
              "      <td>40.427056</td>\n",
              "      <td>49.844324</td>\n",
              "      <td>40.423288</td>\n",
              "      <td>49.838120</td>\n",
              "    </tr>\n",
              "    <tr>\n",
              "      <th>...</th>\n",
              "      <td>...</td>\n",
              "      <td>...</td>\n",
              "      <td>...</td>\n",
              "      <td>...</td>\n",
              "      <td>...</td>\n",
              "    </tr>\n",
              "    <tr>\n",
              "      <th>18681</th>\n",
              "      <td>Xalqlar Dostluğu m.; Nizami r.; 8-ci kilometr q.</td>\n",
              "      <td>40.396238</td>\n",
              "      <td>49.958658</td>\n",
              "      <td>40.405938</td>\n",
              "      <td>49.945491</td>\n",
              "    </tr>\n",
              "    <tr>\n",
              "      <th>18682</th>\n",
              "      <td>Xalqlar Dostluğu m.; Nizami r.; 8-ci kilometr q.</td>\n",
              "      <td>40.402667</td>\n",
              "      <td>49.958212</td>\n",
              "      <td>40.405938</td>\n",
              "      <td>49.945491</td>\n",
              "    </tr>\n",
              "    <tr>\n",
              "      <th>18683</th>\n",
              "      <td>İncəsənət və Mədəniyyət Un. ; Hüseyn Cavid par...</td>\n",
              "      <td>40.375866</td>\n",
              "      <td>49.820146</td>\n",
              "      <td>40.381254</td>\n",
              "      <td>49.810698</td>\n",
              "    </tr>\n",
              "    <tr>\n",
              "      <th>18684</th>\n",
              "      <td>Azərbaycan turizm institutu ; Respublika stadi...</td>\n",
              "      <td>40.399796</td>\n",
              "      <td>49.859174</td>\n",
              "      <td>40.401032</td>\n",
              "      <td>49.857534</td>\n",
              "    </tr>\n",
              "    <tr>\n",
              "      <th>18685</th>\n",
              "      <td>Nizami r.</td>\n",
              "      <td>40.407804</td>\n",
              "      <td>49.957138</td>\n",
              "      <td>40.410069</td>\n",
              "      <td>49.940527</td>\n",
              "    </tr>\n",
              "  </tbody>\n",
              "</table>\n",
              "<p>18685 rows × 5 columns</p>\n",
              "</div>\n",
              "      <button class=\"colab-df-convert\" onclick=\"convertToInteractive('df-f4382225-1baa-4c95-8853-8304b31a7870')\"\n",
              "              title=\"Convert this dataframe to an interactive table.\"\n",
              "              style=\"display:none;\">\n",
              "        \n",
              "  <svg xmlns=\"http://www.w3.org/2000/svg\" height=\"24px\"viewBox=\"0 0 24 24\"\n",
              "       width=\"24px\">\n",
              "    <path d=\"M0 0h24v24H0V0z\" fill=\"none\"/>\n",
              "    <path d=\"M18.56 5.44l.94 2.06.94-2.06 2.06-.94-2.06-.94-.94-2.06-.94 2.06-2.06.94zm-11 1L8.5 8.5l.94-2.06 2.06-.94-2.06-.94L8.5 2.5l-.94 2.06-2.06.94zm10 10l.94 2.06.94-2.06 2.06-.94-2.06-.94-.94-2.06-.94 2.06-2.06.94z\"/><path d=\"M17.41 7.96l-1.37-1.37c-.4-.4-.92-.59-1.43-.59-.52 0-1.04.2-1.43.59L10.3 9.45l-7.72 7.72c-.78.78-.78 2.05 0 2.83L4 21.41c.39.39.9.59 1.41.59.51 0 1.02-.2 1.41-.59l7.78-7.78 2.81-2.81c.8-.78.8-2.07 0-2.86zM5.41 20L4 18.59l7.72-7.72 1.47 1.35L5.41 20z\"/>\n",
              "  </svg>\n",
              "      </button>\n",
              "      \n",
              "  <style>\n",
              "    .colab-df-container {\n",
              "      display:flex;\n",
              "      flex-wrap:wrap;\n",
              "      gap: 12px;\n",
              "    }\n",
              "\n",
              "    .colab-df-convert {\n",
              "      background-color: #E8F0FE;\n",
              "      border: none;\n",
              "      border-radius: 50%;\n",
              "      cursor: pointer;\n",
              "      display: none;\n",
              "      fill: #1967D2;\n",
              "      height: 32px;\n",
              "      padding: 0 0 0 0;\n",
              "      width: 32px;\n",
              "    }\n",
              "\n",
              "    .colab-df-convert:hover {\n",
              "      background-color: #E2EBFA;\n",
              "      box-shadow: 0px 1px 2px rgba(60, 64, 67, 0.3), 0px 1px 3px 1px rgba(60, 64, 67, 0.15);\n",
              "      fill: #174EA6;\n",
              "    }\n",
              "\n",
              "    [theme=dark] .colab-df-convert {\n",
              "      background-color: #3B4455;\n",
              "      fill: #D2E3FC;\n",
              "    }\n",
              "\n",
              "    [theme=dark] .colab-df-convert:hover {\n",
              "      background-color: #434B5C;\n",
              "      box-shadow: 0px 1px 3px 1px rgba(0, 0, 0, 0.15);\n",
              "      filter: drop-shadow(0px 1px 2px rgba(0, 0, 0, 0.3));\n",
              "      fill: #FFFFFF;\n",
              "    }\n",
              "  </style>\n",
              "\n",
              "      <script>\n",
              "        const buttonEl =\n",
              "          document.querySelector('#df-f4382225-1baa-4c95-8853-8304b31a7870 button.colab-df-convert');\n",
              "        buttonEl.style.display =\n",
              "          google.colab.kernel.accessAllowed ? 'block' : 'none';\n",
              "\n",
              "        async function convertToInteractive(key) {\n",
              "          const element = document.querySelector('#df-f4382225-1baa-4c95-8853-8304b31a7870');\n",
              "          const dataTable =\n",
              "            await google.colab.kernel.invokeFunction('convertToInteractive',\n",
              "                                                     [key], {});\n",
              "          if (!dataTable) return;\n",
              "\n",
              "          const docLinkHtml = 'Like what you see? Visit the ' +\n",
              "            '<a target=\"_blank\" href=https://colab.research.google.com/notebooks/data_table.ipynb>data table notebook</a>'\n",
              "            + ' to learn more about interactive tables.';\n",
              "          element.innerHTML = '';\n",
              "          dataTable['output_type'] = 'display_data';\n",
              "          await google.colab.output.renderOutput(dataTable, element);\n",
              "          const docLink = document.createElement('div');\n",
              "          docLink.innerHTML = docLinkHtml;\n",
              "          element.appendChild(docLink);\n",
              "        }\n",
              "      </script>\n",
              "    </div>\n",
              "  </div>\n",
              "  "
            ],
            "text/plain": [
              "                                                district  ...  final_longitude\n",
              "0                                 Suraxanı r.; Hövsan q.  ...        50.032700\n",
              "1                         Şah İsmayıl Xətai m.; Xətai r.  ...        49.897551\n",
              "2      ASAN Xidmət №1 ; TQDK ; Neftçi bazası ; Nəsimi r.  ...        49.830862\n",
              "3                                   Əhmədli m.; Xətai r.  ...        49.939698\n",
              "4      Azadlıq Prospekti m.; Binəqədi r.; 8-ci mikror...  ...        49.838120\n",
              "...                                                  ...  ...              ...\n",
              "18681   Xalqlar Dostluğu m.; Nizami r.; 8-ci kilometr q.  ...        49.945491\n",
              "18682   Xalqlar Dostluğu m.; Nizami r.; 8-ci kilometr q.  ...        49.945491\n",
              "18683  İncəsənət və Mədəniyyət Un. ; Hüseyn Cavid par...  ...        49.810698\n",
              "18684  Azərbaycan turizm institutu ; Respublika stadi...  ...        49.857534\n",
              "18685                                          Nizami r.  ...        49.940527\n",
              "\n",
              "[18685 rows x 5 columns]"
            ]
          },
          "metadata": {},
          "execution_count": 178
        }
      ]
    },
    {
      "cell_type": "code",
      "source": [
        "df.columns.values"
      ],
      "metadata": {
        "colab": {
          "base_uri": "https://localhost:8080/"
        },
        "id": "uP39wr3CBEhj",
        "outputId": "4e391f1d-c141-458a-940b-ccc0acfc8d03"
      },
      "execution_count": 180,
      "outputs": [
        {
          "output_type": "execute_result",
          "data": {
            "text/plain": [
              "array(['ids', 'vipped_featured', 'prices', 'categories', 'floors',\n",
              "       'areas_m2', 'rooms', 'credits', 'address', 'district', 'latitudes',\n",
              "       'longitudes', 'ownerships', 'watches', 'ad_refreshed_date',\n",
              "       'agency_titles', 'date_of_parsing', 'deal_ended',\n",
              "       'ad_type_featured', 'ad_type_featuredvipped', 'ad_type_vipped',\n",
              "       'Köhnə tikili', 'Yeni tikili', 'apartment_floor',\n",
              "       'buildings_floor', 'percent_of_building_height', 'Credit_var',\n",
              "       'final_latitude', 'final_longitude'], dtype=object)"
            ]
          },
          "metadata": {},
          "execution_count": 180
        }
      ]
    },
    {
      "cell_type": "markdown",
      "source": [
        "### Ownership"
      ],
      "metadata": {
        "id": "9gGLqhgzCwop"
      }
    },
    {
      "cell_type": "code",
      "source": [
        "df['ownerships'].value_counts()"
      ],
      "metadata": {
        "colab": {
          "base_uri": "https://localhost:8080/"
        },
        "id": "HXjT5T7iKS1W",
        "outputId": "76e16fa4-3895-4aa1-f2e4-bc121641822f"
      },
      "execution_count": 183,
      "outputs": [
        {
          "output_type": "execute_result",
          "data": {
            "text/plain": [
              "vasitəçi (agent)    16432\n",
              "mülkiyyətçi          2243\n",
              "0                      10\n",
              "Name: ownerships, dtype: int64"
            ]
          },
          "metadata": {},
          "execution_count": 183
        }
      ]
    },
    {
      "cell_type": "code",
      "source": [
        "df = df[df['ownerships'] != '0']"
      ],
      "metadata": {
        "id": "2AcWghzbKVRe"
      },
      "execution_count": 185,
      "outputs": []
    },
    {
      "cell_type": "code",
      "source": [
        "df['ownerships'].value_counts()"
      ],
      "metadata": {
        "colab": {
          "base_uri": "https://localhost:8080/"
        },
        "id": "Bg7S835cKcHN",
        "outputId": "ba0a4e07-8a21-4000-888a-4394540f8f32"
      },
      "execution_count": 187,
      "outputs": [
        {
          "output_type": "execute_result",
          "data": {
            "text/plain": [
              "vasitəçi (agent)    16432\n",
              "mülkiyyətçi          2243\n",
              "Name: ownerships, dtype: int64"
            ]
          },
          "metadata": {},
          "execution_count": 187
        }
      ]
    },
    {
      "cell_type": "code",
      "source": [
        "self_owner  = pd.get_dummies(df['ownerships'])[\"mülkiyyətçi\"]"
      ],
      "metadata": {
        "id": "umoGo0THUWn0"
      },
      "execution_count": 189,
      "outputs": []
    },
    {
      "cell_type": "code",
      "source": [
        "df = pd.concat([df, self_owner], axis=1)"
      ],
      "metadata": {
        "id": "g8qe-8jjUj9V"
      },
      "execution_count": 191,
      "outputs": []
    },
    {
      "cell_type": "markdown",
      "source": [
        "### Agency titles"
      ],
      "metadata": {
        "id": "y9268ZJgU5LF"
      }
    },
    {
      "cell_type": "code",
      "source": [
        "temp = df['agency_titles'].value_counts().reset_index()"
      ],
      "metadata": {
        "id": "rOD5mKoQU-Hg"
      },
      "execution_count": 197,
      "outputs": []
    },
    {
      "cell_type": "code",
      "source": [
        "plt.figure(dpi=100)\n",
        "sns.distplot(temp[temp['agency_titles']>100].iloc[1:]['agency_titles'])"
      ],
      "metadata": {
        "colab": {
          "base_uri": "https://localhost:8080/",
          "height": 454
        },
        "id": "YVhWDzTuV1LW",
        "outputId": "411c2281-d00b-422f-e275-efaabb4db4ed"
      },
      "execution_count": 205,
      "outputs": [
        {
          "output_type": "stream",
          "name": "stderr",
          "text": [
            "/usr/local/lib/python3.7/dist-packages/seaborn/distributions.py:2619: FutureWarning: `distplot` is a deprecated function and will be removed in a future version. Please adapt your code to use either `displot` (a figure-level function with similar flexibility) or `histplot` (an axes-level function for histograms).\n",
            "  warnings.warn(msg, FutureWarning)\n"
          ]
        },
        {
          "output_type": "execute_result",
          "data": {
            "text/plain": [
              "<matplotlib.axes._subplots.AxesSubplot at 0x7f52a4e6a1d0>"
            ]
          },
          "metadata": {},
          "execution_count": 205
        },
        {
          "output_type": "display_data",
          "data": {
            "image/png": "[encoded data removed]",
            "text/plain": [
              "<Figure size 600x400 with 1 Axes>"
            ]
          },
          "metadata": {
            "needs_background": "light"
          }
        }
      ]
    },
    {
      "cell_type": "code",
      "source": [
        "top_agencies = ['New House 28 May daşınmaz əmlak agentliyi',\n",
        "       'New House 20 Yanvar daşınmaz əmlak agentliyi',\n",
        "       'Real Əmlak Yeni Yasamal daşınmaz əmlak agentliyi',\n",
        "       'Real Əmlak Bakı  daşınmaz əmlak agentliyi',\n",
        "       'Garant Əmlak daşınmaz əmlak agentliyi',\n",
        "       'Real Əmlak Həzi Aslanov daşınmaz əmlak agentliyi',\n",
        "       'New House Gənclik daşınmaz əmlak agentliyi',\n",
        "       'New House Elmlər daşınmaz əmlak agentliyi',\n",
        "       'Real Əmlak Gənclik daşınmaz əmlak agentliyi',\n",
        "       'New House Mətbuat daşınmaz əmlak agentliyi',\n",
        "       'YeniPark daşınmaz əmlak agentliyi',\n",
        "       'Rich Estate Baku daşınmaz əmlak agentliyi',\n",
        "       'Elmlər Əmlak daşınmaz əmlak agentliyi',\n",
        "       'Dostluq Əmlak daşınmaz əmlak agentliyi',\n",
        "       'Qarayev Əmlak daşınmaz əmlak agentliyi',\n",
        "       'Avalon daşınmaz əmlak agentliyi',\n",
        "       'New Life daşınmaz əmlak agentliyi',\n",
        "       'Nərimanov Əmlak daşınmaz əmlak agentliyi',\n",
        "       'Real Əmlak Parlament daşınmaz əmlak agentliyi',\n",
        "       'Əcəmi Əmlak daşınmaz əmlak agentliyi',\n",
        "       'Azadlıq Əmlak daşınmaz əmlak agentliyi',\n",
        "       'Qarabağ Əmlak daşınmaz əmlak agentliyi',\n",
        "       'Az House daşınmaz əmlak agentliyi',\n",
        "       'Caspian daşınmaz əmlak agentliyi',\n",
        "       'VİP House daşınmaz əmlak agentliyi',\n",
        "       'City M House daşınmaz əmlak agentliyi',\n",
        "       'Baku Realtor daşınmaz əmlak agentliyi',\n",
        "       'Real Əmlak Nizami  daşınmaz əmlak agentliyi',\n",
        "       'Hemax daşınmaz əmlak agentliyi',\n",
        "       'Baku House daşınmaz əmlak agentliyi',\n",
        "       'Zirvə RA Əmlak daşınmaz əmlak agentliyi',\n",
        "       'Rahat Ev daşınmaz əmlak agentliyi',\n",
        "       'News Service daşınmaz əmlak agentliyi']"
      ],
      "metadata": {
        "id": "fzLJSmdtWHii"
      },
      "execution_count": 208,
      "outputs": []
    },
    {
      "cell_type": "code",
      "source": [
        "len(df['agency_titles'].unique()) # we could create dummies"
      ],
      "metadata": {
        "colab": {
          "base_uri": "https://localhost:8080/"
        },
        "id": "6sQyTdJQVJR4",
        "outputId": "bfba4cc0-1c50-4638-c274-9c9eeb27394a"
      },
      "execution_count": 195,
      "outputs": [
        {
          "output_type": "execute_result",
          "data": {
            "text/plain": [
              "131"
            ]
          },
          "metadata": {},
          "execution_count": 195
        }
      ]
    },
    {
      "cell_type": "code",
      "source": [
        "df['agency_top_100'] = df['agency_titles'].apply(lambda x: x if x in top_agencies else 0)"
      ],
      "metadata": {
        "id": "sojiPLVOVS9x"
      },
      "execution_count": 209,
      "outputs": []
    },
    {
      "cell_type": "code",
      "source": [
        "df_agencies = pd.get_dummies(df['agency_top_100'], prefix='Has more 100 houses', prefix_sep=\":\")"
      ],
      "metadata": {
        "id": "eu-mX6N1W61Z"
      },
      "execution_count": 213,
      "outputs": []
    },
    {
      "cell_type": "code",
      "source": [
        "df_agencies.head()"
      ],
      "metadata": {
        "colab": {
          "base_uri": "https://localhost:8080/",
          "height": 392
        },
        "id": "chEbDp14XGZP",
        "outputId": "73f4ac7b-22ca-46c7-8956-d9d30b0c4e10"
      },
      "execution_count": 214,
      "outputs": [
        {
          "output_type": "execute_result",
          "data": {
            "text/html": [
              "\n",
              "  <div id=\"df-94e63011-945c-448d-b2be-2efab07b2aa5\">\n",
              "    <div class=\"colab-df-container\">\n",
              "      <div>\n",
              "<style scoped>\n",
              "    .dataframe tbody tr th:only-of-type {\n",
              "        vertical-align: middle;\n",
              "    }\n",
              "\n",
              "    .dataframe tbody tr th {\n",
              "        vertical-align: top;\n",
              "    }\n",
              "\n",
              "    .dataframe thead th {\n",
              "        text-align: right;\n",
              "    }\n",
              "</style>\n",
              "<table border=\"1\" class=\"dataframe\">\n",
              "  <thead>\n",
              "    <tr style=\"text-align: right;\">\n",
              "      <th></th>\n",
              "      <th>Has more 100 houses:0</th>\n",
              "      <th>Has more 100 houses:Avalon daşınmaz əmlak agentliyi</th>\n",
              "      <th>Has more 100 houses:Az House daşınmaz əmlak agentliyi</th>\n",
              "      <th>Has more 100 houses:Azadlıq Əmlak daşınmaz əmlak agentliyi</th>\n",
              "      <th>Has more 100 houses:Baku House daşınmaz əmlak agentliyi</th>\n",
              "      <th>Has more 100 houses:Baku Realtor daşınmaz əmlak agentliyi</th>\n",
              "      <th>Has more 100 houses:Caspian daşınmaz əmlak agentliyi</th>\n",
              "      <th>Has more 100 houses:City M House daşınmaz əmlak agentliyi</th>\n",
              "      <th>Has more 100 houses:Dostluq Əmlak daşınmaz əmlak agentliyi</th>\n",
              "      <th>Has more 100 houses:Elmlər Əmlak daşınmaz əmlak agentliyi</th>\n",
              "      <th>Has more 100 houses:Garant Əmlak daşınmaz əmlak agentliyi</th>\n",
              "      <th>Has more 100 houses:Hemax daşınmaz əmlak agentliyi</th>\n",
              "      <th>Has more 100 houses:New House 20 Yanvar daşınmaz əmlak agentliyi</th>\n",
              "      <th>Has more 100 houses:New House 28 May daşınmaz əmlak agentliyi</th>\n",
              "      <th>Has more 100 houses:New House Elmlər daşınmaz əmlak agentliyi</th>\n",
              "      <th>Has more 100 houses:New House Gənclik daşınmaz əmlak agentliyi</th>\n",
              "      <th>Has more 100 houses:New House Mətbuat daşınmaz əmlak agentliyi</th>\n",
              "      <th>Has more 100 houses:New Life daşınmaz əmlak agentliyi</th>\n",
              "      <th>Has more 100 houses:News Service daşınmaz əmlak agentliyi</th>\n",
              "      <th>Has more 100 houses:Nərimanov Əmlak daşınmaz əmlak agentliyi</th>\n",
              "      <th>Has more 100 houses:Qarabağ Əmlak daşınmaz əmlak agentliyi</th>\n",
              "      <th>Has more 100 houses:Qarayev Əmlak daşınmaz əmlak agentliyi</th>\n",
              "      <th>Has more 100 houses:Rahat Ev daşınmaz əmlak agentliyi</th>\n",
              "      <th>Has more 100 houses:Real Əmlak Bakı  daşınmaz əmlak agentliyi</th>\n",
              "      <th>Has more 100 houses:Real Əmlak Gənclik daşınmaz əmlak agentliyi</th>\n",
              "      <th>Has more 100 houses:Real Əmlak Həzi Aslanov daşınmaz əmlak agentliyi</th>\n",
              "      <th>Has more 100 houses:Real Əmlak Nizami  daşınmaz əmlak agentliyi</th>\n",
              "      <th>Has more 100 houses:Real Əmlak Parlament daşınmaz əmlak agentliyi</th>\n",
              "      <th>Has more 100 houses:Real Əmlak Yeni Yasamal daşınmaz əmlak agentliyi</th>\n",
              "      <th>Has more 100 houses:Rich Estate Baku daşınmaz əmlak agentliyi</th>\n",
              "      <th>Has more 100 houses:VİP House daşınmaz əmlak agentliyi</th>\n",
              "      <th>Has more 100 houses:YeniPark daşınmaz əmlak agentliyi</th>\n",
              "      <th>Has more 100 houses:Zirvə RA Əmlak daşınmaz əmlak agentliyi</th>\n",
              "      <th>Has more 100 houses:Əcəmi Əmlak daşınmaz əmlak agentliyi</th>\n",
              "    </tr>\n",
              "  </thead>\n",
              "  <tbody>\n",
              "    <tr>\n",
              "      <th>0</th>\n",
              "      <td>1</td>\n",
              "      <td>0</td>\n",
              "      <td>0</td>\n",
              "      <td>0</td>\n",
              "      <td>0</td>\n",
              "      <td>0</td>\n",
              "      <td>0</td>\n",
              "      <td>0</td>\n",
              "      <td>0</td>\n",
              "      <td>0</td>\n",
              "      <td>0</td>\n",
              "      <td>0</td>\n",
              "      <td>0</td>\n",
              "      <td>0</td>\n",
              "      <td>0</td>\n",
              "      <td>0</td>\n",
              "      <td>0</td>\n",
              "      <td>0</td>\n",
              "      <td>0</td>\n",
              "      <td>0</td>\n",
              "      <td>0</td>\n",
              "      <td>0</td>\n",
              "      <td>0</td>\n",
              "      <td>0</td>\n",
              "      <td>0</td>\n",
              "      <td>0</td>\n",
              "      <td>0</td>\n",
              "      <td>0</td>\n",
              "      <td>0</td>\n",
              "      <td>0</td>\n",
              "      <td>0</td>\n",
              "      <td>0</td>\n",
              "      <td>0</td>\n",
              "      <td>0</td>\n",
              "    </tr>\n",
              "    <tr>\n",
              "      <th>1</th>\n",
              "      <td>1</td>\n",
              "      <td>0</td>\n",
              "      <td>0</td>\n",
              "      <td>0</td>\n",
              "      <td>0</td>\n",
              "      <td>0</td>\n",
              "      <td>0</td>\n",
              "      <td>0</td>\n",
              "      <td>0</td>\n",
              "      <td>0</td>\n",
              "      <td>0</td>\n",
              "      <td>0</td>\n",
              "      <td>0</td>\n",
              "      <td>0</td>\n",
              "      <td>0</td>\n",
              "      <td>0</td>\n",
              "      <td>0</td>\n",
              "      <td>0</td>\n",
              "      <td>0</td>\n",
              "      <td>0</td>\n",
              "      <td>0</td>\n",
              "      <td>0</td>\n",
              "      <td>0</td>\n",
              "      <td>0</td>\n",
              "      <td>0</td>\n",
              "      <td>0</td>\n",
              "      <td>0</td>\n",
              "      <td>0</td>\n",
              "      <td>0</td>\n",
              "      <td>0</td>\n",
              "      <td>0</td>\n",
              "      <td>0</td>\n",
              "      <td>0</td>\n",
              "      <td>0</td>\n",
              "    </tr>\n",
              "    <tr>\n",
              "      <th>2</th>\n",
              "      <td>1</td>\n",
              "      <td>0</td>\n",
              "      <td>0</td>\n",
              "      <td>0</td>\n",
              "      <td>0</td>\n",
              "      <td>0</td>\n",
              "      <td>0</td>\n",
              "      <td>0</td>\n",
              "      <td>0</td>\n",
              "      <td>0</td>\n",
              "      <td>0</td>\n",
              "      <td>0</td>\n",
              "      <td>0</td>\n",
              "      <td>0</td>\n",
              "      <td>0</td>\n",
              "      <td>0</td>\n",
              "      <td>0</td>\n",
              "      <td>0</td>\n",
              "      <td>0</td>\n",
              "      <td>0</td>\n",
              "      <td>0</td>\n",
              "      <td>0</td>\n",
              "      <td>0</td>\n",
              "      <td>0</td>\n",
              "      <td>0</td>\n",
              "      <td>0</td>\n",
              "      <td>0</td>\n",
              "      <td>0</td>\n",
              "      <td>0</td>\n",
              "      <td>0</td>\n",
              "      <td>0</td>\n",
              "      <td>0</td>\n",
              "      <td>0</td>\n",
              "      <td>0</td>\n",
              "    </tr>\n",
              "    <tr>\n",
              "      <th>3</th>\n",
              "      <td>1</td>\n",
              "      <td>0</td>\n",
              "      <td>0</td>\n",
              "      <td>0</td>\n",
              "      <td>0</td>\n",
              "      <td>0</td>\n",
              "      <td>0</td>\n",
              "      <td>0</td>\n",
              "      <td>0</td>\n",
              "      <td>0</td>\n",
              "      <td>0</td>\n",
              "      <td>0</td>\n",
              "      <td>0</td>\n",
              "      <td>0</td>\n",
              "      <td>0</td>\n",
              "      <td>0</td>\n",
              "      <td>0</td>\n",
              "      <td>0</td>\n",
              "      <td>0</td>\n",
              "      <td>0</td>\n",
              "      <td>0</td>\n",
              "      <td>0</td>\n",
              "      <td>0</td>\n",
              "      <td>0</td>\n",
              "      <td>0</td>\n",
              "      <td>0</td>\n",
              "      <td>0</td>\n",
              "      <td>0</td>\n",
              "      <td>0</td>\n",
              "      <td>0</td>\n",
              "      <td>0</td>\n",
              "      <td>0</td>\n",
              "      <td>0</td>\n",
              "      <td>0</td>\n",
              "    </tr>\n",
              "    <tr>\n",
              "      <th>4</th>\n",
              "      <td>0</td>\n",
              "      <td>0</td>\n",
              "      <td>0</td>\n",
              "      <td>0</td>\n",
              "      <td>0</td>\n",
              "      <td>0</td>\n",
              "      <td>0</td>\n",
              "      <td>0</td>\n",
              "      <td>0</td>\n",
              "      <td>0</td>\n",
              "      <td>0</td>\n",
              "      <td>0</td>\n",
              "      <td>1</td>\n",
              "      <td>0</td>\n",
              "      <td>0</td>\n",
              "      <td>0</td>\n",
              "      <td>0</td>\n",
              "      <td>0</td>\n",
              "      <td>0</td>\n",
              "      <td>0</td>\n",
              "      <td>0</td>\n",
              "      <td>0</td>\n",
              "      <td>0</td>\n",
              "      <td>0</td>\n",
              "      <td>0</td>\n",
              "      <td>0</td>\n",
              "      <td>0</td>\n",
              "      <td>0</td>\n",
              "      <td>0</td>\n",
              "      <td>0</td>\n",
              "      <td>0</td>\n",
              "      <td>0</td>\n",
              "      <td>0</td>\n",
              "      <td>0</td>\n",
              "    </tr>\n",
              "  </tbody>\n",
              "</table>\n",
              "</div>\n",
              "      <button class=\"colab-df-convert\" onclick=\"convertToInteractive('df-94e63011-945c-448d-b2be-2efab07b2aa5')\"\n",
              "              title=\"Convert this dataframe to an interactive table.\"\n",
              "              style=\"display:none;\">\n",
              "        \n",
              "  <svg xmlns=\"http://www.w3.org/2000/svg\" height=\"24px\"viewBox=\"0 0 24 24\"\n",
              "       width=\"24px\">\n",
              "    <path d=\"M0 0h24v24H0V0z\" fill=\"none\"/>\n",
              "    <path d=\"M18.56 5.44l.94 2.06.94-2.06 2.06-.94-2.06-.94-.94-2.06-.94 2.06-2.06.94zm-11 1L8.5 8.5l.94-2.06 2.06-.94-2.06-.94L8.5 2.5l-.94 2.06-2.06.94zm10 10l.94 2.06.94-2.06 2.06-.94-2.06-.94-.94-2.06-.94 2.06-2.06.94z\"/><path d=\"M17.41 7.96l-1.37-1.37c-.4-.4-.92-.59-1.43-.59-.52 0-1.04.2-1.43.59L10.3 9.45l-7.72 7.72c-.78.78-.78 2.05 0 2.83L4 21.41c.39.39.9.59 1.41.59.51 0 1.02-.2 1.41-.59l7.78-7.78 2.81-2.81c.8-.78.8-2.07 0-2.86zM5.41 20L4 18.59l7.72-7.72 1.47 1.35L5.41 20z\"/>\n",
              "  </svg>\n",
              "      </button>\n",
              "      \n",
              "  <style>\n",
              "    .colab-df-container {\n",
              "      display:flex;\n",
              "      flex-wrap:wrap;\n",
              "      gap: 12px;\n",
              "    }\n",
              "\n",
              "    .colab-df-convert {\n",
              "      background-color: #E8F0FE;\n",
              "      border: none;\n",
              "      border-radius: 50%;\n",
              "      cursor: pointer;\n",
              "      display: none;\n",
              "      fill: #1967D2;\n",
              "      height: 32px;\n",
              "      padding: 0 0 0 0;\n",
              "      width: 32px;\n",
              "    }\n",
              "\n",
              "    .colab-df-convert:hover {\n",
              "      background-color: #E2EBFA;\n",
              "      box-shadow: 0px 1px 2px rgba(60, 64, 67, 0.3), 0px 1px 3px 1px rgba(60, 64, 67, 0.15);\n",
              "      fill: #174EA6;\n",
              "    }\n",
              "\n",
              "    [theme=dark] .colab-df-convert {\n",
              "      background-color: #3B4455;\n",
              "      fill: #D2E3FC;\n",
              "    }\n",
              "\n",
              "    [theme=dark] .colab-df-convert:hover {\n",
              "      background-color: #434B5C;\n",
              "      box-shadow: 0px 1px 3px 1px rgba(0, 0, 0, 0.15);\n",
              "      filter: drop-shadow(0px 1px 2px rgba(0, 0, 0, 0.3));\n",
              "      fill: #FFFFFF;\n",
              "    }\n",
              "  </style>\n",
              "\n",
              "      <script>\n",
              "        const buttonEl =\n",
              "          document.querySelector('#df-94e63011-945c-448d-b2be-2efab07b2aa5 button.colab-df-convert');\n",
              "        buttonEl.style.display =\n",
              "          google.colab.kernel.accessAllowed ? 'block' : 'none';\n",
              "\n",
              "        async function convertToInteractive(key) {\n",
              "          const element = document.querySelector('#df-94e63011-945c-448d-b2be-2efab07b2aa5');\n",
              "          const dataTable =\n",
              "            await google.colab.kernel.invokeFunction('convertToInteractive',\n",
              "                                                     [key], {});\n",
              "          if (!dataTable) return;\n",
              "\n",
              "          const docLinkHtml = 'Like what you see? Visit the ' +\n",
              "            '<a target=\"_blank\" href=https://colab.research.google.com/notebooks/data_table.ipynb>data table notebook</a>'\n",
              "            + ' to learn more about interactive tables.';\n",
              "          element.innerHTML = '';\n",
              "          dataTable['output_type'] = 'display_data';\n",
              "          await google.colab.output.renderOutput(dataTable, element);\n",
              "          const docLink = document.createElement('div');\n",
              "          docLink.innerHTML = docLinkHtml;\n",
              "          element.appendChild(docLink);\n",
              "        }\n",
              "      </script>\n",
              "    </div>\n",
              "  </div>\n",
              "  "
            ],
            "text/plain": [
              "   Has more 100 houses:0  ...  Has more 100 houses:Əcəmi Əmlak daşınmaz əmlak agentliyi\n",
              "0                      1  ...                                                  0       \n",
              "1                      1  ...                                                  0       \n",
              "2                      1  ...                                                  0       \n",
              "3                      1  ...                                                  0       \n",
              "4                      0  ...                                                  0       \n",
              "\n",
              "[5 rows x 34 columns]"
            ]
          },
          "metadata": {},
          "execution_count": 214
        }
      ]
    },
    {
      "cell_type": "code",
      "source": [
        "df = pd.concat([df, df_agencies], axis=1)"
      ],
      "metadata": {
        "id": "nSeT55kGXkzH"
      },
      "execution_count": 215,
      "outputs": []
    },
    {
      "cell_type": "code",
      "source": [
        "df.shape"
      ],
      "metadata": {
        "colab": {
          "base_uri": "https://localhost:8080/"
        },
        "id": "LV83BpUYX_Wl",
        "outputId": "80c5b139-e2fa-405b-affe-b555192dba84"
      },
      "execution_count": 216,
      "outputs": [
        {
          "output_type": "execute_result",
          "data": {
            "text/plain": [
              "(18675, 65)"
            ]
          },
          "metadata": {},
          "execution_count": 216
        }
      ]
    },
    {
      "cell_type": "markdown",
      "source": [
        "### Date of ad"
      ],
      "metadata": {
        "id": "H_-nEZAnYA-A"
      }
    },
    {
      "cell_type": "code",
      "source": [
        "df['ad_refreshed_date'][3000:3005]"
      ],
      "metadata": {
        "colab": {
          "base_uri": "https://localhost:8080/"
        },
        "id": "UhKU7znQYD_2",
        "outputId": "8e8df4b2-ca79-489d-e321-93ba2dc2c7f0"
      },
      "execution_count": 223,
      "outputs": [
        {
          "output_type": "execute_result",
          "data": {
            "text/plain": [
              "3000    23 Dekabr 2021 \n",
              "3001    31 Dekabr 2021 \n",
              "3002    17 Dekabr 2021 \n",
              "3003    23 Dekabr 2021 \n",
              "3004    17 Dekabr 2021 \n",
              "Name: ad_refreshed_date, dtype: object"
            ]
          },
          "metadata": {},
          "execution_count": 223
        }
      ]
    },
    {
      "cell_type": "code",
      "source": [
        "df['ad_refreshed_date'].apply(lambda x: x.split(\" \"))"
      ],
      "metadata": {
        "colab": {
          "base_uri": "https://localhost:8080/"
        },
        "id": "IkccEbc8aGPW",
        "outputId": "9a8bf23d-ede1-4cb0-872b-a9c86326e510"
      },
      "execution_count": 229,
      "outputs": [
        {
          "output_type": "execute_result",
          "data": {
            "text/plain": [
              "0        [01, Yanvar, 2022, ]\n",
              "1        [22, Dekabr, 2021, ]\n",
              "2        [28, Dekabr, 2021, ]\n",
              "3        [25, Dekabr, 2021, ]\n",
              "4            [Bugün, 15:20, ]\n",
              "                 ...         \n",
              "18681        [Dünən, 16:20, ]\n",
              "18682        [Dünən, 16:20, ]\n",
              "18683        [Dünən, 16:20, ]\n",
              "18684        [Dünən, 16:18, ]\n",
              "18685        [Dünən, 22:17, ]\n",
              "Name: ad_refreshed_date, Length: 18675, dtype: object"
            ]
          },
          "metadata": {},
          "execution_count": 229
        }
      ]
    },
    {
      "cell_type": "code",
      "source": [
        "df['ad_refreshed_date_eng'] = df['ad_refreshed_date'].apply(\n",
        "    lambda x: x.replace(\"Yanvar\", \"January\")\n",
        ")"
      ],
      "metadata": {
        "id": "XUdBuyPYaTFQ"
      },
      "execution_count": 237,
      "outputs": []
    },
    {
      "cell_type": "code",
      "source": [
        "df['ad_refreshed_date_eng'] = df['ad_refreshed_date_eng'].apply(\n",
        "    lambda x: x.replace(\"Fevral\", \"February\")\n",
        ")\n",
        "df['ad_refreshed_date_eng'] = df['ad_refreshed_date_eng'].apply(\n",
        "    lambda x: x.replace(\"Mart\", \"March\")\n",
        ")\n",
        "df['ad_refreshed_date_eng'] = df['ad_refreshed_date_eng'].apply(\n",
        "    lambda x: x.replace(\"Aprel\", \"April\")\n",
        ")\n",
        "df['ad_refreshed_date_eng'] = df['ad_refreshed_date_eng'].apply(\n",
        "    lambda x: x.replace(\"May\", \"May\")\n",
        ")\n",
        "df['ad_refreshed_date_eng'] = df['ad_refreshed_date_eng'].apply(\n",
        "    lambda x: x.replace(\"İyun\", \"June\")\n",
        ")\n",
        "df['ad_refreshed_date_eng'] = df['ad_refreshed_date_eng'].apply(\n",
        "    lambda x: x.replace(\"İyul\", \"July\")\n",
        ")\n",
        "df['ad_refreshed_date_eng'] = df['ad_refreshed_date_eng'].apply(\n",
        "    lambda x: x.replace(\"Avqust\", \"August\")\n",
        ")\n",
        "df['ad_refreshed_date_eng'] = df['ad_refreshed_date_eng'].apply(\n",
        "    lambda x: x.replace(\"Sentyabr\", \"September\")\n",
        ")\n",
        "df['ad_refreshed_date_eng'] = df['ad_refreshed_date_eng'].apply(\n",
        "    lambda x: x.replace(\"Oktyabr\", \"October\")\n",
        ")\n",
        "df['ad_refreshed_date_eng'] = df['ad_refreshed_date_eng'].apply(\n",
        "    lambda x: x.replace(\"Noyabr\", \"November\")\n",
        ")\n",
        "df['ad_refreshed_date_eng'] = df['ad_refreshed_date_eng'].apply(\n",
        "    lambda x: x.replace(\"Dekabr\", \"December\")\n",
        ")"
      ],
      "metadata": {
        "id": "SX05wXEmbnvV"
      },
      "execution_count": 238,
      "outputs": []
    },
    {
      "cell_type": "code",
      "source": [
        "df['ad_refreshed_date_eng'][7000:7005]"
      ],
      "metadata": {
        "colab": {
          "base_uri": "https://localhost:8080/"
        },
        "id": "dhyHrfPpbt9z",
        "outputId": "5e89d3df-c2e1-40c2-c6bb-8252355bdaca"
      },
      "execution_count": 245,
      "outputs": [
        {
          "output_type": "execute_result",
          "data": {
            "text/plain": [
              "7005    14 December 2021 \n",
              "7006    19 December 2021 \n",
              "7007    14 December 2021 \n",
              "7008    15 December 2021 \n",
              "7009    19 December 2021 \n",
              "Name: ad_refreshed_date_eng, dtype: object"
            ]
          },
          "metadata": {},
          "execution_count": 245
        }
      ]
    },
    {
      "cell_type": "code",
      "source": [
        "df['ad_refreshed_date']"
      ],
      "metadata": {
        "colab": {
          "base_uri": "https://localhost:8080/"
        },
        "id": "7XQALycViH8_",
        "outputId": "9275d760-bda8-44b6-9d51-f3743c85760a"
      },
      "execution_count": 253,
      "outputs": [
        {
          "output_type": "execute_result",
          "data": {
            "text/plain": [
              "0        01 Yanvar 2022 \n",
              "1        22 Dekabr 2021 \n",
              "2        28 Dekabr 2021 \n",
              "3        25 Dekabr 2021 \n",
              "4           Bugün 15:20 \n",
              "              ...       \n",
              "18681       Dünən 16:20 \n",
              "18682       Dünən 16:20 \n",
              "18683       Dünən 16:20 \n",
              "18684       Dünən 16:18 \n",
              "18685       Dünən 22:17 \n",
              "Name: ad_refreshed_date, Length: 18675, dtype: object"
            ]
          },
          "metadata": {},
          "execution_count": 253
        }
      ]
    },
    {
      "cell_type": "code",
      "source": [
        "\"Dünən\" in list(df['ad_refreshed_date_eng'])[-1] "
      ],
      "metadata": {
        "colab": {
          "base_uri": "https://localhost:8080/"
        },
        "id": "vJ6JN73gg9cV",
        "outputId": "82fb9c2e-e896-4af6-cd76-90c290b62e58"
      },
      "execution_count": 255,
      "outputs": [
        {
          "output_type": "execute_result",
          "data": {
            "text/plain": [
              "True"
            ]
          },
          "metadata": {},
          "execution_count": 255
        }
      ]
    },
    {
      "cell_type": "code",
      "source": [
        "ad_refreshed_date_eng_final = []\n",
        "\n",
        "for index, value in enumerate(df['ad_refreshed_date_eng']):\n",
        "\n",
        "  if \"Bugün\" in value:\n",
        "    ad_refreshed_date_eng_final.append(\n",
        "        df.iloc[index]['date_of_parsing'].date()\n",
        "    )\n",
        "\n",
        "  elif \"Dünən\" in value:\n",
        "    ad_refreshed_date_eng_final.append(\n",
        "        df.iloc[index]['date_of_parsing'].date() - datetime.timedelta(days=1)\n",
        "    )\n",
        "  \n",
        "  else:\n",
        "    ad_refreshed_date_eng_final.append(value)\n"
      ],
      "metadata": {
        "id": "lyL1QZNpcqTt"
      },
      "execution_count": 311,
      "outputs": []
    },
    {
      "cell_type": "code",
      "source": [
        "ad_refreshed_date_eng_final[-5:]"
      ],
      "metadata": {
        "colab": {
          "base_uri": "https://localhost:8080/"
        },
        "id": "-3KgVf5OjNna",
        "outputId": "b5297fa2-c13d-4c27-8ec1-66013ee52e06"
      },
      "execution_count": 312,
      "outputs": [
        {
          "output_type": "execute_result",
          "data": {
            "text/plain": [
              "[datetime.date(2022, 1, 7),\n",
              " datetime.date(2022, 1, 7),\n",
              " datetime.date(2022, 1, 7),\n",
              " datetime.date(2022, 1, 7),\n",
              " datetime.date(2022, 1, 7)]"
            ]
          },
          "metadata": {},
          "execution_count": 312
        }
      ]
    },
    {
      "cell_type": "code",
      "source": [
        "df['ad_refreshed_date_eng']"
      ],
      "metadata": {
        "id": "4o2Id22lsT-o"
      },
      "execution_count": null,
      "outputs": []
    },
    {
      "cell_type": "code",
      "source": [
        "type(ad_refreshed_date_eng_final[7]) is datetime.date"
      ],
      "metadata": {
        "colab": {
          "base_uri": "https://localhost:8080/"
        },
        "id": "hQRmnTg1kxAG",
        "outputId": "c7bea48d-a1de-432d-bdd3-390c5be292b0"
      },
      "execution_count": 269,
      "outputs": [
        {
          "output_type": "execute_result",
          "data": {
            "text/plain": [
              "True"
            ]
          },
          "metadata": {},
          "execution_count": 269
        }
      ]
    },
    {
      "cell_type": "code",
      "source": [
        "pd.Series(ad_refreshed_date_eng_final).unique()"
      ],
      "metadata": {
        "colab": {
          "base_uri": "https://localhost:8080/"
        },
        "id": "pKb8EIZcnGUH",
        "outputId": "e8b2cb76-d08c-485a-aea7-6088fb4f5a92"
      },
      "execution_count": 272,
      "outputs": [
        {
          "output_type": "execute_result",
          "data": {
            "text/plain": [
              "array(['01 January 2022 ', '22 December 2021 ', '28 December 2021 ',\n",
              "       '25 December 2021 ', datetime.date(2022, 1, 3),\n",
              "       '30 December 2021 ', '23 December 2021 ', '31 December 2021 ',\n",
              "       '17 December 2021 ', '16 December 2021 ', '27 December 2021 ',\n",
              "       '24 December 2021 ', '09 December 2021 ', '06 December 2021 ',\n",
              "       '05 December 2021 ', datetime.date(2022, 1, 2),\n",
              "       '21 December 2021 ', '29 December 2021 ', '20 December 2021 ',\n",
              "       '14 December 2021 ', '12 December 2021 ', '18 December 2021 ',\n",
              "       '19 December 2021 ', '15 December 2021 ', '04 December 2021 ',\n",
              "       '26 December 2021 ', '02 January 2022 ', '13 December 2021 ',\n",
              "       datetime.date(2022, 1, 4), '11 December 2021 ',\n",
              "       '10 December 2021 ', '08 December 2021 ', '07 December 2021 ',\n",
              "       datetime.date(2022, 1, 5), '03 January 2022 ',\n",
              "       datetime.date(2022, 1, 7), datetime.date(2022, 1, 6),\n",
              "       '05 January 2022 ', '04 January 2022 ', datetime.date(2022, 1, 8)],\n",
              "      dtype=object)"
            ]
          },
          "metadata": {},
          "execution_count": 272
        }
      ]
    },
    {
      "cell_type": "code",
      "source": [
        "ad_refreshed_date_eng_final[0]"
      ],
      "metadata": {
        "colab": {
          "base_uri": "https://localhost:8080/",
          "height": 35
        },
        "id": "YEmFl8YOng43",
        "outputId": "37ff18cb-37fa-4e87-ef90-e1b204280fdc"
      },
      "execution_count": 276,
      "outputs": [
        {
          "output_type": "execute_result",
          "data": {
            "application/vnd.google.colaboratory.intrinsic+json": {
              "type": "string"
            },
            "text/plain": [
              "'01 January 2022 '"
            ]
          },
          "metadata": {},
          "execution_count": 276
        }
      ]
    },
    {
      "cell_type": "code",
      "source": [
        "datetime.datetime.strptime(ad_refreshed_date_eng_final[0], \"%d %B %Y \").date()"
      ],
      "metadata": {
        "colab": {
          "base_uri": "https://localhost:8080/"
        },
        "id": "-I1QDE48jrzU",
        "outputId": "84697228-4c75-4027-f417-7df251ae056a"
      },
      "execution_count": 281,
      "outputs": [
        {
          "output_type": "execute_result",
          "data": {
            "text/plain": [
              "datetime.date(2022, 1, 1)"
            ]
          },
          "metadata": {},
          "execution_count": 281
        }
      ]
    },
    {
      "cell_type": "code",
      "source": [
        "ad_refreshed_date_eng_final[-12]"
      ],
      "metadata": {
        "colab": {
          "base_uri": "https://localhost:8080/"
        },
        "id": "T-JSyO1sqTTt",
        "outputId": "4dcf202a-9a63-4b03-ed8e-70a2fa5f5705"
      },
      "execution_count": 299,
      "outputs": [
        {
          "output_type": "execute_result",
          "data": {
            "text/plain": [
              "datetime.date(2022, 1, 7)"
            ]
          },
          "metadata": {},
          "execution_count": 299
        }
      ]
    },
    {
      "cell_type": "code",
      "source": [
        "datetime.datetime.strptime(ad_refreshed_date_eng_final[1], \"%d %B %Y \").date()"
      ],
      "metadata": {
        "colab": {
          "base_uri": "https://localhost:8080/"
        },
        "id": "k4KqRH5uqCVw",
        "outputId": "87559dc9-1029-4a82-d839-47e89786c27c"
      },
      "execution_count": 306,
      "outputs": [
        {
          "output_type": "execute_result",
          "data": {
            "text/plain": [
              "datetime.date(2021, 12, 22)"
            ]
          },
          "metadata": {},
          "execution_count": 306
        }
      ]
    },
    {
      "cell_type": "code",
      "source": [
        "df['date_ad_refreshed'] = pd.Series(ad_refreshed_date_eng_final).apply(\n",
        "    lambda x: x if type(x) is datetime.date else datetime.datetime.strptime(x, \"%d %B %Y \").date()\n",
        ")"
      ],
      "metadata": {
        "id": "qT4NnH7CjRtX"
      },
      "execution_count": 289,
      "outputs": []
    },
    {
      "cell_type": "code",
      "source": [
        "df['ad_refreshed_date_eng_final'] = ad_refreshed_date_eng_final"
      ],
      "metadata": {
        "id": "9PBjXwAZo5Dg"
      },
      "execution_count": 313,
      "outputs": []
    },
    {
      "cell_type": "code",
      "source": [
        "df"
      ],
      "metadata": {
        "colab": {
          "base_uri": "https://localhost:8080/",
          "height": 1000
        },
        "id": "2q8h3OrpshlS",
        "outputId": "4fe7a60f-465a-43fe-ee52-e4b8ffcc6377"
      },
      "execution_count": 316,
      "outputs": [
        {
          "output_type": "execute_result",
          "data": {
            "text/html": [
              "\n",
              "  <div id=\"df-55869885-a839-47e2-96aa-332a0bab7ab0\">\n",
              "    <div class=\"colab-df-container\">\n",
              "      <div>\n",
              "<style scoped>\n",
              "    .dataframe tbody tr th:only-of-type {\n",
              "        vertical-align: middle;\n",
              "    }\n",
              "\n",
              "    .dataframe tbody tr th {\n",
              "        vertical-align: top;\n",
              "    }\n",
              "\n",
              "    .dataframe thead th {\n",
              "        text-align: right;\n",
              "    }\n",
              "</style>\n",
              "<table border=\"1\" class=\"dataframe\">\n",
              "  <thead>\n",
              "    <tr style=\"text-align: right;\">\n",
              "      <th></th>\n",
              "      <th>ids</th>\n",
              "      <th>vipped_featured</th>\n",
              "      <th>prices</th>\n",
              "      <th>categories</th>\n",
              "      <th>floors</th>\n",
              "      <th>areas_m2</th>\n",
              "      <th>rooms</th>\n",
              "      <th>credits</th>\n",
              "      <th>address</th>\n",
              "      <th>district</th>\n",
              "      <th>latitudes</th>\n",
              "      <th>longitudes</th>\n",
              "      <th>ownerships</th>\n",
              "      <th>watches</th>\n",
              "      <th>ad_refreshed_date</th>\n",
              "      <th>agency_titles</th>\n",
              "      <th>date_of_parsing</th>\n",
              "      <th>deal_ended</th>\n",
              "      <th>ad_type_featured</th>\n",
              "      <th>ad_type_featuredvipped</th>\n",
              "      <th>ad_type_vipped</th>\n",
              "      <th>Köhnə tikili</th>\n",
              "      <th>Yeni tikili</th>\n",
              "      <th>apartment_floor</th>\n",
              "      <th>buildings_floor</th>\n",
              "      <th>percent_of_building_height</th>\n",
              "      <th>Credit_var</th>\n",
              "      <th>final_latitude</th>\n",
              "      <th>final_longitude</th>\n",
              "      <th>mülkiyyətçi</th>\n",
              "      <th>agency_top_100</th>\n",
              "      <th>Has more 100 houses:0</th>\n",
              "      <th>Has more 100 houses:Avalon daşınmaz əmlak agentliyi</th>\n",
              "      <th>Has more 100 houses:Az House daşınmaz əmlak agentliyi</th>\n",
              "      <th>Has more 100 houses:Azadlıq Əmlak daşınmaz əmlak agentliyi</th>\n",
              "      <th>Has more 100 houses:Baku House daşınmaz əmlak agentliyi</th>\n",
              "      <th>Has more 100 houses:Baku Realtor daşınmaz əmlak agentliyi</th>\n",
              "      <th>Has more 100 houses:Caspian daşınmaz əmlak agentliyi</th>\n",
              "      <th>Has more 100 houses:City M House daşınmaz əmlak agentliyi</th>\n",
              "      <th>Has more 100 houses:Dostluq Əmlak daşınmaz əmlak agentliyi</th>\n",
              "      <th>Has more 100 houses:Elmlər Əmlak daşınmaz əmlak agentliyi</th>\n",
              "      <th>Has more 100 houses:Garant Əmlak daşınmaz əmlak agentliyi</th>\n",
              "      <th>Has more 100 houses:Hemax daşınmaz əmlak agentliyi</th>\n",
              "      <th>Has more 100 houses:New House 20 Yanvar daşınmaz əmlak agentliyi</th>\n",
              "      <th>Has more 100 houses:New House 28 May daşınmaz əmlak agentliyi</th>\n",
              "      <th>Has more 100 houses:New House Elmlər daşınmaz əmlak agentliyi</th>\n",
              "      <th>Has more 100 houses:New House Gənclik daşınmaz əmlak agentliyi</th>\n",
              "      <th>Has more 100 houses:New House Mətbuat daşınmaz əmlak agentliyi</th>\n",
              "      <th>Has more 100 houses:New Life daşınmaz əmlak agentliyi</th>\n",
              "      <th>Has more 100 houses:News Service daşınmaz əmlak agentliyi</th>\n",
              "      <th>Has more 100 houses:Nərimanov Əmlak daşınmaz əmlak agentliyi</th>\n",
              "      <th>Has more 100 houses:Qarabağ Əmlak daşınmaz əmlak agentliyi</th>\n",
              "      <th>Has more 100 houses:Qarayev Əmlak daşınmaz əmlak agentliyi</th>\n",
              "      <th>Has more 100 houses:Rahat Ev daşınmaz əmlak agentliyi</th>\n",
              "      <th>Has more 100 houses:Real Əmlak Bakı  daşınmaz əmlak agentliyi</th>\n",
              "      <th>Has more 100 houses:Real Əmlak Gənclik daşınmaz əmlak agentliyi</th>\n",
              "      <th>Has more 100 houses:Real Əmlak Həzi Aslanov daşınmaz əmlak agentliyi</th>\n",
              "      <th>Has more 100 houses:Real Əmlak Nizami  daşınmaz əmlak agentliyi</th>\n",
              "      <th>Has more 100 houses:Real Əmlak Parlament daşınmaz əmlak agentliyi</th>\n",
              "      <th>Has more 100 houses:Real Əmlak Yeni Yasamal daşınmaz əmlak agentliyi</th>\n",
              "      <th>Has more 100 houses:Rich Estate Baku daşınmaz əmlak agentliyi</th>\n",
              "      <th>Has more 100 houses:VİP House daşınmaz əmlak agentliyi</th>\n",
              "      <th>Has more 100 houses:YeniPark daşınmaz əmlak agentliyi</th>\n",
              "      <th>Has more 100 houses:Zirvə RA Əmlak daşınmaz əmlak agentliyi</th>\n",
              "      <th>Has more 100 houses:Əcəmi Əmlak daşınmaz əmlak agentliyi</th>\n",
              "      <th>ad_refreshed_date_eng</th>\n",
              "      <th>date_ad_refreshed</th>\n",
              "      <th>ad_refreshed_date_eng_final</th>\n",
              "    </tr>\n",
              "  </thead>\n",
              "  <tbody>\n",
              "    <tr>\n",
              "      <th>0</th>\n",
              "      <td>2348807</td>\n",
              "      <td>featuredvipped</td>\n",
              "      <td>54000</td>\n",
              "      <td>Köhnə tikili</td>\n",
              "      <td>2 / 5</td>\n",
              "      <td>50.0</td>\n",
              "      <td>2</td>\n",
              "      <td>var</td>\n",
              "      <td>R.Şahsuvarov küç 31</td>\n",
              "      <td>Suraxanı r.; Hövsan q.</td>\n",
              "      <td>40.355821</td>\n",
              "      <td>50.063575</td>\n",
              "      <td>mülkiyyətçi</td>\n",
              "      <td>3363</td>\n",
              "      <td>01 Yanvar 2022</td>\n",
              "      <td>0</td>\n",
              "      <td>2022-01-03 11:36:55</td>\n",
              "      <td>0</td>\n",
              "      <td>0</td>\n",
              "      <td>1</td>\n",
              "      <td>0</td>\n",
              "      <td>1</td>\n",
              "      <td>0</td>\n",
              "      <td>2</td>\n",
              "      <td>5.0</td>\n",
              "      <td>40.0</td>\n",
              "      <td>1</td>\n",
              "      <td>40.380489</td>\n",
              "      <td>50.032700</td>\n",
              "      <td>1</td>\n",
              "      <td>0</td>\n",
              "      <td>1</td>\n",
              "      <td>0</td>\n",
              "      <td>0</td>\n",
              "      <td>0</td>\n",
              "      <td>0</td>\n",
              "      <td>0</td>\n",
              "      <td>0</td>\n",
              "      <td>0</td>\n",
              "      <td>0</td>\n",
              "      <td>0</td>\n",
              "      <td>0</td>\n",
              "      <td>0</td>\n",
              "      <td>0</td>\n",
              "      <td>0</td>\n",
              "      <td>0</td>\n",
              "      <td>0</td>\n",
              "      <td>0</td>\n",
              "      <td>0</td>\n",
              "      <td>0</td>\n",
              "      <td>0</td>\n",
              "      <td>0</td>\n",
              "      <td>0</td>\n",
              "      <td>0</td>\n",
              "      <td>0</td>\n",
              "      <td>0</td>\n",
              "      <td>0</td>\n",
              "      <td>0</td>\n",
              "      <td>0</td>\n",
              "      <td>0</td>\n",
              "      <td>0</td>\n",
              "      <td>0</td>\n",
              "      <td>0</td>\n",
              "      <td>0</td>\n",
              "      <td>0</td>\n",
              "      <td>01 January 2022</td>\n",
              "      <td>2022-01-01</td>\n",
              "      <td>01 January 2022</td>\n",
              "    </tr>\n",
              "    <tr>\n",
              "      <th>1</th>\n",
              "      <td>1710054</td>\n",
              "      <td>vipped</td>\n",
              "      <td>289000</td>\n",
              "      <td>Yeni tikili</td>\n",
              "      <td>5 / 17</td>\n",
              "      <td>180.0</td>\n",
              "      <td>4</td>\n",
              "      <td>var</td>\n",
              "      <td>Affiyədin Cəlilov küç.</td>\n",
              "      <td>Şah İsmayıl Xətai m.; Xətai r.</td>\n",
              "      <td>40.378917</td>\n",
              "      <td>49.875682</td>\n",
              "      <td>mülkiyyətçi</td>\n",
              "      <td>7348</td>\n",
              "      <td>22 Dekabr 2021</td>\n",
              "      <td>0</td>\n",
              "      <td>2022-01-03 11:36:55</td>\n",
              "      <td>0</td>\n",
              "      <td>0</td>\n",
              "      <td>0</td>\n",
              "      <td>1</td>\n",
              "      <td>0</td>\n",
              "      <td>1</td>\n",
              "      <td>5</td>\n",
              "      <td>17.0</td>\n",
              "      <td>29.0</td>\n",
              "      <td>1</td>\n",
              "      <td>40.380310</td>\n",
              "      <td>49.897551</td>\n",
              "      <td>1</td>\n",
              "      <td>0</td>\n",
              "      <td>1</td>\n",
              "      <td>0</td>\n",
              "      <td>0</td>\n",
              "      <td>0</td>\n",
              "      <td>0</td>\n",
              "      <td>0</td>\n",
              "      <td>0</td>\n",
              "      <td>0</td>\n",
              "      <td>0</td>\n",
              "      <td>0</td>\n",
              "      <td>0</td>\n",
              "      <td>0</td>\n",
              "      <td>0</td>\n",
              "      <td>0</td>\n",
              "      <td>0</td>\n",
              "      <td>0</td>\n",
              "      <td>0</td>\n",
              "      <td>0</td>\n",
              "      <td>0</td>\n",
              "      <td>0</td>\n",
              "      <td>0</td>\n",
              "      <td>0</td>\n",
              "      <td>0</td>\n",
              "      <td>0</td>\n",
              "      <td>0</td>\n",
              "      <td>0</td>\n",
              "      <td>0</td>\n",
              "      <td>0</td>\n",
              "      <td>0</td>\n",
              "      <td>0</td>\n",
              "      <td>0</td>\n",
              "      <td>0</td>\n",
              "      <td>0</td>\n",
              "      <td>0</td>\n",
              "      <td>22 December 2021</td>\n",
              "      <td>2021-12-22</td>\n",
              "      <td>22 December 2021</td>\n",
              "    </tr>\n",
              "    <tr>\n",
              "      <th>2</th>\n",
              "      <td>2524899</td>\n",
              "      <td>vipped</td>\n",
              "      <td>159000</td>\n",
              "      <td>Yeni tikili</td>\n",
              "      <td>12 / 19</td>\n",
              "      <td>58.0</td>\n",
              "      <td>2</td>\n",
              "      <td>var</td>\n",
              "      <td>Azadlıq prospekti</td>\n",
              "      <td>ASAN Xidmət №1 ; TQDK ; Neftçi bazası ; Nəsimi r.</td>\n",
              "      <td>40.398415</td>\n",
              "      <td>49.839203</td>\n",
              "      <td>vasitəçi (agent)</td>\n",
              "      <td>197</td>\n",
              "      <td>28 Dekabr 2021</td>\n",
              "      <td>0</td>\n",
              "      <td>2022-01-03 11:36:55</td>\n",
              "      <td>0</td>\n",
              "      <td>0</td>\n",
              "      <td>0</td>\n",
              "      <td>1</td>\n",
              "      <td>0</td>\n",
              "      <td>1</td>\n",
              "      <td>12</td>\n",
              "      <td>19.0</td>\n",
              "      <td>63.0</td>\n",
              "      <td>1</td>\n",
              "      <td>40.395985</td>\n",
              "      <td>49.830862</td>\n",
              "      <td>0</td>\n",
              "      <td>0</td>\n",
              "      <td>1</td>\n",
              "      <td>0</td>\n",
              "      <td>0</td>\n",
              "      <td>0</td>\n",
              "      <td>0</td>\n",
              "      <td>0</td>\n",
              "      <td>0</td>\n",
              "      <td>0</td>\n",
              "      <td>0</td>\n",
              "      <td>0</td>\n",
              "      <td>0</td>\n",
              "      <td>0</td>\n",
              "      <td>0</td>\n",
              "      <td>0</td>\n",
              "      <td>0</td>\n",
              "      <td>0</td>\n",
              "      <td>0</td>\n",
              "      <td>0</td>\n",
              "      <td>0</td>\n",
              "      <td>0</td>\n",
              "      <td>0</td>\n",
              "      <td>0</td>\n",
              "      <td>0</td>\n",
              "      <td>0</td>\n",
              "      <td>0</td>\n",
              "      <td>0</td>\n",
              "      <td>0</td>\n",
              "      <td>0</td>\n",
              "      <td>0</td>\n",
              "      <td>0</td>\n",
              "      <td>0</td>\n",
              "      <td>0</td>\n",
              "      <td>0</td>\n",
              "      <td>0</td>\n",
              "      <td>28 December 2021</td>\n",
              "      <td>2021-12-28</td>\n",
              "      <td>28 December 2021</td>\n",
              "    </tr>\n",
              "    <tr>\n",
              "      <th>3</th>\n",
              "      <td>2529070</td>\n",
              "      <td>vipped</td>\n",
              "      <td>175000</td>\n",
              "      <td>Yeni tikili</td>\n",
              "      <td>7 / 7</td>\n",
              "      <td>117.0</td>\n",
              "      <td>3</td>\n",
              "      <td>var</td>\n",
              "      <td>Xəqani Rüstəmov küçəsi 6</td>\n",
              "      <td>Əhmədli m.; Xətai r.</td>\n",
              "      <td>40.381645</td>\n",
              "      <td>49.958450</td>\n",
              "      <td>mülkiyyətçi</td>\n",
              "      <td>376</td>\n",
              "      <td>25 Dekabr 2021</td>\n",
              "      <td>0</td>\n",
              "      <td>2022-01-03 11:36:55</td>\n",
              "      <td>0</td>\n",
              "      <td>0</td>\n",
              "      <td>0</td>\n",
              "      <td>1</td>\n",
              "      <td>0</td>\n",
              "      <td>1</td>\n",
              "      <td>7</td>\n",
              "      <td>7.0</td>\n",
              "      <td>100.0</td>\n",
              "      <td>1</td>\n",
              "      <td>40.380453</td>\n",
              "      <td>49.939698</td>\n",
              "      <td>1</td>\n",
              "      <td>0</td>\n",
              "      <td>1</td>\n",
              "      <td>0</td>\n",
              "      <td>0</td>\n",
              "      <td>0</td>\n",
              "      <td>0</td>\n",
              "      <td>0</td>\n",
              "      <td>0</td>\n",
              "      <td>0</td>\n",
              "      <td>0</td>\n",
              "      <td>0</td>\n",
              "      <td>0</td>\n",
              "      <td>0</td>\n",
              "      <td>0</td>\n",
              "      <td>0</td>\n",
              "      <td>0</td>\n",
              "      <td>0</td>\n",
              "      <td>0</td>\n",
              "      <td>0</td>\n",
              "      <td>0</td>\n",
              "      <td>0</td>\n",
              "      <td>0</td>\n",
              "      <td>0</td>\n",
              "      <td>0</td>\n",
              "      <td>0</td>\n",
              "      <td>0</td>\n",
              "      <td>0</td>\n",
              "      <td>0</td>\n",
              "      <td>0</td>\n",
              "      <td>0</td>\n",
              "      <td>0</td>\n",
              "      <td>0</td>\n",
              "      <td>0</td>\n",
              "      <td>0</td>\n",
              "      <td>0</td>\n",
              "      <td>25 December 2021</td>\n",
              "      <td>2021-12-25</td>\n",
              "      <td>25 December 2021</td>\n",
              "    </tr>\n",
              "    <tr>\n",
              "      <th>4</th>\n",
              "      <td>2541267</td>\n",
              "      <td>0</td>\n",
              "      <td>104000</td>\n",
              "      <td>Yeni tikili</td>\n",
              "      <td>11 / 12</td>\n",
              "      <td>65.0</td>\n",
              "      <td>2</td>\n",
              "      <td>xeyr</td>\n",
              "      <td>S.S.Axundov küç.</td>\n",
              "      <td>Azadlıq Prospekti m.; Binəqədi r.; 8-ci mikror...</td>\n",
              "      <td>40.427056</td>\n",
              "      <td>49.844324</td>\n",
              "      <td>vasitəçi (agent)</td>\n",
              "      <td>28</td>\n",
              "      <td>Bugün 15:20</td>\n",
              "      <td>New House 20 Yanvar daşınmaz əmlak agentliyi</td>\n",
              "      <td>2022-01-03 11:36:55</td>\n",
              "      <td>0</td>\n",
              "      <td>0</td>\n",
              "      <td>0</td>\n",
              "      <td>0</td>\n",
              "      <td>0</td>\n",
              "      <td>1</td>\n",
              "      <td>11</td>\n",
              "      <td>12.0</td>\n",
              "      <td>92.0</td>\n",
              "      <td>0</td>\n",
              "      <td>40.423288</td>\n",
              "      <td>49.838120</td>\n",
              "      <td>0</td>\n",
              "      <td>New House 20 Yanvar daşınmaz əmlak agentliyi</td>\n",
              "      <td>0</td>\n",
              "      <td>0</td>\n",
              "      <td>0</td>\n",
              "      <td>0</td>\n",
              "      <td>0</td>\n",
              "      <td>0</td>\n",
              "      <td>0</td>\n",
              "      <td>0</td>\n",
              "      <td>0</td>\n",
              "      <td>0</td>\n",
              "      <td>0</td>\n",
              "      <td>0</td>\n",
              "      <td>1</td>\n",
              "      <td>0</td>\n",
              "      <td>0</td>\n",
              "      <td>0</td>\n",
              "      <td>0</td>\n",
              "      <td>0</td>\n",
              "      <td>0</td>\n",
              "      <td>0</td>\n",
              "      <td>0</td>\n",
              "      <td>0</td>\n",
              "      <td>0</td>\n",
              "      <td>0</td>\n",
              "      <td>0</td>\n",
              "      <td>0</td>\n",
              "      <td>0</td>\n",
              "      <td>0</td>\n",
              "      <td>0</td>\n",
              "      <td>0</td>\n",
              "      <td>0</td>\n",
              "      <td>0</td>\n",
              "      <td>0</td>\n",
              "      <td>0</td>\n",
              "      <td>Bugün 15:20</td>\n",
              "      <td>2022-01-03</td>\n",
              "      <td>2022-01-03</td>\n",
              "    </tr>\n",
              "    <tr>\n",
              "      <th>...</th>\n",
              "      <td>...</td>\n",
              "      <td>...</td>\n",
              "      <td>...</td>\n",
              "      <td>...</td>\n",
              "      <td>...</td>\n",
              "      <td>...</td>\n",
              "      <td>...</td>\n",
              "      <td>...</td>\n",
              "      <td>...</td>\n",
              "      <td>...</td>\n",
              "      <td>...</td>\n",
              "      <td>...</td>\n",
              "      <td>...</td>\n",
              "      <td>...</td>\n",
              "      <td>...</td>\n",
              "      <td>...</td>\n",
              "      <td>...</td>\n",
              "      <td>...</td>\n",
              "      <td>...</td>\n",
              "      <td>...</td>\n",
              "      <td>...</td>\n",
              "      <td>...</td>\n",
              "      <td>...</td>\n",
              "      <td>...</td>\n",
              "      <td>...</td>\n",
              "      <td>...</td>\n",
              "      <td>...</td>\n",
              "      <td>...</td>\n",
              "      <td>...</td>\n",
              "      <td>...</td>\n",
              "      <td>...</td>\n",
              "      <td>...</td>\n",
              "      <td>...</td>\n",
              "      <td>...</td>\n",
              "      <td>...</td>\n",
              "      <td>...</td>\n",
              "      <td>...</td>\n",
              "      <td>...</td>\n",
              "      <td>...</td>\n",
              "      <td>...</td>\n",
              "      <td>...</td>\n",
              "      <td>...</td>\n",
              "      <td>...</td>\n",
              "      <td>...</td>\n",
              "      <td>...</td>\n",
              "      <td>...</td>\n",
              "      <td>...</td>\n",
              "      <td>...</td>\n",
              "      <td>...</td>\n",
              "      <td>...</td>\n",
              "      <td>...</td>\n",
              "      <td>...</td>\n",
              "      <td>...</td>\n",
              "      <td>...</td>\n",
              "      <td>...</td>\n",
              "      <td>...</td>\n",
              "      <td>...</td>\n",
              "      <td>...</td>\n",
              "      <td>...</td>\n",
              "      <td>...</td>\n",
              "      <td>...</td>\n",
              "      <td>...</td>\n",
              "      <td>...</td>\n",
              "      <td>...</td>\n",
              "      <td>...</td>\n",
              "      <td>...</td>\n",
              "      <td>...</td>\n",
              "      <td>...</td>\n",
              "    </tr>\n",
              "    <tr>\n",
              "      <th>18681</th>\n",
              "      <td>2549837</td>\n",
              "      <td>0</td>\n",
              "      <td>76000</td>\n",
              "      <td>Köhnə tikili</td>\n",
              "      <td>1 / 5</td>\n",
              "      <td>60.0</td>\n",
              "      <td>2</td>\n",
              "      <td>var</td>\n",
              "      <td>Elşən Süleymanov küç.</td>\n",
              "      <td>Xalqlar Dostluğu m.; Nizami r.; 8-ci kilometr q.</td>\n",
              "      <td>40.396238</td>\n",
              "      <td>49.958658</td>\n",
              "      <td>mülkiyyətçi</td>\n",
              "      <td>130</td>\n",
              "      <td>Dünən 16:20</td>\n",
              "      <td>0</td>\n",
              "      <td>2022-01-08 11:17:50</td>\n",
              "      <td>0</td>\n",
              "      <td>0</td>\n",
              "      <td>0</td>\n",
              "      <td>0</td>\n",
              "      <td>1</td>\n",
              "      <td>0</td>\n",
              "      <td>1</td>\n",
              "      <td>5.0</td>\n",
              "      <td>20.0</td>\n",
              "      <td>1</td>\n",
              "      <td>40.405938</td>\n",
              "      <td>49.945491</td>\n",
              "      <td>1</td>\n",
              "      <td>0</td>\n",
              "      <td>1</td>\n",
              "      <td>0</td>\n",
              "      <td>0</td>\n",
              "      <td>0</td>\n",
              "      <td>0</td>\n",
              "      <td>0</td>\n",
              "      <td>0</td>\n",
              "      <td>0</td>\n",
              "      <td>0</td>\n",
              "      <td>0</td>\n",
              "      <td>0</td>\n",
              "      <td>0</td>\n",
              "      <td>0</td>\n",
              "      <td>0</td>\n",
              "      <td>0</td>\n",
              "      <td>0</td>\n",
              "      <td>0</td>\n",
              "      <td>0</td>\n",
              "      <td>0</td>\n",
              "      <td>0</td>\n",
              "      <td>0</td>\n",
              "      <td>0</td>\n",
              "      <td>0</td>\n",
              "      <td>0</td>\n",
              "      <td>0</td>\n",
              "      <td>0</td>\n",
              "      <td>0</td>\n",
              "      <td>0</td>\n",
              "      <td>0</td>\n",
              "      <td>0</td>\n",
              "      <td>0</td>\n",
              "      <td>0</td>\n",
              "      <td>0</td>\n",
              "      <td>0</td>\n",
              "      <td>Dünən 16:20</td>\n",
              "      <td>2022-01-07</td>\n",
              "      <td>2022-01-07</td>\n",
              "    </tr>\n",
              "    <tr>\n",
              "      <th>18682</th>\n",
              "      <td>2549836</td>\n",
              "      <td>0</td>\n",
              "      <td>63000</td>\n",
              "      <td>Köhnə tikili</td>\n",
              "      <td>5 / 9</td>\n",
              "      <td>40.0</td>\n",
              "      <td>2</td>\n",
              "      <td>xeyr</td>\n",
              "      <td>Cəmşid Naxçıvanski küç.</td>\n",
              "      <td>Xalqlar Dostluğu m.; Nizami r.; 8-ci kilometr q.</td>\n",
              "      <td>40.402667</td>\n",
              "      <td>49.958212</td>\n",
              "      <td>vasitəçi (agent)</td>\n",
              "      <td>321</td>\n",
              "      <td>Dünən 16:20</td>\n",
              "      <td>0</td>\n",
              "      <td>2022-01-08 11:17:50</td>\n",
              "      <td>0</td>\n",
              "      <td>0</td>\n",
              "      <td>0</td>\n",
              "      <td>0</td>\n",
              "      <td>1</td>\n",
              "      <td>0</td>\n",
              "      <td>5</td>\n",
              "      <td>9.0</td>\n",
              "      <td>56.0</td>\n",
              "      <td>0</td>\n",
              "      <td>40.405938</td>\n",
              "      <td>49.945491</td>\n",
              "      <td>0</td>\n",
              "      <td>0</td>\n",
              "      <td>1</td>\n",
              "      <td>0</td>\n",
              "      <td>0</td>\n",
              "      <td>0</td>\n",
              "      <td>0</td>\n",
              "      <td>0</td>\n",
              "      <td>0</td>\n",
              "      <td>0</td>\n",
              "      <td>0</td>\n",
              "      <td>0</td>\n",
              "      <td>0</td>\n",
              "      <td>0</td>\n",
              "      <td>0</td>\n",
              "      <td>0</td>\n",
              "      <td>0</td>\n",
              "      <td>0</td>\n",
              "      <td>0</td>\n",
              "      <td>0</td>\n",
              "      <td>0</td>\n",
              "      <td>0</td>\n",
              "      <td>0</td>\n",
              "      <td>0</td>\n",
              "      <td>0</td>\n",
              "      <td>0</td>\n",
              "      <td>0</td>\n",
              "      <td>0</td>\n",
              "      <td>0</td>\n",
              "      <td>0</td>\n",
              "      <td>0</td>\n",
              "      <td>0</td>\n",
              "      <td>0</td>\n",
              "      <td>0</td>\n",
              "      <td>0</td>\n",
              "      <td>0</td>\n",
              "      <td>Dünən 16:20</td>\n",
              "      <td>2022-01-07</td>\n",
              "      <td>2022-01-07</td>\n",
              "    </tr>\n",
              "    <tr>\n",
              "      <th>18683</th>\n",
              "      <td>2549834</td>\n",
              "      <td>0</td>\n",
              "      <td>530000</td>\n",
              "      <td>Yeni tikili</td>\n",
              "      <td>4 / 17</td>\n",
              "      <td>162.0</td>\n",
              "      <td>3</td>\n",
              "      <td>xeyr</td>\n",
              "      <td>Qutqaşınlı küç.56</td>\n",
              "      <td>İncəsənət və Mədəniyyət Un. ; Hüseyn Cavid par...</td>\n",
              "      <td>40.375866</td>\n",
              "      <td>49.820146</td>\n",
              "      <td>vasitəçi (agent)</td>\n",
              "      <td>64</td>\n",
              "      <td>Dünən 16:20</td>\n",
              "      <td>VİP House daşınmaz əmlak agentliyi</td>\n",
              "      <td>2022-01-08 11:17:50</td>\n",
              "      <td>0</td>\n",
              "      <td>0</td>\n",
              "      <td>0</td>\n",
              "      <td>0</td>\n",
              "      <td>0</td>\n",
              "      <td>1</td>\n",
              "      <td>4</td>\n",
              "      <td>17.0</td>\n",
              "      <td>24.0</td>\n",
              "      <td>0</td>\n",
              "      <td>40.381254</td>\n",
              "      <td>49.810698</td>\n",
              "      <td>0</td>\n",
              "      <td>VİP House daşınmaz əmlak agentliyi</td>\n",
              "      <td>0</td>\n",
              "      <td>0</td>\n",
              "      <td>0</td>\n",
              "      <td>0</td>\n",
              "      <td>0</td>\n",
              "      <td>0</td>\n",
              "      <td>0</td>\n",
              "      <td>0</td>\n",
              "      <td>0</td>\n",
              "      <td>0</td>\n",
              "      <td>0</td>\n",
              "      <td>0</td>\n",
              "      <td>0</td>\n",
              "      <td>0</td>\n",
              "      <td>0</td>\n",
              "      <td>0</td>\n",
              "      <td>0</td>\n",
              "      <td>0</td>\n",
              "      <td>0</td>\n",
              "      <td>0</td>\n",
              "      <td>0</td>\n",
              "      <td>0</td>\n",
              "      <td>0</td>\n",
              "      <td>0</td>\n",
              "      <td>0</td>\n",
              "      <td>0</td>\n",
              "      <td>0</td>\n",
              "      <td>0</td>\n",
              "      <td>0</td>\n",
              "      <td>0</td>\n",
              "      <td>1</td>\n",
              "      <td>0</td>\n",
              "      <td>0</td>\n",
              "      <td>0</td>\n",
              "      <td>Dünən 16:20</td>\n",
              "      <td>2022-01-07</td>\n",
              "      <td>2022-01-07</td>\n",
              "    </tr>\n",
              "    <tr>\n",
              "      <th>18684</th>\n",
              "      <td>1476679</td>\n",
              "      <td>0</td>\n",
              "      <td>230000</td>\n",
              "      <td>Yeni tikili</td>\n",
              "      <td>12 / 16</td>\n",
              "      <td>146.0</td>\n",
              "      <td>3</td>\n",
              "      <td>xeyr</td>\n",
              "      <td>A.Cümə küç. 83</td>\n",
              "      <td>Azərbaycan turizm institutu ; Respublika stadi...</td>\n",
              "      <td>40.399796</td>\n",
              "      <td>49.859174</td>\n",
              "      <td>vasitəçi (agent)</td>\n",
              "      <td>2927</td>\n",
              "      <td>Dünən 16:18</td>\n",
              "      <td>Yadigar Əmlak daşınmaz əmlak agentliyi</td>\n",
              "      <td>2022-01-08 11:17:50</td>\n",
              "      <td>0</td>\n",
              "      <td>0</td>\n",
              "      <td>0</td>\n",
              "      <td>0</td>\n",
              "      <td>0</td>\n",
              "      <td>1</td>\n",
              "      <td>12</td>\n",
              "      <td>16.0</td>\n",
              "      <td>75.0</td>\n",
              "      <td>0</td>\n",
              "      <td>40.401032</td>\n",
              "      <td>49.857534</td>\n",
              "      <td>0</td>\n",
              "      <td>0</td>\n",
              "      <td>1</td>\n",
              "      <td>0</td>\n",
              "      <td>0</td>\n",
              "      <td>0</td>\n",
              "      <td>0</td>\n",
              "      <td>0</td>\n",
              "      <td>0</td>\n",
              "      <td>0</td>\n",
              "      <td>0</td>\n",
              "      <td>0</td>\n",
              "      <td>0</td>\n",
              "      <td>0</td>\n",
              "      <td>0</td>\n",
              "      <td>0</td>\n",
              "      <td>0</td>\n",
              "      <td>0</td>\n",
              "      <td>0</td>\n",
              "      <td>0</td>\n",
              "      <td>0</td>\n",
              "      <td>0</td>\n",
              "      <td>0</td>\n",
              "      <td>0</td>\n",
              "      <td>0</td>\n",
              "      <td>0</td>\n",
              "      <td>0</td>\n",
              "      <td>0</td>\n",
              "      <td>0</td>\n",
              "      <td>0</td>\n",
              "      <td>0</td>\n",
              "      <td>0</td>\n",
              "      <td>0</td>\n",
              "      <td>0</td>\n",
              "      <td>0</td>\n",
              "      <td>0</td>\n",
              "      <td>Dünən 16:18</td>\n",
              "      <td>2022-01-07</td>\n",
              "      <td>2022-01-07</td>\n",
              "    </tr>\n",
              "    <tr>\n",
              "      <th>18685</th>\n",
              "      <td>2549672</td>\n",
              "      <td>0</td>\n",
              "      <td>105000</td>\n",
              "      <td>Yeni tikili</td>\n",
              "      <td>7 / 16</td>\n",
              "      <td>60.0</td>\n",
              "      <td>2</td>\n",
              "      <td>var</td>\n",
              "      <td>Naxçıvanski k.</td>\n",
              "      <td>Nizami r.</td>\n",
              "      <td>40.407804</td>\n",
              "      <td>49.957138</td>\n",
              "      <td>vasitəçi (agent)</td>\n",
              "      <td>82</td>\n",
              "      <td>Dünən 22:17</td>\n",
              "      <td>New Life daşınmaz əmlak agentliyi</td>\n",
              "      <td>2022-01-08 11:17:50</td>\n",
              "      <td>0</td>\n",
              "      <td>0</td>\n",
              "      <td>0</td>\n",
              "      <td>0</td>\n",
              "      <td>0</td>\n",
              "      <td>1</td>\n",
              "      <td>7</td>\n",
              "      <td>16.0</td>\n",
              "      <td>44.0</td>\n",
              "      <td>1</td>\n",
              "      <td>40.410069</td>\n",
              "      <td>49.940527</td>\n",
              "      <td>0</td>\n",
              "      <td>New Life daşınmaz əmlak agentliyi</td>\n",
              "      <td>0</td>\n",
              "      <td>0</td>\n",
              "      <td>0</td>\n",
              "      <td>0</td>\n",
              "      <td>0</td>\n",
              "      <td>0</td>\n",
              "      <td>0</td>\n",
              "      <td>0</td>\n",
              "      <td>0</td>\n",
              "      <td>0</td>\n",
              "      <td>0</td>\n",
              "      <td>0</td>\n",
              "      <td>0</td>\n",
              "      <td>0</td>\n",
              "      <td>0</td>\n",
              "      <td>0</td>\n",
              "      <td>0</td>\n",
              "      <td>1</td>\n",
              "      <td>0</td>\n",
              "      <td>0</td>\n",
              "      <td>0</td>\n",
              "      <td>0</td>\n",
              "      <td>0</td>\n",
              "      <td>0</td>\n",
              "      <td>0</td>\n",
              "      <td>0</td>\n",
              "      <td>0</td>\n",
              "      <td>0</td>\n",
              "      <td>0</td>\n",
              "      <td>0</td>\n",
              "      <td>0</td>\n",
              "      <td>0</td>\n",
              "      <td>0</td>\n",
              "      <td>0</td>\n",
              "      <td>Dünən 22:17</td>\n",
              "      <td>2022-01-07</td>\n",
              "      <td>2022-01-07</td>\n",
              "    </tr>\n",
              "  </tbody>\n",
              "</table>\n",
              "<p>18675 rows × 68 columns</p>\n",
              "</div>\n",
              "      <button class=\"colab-df-convert\" onclick=\"convertToInteractive('df-55869885-a839-47e2-96aa-332a0bab7ab0')\"\n",
              "              title=\"Convert this dataframe to an interactive table.\"\n",
              "              style=\"display:none;\">\n",
              "        \n",
              "  <svg xmlns=\"http://www.w3.org/2000/svg\" height=\"24px\"viewBox=\"0 0 24 24\"\n",
              "       width=\"24px\">\n",
              "    <path d=\"M0 0h24v24H0V0z\" fill=\"none\"/>\n",
              "    <path d=\"M18.56 5.44l.94 2.06.94-2.06 2.06-.94-2.06-.94-.94-2.06-.94 2.06-2.06.94zm-11 1L8.5 8.5l.94-2.06 2.06-.94-2.06-.94L8.5 2.5l-.94 2.06-2.06.94zm10 10l.94 2.06.94-2.06 2.06-.94-2.06-.94-.94-2.06-.94 2.06-2.06.94z\"/><path d=\"M17.41 7.96l-1.37-1.37c-.4-.4-.92-.59-1.43-.59-.52 0-1.04.2-1.43.59L10.3 9.45l-7.72 7.72c-.78.78-.78 2.05 0 2.83L4 21.41c.39.39.9.59 1.41.59.51 0 1.02-.2 1.41-.59l7.78-7.78 2.81-2.81c.8-.78.8-2.07 0-2.86zM5.41 20L4 18.59l7.72-7.72 1.47 1.35L5.41 20z\"/>\n",
              "  </svg>\n",
              "      </button>\n",
              "      \n",
              "  <style>\n",
              "    .colab-df-container {\n",
              "      display:flex;\n",
              "      flex-wrap:wrap;\n",
              "      gap: 12px;\n",
              "    }\n",
              "\n",
              "    .colab-df-convert {\n",
              "      background-color: #E8F0FE;\n",
              "      border: none;\n",
              "      border-radius: 50%;\n",
              "      cursor: pointer;\n",
              "      display: none;\n",
              "      fill: #1967D2;\n",
              "      height: 32px;\n",
              "      padding: 0 0 0 0;\n",
              "      width: 32px;\n",
              "    }\n",
              "\n",
              "    .colab-df-convert:hover {\n",
              "      background-color: #E2EBFA;\n",
              "      box-shadow: 0px 1px 2px rgba(60, 64, 67, 0.3), 0px 1px 3px 1px rgba(60, 64, 67, 0.15);\n",
              "      fill: #174EA6;\n",
              "    }\n",
              "\n",
              "    [theme=dark] .colab-df-convert {\n",
              "      background-color: #3B4455;\n",
              "      fill: #D2E3FC;\n",
              "    }\n",
              "\n",
              "    [theme=dark] .colab-df-convert:hover {\n",
              "      background-color: #434B5C;\n",
              "      box-shadow: 0px 1px 3px 1px rgba(0, 0, 0, 0.15);\n",
              "      filter: drop-shadow(0px 1px 2px rgba(0, 0, 0, 0.3));\n",
              "      fill: #FFFFFF;\n",
              "    }\n",
              "  </style>\n",
              "\n",
              "      <script>\n",
              "        const buttonEl =\n",
              "          document.querySelector('#df-55869885-a839-47e2-96aa-332a0bab7ab0 button.colab-df-convert');\n",
              "        buttonEl.style.display =\n",
              "          google.colab.kernel.accessAllowed ? 'block' : 'none';\n",
              "\n",
              "        async function convertToInteractive(key) {\n",
              "          const element = document.querySelector('#df-55869885-a839-47e2-96aa-332a0bab7ab0');\n",
              "          const dataTable =\n",
              "            await google.colab.kernel.invokeFunction('convertToInteractive',\n",
              "                                                     [key], {});\n",
              "          if (!dataTable) return;\n",
              "\n",
              "          const docLinkHtml = 'Like what you see? Visit the ' +\n",
              "            '<a target=\"_blank\" href=https://colab.research.google.com/notebooks/data_table.ipynb>data table notebook</a>'\n",
              "            + ' to learn more about interactive tables.';\n",
              "          element.innerHTML = '';\n",
              "          dataTable['output_type'] = 'display_data';\n",
              "          await google.colab.output.renderOutput(dataTable, element);\n",
              "          const docLink = document.createElement('div');\n",
              "          docLink.innerHTML = docLinkHtml;\n",
              "          element.appendChild(docLink);\n",
              "        }\n",
              "      </script>\n",
              "    </div>\n",
              "  </div>\n",
              "  "
            ],
            "text/plain": [
              "           ids vipped_featured  ...  date_ad_refreshed ad_refreshed_date_eng_final\n",
              "0      2348807  featuredvipped  ...         2022-01-01            01 January 2022 \n",
              "1      1710054          vipped  ...         2021-12-22           22 December 2021 \n",
              "2      2524899          vipped  ...         2021-12-28           28 December 2021 \n",
              "3      2529070          vipped  ...         2021-12-25           25 December 2021 \n",
              "4      2541267               0  ...         2022-01-03                  2022-01-03\n",
              "...        ...             ...  ...                ...                         ...\n",
              "18681  2549837               0  ...         2022-01-07                  2022-01-07\n",
              "18682  2549836               0  ...         2022-01-07                  2022-01-07\n",
              "18683  2549834               0  ...         2022-01-07                  2022-01-07\n",
              "18684  1476679               0  ...         2022-01-07                  2022-01-07\n",
              "18685  2549672               0  ...         2022-01-07                  2022-01-07\n",
              "\n",
              "[18675 rows x 68 columns]"
            ]
          },
          "metadata": {},
          "execution_count": 316
        }
      ]
    },
    {
      "cell_type": "code",
      "source": [
        "df['date_ad_refreshed'] = df['ad_refreshed_date_eng_final'].apply(\n",
        "    lambda x: x if type(x) is datetime.date else datetime.datetime.strptime(x, \"%d %B %Y \").date()\n",
        ")"
      ],
      "metadata": {
        "id": "XPu7Xq96siH1"
      },
      "execution_count": 315,
      "outputs": []
    },
    {
      "cell_type": "code",
      "source": [
        "diffrenence_in_days = df['date_of_parsing'].apply(lambda x: x.date()) - df['date_ad_refreshed']"
      ],
      "metadata": {
        "id": "6C90gcAfoSXD"
      },
      "execution_count": 321,
      "outputs": []
    },
    {
      "cell_type": "code",
      "source": [
        "df['diffrenence_in_days'] = diffrenence_in_days"
      ],
      "metadata": {
        "id": "GnNlZ6rcs1rs"
      },
      "execution_count": 325,
      "outputs": []
    },
    {
      "cell_type": "code",
      "source": [
        "df['diffrenence_in_days'] = df['diffrenence_in_days'].apply(lambda x: x.days)"
      ],
      "metadata": {
        "id": "nIoWVmdutPSp"
      },
      "execution_count": 326,
      "outputs": []
    },
    {
      "cell_type": "code",
      "source": [
        "df"
      ],
      "metadata": {
        "colab": {
          "base_uri": "https://localhost:8080/",
          "height": 1000
        },
        "id": "jmiWTxTktzPG",
        "outputId": "ea2a424d-f88f-48e5-894e-9d19fd1dbbcc"
      },
      "execution_count": 327,
      "outputs": [
        {
          "output_type": "execute_result",
          "data": {
            "text/html": [
              "\n",
              "  <div id=\"df-b6f25dc9-15e3-41cd-8e8a-d9b2a574399f\">\n",
              "    <div class=\"colab-df-container\">\n",
              "      <div>\n",
              "<style scoped>\n",
              "    .dataframe tbody tr th:only-of-type {\n",
              "        vertical-align: middle;\n",
              "    }\n",
              "\n",
              "    .dataframe tbody tr th {\n",
              "        vertical-align: top;\n",
              "    }\n",
              "\n",
              "    .dataframe thead th {\n",
              "        text-align: right;\n",
              "    }\n",
              "</style>\n",
              "<table border=\"1\" class=\"dataframe\">\n",
              "  <thead>\n",
              "    <tr style=\"text-align: right;\">\n",
              "      <th></th>\n",
              "      <th>ids</th>\n",
              "      <th>vipped_featured</th>\n",
              "      <th>prices</th>\n",
              "      <th>categories</th>\n",
              "      <th>floors</th>\n",
              "      <th>areas_m2</th>\n",
              "      <th>rooms</th>\n",
              "      <th>credits</th>\n",
              "      <th>address</th>\n",
              "      <th>district</th>\n",
              "      <th>latitudes</th>\n",
              "      <th>longitudes</th>\n",
              "      <th>ownerships</th>\n",
              "      <th>watches</th>\n",
              "      <th>ad_refreshed_date</th>\n",
              "      <th>agency_titles</th>\n",
              "      <th>date_of_parsing</th>\n",
              "      <th>deal_ended</th>\n",
              "      <th>ad_type_featured</th>\n",
              "      <th>ad_type_featuredvipped</th>\n",
              "      <th>ad_type_vipped</th>\n",
              "      <th>Köhnə tikili</th>\n",
              "      <th>Yeni tikili</th>\n",
              "      <th>apartment_floor</th>\n",
              "      <th>buildings_floor</th>\n",
              "      <th>percent_of_building_height</th>\n",
              "      <th>Credit_var</th>\n",
              "      <th>final_latitude</th>\n",
              "      <th>final_longitude</th>\n",
              "      <th>mülkiyyətçi</th>\n",
              "      <th>agency_top_100</th>\n",
              "      <th>Has more 100 houses:0</th>\n",
              "      <th>Has more 100 houses:Avalon daşınmaz əmlak agentliyi</th>\n",
              "      <th>Has more 100 houses:Az House daşınmaz əmlak agentliyi</th>\n",
              "      <th>Has more 100 houses:Azadlıq Əmlak daşınmaz əmlak agentliyi</th>\n",
              "      <th>Has more 100 houses:Baku House daşınmaz əmlak agentliyi</th>\n",
              "      <th>Has more 100 houses:Baku Realtor daşınmaz əmlak agentliyi</th>\n",
              "      <th>Has more 100 houses:Caspian daşınmaz əmlak agentliyi</th>\n",
              "      <th>Has more 100 houses:City M House daşınmaz əmlak agentliyi</th>\n",
              "      <th>Has more 100 houses:Dostluq Əmlak daşınmaz əmlak agentliyi</th>\n",
              "      <th>Has more 100 houses:Elmlər Əmlak daşınmaz əmlak agentliyi</th>\n",
              "      <th>Has more 100 houses:Garant Əmlak daşınmaz əmlak agentliyi</th>\n",
              "      <th>Has more 100 houses:Hemax daşınmaz əmlak agentliyi</th>\n",
              "      <th>Has more 100 houses:New House 20 Yanvar daşınmaz əmlak agentliyi</th>\n",
              "      <th>Has more 100 houses:New House 28 May daşınmaz əmlak agentliyi</th>\n",
              "      <th>Has more 100 houses:New House Elmlər daşınmaz əmlak agentliyi</th>\n",
              "      <th>Has more 100 houses:New House Gənclik daşınmaz əmlak agentliyi</th>\n",
              "      <th>Has more 100 houses:New House Mətbuat daşınmaz əmlak agentliyi</th>\n",
              "      <th>Has more 100 houses:New Life daşınmaz əmlak agentliyi</th>\n",
              "      <th>Has more 100 houses:News Service daşınmaz əmlak agentliyi</th>\n",
              "      <th>Has more 100 houses:Nərimanov Əmlak daşınmaz əmlak agentliyi</th>\n",
              "      <th>Has more 100 houses:Qarabağ Əmlak daşınmaz əmlak agentliyi</th>\n",
              "      <th>Has more 100 houses:Qarayev Əmlak daşınmaz əmlak agentliyi</th>\n",
              "      <th>Has more 100 houses:Rahat Ev daşınmaz əmlak agentliyi</th>\n",
              "      <th>Has more 100 houses:Real Əmlak Bakı  daşınmaz əmlak agentliyi</th>\n",
              "      <th>Has more 100 houses:Real Əmlak Gənclik daşınmaz əmlak agentliyi</th>\n",
              "      <th>Has more 100 houses:Real Əmlak Həzi Aslanov daşınmaz əmlak agentliyi</th>\n",
              "      <th>Has more 100 houses:Real Əmlak Nizami  daşınmaz əmlak agentliyi</th>\n",
              "      <th>Has more 100 houses:Real Əmlak Parlament daşınmaz əmlak agentliyi</th>\n",
              "      <th>Has more 100 houses:Real Əmlak Yeni Yasamal daşınmaz əmlak agentliyi</th>\n",
              "      <th>Has more 100 houses:Rich Estate Baku daşınmaz əmlak agentliyi</th>\n",
              "      <th>Has more 100 houses:VİP House daşınmaz əmlak agentliyi</th>\n",
              "      <th>Has more 100 houses:YeniPark daşınmaz əmlak agentliyi</th>\n",
              "      <th>Has more 100 houses:Zirvə RA Əmlak daşınmaz əmlak agentliyi</th>\n",
              "      <th>Has more 100 houses:Əcəmi Əmlak daşınmaz əmlak agentliyi</th>\n",
              "      <th>ad_refreshed_date_eng</th>\n",
              "      <th>date_ad_refreshed</th>\n",
              "      <th>ad_refreshed_date_eng_final</th>\n",
              "      <th>diffrenence_in_days</th>\n",
              "    </tr>\n",
              "  </thead>\n",
              "  <tbody>\n",
              "    <tr>\n",
              "      <th>0</th>\n",
              "      <td>2348807</td>\n",
              "      <td>featuredvipped</td>\n",
              "      <td>54000</td>\n",
              "      <td>Köhnə tikili</td>\n",
              "      <td>2 / 5</td>\n",
              "      <td>50.0</td>\n",
              "      <td>2</td>\n",
              "      <td>var</td>\n",
              "      <td>R.Şahsuvarov küç 31</td>\n",
              "      <td>Suraxanı r.; Hövsan q.</td>\n",
              "      <td>40.355821</td>\n",
              "      <td>50.063575</td>\n",
              "      <td>mülkiyyətçi</td>\n",
              "      <td>3363</td>\n",
              "      <td>01 Yanvar 2022</td>\n",
              "      <td>0</td>\n",
              "      <td>2022-01-03 11:36:55</td>\n",
              "      <td>0</td>\n",
              "      <td>0</td>\n",
              "      <td>1</td>\n",
              "      <td>0</td>\n",
              "      <td>1</td>\n",
              "      <td>0</td>\n",
              "      <td>2</td>\n",
              "      <td>5.0</td>\n",
              "      <td>40.0</td>\n",
              "      <td>1</td>\n",
              "      <td>40.380489</td>\n",
              "      <td>50.032700</td>\n",
              "      <td>1</td>\n",
              "      <td>0</td>\n",
              "      <td>1</td>\n",
              "      <td>0</td>\n",
              "      <td>0</td>\n",
              "      <td>0</td>\n",
              "      <td>0</td>\n",
              "      <td>0</td>\n",
              "      <td>0</td>\n",
              "      <td>0</td>\n",
              "      <td>0</td>\n",
              "      <td>0</td>\n",
              "      <td>0</td>\n",
              "      <td>0</td>\n",
              "      <td>0</td>\n",
              "      <td>0</td>\n",
              "      <td>0</td>\n",
              "      <td>0</td>\n",
              "      <td>0</td>\n",
              "      <td>0</td>\n",
              "      <td>0</td>\n",
              "      <td>0</td>\n",
              "      <td>0</td>\n",
              "      <td>0</td>\n",
              "      <td>0</td>\n",
              "      <td>0</td>\n",
              "      <td>0</td>\n",
              "      <td>0</td>\n",
              "      <td>0</td>\n",
              "      <td>0</td>\n",
              "      <td>0</td>\n",
              "      <td>0</td>\n",
              "      <td>0</td>\n",
              "      <td>0</td>\n",
              "      <td>0</td>\n",
              "      <td>0</td>\n",
              "      <td>01 January 2022</td>\n",
              "      <td>2022-01-01</td>\n",
              "      <td>01 January 2022</td>\n",
              "      <td>2</td>\n",
              "    </tr>\n",
              "    <tr>\n",
              "      <th>1</th>\n",
              "      <td>1710054</td>\n",
              "      <td>vipped</td>\n",
              "      <td>289000</td>\n",
              "      <td>Yeni tikili</td>\n",
              "      <td>5 / 17</td>\n",
              "      <td>180.0</td>\n",
              "      <td>4</td>\n",
              "      <td>var</td>\n",
              "      <td>Affiyədin Cəlilov küç.</td>\n",
              "      <td>Şah İsmayıl Xətai m.; Xətai r.</td>\n",
              "      <td>40.378917</td>\n",
              "      <td>49.875682</td>\n",
              "      <td>mülkiyyətçi</td>\n",
              "      <td>7348</td>\n",
              "      <td>22 Dekabr 2021</td>\n",
              "      <td>0</td>\n",
              "      <td>2022-01-03 11:36:55</td>\n",
              "      <td>0</td>\n",
              "      <td>0</td>\n",
              "      <td>0</td>\n",
              "      <td>1</td>\n",
              "      <td>0</td>\n",
              "      <td>1</td>\n",
              "      <td>5</td>\n",
              "      <td>17.0</td>\n",
              "      <td>29.0</td>\n",
              "      <td>1</td>\n",
              "      <td>40.380310</td>\n",
              "      <td>49.897551</td>\n",
              "      <td>1</td>\n",
              "      <td>0</td>\n",
              "      <td>1</td>\n",
              "      <td>0</td>\n",
              "      <td>0</td>\n",
              "      <td>0</td>\n",
              "      <td>0</td>\n",
              "      <td>0</td>\n",
              "      <td>0</td>\n",
              "      <td>0</td>\n",
              "      <td>0</td>\n",
              "      <td>0</td>\n",
              "      <td>0</td>\n",
              "      <td>0</td>\n",
              "      <td>0</td>\n",
              "      <td>0</td>\n",
              "      <td>0</td>\n",
              "      <td>0</td>\n",
              "      <td>0</td>\n",
              "      <td>0</td>\n",
              "      <td>0</td>\n",
              "      <td>0</td>\n",
              "      <td>0</td>\n",
              "      <td>0</td>\n",
              "      <td>0</td>\n",
              "      <td>0</td>\n",
              "      <td>0</td>\n",
              "      <td>0</td>\n",
              "      <td>0</td>\n",
              "      <td>0</td>\n",
              "      <td>0</td>\n",
              "      <td>0</td>\n",
              "      <td>0</td>\n",
              "      <td>0</td>\n",
              "      <td>0</td>\n",
              "      <td>0</td>\n",
              "      <td>22 December 2021</td>\n",
              "      <td>2021-12-22</td>\n",
              "      <td>22 December 2021</td>\n",
              "      <td>12</td>\n",
              "    </tr>\n",
              "    <tr>\n",
              "      <th>2</th>\n",
              "      <td>2524899</td>\n",
              "      <td>vipped</td>\n",
              "      <td>159000</td>\n",
              "      <td>Yeni tikili</td>\n",
              "      <td>12 / 19</td>\n",
              "      <td>58.0</td>\n",
              "      <td>2</td>\n",
              "      <td>var</td>\n",
              "      <td>Azadlıq prospekti</td>\n",
              "      <td>ASAN Xidmət №1 ; TQDK ; Neftçi bazası ; Nəsimi r.</td>\n",
              "      <td>40.398415</td>\n",
              "      <td>49.839203</td>\n",
              "      <td>vasitəçi (agent)</td>\n",
              "      <td>197</td>\n",
              "      <td>28 Dekabr 2021</td>\n",
              "      <td>0</td>\n",
              "      <td>2022-01-03 11:36:55</td>\n",
              "      <td>0</td>\n",
              "      <td>0</td>\n",
              "      <td>0</td>\n",
              "      <td>1</td>\n",
              "      <td>0</td>\n",
              "      <td>1</td>\n",
              "      <td>12</td>\n",
              "      <td>19.0</td>\n",
              "      <td>63.0</td>\n",
              "      <td>1</td>\n",
              "      <td>40.395985</td>\n",
              "      <td>49.830862</td>\n",
              "      <td>0</td>\n",
              "      <td>0</td>\n",
              "      <td>1</td>\n",
              "      <td>0</td>\n",
              "      <td>0</td>\n",
              "      <td>0</td>\n",
              "      <td>0</td>\n",
              "      <td>0</td>\n",
              "      <td>0</td>\n",
              "      <td>0</td>\n",
              "      <td>0</td>\n",
              "      <td>0</td>\n",
              "      <td>0</td>\n",
              "      <td>0</td>\n",
              "      <td>0</td>\n",
              "      <td>0</td>\n",
              "      <td>0</td>\n",
              "      <td>0</td>\n",
              "      <td>0</td>\n",
              "      <td>0</td>\n",
              "      <td>0</td>\n",
              "      <td>0</td>\n",
              "      <td>0</td>\n",
              "      <td>0</td>\n",
              "      <td>0</td>\n",
              "      <td>0</td>\n",
              "      <td>0</td>\n",
              "      <td>0</td>\n",
              "      <td>0</td>\n",
              "      <td>0</td>\n",
              "      <td>0</td>\n",
              "      <td>0</td>\n",
              "      <td>0</td>\n",
              "      <td>0</td>\n",
              "      <td>0</td>\n",
              "      <td>0</td>\n",
              "      <td>28 December 2021</td>\n",
              "      <td>2021-12-28</td>\n",
              "      <td>28 December 2021</td>\n",
              "      <td>6</td>\n",
              "    </tr>\n",
              "    <tr>\n",
              "      <th>3</th>\n",
              "      <td>2529070</td>\n",
              "      <td>vipped</td>\n",
              "      <td>175000</td>\n",
              "      <td>Yeni tikili</td>\n",
              "      <td>7 / 7</td>\n",
              "      <td>117.0</td>\n",
              "      <td>3</td>\n",
              "      <td>var</td>\n",
              "      <td>Xəqani Rüstəmov küçəsi 6</td>\n",
              "      <td>Əhmədli m.; Xətai r.</td>\n",
              "      <td>40.381645</td>\n",
              "      <td>49.958450</td>\n",
              "      <td>mülkiyyətçi</td>\n",
              "      <td>376</td>\n",
              "      <td>25 Dekabr 2021</td>\n",
              "      <td>0</td>\n",
              "      <td>2022-01-03 11:36:55</td>\n",
              "      <td>0</td>\n",
              "      <td>0</td>\n",
              "      <td>0</td>\n",
              "      <td>1</td>\n",
              "      <td>0</td>\n",
              "      <td>1</td>\n",
              "      <td>7</td>\n",
              "      <td>7.0</td>\n",
              "      <td>100.0</td>\n",
              "      <td>1</td>\n",
              "      <td>40.380453</td>\n",
              "      <td>49.939698</td>\n",
              "      <td>1</td>\n",
              "      <td>0</td>\n",
              "      <td>1</td>\n",
              "      <td>0</td>\n",
              "      <td>0</td>\n",
              "      <td>0</td>\n",
              "      <td>0</td>\n",
              "      <td>0</td>\n",
              "      <td>0</td>\n",
              "      <td>0</td>\n",
              "      <td>0</td>\n",
              "      <td>0</td>\n",
              "      <td>0</td>\n",
              "      <td>0</td>\n",
              "      <td>0</td>\n",
              "      <td>0</td>\n",
              "      <td>0</td>\n",
              "      <td>0</td>\n",
              "      <td>0</td>\n",
              "      <td>0</td>\n",
              "      <td>0</td>\n",
              "      <td>0</td>\n",
              "      <td>0</td>\n",
              "      <td>0</td>\n",
              "      <td>0</td>\n",
              "      <td>0</td>\n",
              "      <td>0</td>\n",
              "      <td>0</td>\n",
              "      <td>0</td>\n",
              "      <td>0</td>\n",
              "      <td>0</td>\n",
              "      <td>0</td>\n",
              "      <td>0</td>\n",
              "      <td>0</td>\n",
              "      <td>0</td>\n",
              "      <td>0</td>\n",
              "      <td>25 December 2021</td>\n",
              "      <td>2021-12-25</td>\n",
              "      <td>25 December 2021</td>\n",
              "      <td>9</td>\n",
              "    </tr>\n",
              "    <tr>\n",
              "      <th>4</th>\n",
              "      <td>2541267</td>\n",
              "      <td>0</td>\n",
              "      <td>104000</td>\n",
              "      <td>Yeni tikili</td>\n",
              "      <td>11 / 12</td>\n",
              "      <td>65.0</td>\n",
              "      <td>2</td>\n",
              "      <td>xeyr</td>\n",
              "      <td>S.S.Axundov küç.</td>\n",
              "      <td>Azadlıq Prospekti m.; Binəqədi r.; 8-ci mikror...</td>\n",
              "      <td>40.427056</td>\n",
              "      <td>49.844324</td>\n",
              "      <td>vasitəçi (agent)</td>\n",
              "      <td>28</td>\n",
              "      <td>Bugün 15:20</td>\n",
              "      <td>New House 20 Yanvar daşınmaz əmlak agentliyi</td>\n",
              "      <td>2022-01-03 11:36:55</td>\n",
              "      <td>0</td>\n",
              "      <td>0</td>\n",
              "      <td>0</td>\n",
              "      <td>0</td>\n",
              "      <td>0</td>\n",
              "      <td>1</td>\n",
              "      <td>11</td>\n",
              "      <td>12.0</td>\n",
              "      <td>92.0</td>\n",
              "      <td>0</td>\n",
              "      <td>40.423288</td>\n",
              "      <td>49.838120</td>\n",
              "      <td>0</td>\n",
              "      <td>New House 20 Yanvar daşınmaz əmlak agentliyi</td>\n",
              "      <td>0</td>\n",
              "      <td>0</td>\n",
              "      <td>0</td>\n",
              "      <td>0</td>\n",
              "      <td>0</td>\n",
              "      <td>0</td>\n",
              "      <td>0</td>\n",
              "      <td>0</td>\n",
              "      <td>0</td>\n",
              "      <td>0</td>\n",
              "      <td>0</td>\n",
              "      <td>0</td>\n",
              "      <td>1</td>\n",
              "      <td>0</td>\n",
              "      <td>0</td>\n",
              "      <td>0</td>\n",
              "      <td>0</td>\n",
              "      <td>0</td>\n",
              "      <td>0</td>\n",
              "      <td>0</td>\n",
              "      <td>0</td>\n",
              "      <td>0</td>\n",
              "      <td>0</td>\n",
              "      <td>0</td>\n",
              "      <td>0</td>\n",
              "      <td>0</td>\n",
              "      <td>0</td>\n",
              "      <td>0</td>\n",
              "      <td>0</td>\n",
              "      <td>0</td>\n",
              "      <td>0</td>\n",
              "      <td>0</td>\n",
              "      <td>0</td>\n",
              "      <td>0</td>\n",
              "      <td>Bugün 15:20</td>\n",
              "      <td>2022-01-03</td>\n",
              "      <td>2022-01-03</td>\n",
              "      <td>0</td>\n",
              "    </tr>\n",
              "    <tr>\n",
              "      <th>...</th>\n",
              "      <td>...</td>\n",
              "      <td>...</td>\n",
              "      <td>...</td>\n",
              "      <td>...</td>\n",
              "      <td>...</td>\n",
              "      <td>...</td>\n",
              "      <td>...</td>\n",
              "      <td>...</td>\n",
              "      <td>...</td>\n",
              "      <td>...</td>\n",
              "      <td>...</td>\n",
              "      <td>...</td>\n",
              "      <td>...</td>\n",
              "      <td>...</td>\n",
              "      <td>...</td>\n",
              "      <td>...</td>\n",
              "      <td>...</td>\n",
              "      <td>...</td>\n",
              "      <td>...</td>\n",
              "      <td>...</td>\n",
              "      <td>...</td>\n",
              "      <td>...</td>\n",
              "      <td>...</td>\n",
              "      <td>...</td>\n",
              "      <td>...</td>\n",
              "      <td>...</td>\n",
              "      <td>...</td>\n",
              "      <td>...</td>\n",
              "      <td>...</td>\n",
              "      <td>...</td>\n",
              "      <td>...</td>\n",
              "      <td>...</td>\n",
              "      <td>...</td>\n",
              "      <td>...</td>\n",
              "      <td>...</td>\n",
              "      <td>...</td>\n",
              "      <td>...</td>\n",
              "      <td>...</td>\n",
              "      <td>...</td>\n",
              "      <td>...</td>\n",
              "      <td>...</td>\n",
              "      <td>...</td>\n",
              "      <td>...</td>\n",
              "      <td>...</td>\n",
              "      <td>...</td>\n",
              "      <td>...</td>\n",
              "      <td>...</td>\n",
              "      <td>...</td>\n",
              "      <td>...</td>\n",
              "      <td>...</td>\n",
              "      <td>...</td>\n",
              "      <td>...</td>\n",
              "      <td>...</td>\n",
              "      <td>...</td>\n",
              "      <td>...</td>\n",
              "      <td>...</td>\n",
              "      <td>...</td>\n",
              "      <td>...</td>\n",
              "      <td>...</td>\n",
              "      <td>...</td>\n",
              "      <td>...</td>\n",
              "      <td>...</td>\n",
              "      <td>...</td>\n",
              "      <td>...</td>\n",
              "      <td>...</td>\n",
              "      <td>...</td>\n",
              "      <td>...</td>\n",
              "      <td>...</td>\n",
              "      <td>...</td>\n",
              "    </tr>\n",
              "    <tr>\n",
              "      <th>18681</th>\n",
              "      <td>2549837</td>\n",
              "      <td>0</td>\n",
              "      <td>76000</td>\n",
              "      <td>Köhnə tikili</td>\n",
              "      <td>1 / 5</td>\n",
              "      <td>60.0</td>\n",
              "      <td>2</td>\n",
              "      <td>var</td>\n",
              "      <td>Elşən Süleymanov küç.</td>\n",
              "      <td>Xalqlar Dostluğu m.; Nizami r.; 8-ci kilometr q.</td>\n",
              "      <td>40.396238</td>\n",
              "      <td>49.958658</td>\n",
              "      <td>mülkiyyətçi</td>\n",
              "      <td>130</td>\n",
              "      <td>Dünən 16:20</td>\n",
              "      <td>0</td>\n",
              "      <td>2022-01-08 11:17:50</td>\n",
              "      <td>0</td>\n",
              "      <td>0</td>\n",
              "      <td>0</td>\n",
              "      <td>0</td>\n",
              "      <td>1</td>\n",
              "      <td>0</td>\n",
              "      <td>1</td>\n",
              "      <td>5.0</td>\n",
              "      <td>20.0</td>\n",
              "      <td>1</td>\n",
              "      <td>40.405938</td>\n",
              "      <td>49.945491</td>\n",
              "      <td>1</td>\n",
              "      <td>0</td>\n",
              "      <td>1</td>\n",
              "      <td>0</td>\n",
              "      <td>0</td>\n",
              "      <td>0</td>\n",
              "      <td>0</td>\n",
              "      <td>0</td>\n",
              "      <td>0</td>\n",
              "      <td>0</td>\n",
              "      <td>0</td>\n",
              "      <td>0</td>\n",
              "      <td>0</td>\n",
              "      <td>0</td>\n",
              "      <td>0</td>\n",
              "      <td>0</td>\n",
              "      <td>0</td>\n",
              "      <td>0</td>\n",
              "      <td>0</td>\n",
              "      <td>0</td>\n",
              "      <td>0</td>\n",
              "      <td>0</td>\n",
              "      <td>0</td>\n",
              "      <td>0</td>\n",
              "      <td>0</td>\n",
              "      <td>0</td>\n",
              "      <td>0</td>\n",
              "      <td>0</td>\n",
              "      <td>0</td>\n",
              "      <td>0</td>\n",
              "      <td>0</td>\n",
              "      <td>0</td>\n",
              "      <td>0</td>\n",
              "      <td>0</td>\n",
              "      <td>0</td>\n",
              "      <td>0</td>\n",
              "      <td>Dünən 16:20</td>\n",
              "      <td>2022-01-07</td>\n",
              "      <td>2022-01-07</td>\n",
              "      <td>1</td>\n",
              "    </tr>\n",
              "    <tr>\n",
              "      <th>18682</th>\n",
              "      <td>2549836</td>\n",
              "      <td>0</td>\n",
              "      <td>63000</td>\n",
              "      <td>Köhnə tikili</td>\n",
              "      <td>5 / 9</td>\n",
              "      <td>40.0</td>\n",
              "      <td>2</td>\n",
              "      <td>xeyr</td>\n",
              "      <td>Cəmşid Naxçıvanski küç.</td>\n",
              "      <td>Xalqlar Dostluğu m.; Nizami r.; 8-ci kilometr q.</td>\n",
              "      <td>40.402667</td>\n",
              "      <td>49.958212</td>\n",
              "      <td>vasitəçi (agent)</td>\n",
              "      <td>321</td>\n",
              "      <td>Dünən 16:20</td>\n",
              "      <td>0</td>\n",
              "      <td>2022-01-08 11:17:50</td>\n",
              "      <td>0</td>\n",
              "      <td>0</td>\n",
              "      <td>0</td>\n",
              "      <td>0</td>\n",
              "      <td>1</td>\n",
              "      <td>0</td>\n",
              "      <td>5</td>\n",
              "      <td>9.0</td>\n",
              "      <td>56.0</td>\n",
              "      <td>0</td>\n",
              "      <td>40.405938</td>\n",
              "      <td>49.945491</td>\n",
              "      <td>0</td>\n",
              "      <td>0</td>\n",
              "      <td>1</td>\n",
              "      <td>0</td>\n",
              "      <td>0</td>\n",
              "      <td>0</td>\n",
              "      <td>0</td>\n",
              "      <td>0</td>\n",
              "      <td>0</td>\n",
              "      <td>0</td>\n",
              "      <td>0</td>\n",
              "      <td>0</td>\n",
              "      <td>0</td>\n",
              "      <td>0</td>\n",
              "      <td>0</td>\n",
              "      <td>0</td>\n",
              "      <td>0</td>\n",
              "      <td>0</td>\n",
              "      <td>0</td>\n",
              "      <td>0</td>\n",
              "      <td>0</td>\n",
              "      <td>0</td>\n",
              "      <td>0</td>\n",
              "      <td>0</td>\n",
              "      <td>0</td>\n",
              "      <td>0</td>\n",
              "      <td>0</td>\n",
              "      <td>0</td>\n",
              "      <td>0</td>\n",
              "      <td>0</td>\n",
              "      <td>0</td>\n",
              "      <td>0</td>\n",
              "      <td>0</td>\n",
              "      <td>0</td>\n",
              "      <td>0</td>\n",
              "      <td>0</td>\n",
              "      <td>Dünən 16:20</td>\n",
              "      <td>2022-01-07</td>\n",
              "      <td>2022-01-07</td>\n",
              "      <td>1</td>\n",
              "    </tr>\n",
              "    <tr>\n",
              "      <th>18683</th>\n",
              "      <td>2549834</td>\n",
              "      <td>0</td>\n",
              "      <td>530000</td>\n",
              "      <td>Yeni tikili</td>\n",
              "      <td>4 / 17</td>\n",
              "      <td>162.0</td>\n",
              "      <td>3</td>\n",
              "      <td>xeyr</td>\n",
              "      <td>Qutqaşınlı küç.56</td>\n",
              "      <td>İncəsənət və Mədəniyyət Un. ; Hüseyn Cavid par...</td>\n",
              "      <td>40.375866</td>\n",
              "      <td>49.820146</td>\n",
              "      <td>vasitəçi (agent)</td>\n",
              "      <td>64</td>\n",
              "      <td>Dünən 16:20</td>\n",
              "      <td>VİP House daşınmaz əmlak agentliyi</td>\n",
              "      <td>2022-01-08 11:17:50</td>\n",
              "      <td>0</td>\n",
              "      <td>0</td>\n",
              "      <td>0</td>\n",
              "      <td>0</td>\n",
              "      <td>0</td>\n",
              "      <td>1</td>\n",
              "      <td>4</td>\n",
              "      <td>17.0</td>\n",
              "      <td>24.0</td>\n",
              "      <td>0</td>\n",
              "      <td>40.381254</td>\n",
              "      <td>49.810698</td>\n",
              "      <td>0</td>\n",
              "      <td>VİP House daşınmaz əmlak agentliyi</td>\n",
              "      <td>0</td>\n",
              "      <td>0</td>\n",
              "      <td>0</td>\n",
              "      <td>0</td>\n",
              "      <td>0</td>\n",
              "      <td>0</td>\n",
              "      <td>0</td>\n",
              "      <td>0</td>\n",
              "      <td>0</td>\n",
              "      <td>0</td>\n",
              "      <td>0</td>\n",
              "      <td>0</td>\n",
              "      <td>0</td>\n",
              "      <td>0</td>\n",
              "      <td>0</td>\n",
              "      <td>0</td>\n",
              "      <td>0</td>\n",
              "      <td>0</td>\n",
              "      <td>0</td>\n",
              "      <td>0</td>\n",
              "      <td>0</td>\n",
              "      <td>0</td>\n",
              "      <td>0</td>\n",
              "      <td>0</td>\n",
              "      <td>0</td>\n",
              "      <td>0</td>\n",
              "      <td>0</td>\n",
              "      <td>0</td>\n",
              "      <td>0</td>\n",
              "      <td>0</td>\n",
              "      <td>1</td>\n",
              "      <td>0</td>\n",
              "      <td>0</td>\n",
              "      <td>0</td>\n",
              "      <td>Dünən 16:20</td>\n",
              "      <td>2022-01-07</td>\n",
              "      <td>2022-01-07</td>\n",
              "      <td>1</td>\n",
              "    </tr>\n",
              "    <tr>\n",
              "      <th>18684</th>\n",
              "      <td>1476679</td>\n",
              "      <td>0</td>\n",
              "      <td>230000</td>\n",
              "      <td>Yeni tikili</td>\n",
              "      <td>12 / 16</td>\n",
              "      <td>146.0</td>\n",
              "      <td>3</td>\n",
              "      <td>xeyr</td>\n",
              "      <td>A.Cümə küç. 83</td>\n",
              "      <td>Azərbaycan turizm institutu ; Respublika stadi...</td>\n",
              "      <td>40.399796</td>\n",
              "      <td>49.859174</td>\n",
              "      <td>vasitəçi (agent)</td>\n",
              "      <td>2927</td>\n",
              "      <td>Dünən 16:18</td>\n",
              "      <td>Yadigar Əmlak daşınmaz əmlak agentliyi</td>\n",
              "      <td>2022-01-08 11:17:50</td>\n",
              "      <td>0</td>\n",
              "      <td>0</td>\n",
              "      <td>0</td>\n",
              "      <td>0</td>\n",
              "      <td>0</td>\n",
              "      <td>1</td>\n",
              "      <td>12</td>\n",
              "      <td>16.0</td>\n",
              "      <td>75.0</td>\n",
              "      <td>0</td>\n",
              "      <td>40.401032</td>\n",
              "      <td>49.857534</td>\n",
              "      <td>0</td>\n",
              "      <td>0</td>\n",
              "      <td>1</td>\n",
              "      <td>0</td>\n",
              "      <td>0</td>\n",
              "      <td>0</td>\n",
              "      <td>0</td>\n",
              "      <td>0</td>\n",
              "      <td>0</td>\n",
              "      <td>0</td>\n",
              "      <td>0</td>\n",
              "      <td>0</td>\n",
              "      <td>0</td>\n",
              "      <td>0</td>\n",
              "      <td>0</td>\n",
              "      <td>0</td>\n",
              "      <td>0</td>\n",
              "      <td>0</td>\n",
              "      <td>0</td>\n",
              "      <td>0</td>\n",
              "      <td>0</td>\n",
              "      <td>0</td>\n",
              "      <td>0</td>\n",
              "      <td>0</td>\n",
              "      <td>0</td>\n",
              "      <td>0</td>\n",
              "      <td>0</td>\n",
              "      <td>0</td>\n",
              "      <td>0</td>\n",
              "      <td>0</td>\n",
              "      <td>0</td>\n",
              "      <td>0</td>\n",
              "      <td>0</td>\n",
              "      <td>0</td>\n",
              "      <td>0</td>\n",
              "      <td>0</td>\n",
              "      <td>Dünən 16:18</td>\n",
              "      <td>2022-01-07</td>\n",
              "      <td>2022-01-07</td>\n",
              "      <td>1</td>\n",
              "    </tr>\n",
              "    <tr>\n",
              "      <th>18685</th>\n",
              "      <td>2549672</td>\n",
              "      <td>0</td>\n",
              "      <td>105000</td>\n",
              "      <td>Yeni tikili</td>\n",
              "      <td>7 / 16</td>\n",
              "      <td>60.0</td>\n",
              "      <td>2</td>\n",
              "      <td>var</td>\n",
              "      <td>Naxçıvanski k.</td>\n",
              "      <td>Nizami r.</td>\n",
              "      <td>40.407804</td>\n",
              "      <td>49.957138</td>\n",
              "      <td>vasitəçi (agent)</td>\n",
              "      <td>82</td>\n",
              "      <td>Dünən 22:17</td>\n",
              "      <td>New Life daşınmaz əmlak agentliyi</td>\n",
              "      <td>2022-01-08 11:17:50</td>\n",
              "      <td>0</td>\n",
              "      <td>0</td>\n",
              "      <td>0</td>\n",
              "      <td>0</td>\n",
              "      <td>0</td>\n",
              "      <td>1</td>\n",
              "      <td>7</td>\n",
              "      <td>16.0</td>\n",
              "      <td>44.0</td>\n",
              "      <td>1</td>\n",
              "      <td>40.410069</td>\n",
              "      <td>49.940527</td>\n",
              "      <td>0</td>\n",
              "      <td>New Life daşınmaz əmlak agentliyi</td>\n",
              "      <td>0</td>\n",
              "      <td>0</td>\n",
              "      <td>0</td>\n",
              "      <td>0</td>\n",
              "      <td>0</td>\n",
              "      <td>0</td>\n",
              "      <td>0</td>\n",
              "      <td>0</td>\n",
              "      <td>0</td>\n",
              "      <td>0</td>\n",
              "      <td>0</td>\n",
              "      <td>0</td>\n",
              "      <td>0</td>\n",
              "      <td>0</td>\n",
              "      <td>0</td>\n",
              "      <td>0</td>\n",
              "      <td>0</td>\n",
              "      <td>1</td>\n",
              "      <td>0</td>\n",
              "      <td>0</td>\n",
              "      <td>0</td>\n",
              "      <td>0</td>\n",
              "      <td>0</td>\n",
              "      <td>0</td>\n",
              "      <td>0</td>\n",
              "      <td>0</td>\n",
              "      <td>0</td>\n",
              "      <td>0</td>\n",
              "      <td>0</td>\n",
              "      <td>0</td>\n",
              "      <td>0</td>\n",
              "      <td>0</td>\n",
              "      <td>0</td>\n",
              "      <td>0</td>\n",
              "      <td>Dünən 22:17</td>\n",
              "      <td>2022-01-07</td>\n",
              "      <td>2022-01-07</td>\n",
              "      <td>1</td>\n",
              "    </tr>\n",
              "  </tbody>\n",
              "</table>\n",
              "<p>18675 rows × 69 columns</p>\n",
              "</div>\n",
              "      <button class=\"colab-df-convert\" onclick=\"convertToInteractive('df-b6f25dc9-15e3-41cd-8e8a-d9b2a574399f')\"\n",
              "              title=\"Convert this dataframe to an interactive table.\"\n",
              "              style=\"display:none;\">\n",
              "        \n",
              "  <svg xmlns=\"http://www.w3.org/2000/svg\" height=\"24px\"viewBox=\"0 0 24 24\"\n",
              "       width=\"24px\">\n",
              "    <path d=\"M0 0h24v24H0V0z\" fill=\"none\"/>\n",
              "    <path d=\"M18.56 5.44l.94 2.06.94-2.06 2.06-.94-2.06-.94-.94-2.06-.94 2.06-2.06.94zm-11 1L8.5 8.5l.94-2.06 2.06-.94-2.06-.94L8.5 2.5l-.94 2.06-2.06.94zm10 10l.94 2.06.94-2.06 2.06-.94-2.06-.94-.94-2.06-.94 2.06-2.06.94z\"/><path d=\"M17.41 7.96l-1.37-1.37c-.4-.4-.92-.59-1.43-.59-.52 0-1.04.2-1.43.59L10.3 9.45l-7.72 7.72c-.78.78-.78 2.05 0 2.83L4 21.41c.39.39.9.59 1.41.59.51 0 1.02-.2 1.41-.59l7.78-7.78 2.81-2.81c.8-.78.8-2.07 0-2.86zM5.41 20L4 18.59l7.72-7.72 1.47 1.35L5.41 20z\"/>\n",
              "  </svg>\n",
              "      </button>\n",
              "      \n",
              "  <style>\n",
              "    .colab-df-container {\n",
              "      display:flex;\n",
              "      flex-wrap:wrap;\n",
              "      gap: 12px;\n",
              "    }\n",
              "\n",
              "    .colab-df-convert {\n",
              "      background-color: #E8F0FE;\n",
              "      border: none;\n",
              "      border-radius: 50%;\n",
              "      cursor: pointer;\n",
              "      display: none;\n",
              "      fill: #1967D2;\n",
              "      height: 32px;\n",
              "      padding: 0 0 0 0;\n",
              "      width: 32px;\n",
              "    }\n",
              "\n",
              "    .colab-df-convert:hover {\n",
              "      background-color: #E2EBFA;\n",
              "      box-shadow: 0px 1px 2px rgba(60, 64, 67, 0.3), 0px 1px 3px 1px rgba(60, 64, 67, 0.15);\n",
              "      fill: #174EA6;\n",
              "    }\n",
              "\n",
              "    [theme=dark] .colab-df-convert {\n",
              "      background-color: #3B4455;\n",
              "      fill: #D2E3FC;\n",
              "    }\n",
              "\n",
              "    [theme=dark] .colab-df-convert:hover {\n",
              "      background-color: #434B5C;\n",
              "      box-shadow: 0px 1px 3px 1px rgba(0, 0, 0, 0.15);\n",
              "      filter: drop-shadow(0px 1px 2px rgba(0, 0, 0, 0.3));\n",
              "      fill: #FFFFFF;\n",
              "    }\n",
              "  </style>\n",
              "\n",
              "      <script>\n",
              "        const buttonEl =\n",
              "          document.querySelector('#df-b6f25dc9-15e3-41cd-8e8a-d9b2a574399f button.colab-df-convert');\n",
              "        buttonEl.style.display =\n",
              "          google.colab.kernel.accessAllowed ? 'block' : 'none';\n",
              "\n",
              "        async function convertToInteractive(key) {\n",
              "          const element = document.querySelector('#df-b6f25dc9-15e3-41cd-8e8a-d9b2a574399f');\n",
              "          const dataTable =\n",
              "            await google.colab.kernel.invokeFunction('convertToInteractive',\n",
              "                                                     [key], {});\n",
              "          if (!dataTable) return;\n",
              "\n",
              "          const docLinkHtml = 'Like what you see? Visit the ' +\n",
              "            '<a target=\"_blank\" href=https://colab.research.google.com/notebooks/data_table.ipynb>data table notebook</a>'\n",
              "            + ' to learn more about interactive tables.';\n",
              "          element.innerHTML = '';\n",
              "          dataTable['output_type'] = 'display_data';\n",
              "          await google.colab.output.renderOutput(dataTable, element);\n",
              "          const docLink = document.createElement('div');\n",
              "          docLink.innerHTML = docLinkHtml;\n",
              "          element.appendChild(docLink);\n",
              "        }\n",
              "      </script>\n",
              "    </div>\n",
              "  </div>\n",
              "  "
            ],
            "text/plain": [
              "           ids vipped_featured  ...  ad_refreshed_date_eng_final diffrenence_in_days\n",
              "0      2348807  featuredvipped  ...             01 January 2022                    2\n",
              "1      1710054          vipped  ...            22 December 2021                   12\n",
              "2      2524899          vipped  ...            28 December 2021                    6\n",
              "3      2529070          vipped  ...            25 December 2021                    9\n",
              "4      2541267               0  ...                   2022-01-03                   0\n",
              "...        ...             ...  ...                          ...                 ...\n",
              "18681  2549837               0  ...                   2022-01-07                   1\n",
              "18682  2549836               0  ...                   2022-01-07                   1\n",
              "18683  2549834               0  ...                   2022-01-07                   1\n",
              "18684  1476679               0  ...                   2022-01-07                   1\n",
              "18685  2549672               0  ...                   2022-01-07                   1\n",
              "\n",
              "[18675 rows x 69 columns]"
            ]
          },
          "metadata": {},
          "execution_count": 327
        }
      ]
    },
    {
      "cell_type": "markdown",
      "source": [
        "# Modeling"
      ],
      "metadata": {
        "id": "LSjAhlCstzz4"
      }
    },
    {
      "cell_type": "code",
      "source": [
        "columns_for_modeling = [\n",
        " 'prices',\n",
        " 'areas_m2',\n",
        " 'rooms',\n",
        " 'latitudes',\n",
        " 'longitudes',\n",
        " 'watches',\n",
        " 'ad_type_featured',\n",
        " 'ad_type_featuredvipped',\n",
        " 'ad_type_vipped',\n",
        " 'Yeni tikili',\n",
        " 'apartment_floor',\n",
        " 'buildings_floor',\n",
        " 'percent_of_building_height',\n",
        " 'Credit_var',\n",
        " #'final_latitude',\n",
        " #'final_longitude',\n",
        " 'mülkiyyətçi',\n",
        " 'Has more 100 houses:0',\n",
        " 'Has more 100 houses:Avalon daşınmaz əmlak agentliyi',\n",
        " 'Has more 100 houses:Az House daşınmaz əmlak agentliyi',\n",
        " 'Has more 100 houses:Azadlıq Əmlak daşınmaz əmlak agentliyi',\n",
        " 'Has more 100 houses:Baku House daşınmaz əmlak agentliyi',\n",
        " 'Has more 100 houses:Baku Realtor daşınmaz əmlak agentliyi',\n",
        " 'Has more 100 houses:Caspian daşınmaz əmlak agentliyi',\n",
        " 'Has more 100 houses:City M House daşınmaz əmlak agentliyi',\n",
        " 'Has more 100 houses:Dostluq Əmlak daşınmaz əmlak agentliyi',\n",
        " 'Has more 100 houses:Elmlər Əmlak daşınmaz əmlak agentliyi',\n",
        " 'Has more 100 houses:Garant Əmlak daşınmaz əmlak agentliyi',\n",
        " 'Has more 100 houses:Hemax daşınmaz əmlak agentliyi',\n",
        " 'Has more 100 houses:New House 20 Yanvar daşınmaz əmlak agentliyi',\n",
        " 'Has more 100 houses:New House 28 May daşınmaz əmlak agentliyi',\n",
        " 'Has more 100 houses:New House Elmlər daşınmaz əmlak agentliyi',\n",
        " 'Has more 100 houses:New House Gənclik daşınmaz əmlak agentliyi',\n",
        " 'Has more 100 houses:New House Mətbuat daşınmaz əmlak agentliyi',\n",
        " 'Has more 100 houses:New Life daşınmaz əmlak agentliyi',\n",
        " 'Has more 100 houses:News Service daşınmaz əmlak agentliyi',\n",
        " 'Has more 100 houses:Nərimanov Əmlak daşınmaz əmlak agentliyi',\n",
        " 'Has more 100 houses:Qarabağ Əmlak daşınmaz əmlak agentliyi',\n",
        " 'Has more 100 houses:Qarayev Əmlak daşınmaz əmlak agentliyi',\n",
        " 'Has more 100 houses:Rahat Ev daşınmaz əmlak agentliyi',\n",
        " 'Has more 100 houses:Real Əmlak Bakı  daşınmaz əmlak agentliyi',\n",
        " 'Has more 100 houses:Real Əmlak Gənclik daşınmaz əmlak agentliyi',\n",
        " 'Has more 100 houses:Real Əmlak Həzi Aslanov daşınmaz əmlak agentliyi',\n",
        " 'Has more 100 houses:Real Əmlak Nizami  daşınmaz əmlak agentliyi',\n",
        " 'Has more 100 houses:Real Əmlak Parlament daşınmaz əmlak agentliyi',\n",
        " 'Has more 100 houses:Real Əmlak Yeni Yasamal daşınmaz əmlak agentliyi',\n",
        " 'Has more 100 houses:Rich Estate Baku daşınmaz əmlak agentliyi',\n",
        " 'Has more 100 houses:VİP House daşınmaz əmlak agentliyi',\n",
        " 'Has more 100 houses:YeniPark daşınmaz əmlak agentliyi',\n",
        " 'Has more 100 houses:Zirvə RA Əmlak daşınmaz əmlak agentliyi',\n",
        " 'Has more 100 houses:Əcəmi Əmlak daşınmaz əmlak agentliyi',\n",
        " #'diffrenence_in_days' add this in the future\n",
        " ]"
      ],
      "metadata": {
        "id": "lCBQOHeRuARa"
      },
      "execution_count": 352,
      "outputs": []
    },
    {
      "cell_type": "code",
      "source": [
        "checkpoint_2 = df.copy()"
      ],
      "metadata": {
        "id": "q5jvT0ufuEeq"
      },
      "execution_count": 330,
      "outputs": []
    },
    {
      "cell_type": "code",
      "source": [
        "df = df[columns_for_modeling]"
      ],
      "metadata": {
        "id": "QAqLo8VBu_NO"
      },
      "execution_count": 353,
      "outputs": []
    },
    {
      "cell_type": "code",
      "source": [
        "df.shape"
      ],
      "metadata": {
        "colab": {
          "base_uri": "https://localhost:8080/"
        },
        "id": "ghsrOGprvBDB",
        "outputId": "f513f7f9-1bd4-43f2-d50a-d956519302eb"
      },
      "execution_count": 334,
      "outputs": [
        {
          "output_type": "execute_result",
          "data": {
            "text/plain": [
              "(18675, 52)"
            ]
          },
          "metadata": {},
          "execution_count": 334
        }
      ]
    },
    {
      "cell_type": "code",
      "source": [
        "df.head()"
      ],
      "metadata": {
        "colab": {
          "base_uri": "https://localhost:8080/",
          "height": 426
        },
        "id": "-OMPmvKxv3ZG",
        "outputId": "8efeda4a-5acc-4901-c61b-f6474b4951fe"
      },
      "execution_count": 343,
      "outputs": [
        {
          "output_type": "execute_result",
          "data": {
            "text/html": [
              "\n",
              "  <div id=\"df-d4067650-462c-44f2-abb0-e29157763104\">\n",
              "    <div class=\"colab-df-container\">\n",
              "      <div>\n",
              "<style scoped>\n",
              "    .dataframe tbody tr th:only-of-type {\n",
              "        vertical-align: middle;\n",
              "    }\n",
              "\n",
              "    .dataframe tbody tr th {\n",
              "        vertical-align: top;\n",
              "    }\n",
              "\n",
              "    .dataframe thead th {\n",
              "        text-align: right;\n",
              "    }\n",
              "</style>\n",
              "<table border=\"1\" class=\"dataframe\">\n",
              "  <thead>\n",
              "    <tr style=\"text-align: right;\">\n",
              "      <th></th>\n",
              "      <th>prices</th>\n",
              "      <th>areas_m2</th>\n",
              "      <th>rooms</th>\n",
              "      <th>latitudes</th>\n",
              "      <th>longitudes</th>\n",
              "      <th>ownerships</th>\n",
              "      <th>watches</th>\n",
              "      <th>ad_type_featured</th>\n",
              "      <th>ad_type_featuredvipped</th>\n",
              "      <th>ad_type_vipped</th>\n",
              "      <th>Yeni tikili</th>\n",
              "      <th>apartment_floor</th>\n",
              "      <th>buildings_floor</th>\n",
              "      <th>percent_of_building_height</th>\n",
              "      <th>Credit_var</th>\n",
              "      <th>mülkiyyətçi</th>\n",
              "      <th>Has more 100 houses:0</th>\n",
              "      <th>Has more 100 houses:Avalon daşınmaz əmlak agentliyi</th>\n",
              "      <th>Has more 100 houses:Az House daşınmaz əmlak agentliyi</th>\n",
              "      <th>Has more 100 houses:Azadlıq Əmlak daşınmaz əmlak agentliyi</th>\n",
              "      <th>Has more 100 houses:Baku House daşınmaz əmlak agentliyi</th>\n",
              "      <th>Has more 100 houses:Baku Realtor daşınmaz əmlak agentliyi</th>\n",
              "      <th>Has more 100 houses:Caspian daşınmaz əmlak agentliyi</th>\n",
              "      <th>Has more 100 houses:City M House daşınmaz əmlak agentliyi</th>\n",
              "      <th>Has more 100 houses:Dostluq Əmlak daşınmaz əmlak agentliyi</th>\n",
              "      <th>Has more 100 houses:Elmlər Əmlak daşınmaz əmlak agentliyi</th>\n",
              "      <th>Has more 100 houses:Garant Əmlak daşınmaz əmlak agentliyi</th>\n",
              "      <th>Has more 100 houses:Hemax daşınmaz əmlak agentliyi</th>\n",
              "      <th>Has more 100 houses:New House 20 Yanvar daşınmaz əmlak agentliyi</th>\n",
              "      <th>Has more 100 houses:New House 28 May daşınmaz əmlak agentliyi</th>\n",
              "      <th>Has more 100 houses:New House Elmlər daşınmaz əmlak agentliyi</th>\n",
              "      <th>Has more 100 houses:New House Gənclik daşınmaz əmlak agentliyi</th>\n",
              "      <th>Has more 100 houses:New House Mətbuat daşınmaz əmlak agentliyi</th>\n",
              "      <th>Has more 100 houses:New Life daşınmaz əmlak agentliyi</th>\n",
              "      <th>Has more 100 houses:News Service daşınmaz əmlak agentliyi</th>\n",
              "      <th>Has more 100 houses:Nərimanov Əmlak daşınmaz əmlak agentliyi</th>\n",
              "      <th>Has more 100 houses:Qarabağ Əmlak daşınmaz əmlak agentliyi</th>\n",
              "      <th>Has more 100 houses:Qarayev Əmlak daşınmaz əmlak agentliyi</th>\n",
              "      <th>Has more 100 houses:Rahat Ev daşınmaz əmlak agentliyi</th>\n",
              "      <th>Has more 100 houses:Real Əmlak Bakı  daşınmaz əmlak agentliyi</th>\n",
              "      <th>Has more 100 houses:Real Əmlak Gənclik daşınmaz əmlak agentliyi</th>\n",
              "      <th>Has more 100 houses:Real Əmlak Həzi Aslanov daşınmaz əmlak agentliyi</th>\n",
              "      <th>Has more 100 houses:Real Əmlak Nizami  daşınmaz əmlak agentliyi</th>\n",
              "      <th>Has more 100 houses:Real Əmlak Parlament daşınmaz əmlak agentliyi</th>\n",
              "      <th>Has more 100 houses:Real Əmlak Yeni Yasamal daşınmaz əmlak agentliyi</th>\n",
              "      <th>Has more 100 houses:Rich Estate Baku daşınmaz əmlak agentliyi</th>\n",
              "      <th>Has more 100 houses:VİP House daşınmaz əmlak agentliyi</th>\n",
              "      <th>Has more 100 houses:YeniPark daşınmaz əmlak agentliyi</th>\n",
              "      <th>Has more 100 houses:Zirvə RA Əmlak daşınmaz əmlak agentliyi</th>\n",
              "      <th>Has more 100 houses:Əcəmi Əmlak daşınmaz əmlak agentliyi</th>\n",
              "    </tr>\n",
              "  </thead>\n",
              "  <tbody>\n",
              "    <tr>\n",
              "      <th>0</th>\n",
              "      <td>54000</td>\n",
              "      <td>50.0</td>\n",
              "      <td>2</td>\n",
              "      <td>40.355821</td>\n",
              "      <td>50.063575</td>\n",
              "      <td>mülkiyyətçi</td>\n",
              "      <td>3363</td>\n",
              "      <td>0</td>\n",
              "      <td>1</td>\n",
              "      <td>0</td>\n",
              "      <td>0</td>\n",
              "      <td>2</td>\n",
              "      <td>5.0</td>\n",
              "      <td>40.0</td>\n",
              "      <td>1</td>\n",
              "      <td>1</td>\n",
              "      <td>1</td>\n",
              "      <td>0</td>\n",
              "      <td>0</td>\n",
              "      <td>0</td>\n",
              "      <td>0</td>\n",
              "      <td>0</td>\n",
              "      <td>0</td>\n",
              "      <td>0</td>\n",
              "      <td>0</td>\n",
              "      <td>0</td>\n",
              "      <td>0</td>\n",
              "      <td>0</td>\n",
              "      <td>0</td>\n",
              "      <td>0</td>\n",
              "      <td>0</td>\n",
              "      <td>0</td>\n",
              "      <td>0</td>\n",
              "      <td>0</td>\n",
              "      <td>0</td>\n",
              "      <td>0</td>\n",
              "      <td>0</td>\n",
              "      <td>0</td>\n",
              "      <td>0</td>\n",
              "      <td>0</td>\n",
              "      <td>0</td>\n",
              "      <td>0</td>\n",
              "      <td>0</td>\n",
              "      <td>0</td>\n",
              "      <td>0</td>\n",
              "      <td>0</td>\n",
              "      <td>0</td>\n",
              "      <td>0</td>\n",
              "      <td>0</td>\n",
              "      <td>0</td>\n",
              "    </tr>\n",
              "    <tr>\n",
              "      <th>1</th>\n",
              "      <td>289000</td>\n",
              "      <td>180.0</td>\n",
              "      <td>4</td>\n",
              "      <td>40.378917</td>\n",
              "      <td>49.875682</td>\n",
              "      <td>mülkiyyətçi</td>\n",
              "      <td>7348</td>\n",
              "      <td>0</td>\n",
              "      <td>0</td>\n",
              "      <td>1</td>\n",
              "      <td>1</td>\n",
              "      <td>5</td>\n",
              "      <td>17.0</td>\n",
              "      <td>29.0</td>\n",
              "      <td>1</td>\n",
              "      <td>1</td>\n",
              "      <td>1</td>\n",
              "      <td>0</td>\n",
              "      <td>0</td>\n",
              "      <td>0</td>\n",
              "      <td>0</td>\n",
              "      <td>0</td>\n",
              "      <td>0</td>\n",
              "      <td>0</td>\n",
              "      <td>0</td>\n",
              "      <td>0</td>\n",
              "      <td>0</td>\n",
              "      <td>0</td>\n",
              "      <td>0</td>\n",
              "      <td>0</td>\n",
              "      <td>0</td>\n",
              "      <td>0</td>\n",
              "      <td>0</td>\n",
              "      <td>0</td>\n",
              "      <td>0</td>\n",
              "      <td>0</td>\n",
              "      <td>0</td>\n",
              "      <td>0</td>\n",
              "      <td>0</td>\n",
              "      <td>0</td>\n",
              "      <td>0</td>\n",
              "      <td>0</td>\n",
              "      <td>0</td>\n",
              "      <td>0</td>\n",
              "      <td>0</td>\n",
              "      <td>0</td>\n",
              "      <td>0</td>\n",
              "      <td>0</td>\n",
              "      <td>0</td>\n",
              "      <td>0</td>\n",
              "    </tr>\n",
              "    <tr>\n",
              "      <th>2</th>\n",
              "      <td>159000</td>\n",
              "      <td>58.0</td>\n",
              "      <td>2</td>\n",
              "      <td>40.398415</td>\n",
              "      <td>49.839203</td>\n",
              "      <td>vasitəçi (agent)</td>\n",
              "      <td>197</td>\n",
              "      <td>0</td>\n",
              "      <td>0</td>\n",
              "      <td>1</td>\n",
              "      <td>1</td>\n",
              "      <td>12</td>\n",
              "      <td>19.0</td>\n",
              "      <td>63.0</td>\n",
              "      <td>1</td>\n",
              "      <td>0</td>\n",
              "      <td>1</td>\n",
              "      <td>0</td>\n",
              "      <td>0</td>\n",
              "      <td>0</td>\n",
              "      <td>0</td>\n",
              "      <td>0</td>\n",
              "      <td>0</td>\n",
              "      <td>0</td>\n",
              "      <td>0</td>\n",
              "      <td>0</td>\n",
              "      <td>0</td>\n",
              "      <td>0</td>\n",
              "      <td>0</td>\n",
              "      <td>0</td>\n",
              "      <td>0</td>\n",
              "      <td>0</td>\n",
              "      <td>0</td>\n",
              "      <td>0</td>\n",
              "      <td>0</td>\n",
              "      <td>0</td>\n",
              "      <td>0</td>\n",
              "      <td>0</td>\n",
              "      <td>0</td>\n",
              "      <td>0</td>\n",
              "      <td>0</td>\n",
              "      <td>0</td>\n",
              "      <td>0</td>\n",
              "      <td>0</td>\n",
              "      <td>0</td>\n",
              "      <td>0</td>\n",
              "      <td>0</td>\n",
              "      <td>0</td>\n",
              "      <td>0</td>\n",
              "      <td>0</td>\n",
              "    </tr>\n",
              "    <tr>\n",
              "      <th>3</th>\n",
              "      <td>175000</td>\n",
              "      <td>117.0</td>\n",
              "      <td>3</td>\n",
              "      <td>40.381645</td>\n",
              "      <td>49.958450</td>\n",
              "      <td>mülkiyyətçi</td>\n",
              "      <td>376</td>\n",
              "      <td>0</td>\n",
              "      <td>0</td>\n",
              "      <td>1</td>\n",
              "      <td>1</td>\n",
              "      <td>7</td>\n",
              "      <td>7.0</td>\n",
              "      <td>100.0</td>\n",
              "      <td>1</td>\n",
              "      <td>1</td>\n",
              "      <td>1</td>\n",
              "      <td>0</td>\n",
              "      <td>0</td>\n",
              "      <td>0</td>\n",
              "      <td>0</td>\n",
              "      <td>0</td>\n",
              "      <td>0</td>\n",
              "      <td>0</td>\n",
              "      <td>0</td>\n",
              "      <td>0</td>\n",
              "      <td>0</td>\n",
              "      <td>0</td>\n",
              "      <td>0</td>\n",
              "      <td>0</td>\n",
              "      <td>0</td>\n",
              "      <td>0</td>\n",
              "      <td>0</td>\n",
              "      <td>0</td>\n",
              "      <td>0</td>\n",
              "      <td>0</td>\n",
              "      <td>0</td>\n",
              "      <td>0</td>\n",
              "      <td>0</td>\n",
              "      <td>0</td>\n",
              "      <td>0</td>\n",
              "      <td>0</td>\n",
              "      <td>0</td>\n",
              "      <td>0</td>\n",
              "      <td>0</td>\n",
              "      <td>0</td>\n",
              "      <td>0</td>\n",
              "      <td>0</td>\n",
              "      <td>0</td>\n",
              "      <td>0</td>\n",
              "    </tr>\n",
              "    <tr>\n",
              "      <th>4</th>\n",
              "      <td>104000</td>\n",
              "      <td>65.0</td>\n",
              "      <td>2</td>\n",
              "      <td>40.427056</td>\n",
              "      <td>49.844324</td>\n",
              "      <td>vasitəçi (agent)</td>\n",
              "      <td>28</td>\n",
              "      <td>0</td>\n",
              "      <td>0</td>\n",
              "      <td>0</td>\n",
              "      <td>1</td>\n",
              "      <td>11</td>\n",
              "      <td>12.0</td>\n",
              "      <td>92.0</td>\n",
              "      <td>0</td>\n",
              "      <td>0</td>\n",
              "      <td>0</td>\n",
              "      <td>0</td>\n",
              "      <td>0</td>\n",
              "      <td>0</td>\n",
              "      <td>0</td>\n",
              "      <td>0</td>\n",
              "      <td>0</td>\n",
              "      <td>0</td>\n",
              "      <td>0</td>\n",
              "      <td>0</td>\n",
              "      <td>0</td>\n",
              "      <td>0</td>\n",
              "      <td>1</td>\n",
              "      <td>0</td>\n",
              "      <td>0</td>\n",
              "      <td>0</td>\n",
              "      <td>0</td>\n",
              "      <td>0</td>\n",
              "      <td>0</td>\n",
              "      <td>0</td>\n",
              "      <td>0</td>\n",
              "      <td>0</td>\n",
              "      <td>0</td>\n",
              "      <td>0</td>\n",
              "      <td>0</td>\n",
              "      <td>0</td>\n",
              "      <td>0</td>\n",
              "      <td>0</td>\n",
              "      <td>0</td>\n",
              "      <td>0</td>\n",
              "      <td>0</td>\n",
              "      <td>0</td>\n",
              "      <td>0</td>\n",
              "      <td>0</td>\n",
              "    </tr>\n",
              "  </tbody>\n",
              "</table>\n",
              "</div>\n",
              "      <button class=\"colab-df-convert\" onclick=\"convertToInteractive('df-d4067650-462c-44f2-abb0-e29157763104')\"\n",
              "              title=\"Convert this dataframe to an interactive table.\"\n",
              "              style=\"display:none;\">\n",
              "        \n",
              "  <svg xmlns=\"http://www.w3.org/2000/svg\" height=\"24px\"viewBox=\"0 0 24 24\"\n",
              "       width=\"24px\">\n",
              "    <path d=\"M0 0h24v24H0V0z\" fill=\"none\"/>\n",
              "    <path d=\"M18.56 5.44l.94 2.06.94-2.06 2.06-.94-2.06-.94-.94-2.06-.94 2.06-2.06.94zm-11 1L8.5 8.5l.94-2.06 2.06-.94-2.06-.94L8.5 2.5l-.94 2.06-2.06.94zm10 10l.94 2.06.94-2.06 2.06-.94-2.06-.94-.94-2.06-.94 2.06-2.06.94z\"/><path d=\"M17.41 7.96l-1.37-1.37c-.4-.4-.92-.59-1.43-.59-.52 0-1.04.2-1.43.59L10.3 9.45l-7.72 7.72c-.78.78-.78 2.05 0 2.83L4 21.41c.39.39.9.59 1.41.59.51 0 1.02-.2 1.41-.59l7.78-7.78 2.81-2.81c.8-.78.8-2.07 0-2.86zM5.41 20L4 18.59l7.72-7.72 1.47 1.35L5.41 20z\"/>\n",
              "  </svg>\n",
              "      </button>\n",
              "      \n",
              "  <style>\n",
              "    .colab-df-container {\n",
              "      display:flex;\n",
              "      flex-wrap:wrap;\n",
              "      gap: 12px;\n",
              "    }\n",
              "\n",
              "    .colab-df-convert {\n",
              "      background-color: #E8F0FE;\n",
              "      border: none;\n",
              "      border-radius: 50%;\n",
              "      cursor: pointer;\n",
              "      display: none;\n",
              "      fill: #1967D2;\n",
              "      height: 32px;\n",
              "      padding: 0 0 0 0;\n",
              "      width: 32px;\n",
              "    }\n",
              "\n",
              "    .colab-df-convert:hover {\n",
              "      background-color: #E2EBFA;\n",
              "      box-shadow: 0px 1px 2px rgba(60, 64, 67, 0.3), 0px 1px 3px 1px rgba(60, 64, 67, 0.15);\n",
              "      fill: #174EA6;\n",
              "    }\n",
              "\n",
              "    [theme=dark] .colab-df-convert {\n",
              "      background-color: #3B4455;\n",
              "      fill: #D2E3FC;\n",
              "    }\n",
              "\n",
              "    [theme=dark] .colab-df-convert:hover {\n",
              "      background-color: #434B5C;\n",
              "      box-shadow: 0px 1px 3px 1px rgba(0, 0, 0, 0.15);\n",
              "      filter: drop-shadow(0px 1px 2px rgba(0, 0, 0, 0.3));\n",
              "      fill: #FFFFFF;\n",
              "    }\n",
              "  </style>\n",
              "\n",
              "      <script>\n",
              "        const buttonEl =\n",
              "          document.querySelector('#df-d4067650-462c-44f2-abb0-e29157763104 button.colab-df-convert');\n",
              "        buttonEl.style.display =\n",
              "          google.colab.kernel.accessAllowed ? 'block' : 'none';\n",
              "\n",
              "        async function convertToInteractive(key) {\n",
              "          const element = document.querySelector('#df-d4067650-462c-44f2-abb0-e29157763104');\n",
              "          const dataTable =\n",
              "            await google.colab.kernel.invokeFunction('convertToInteractive',\n",
              "                                                     [key], {});\n",
              "          if (!dataTable) return;\n",
              "\n",
              "          const docLinkHtml = 'Like what you see? Visit the ' +\n",
              "            '<a target=\"_blank\" href=https://colab.research.google.com/notebooks/data_table.ipynb>data table notebook</a>'\n",
              "            + ' to learn more about interactive tables.';\n",
              "          element.innerHTML = '';\n",
              "          dataTable['output_type'] = 'display_data';\n",
              "          await google.colab.output.renderOutput(dataTable, element);\n",
              "          const docLink = document.createElement('div');\n",
              "          docLink.innerHTML = docLinkHtml;\n",
              "          element.appendChild(docLink);\n",
              "        }\n",
              "      </script>\n",
              "    </div>\n",
              "  </div>\n",
              "  "
            ],
            "text/plain": [
              "   prices  ...  Has more 100 houses:Əcəmi Əmlak daşınmaz əmlak agentliyi\n",
              "0   54000  ...                                                  0       \n",
              "1  289000  ...                                                  0       \n",
              "2  159000  ...                                                  0       \n",
              "3  175000  ...                                                  0       \n",
              "4  104000  ...                                                  0       \n",
              "\n",
              "[5 rows x 50 columns]"
            ]
          },
          "metadata": {},
          "execution_count": 343
        }
      ]
    },
    {
      "cell_type": "code",
      "source": [
        "from sklearn.linear_model import LinearRegression\n",
        "from sklearn.model_selection import train_test_split"
      ],
      "metadata": {
        "id": "yD4UoR-cv40A"
      },
      "execution_count": 400,
      "outputs": []
    },
    {
      "cell_type": "code",
      "source": [
        "X = df.drop('prices', axis=1)\n",
        "y = df['prices']"
      ],
      "metadata": {
        "id": "NkrqVHBYwsbN"
      },
      "execution_count": 422,
      "outputs": []
    },
    {
      "cell_type": "code",
      "source": [
        "y = np.log(df['prices'])"
      ],
      "metadata": {
        "id": "UMRivf07w6rE"
      },
      "execution_count": 439,
      "outputs": []
    },
    {
      "cell_type": "code",
      "source": [
        "X_train, X_test, y_train, y_test = train_test_split(X, y, test_size=0.33, random_state=42)"
      ],
      "metadata": {
        "id": "uPPizIw-wkzq"
      },
      "execution_count": 440,
      "outputs": []
    },
    {
      "cell_type": "code",
      "source": [
        "lm = LinearRegression()"
      ],
      "metadata": {
        "id": "gBMp6-Nbw2fT"
      },
      "execution_count": 441,
      "outputs": []
    },
    {
      "cell_type": "code",
      "source": [
        "lm.fit(X_train, y_train)"
      ],
      "metadata": {
        "colab": {
          "base_uri": "https://localhost:8080/"
        },
        "id": "gn5Q-OT7xMM5",
        "outputId": "a9bb3448-f1f7-4843-9229-63571c8a5ae1"
      },
      "execution_count": 442,
      "outputs": [
        {
          "output_type": "execute_result",
          "data": {
            "text/plain": [
              "LinearRegression()"
            ]
          },
          "metadata": {},
          "execution_count": 442
        }
      ]
    },
    {
      "cell_type": "code",
      "source": [
        "predictions = lm.predict(X_test)"
      ],
      "metadata": {
        "id": "VLzsDuDBxQoG"
      },
      "execution_count": 443,
      "outputs": []
    },
    {
      "cell_type": "code",
      "source": [
        "sns.scatterplot(y_test, predictions)"
      ],
      "metadata": {
        "colab": {
          "base_uri": "https://localhost:8080/",
          "height": 351
        },
        "id": "lD1vR4wyxlxg",
        "outputId": "c0d55df9-3c51-4df5-f950-3f8260f85c84"
      },
      "execution_count": 444,
      "outputs": [
        {
          "output_type": "stream",
          "name": "stderr",
          "text": [
            "/usr/local/lib/python3.7/dist-packages/seaborn/_decorators.py:43: FutureWarning: Pass the following variables as keyword args: x, y. From version 0.12, the only valid positional argument will be `data`, and passing other arguments without an explicit keyword will result in an error or misinterpretation.\n",
            "  FutureWarning\n"
          ]
        },
        {
          "output_type": "execute_result",
          "data": {
            "text/plain": [
              "<matplotlib.axes._subplots.AxesSubplot at 0x7f52a4a0c410>"
            ]
          },
          "metadata": {},
          "execution_count": 444
        },
        {
          "output_type": "display_data",
          "data": {
            "image/png": "[encoded data removed]",
            "text/plain": [
              "<Figure size 432x288 with 1 Axes>"
            ]
          },
          "metadata": {}
        }
      ]
    },
    {
      "cell_type": "code",
      "source": [
        "lm.score(X_train, y_train)"
      ],
      "metadata": {
        "colab": {
          "base_uri": "https://localhost:8080/"
        },
        "id": "5I3hoDIR6rTm",
        "outputId": "5979428e-b76f-45f6-f843-8821c9f56b93"
      },
      "execution_count": 445,
      "outputs": [
        {
          "output_type": "execute_result",
          "data": {
            "text/plain": [
              "0.6285348534002424"
            ]
          },
          "metadata": {},
          "execution_count": 445
        }
      ]
    },
    {
      "cell_type": "code",
      "source": [
        "lm.score(X_test, y_test)"
      ],
      "metadata": {
        "colab": {
          "base_uri": "https://localhost:8080/"
        },
        "id": "iJj32sBI6lYk",
        "outputId": "5d9374d4-148c-4b07-87d3-eba17c6c0826"
      },
      "execution_count": 446,
      "outputs": [
        {
          "output_type": "execute_result",
          "data": {
            "text/plain": [
              "0.5971280006724321"
            ]
          },
          "metadata": {},
          "execution_count": 446
        }
      ]
    },
    {
      "cell_type": "code",
      "source": [
        "predictions"
      ],
      "metadata": {
        "colab": {
          "base_uri": "https://localhost:8080/"
        },
        "id": "OynTpSOrBgvG",
        "outputId": "551412b1-d7bd-4431-b5e7-3624a735f756"
      },
      "execution_count": 431,
      "outputs": [
        {
          "output_type": "execute_result",
          "data": {
            "text/plain": [
              "array([249505.6892195 ,  88259.91503765, 417139.7228086 , ...,\n",
              "       348868.41247611, 237080.1980393 , 217899.76424897])"
            ]
          },
          "metadata": {},
          "execution_count": 431
        }
      ]
    },
    {
      "cell_type": "code",
      "source": [
        "np.array(y_test)"
      ],
      "metadata": {
        "colab": {
          "base_uri": "https://localhost:8080/"
        },
        "id": "mnO_wP9NBiPQ",
        "outputId": "cf7c982a-3886-42f0-bdd7-eba68311dce3"
      },
      "execution_count": 432,
      "outputs": [
        {
          "output_type": "execute_result",
          "data": {
            "text/plain": [
              "array([108000, 109000, 500000, ..., 215000, 124000, 220000])"
            ]
          },
          "metadata": {},
          "execution_count": 432
        }
      ]
    },
    {
      "cell_type": "code",
      "source": [
        "from sklearn.metrics import mean_absolute_error, mean_squared_error"
      ],
      "metadata": {
        "id": "N7iw5x6yCQEg"
      },
      "execution_count": 447,
      "outputs": []
    },
    {
      "cell_type": "code",
      "source": [
        "mean_absolute_error(y_test, predictions)"
      ],
      "metadata": {
        "colab": {
          "base_uri": "https://localhost:8080/"
        },
        "id": "Mx-uI3phCPxv",
        "outputId": "911591b7-473a-4a73-c187-49eb2f3a9520"
      },
      "execution_count": 450,
      "outputs": [
        {
          "output_type": "execute_result",
          "data": {
            "text/plain": [
              "0.2627199742335076"
            ]
          },
          "metadata": {},
          "execution_count": 450
        }
      ]
    },
    {
      "cell_type": "code",
      "source": [
        "mean_absolute_error(np.exp(y_test), np.exp(predictions))"
      ],
      "metadata": {
        "colab": {
          "base_uri": "https://localhost:8080/"
        },
        "id": "4o4Zvk0ADyrf",
        "outputId": "05176c74-e6ce-4d91-f5e4-c786853a90dc"
      },
      "execution_count": 451,
      "outputs": [
        {
          "output_type": "execute_result",
          "data": {
            "text/plain": [
              "64703.469854256706"
            ]
          },
          "metadata": {},
          "execution_count": 451
        }
      ]
    },
    {
      "cell_type": "code",
      "source": [
        ""
      ],
      "metadata": {
        "id": "pU_dvx30DyZg"
      },
      "execution_count": null,
      "outputs": []
    },
    {
      "cell_type": "code",
      "source": [
        "temp = pd.DataFrame()\n",
        "temp['features'] = X_train.columns.values\n",
        "temp['coef'] = lm.coef_"
      ],
      "metadata": {
        "id": "Cq_9N8JtC1R5"
      },
      "execution_count": 437,
      "outputs": []
    },
    {
      "cell_type": "code",
      "source": [
        ""
      ],
      "metadata": {
        "id": "AVz7Em5vCg2q"
      },
      "execution_count": null,
      "outputs": []
    },
    {
      "cell_type": "code",
      "source": [
        ""
      ],
      "metadata": {
        "id": "bam_K18ICg6x"
      },
      "execution_count": null,
      "outputs": []
    },
    {
      "cell_type": "code",
      "source": [
        "np.exp(predictions)"
      ],
      "metadata": {
        "colab": {
          "base_uri": "https://localhost:8080/"
        },
        "id": "Rd39VK-_62uc",
        "outputId": "a2009ea3-d6ab-4c7e-8294-f6403efcbe20"
      },
      "execution_count": 419,
      "outputs": [
        {
          "output_type": "execute_result",
          "data": {
            "text/plain": [
              "array([226936.83247888,  91222.59912137, 399830.97859013, ...,\n",
              "       340244.51316192, 183262.26159937, 181609.9697326 ])"
            ]
          },
          "metadata": {},
          "execution_count": 419
        }
      ]
    },
    {
      "cell_type": "code",
      "source": [
        "np.array(np.exp(y_test))"
      ],
      "metadata": {
        "colab": {
          "base_uri": "https://localhost:8080/"
        },
        "id": "wJDRIh7F6Gfq",
        "outputId": "b314d5ae-dd06-4a56-b12d-f35dd93bc642"
      },
      "execution_count": 421,
      "outputs": [
        {
          "output_type": "execute_result",
          "data": {
            "text/plain": [
              "array([108000., 109000., 500000., ..., 215000., 124000., 220000.])"
            ]
          },
          "metadata": {},
          "execution_count": 421
        }
      ]
    },
    {
      "cell_type": "code",
      "source": [
        ""
      ],
      "metadata": {
        "id": "Fjfn2rYa6GOf"
      },
      "execution_count": null,
      "outputs": []
    },
    {
      "cell_type": "markdown",
      "source": [
        "### H2O"
      ],
      "metadata": {
        "id": "Gw_xnfmFxs6f"
      }
    },
    {
      "cell_type": "code",
      "source": [
        "!apt-get install default-jre\n",
        "!java -version\n",
        "!pip install h2o"
      ],
      "metadata": {
        "id": "N8FU7NmMyVTa"
      },
      "execution_count": null,
      "outputs": []
    },
    {
      "cell_type": "code",
      "source": [
        "import h2o\n",
        "h2o.init()"
      ],
      "metadata": {
        "id": "NHN-v0Vk1vKw"
      },
      "execution_count": null,
      "outputs": []
    },
    {
      "cell_type": "code",
      "source": [
        "df = pd.read_excel(\"for_h2o.xlsx\")\n",
        "df.drop('Unnamed: 0', axis=1, inplace=True)"
      ],
      "metadata": {
        "id": "E0Xb9zCA2jmr"
      },
      "execution_count": 387,
      "outputs": []
    },
    {
      "cell_type": "code",
      "source": [
        "df.drop('Unnamed: 0', axis=1, inplace=True)"
      ],
      "metadata": {
        "id": "QxrB75442_6c"
      },
      "execution_count": 376,
      "outputs": []
    },
    {
      "cell_type": "code",
      "source": [
        "df.to_csv(\"for_h2o.csv\")"
      ],
      "metadata": {
        "id": "uqL1VmhV2r6G"
      },
      "execution_count": 379,
      "outputs": []
    },
    {
      "cell_type": "code",
      "source": [
        "from h2o.automl import H2OAutoML"
      ],
      "metadata": {
        "id": "vAb3yYJ5yVoP"
      },
      "execution_count": 363,
      "outputs": []
    },
    {
      "cell_type": "code",
      "source": [
        "df.to_excel('for_h2o.xlsx')"
      ],
      "metadata": {
        "id": "2CAgM5_g1t8s"
      },
      "execution_count": 364,
      "outputs": []
    },
    {
      "cell_type": "code",
      "source": [
        "df = h2o.import_file('/content/for_h2o.csv')"
      ],
      "metadata": {
        "colab": {
          "base_uri": "https://localhost:8080/"
        },
        "id": "gZzLZH0W17yW",
        "outputId": "f327990a-b8e2-498b-f416-acb38218d0cb"
      },
      "execution_count": 452,
      "outputs": [
        {
          "output_type": "stream",
          "name": "stdout",
          "text": [
            "Parse progress: |████████████████████████████████████████████████████████████████| (done) 100%\n"
          ]
        }
      ]
    },
    {
      "cell_type": "code",
      "source": [
        "df_train, df_test, df_validation = df.split_frame([.7, .15])"
      ],
      "metadata": {
        "id": "70zOyGMs2HSY"
      },
      "execution_count": 453,
      "outputs": []
    },
    {
      "cell_type": "code",
      "source": [
        "y = 'prices'\n",
        "x = df.columns\n",
        "x.remove('C1')\n",
        "x.remove('prices')"
      ],
      "metadata": {
        "id": "touiYic92OGp"
      },
      "execution_count": 454,
      "outputs": []
    },
    {
      "cell_type": "code",
      "source": [
        "aml = H2OAutoML(\n",
        "    nfolds=0,\n",
        "    balance_classes=True,\n",
        "    max_runtime_secs=480,\n",
        "    seed=42,\n",
        "    stopping_metric=\"RMSE\"\n",
        ")"
      ],
      "metadata": {
        "id": "Jh0FHiBI2XSi"
      },
      "execution_count": 385,
      "outputs": []
    },
    {
      "cell_type": "code",
      "source": [
        "aml.train(x,y,training_frame=df_train, validation_frame=df_validation)"
      ],
      "metadata": {
        "colab": {
          "base_uri": "https://localhost:8080/",
          "height": 1000
        },
        "id": "jBp4Rgj_3gMn",
        "outputId": "05516c13-eac5-4c8a-c881-0ca88b3469c3"
      },
      "execution_count": 386,
      "outputs": [
        {
          "output_type": "stream",
          "name": "stdout",
          "text": [
            "AutoML progress: |██████████████\n",
            "18:06:54.213: DeepLearning_1_AutoML_1_20220108_180551 [DeepLearning def_1] failed: water.exceptions.H2OModelBuilderIllegalArgumentException: Illegal argument(s) for DeepLearning model: DeepLearning_1_AutoML_1_20220108_180551.  Details: ERRR on field: _balance_classes: balance_classes requires classification.\n",
            "\n",
            "\n",
            "█████████████████████████████████████████████████| (done) 100%\n",
            "Model Details\n",
            "=============\n",
            "H2OGradientBoostingEstimator :  Gradient Boosting Machine\n",
            "Model Key:  GBM_grid_1_AutoML_1_20220108_180551_model_11\n",
            "\n",
            "\n",
            "Model Summary: \n"
          ]
        },
        {
          "output_type": "display_data",
          "data": {
            "text/html": [
              "\n",
              "  <div id=\"df-41e24688-7756-46b6-8574-9c11a0a51cca\">\n",
              "    <div class=\"colab-df-container\">\n",
              "      <div>\n",
              "<style scoped>\n",
              "    .dataframe tbody tr th:only-of-type {\n",
              "        vertical-align: middle;\n",
              "    }\n",
              "\n",
              "    .dataframe tbody tr th {\n",
              "        vertical-align: top;\n",
              "    }\n",
              "\n",
              "    .dataframe thead th {\n",
              "        text-align: right;\n",
              "    }\n",
              "</style>\n",
              "<table border=\"1\" class=\"dataframe\">\n",
              "  <thead>\n",
              "    <tr style=\"text-align: right;\">\n",
              "      <th></th>\n",
              "      <th></th>\n",
              "      <th>number_of_trees</th>\n",
              "      <th>number_of_internal_trees</th>\n",
              "      <th>model_size_in_bytes</th>\n",
              "      <th>min_depth</th>\n",
              "      <th>max_depth</th>\n",
              "      <th>mean_depth</th>\n",
              "      <th>min_leaves</th>\n",
              "      <th>max_leaves</th>\n",
              "      <th>mean_leaves</th>\n",
              "    </tr>\n",
              "  </thead>\n",
              "  <tbody>\n",
              "    <tr>\n",
              "      <th>0</th>\n",
              "      <td></td>\n",
              "      <td>100.0</td>\n",
              "      <td>100.0</td>\n",
              "      <td>367174.0</td>\n",
              "      <td>17.0</td>\n",
              "      <td>17.0</td>\n",
              "      <td>17.0</td>\n",
              "      <td>66.0</td>\n",
              "      <td>640.0</td>\n",
              "      <td>286.67</td>\n",
              "    </tr>\n",
              "  </tbody>\n",
              "</table>\n",
              "</div>\n",
              "      <button class=\"colab-df-convert\" onclick=\"convertToInteractive('df-41e24688-7756-46b6-8574-9c11a0a51cca')\"\n",
              "              title=\"Convert this dataframe to an interactive table.\"\n",
              "              style=\"display:none;\">\n",
              "        \n",
              "  <svg xmlns=\"http://www.w3.org/2000/svg\" height=\"24px\"viewBox=\"0 0 24 24\"\n",
              "       width=\"24px\">\n",
              "    <path d=\"M0 0h24v24H0V0z\" fill=\"none\"/>\n",
              "    <path d=\"M18.56 5.44l.94 2.06.94-2.06 2.06-.94-2.06-.94-.94-2.06-.94 2.06-2.06.94zm-11 1L8.5 8.5l.94-2.06 2.06-.94-2.06-.94L8.5 2.5l-.94 2.06-2.06.94zm10 10l.94 2.06.94-2.06 2.06-.94-2.06-.94-.94-2.06-.94 2.06-2.06.94z\"/><path d=\"M17.41 7.96l-1.37-1.37c-.4-.4-.92-.59-1.43-.59-.52 0-1.04.2-1.43.59L10.3 9.45l-7.72 7.72c-.78.78-.78 2.05 0 2.83L4 21.41c.39.39.9.59 1.41.59.51 0 1.02-.2 1.41-.59l7.78-7.78 2.81-2.81c.8-.78.8-2.07 0-2.86zM5.41 20L4 18.59l7.72-7.72 1.47 1.35L5.41 20z\"/>\n",
              "  </svg>\n",
              "      </button>\n",
              "      \n",
              "  <style>\n",
              "    .colab-df-container {\n",
              "      display:flex;\n",
              "      flex-wrap:wrap;\n",
              "      gap: 12px;\n",
              "    }\n",
              "\n",
              "    .colab-df-convert {\n",
              "      background-color: #E8F0FE;\n",
              "      border: none;\n",
              "      border-radius: 50%;\n",
              "      cursor: pointer;\n",
              "      display: none;\n",
              "      fill: #1967D2;\n",
              "      height: 32px;\n",
              "      padding: 0 0 0 0;\n",
              "      width: 32px;\n",
              "    }\n",
              "\n",
              "    .colab-df-convert:hover {\n",
              "      background-color: #E2EBFA;\n",
              "      box-shadow: 0px 1px 2px rgba(60, 64, 67, 0.3), 0px 1px 3px 1px rgba(60, 64, 67, 0.15);\n",
              "      fill: #174EA6;\n",
              "    }\n",
              "\n",
              "    [theme=dark] .colab-df-convert {\n",
              "      background-color: #3B4455;\n",
              "      fill: #D2E3FC;\n",
              "    }\n",
              "\n",
              "    [theme=dark] .colab-df-convert:hover {\n",
              "      background-color: #434B5C;\n",
              "      box-shadow: 0px 1px 3px 1px rgba(0, 0, 0, 0.15);\n",
              "      filter: drop-shadow(0px 1px 2px rgba(0, 0, 0, 0.3));\n",
              "      fill: #FFFFFF;\n",
              "    }\n",
              "  </style>\n",
              "\n",
              "      <script>\n",
              "        const buttonEl =\n",
              "          document.querySelector('#df-41e24688-7756-46b6-8574-9c11a0a51cca button.colab-df-convert');\n",
              "        buttonEl.style.display =\n",
              "          google.colab.kernel.accessAllowed ? 'block' : 'none';\n",
              "\n",
              "        async function convertToInteractive(key) {\n",
              "          const element = document.querySelector('#df-41e24688-7756-46b6-8574-9c11a0a51cca');\n",
              "          const dataTable =\n",
              "            await google.colab.kernel.invokeFunction('convertToInteractive',\n",
              "                                                     [key], {});\n",
              "          if (!dataTable) return;\n",
              "\n",
              "          const docLinkHtml = 'Like what you see? Visit the ' +\n",
              "            '<a target=\"_blank\" href=https://colab.research.google.com/notebooks/data_table.ipynb>data table notebook</a>'\n",
              "            + ' to learn more about interactive tables.';\n",
              "          element.innerHTML = '';\n",
              "          dataTable['output_type'] = 'display_data';\n",
              "          await google.colab.output.renderOutput(dataTable, element);\n",
              "          const docLink = document.createElement('div');\n",
              "          docLink.innerHTML = docLinkHtml;\n",
              "          element.appendChild(docLink);\n",
              "        }\n",
              "      </script>\n",
              "    </div>\n",
              "  </div>\n",
              "  "
            ],
            "text/plain": [
              "     number_of_trees  ...  max_leaves  mean_leaves\n",
              "0              100.0  ...       640.0       286.67\n",
              "\n",
              "[1 rows x 10 columns]"
            ]
          },
          "metadata": {}
        },
        {
          "output_type": "stream",
          "name": "stdout",
          "text": [
            "\n",
            "\n",
            "ModelMetricsRegression: gbm\n",
            "** Reported on train data. **\n",
            "\n",
            "MSE: 3195416889.534165\n",
            "RMSE: 56528.018623813135\n",
            "MAE: 16454.14152325383\n",
            "RMSLE: NaN\n",
            "Mean Residual Deviance: 3195416889.534165\n",
            "\n",
            "ModelMetricsRegression: gbm\n",
            "** Reported on validation data. **\n",
            "\n",
            "MSE: 6884821600.074996\n",
            "RMSE: 82974.82509818864\n",
            "MAE: 31154.56166044534\n",
            "RMSLE: 0.20106849655048906\n",
            "Mean Residual Deviance: 6884821600.074996\n",
            "\n",
            "Scoring History: \n"
          ]
        },
        {
          "output_type": "display_data",
          "data": {
            "text/html": [
              "\n",
              "  <div id=\"df-a4cf83be-c72d-4c9c-bd0b-71213a59a9ab\">\n",
              "    <div class=\"colab-df-container\">\n",
              "      <div>\n",
              "<style scoped>\n",
              "    .dataframe tbody tr th:only-of-type {\n",
              "        vertical-align: middle;\n",
              "    }\n",
              "\n",
              "    .dataframe tbody tr th {\n",
              "        vertical-align: top;\n",
              "    }\n",
              "\n",
              "    .dataframe thead th {\n",
              "        text-align: right;\n",
              "    }\n",
              "</style>\n",
              "<table border=\"1\" class=\"dataframe\">\n",
              "  <thead>\n",
              "    <tr style=\"text-align: right;\">\n",
              "      <th></th>\n",
              "      <th></th>\n",
              "      <th>timestamp</th>\n",
              "      <th>duration</th>\n",
              "      <th>number_of_trees</th>\n",
              "      <th>training_rmse</th>\n",
              "      <th>training_mae</th>\n",
              "      <th>training_deviance</th>\n",
              "      <th>validation_rmse</th>\n",
              "      <th>validation_mae</th>\n",
              "      <th>validation_deviance</th>\n",
              "    </tr>\n",
              "  </thead>\n",
              "  <tbody>\n",
              "    <tr>\n",
              "      <th>0</th>\n",
              "      <td></td>\n",
              "      <td>2022-01-08 18:10:37</td>\n",
              "      <td>29.909 sec</td>\n",
              "      <td>0.0</td>\n",
              "      <td>193464.487555</td>\n",
              "      <td>95369.499263</td>\n",
              "      <td>3.742851e+10</td>\n",
              "      <td>172637.216478</td>\n",
              "      <td>96757.889056</td>\n",
              "      <td>2.980361e+10</td>\n",
              "    </tr>\n",
              "    <tr>\n",
              "      <th>1</th>\n",
              "      <td></td>\n",
              "      <td>2022-01-08 18:10:37</td>\n",
              "      <td>30.318 sec</td>\n",
              "      <td>5.0</td>\n",
              "      <td>142377.417772</td>\n",
              "      <td>60810.682101</td>\n",
              "      <td>2.027133e+10</td>\n",
              "      <td>124876.893532</td>\n",
              "      <td>62738.717182</td>\n",
              "      <td>1.559424e+10</td>\n",
              "    </tr>\n",
              "    <tr>\n",
              "      <th>2</th>\n",
              "      <td></td>\n",
              "      <td>2022-01-08 18:10:38</td>\n",
              "      <td>30.687 sec</td>\n",
              "      <td>10.0</td>\n",
              "      <td>116019.280116</td>\n",
              "      <td>42382.562173</td>\n",
              "      <td>1.346047e+10</td>\n",
              "      <td>104511.015459</td>\n",
              "      <td>45888.351389</td>\n",
              "      <td>1.092255e+10</td>\n",
              "    </tr>\n",
              "    <tr>\n",
              "      <th>3</th>\n",
              "      <td></td>\n",
              "      <td>2022-01-08 18:10:38</td>\n",
              "      <td>31.127 sec</td>\n",
              "      <td>15.0</td>\n",
              "      <td>101051.992329</td>\n",
              "      <td>32712.741147</td>\n",
              "      <td>1.021151e+10</td>\n",
              "      <td>94926.300067</td>\n",
              "      <td>38121.899055</td>\n",
              "      <td>9.011002e+09</td>\n",
              "    </tr>\n",
              "    <tr>\n",
              "      <th>4</th>\n",
              "      <td></td>\n",
              "      <td>2022-01-08 18:10:38</td>\n",
              "      <td>31.507 sec</td>\n",
              "      <td>20.0</td>\n",
              "      <td>92838.552847</td>\n",
              "      <td>26975.489492</td>\n",
              "      <td>8.618997e+09</td>\n",
              "      <td>90820.842910</td>\n",
              "      <td>34018.434788</td>\n",
              "      <td>8.248426e+09</td>\n",
              "    </tr>\n",
              "    <tr>\n",
              "      <th>5</th>\n",
              "      <td></td>\n",
              "      <td>2022-01-08 18:10:39</td>\n",
              "      <td>31.839 sec</td>\n",
              "      <td>25.0</td>\n",
              "      <td>87131.253126</td>\n",
              "      <td>24076.752026</td>\n",
              "      <td>7.591855e+09</td>\n",
              "      <td>89681.682809</td>\n",
              "      <td>32330.218604</td>\n",
              "      <td>8.042804e+09</td>\n",
              "    </tr>\n",
              "    <tr>\n",
              "      <th>6</th>\n",
              "      <td></td>\n",
              "      <td>2022-01-08 18:10:39</td>\n",
              "      <td>32.175 sec</td>\n",
              "      <td>30.0</td>\n",
              "      <td>83777.472729</td>\n",
              "      <td>22454.779579</td>\n",
              "      <td>7.018665e+09</td>\n",
              "      <td>88612.624968</td>\n",
              "      <td>31493.479619</td>\n",
              "      <td>7.852197e+09</td>\n",
              "    </tr>\n",
              "    <tr>\n",
              "      <th>7</th>\n",
              "      <td></td>\n",
              "      <td>2022-01-08 18:10:39</td>\n",
              "      <td>32.493 sec</td>\n",
              "      <td>35.0</td>\n",
              "      <td>80393.329792</td>\n",
              "      <td>21137.245124</td>\n",
              "      <td>6.463087e+09</td>\n",
              "      <td>87918.343281</td>\n",
              "      <td>30933.279154</td>\n",
              "      <td>7.729635e+09</td>\n",
              "    </tr>\n",
              "    <tr>\n",
              "      <th>8</th>\n",
              "      <td></td>\n",
              "      <td>2022-01-08 18:10:40</td>\n",
              "      <td>32.793 sec</td>\n",
              "      <td>40.0</td>\n",
              "      <td>77564.290866</td>\n",
              "      <td>20423.268646</td>\n",
              "      <td>6.016219e+09</td>\n",
              "      <td>86734.646275</td>\n",
              "      <td>30877.888496</td>\n",
              "      <td>7.522899e+09</td>\n",
              "    </tr>\n",
              "    <tr>\n",
              "      <th>9</th>\n",
              "      <td></td>\n",
              "      <td>2022-01-08 18:10:40</td>\n",
              "      <td>33.085 sec</td>\n",
              "      <td>45.0</td>\n",
              "      <td>74872.913964</td>\n",
              "      <td>19957.959852</td>\n",
              "      <td>5.605953e+09</td>\n",
              "      <td>86738.510308</td>\n",
              "      <td>30887.646634</td>\n",
              "      <td>7.523569e+09</td>\n",
              "    </tr>\n",
              "    <tr>\n",
              "      <th>10</th>\n",
              "      <td></td>\n",
              "      <td>2022-01-08 18:10:40</td>\n",
              "      <td>33.356 sec</td>\n",
              "      <td>50.0</td>\n",
              "      <td>72316.520281</td>\n",
              "      <td>19510.090303</td>\n",
              "      <td>5.229679e+09</td>\n",
              "      <td>86034.509378</td>\n",
              "      <td>30846.687880</td>\n",
              "      <td>7.401937e+09</td>\n",
              "    </tr>\n",
              "    <tr>\n",
              "      <th>11</th>\n",
              "      <td></td>\n",
              "      <td>2022-01-08 18:10:41</td>\n",
              "      <td>33.655 sec</td>\n",
              "      <td>55.0</td>\n",
              "      <td>70279.620605</td>\n",
              "      <td>19109.417169</td>\n",
              "      <td>4.939225e+09</td>\n",
              "      <td>85471.778493</td>\n",
              "      <td>30949.182397</td>\n",
              "      <td>7.305425e+09</td>\n",
              "    </tr>\n",
              "    <tr>\n",
              "      <th>12</th>\n",
              "      <td></td>\n",
              "      <td>2022-01-08 18:10:41</td>\n",
              "      <td>33.929 sec</td>\n",
              "      <td>60.0</td>\n",
              "      <td>68841.430628</td>\n",
              "      <td>18992.671750</td>\n",
              "      <td>4.739143e+09</td>\n",
              "      <td>85163.592233</td>\n",
              "      <td>31058.027412</td>\n",
              "      <td>7.252837e+09</td>\n",
              "    </tr>\n",
              "    <tr>\n",
              "      <th>13</th>\n",
              "      <td></td>\n",
              "      <td>2022-01-08 18:10:41</td>\n",
              "      <td>34.222 sec</td>\n",
              "      <td>65.0</td>\n",
              "      <td>67468.279104</td>\n",
              "      <td>18434.020291</td>\n",
              "      <td>4.551969e+09</td>\n",
              "      <td>84531.831461</td>\n",
              "      <td>30912.797718</td>\n",
              "      <td>7.145631e+09</td>\n",
              "    </tr>\n",
              "    <tr>\n",
              "      <th>14</th>\n",
              "      <td></td>\n",
              "      <td>2022-01-08 18:10:41</td>\n",
              "      <td>34.510 sec</td>\n",
              "      <td>70.0</td>\n",
              "      <td>65367.790078</td>\n",
              "      <td>18251.635123</td>\n",
              "      <td>4.272948e+09</td>\n",
              "      <td>83898.415864</td>\n",
              "      <td>31007.696528</td>\n",
              "      <td>7.038944e+09</td>\n",
              "    </tr>\n",
              "    <tr>\n",
              "      <th>15</th>\n",
              "      <td></td>\n",
              "      <td>2022-01-08 18:10:42</td>\n",
              "      <td>34.785 sec</td>\n",
              "      <td>75.0</td>\n",
              "      <td>63613.678822</td>\n",
              "      <td>17962.266715</td>\n",
              "      <td>4.046700e+09</td>\n",
              "      <td>83633.050482</td>\n",
              "      <td>31020.010199</td>\n",
              "      <td>6.994487e+09</td>\n",
              "    </tr>\n",
              "    <tr>\n",
              "      <th>16</th>\n",
              "      <td></td>\n",
              "      <td>2022-01-08 18:10:42</td>\n",
              "      <td>35.076 sec</td>\n",
              "      <td>80.0</td>\n",
              "      <td>62003.487664</td>\n",
              "      <td>17644.449074</td>\n",
              "      <td>3.844432e+09</td>\n",
              "      <td>83558.749680</td>\n",
              "      <td>31012.075508</td>\n",
              "      <td>6.982065e+09</td>\n",
              "    </tr>\n",
              "    <tr>\n",
              "      <th>17</th>\n",
              "      <td></td>\n",
              "      <td>2022-01-08 18:10:42</td>\n",
              "      <td>35.372 sec</td>\n",
              "      <td>85.0</td>\n",
              "      <td>60431.708145</td>\n",
              "      <td>17360.002868</td>\n",
              "      <td>3.651991e+09</td>\n",
              "      <td>83207.069698</td>\n",
              "      <td>31069.537750</td>\n",
              "      <td>6.923416e+09</td>\n",
              "    </tr>\n",
              "    <tr>\n",
              "      <th>18</th>\n",
              "      <td></td>\n",
              "      <td>2022-01-08 18:10:43</td>\n",
              "      <td>35.669 sec</td>\n",
              "      <td>90.0</td>\n",
              "      <td>58520.426642</td>\n",
              "      <td>17030.152446</td>\n",
              "      <td>3.424640e+09</td>\n",
              "      <td>82848.781590</td>\n",
              "      <td>31133.708482</td>\n",
              "      <td>6.863921e+09</td>\n",
              "    </tr>\n",
              "    <tr>\n",
              "      <th>19</th>\n",
              "      <td></td>\n",
              "      <td>2022-01-08 18:10:43</td>\n",
              "      <td>35.947 sec</td>\n",
              "      <td>95.0</td>\n",
              "      <td>57206.210447</td>\n",
              "      <td>16738.589447</td>\n",
              "      <td>3.272551e+09</td>\n",
              "      <td>82654.095934</td>\n",
              "      <td>31177.871003</td>\n",
              "      <td>6.831700e+09</td>\n",
              "    </tr>\n",
              "  </tbody>\n",
              "</table>\n",
              "</div>\n",
              "      <button class=\"colab-df-convert\" onclick=\"convertToInteractive('df-a4cf83be-c72d-4c9c-bd0b-71213a59a9ab')\"\n",
              "              title=\"Convert this dataframe to an interactive table.\"\n",
              "              style=\"display:none;\">\n",
              "        \n",
              "  <svg xmlns=\"http://www.w3.org/2000/svg\" height=\"24px\"viewBox=\"0 0 24 24\"\n",
              "       width=\"24px\">\n",
              "    <path d=\"M0 0h24v24H0V0z\" fill=\"none\"/>\n",
              "    <path d=\"M18.56 5.44l.94 2.06.94-2.06 2.06-.94-2.06-.94-.94-2.06-.94 2.06-2.06.94zm-11 1L8.5 8.5l.94-2.06 2.06-.94-2.06-.94L8.5 2.5l-.94 2.06-2.06.94zm10 10l.94 2.06.94-2.06 2.06-.94-2.06-.94-.94-2.06-.94 2.06-2.06.94z\"/><path d=\"M17.41 7.96l-1.37-1.37c-.4-.4-.92-.59-1.43-.59-.52 0-1.04.2-1.43.59L10.3 9.45l-7.72 7.72c-.78.78-.78 2.05 0 2.83L4 21.41c.39.39.9.59 1.41.59.51 0 1.02-.2 1.41-.59l7.78-7.78 2.81-2.81c.8-.78.8-2.07 0-2.86zM5.41 20L4 18.59l7.72-7.72 1.47 1.35L5.41 20z\"/>\n",
              "  </svg>\n",
              "      </button>\n",
              "      \n",
              "  <style>\n",
              "    .colab-df-container {\n",
              "      display:flex;\n",
              "      flex-wrap:wrap;\n",
              "      gap: 12px;\n",
              "    }\n",
              "\n",
              "    .colab-df-convert {\n",
              "      background-color: #E8F0FE;\n",
              "      border: none;\n",
              "      border-radius: 50%;\n",
              "      cursor: pointer;\n",
              "      display: none;\n",
              "      fill: #1967D2;\n",
              "      height: 32px;\n",
              "      padding: 0 0 0 0;\n",
              "      width: 32px;\n",
              "    }\n",
              "\n",
              "    .colab-df-convert:hover {\n",
              "      background-color: #E2EBFA;\n",
              "      box-shadow: 0px 1px 2px rgba(60, 64, 67, 0.3), 0px 1px 3px 1px rgba(60, 64, 67, 0.15);\n",
              "      fill: #174EA6;\n",
              "    }\n",
              "\n",
              "    [theme=dark] .colab-df-convert {\n",
              "      background-color: #3B4455;\n",
              "      fill: #D2E3FC;\n",
              "    }\n",
              "\n",
              "    [theme=dark] .colab-df-convert:hover {\n",
              "      background-color: #434B5C;\n",
              "      box-shadow: 0px 1px 3px 1px rgba(0, 0, 0, 0.15);\n",
              "      filter: drop-shadow(0px 1px 2px rgba(0, 0, 0, 0.3));\n",
              "      fill: #FFFFFF;\n",
              "    }\n",
              "  </style>\n",
              "\n",
              "      <script>\n",
              "        const buttonEl =\n",
              "          document.querySelector('#df-a4cf83be-c72d-4c9c-bd0b-71213a59a9ab button.colab-df-convert');\n",
              "        buttonEl.style.display =\n",
              "          google.colab.kernel.accessAllowed ? 'block' : 'none';\n",
              "\n",
              "        async function convertToInteractive(key) {\n",
              "          const element = document.querySelector('#df-a4cf83be-c72d-4c9c-bd0b-71213a59a9ab');\n",
              "          const dataTable =\n",
              "            await google.colab.kernel.invokeFunction('convertToInteractive',\n",
              "                                                     [key], {});\n",
              "          if (!dataTable) return;\n",
              "\n",
              "          const docLinkHtml = 'Like what you see? Visit the ' +\n",
              "            '<a target=\"_blank\" href=https://colab.research.google.com/notebooks/data_table.ipynb>data table notebook</a>'\n",
              "            + ' to learn more about interactive tables.';\n",
              "          element.innerHTML = '';\n",
              "          dataTable['output_type'] = 'display_data';\n",
              "          await google.colab.output.renderOutput(dataTable, element);\n",
              "          const docLink = document.createElement('div');\n",
              "          docLink.innerHTML = docLinkHtml;\n",
              "          element.appendChild(docLink);\n",
              "        }\n",
              "      </script>\n",
              "    </div>\n",
              "  </div>\n",
              "  "
            ],
            "text/plain": [
              "                timestamp  ... validation_mae  validation_deviance\n",
              "0     2022-01-08 18:10:37  ...   96757.889056         2.980361e+10\n",
              "1     2022-01-08 18:10:37  ...   62738.717182         1.559424e+10\n",
              "2     2022-01-08 18:10:38  ...   45888.351389         1.092255e+10\n",
              "3     2022-01-08 18:10:38  ...   38121.899055         9.011002e+09\n",
              "4     2022-01-08 18:10:38  ...   34018.434788         8.248426e+09\n",
              "5     2022-01-08 18:10:39  ...   32330.218604         8.042804e+09\n",
              "6     2022-01-08 18:10:39  ...   31493.479619         7.852197e+09\n",
              "7     2022-01-08 18:10:39  ...   30933.279154         7.729635e+09\n",
              "8     2022-01-08 18:10:40  ...   30877.888496         7.522899e+09\n",
              "9     2022-01-08 18:10:40  ...   30887.646634         7.523569e+09\n",
              "10    2022-01-08 18:10:40  ...   30846.687880         7.401937e+09\n",
              "11    2022-01-08 18:10:41  ...   30949.182397         7.305425e+09\n",
              "12    2022-01-08 18:10:41  ...   31058.027412         7.252837e+09\n",
              "13    2022-01-08 18:10:41  ...   30912.797718         7.145631e+09\n",
              "14    2022-01-08 18:10:41  ...   31007.696528         7.038944e+09\n",
              "15    2022-01-08 18:10:42  ...   31020.010199         6.994487e+09\n",
              "16    2022-01-08 18:10:42  ...   31012.075508         6.982065e+09\n",
              "17    2022-01-08 18:10:42  ...   31069.537750         6.923416e+09\n",
              "18    2022-01-08 18:10:43  ...   31133.708482         6.863921e+09\n",
              "19    2022-01-08 18:10:43  ...   31177.871003         6.831700e+09\n",
              "\n",
              "[20 rows x 10 columns]"
            ]
          },
          "metadata": {}
        },
        {
          "output_type": "stream",
          "name": "stdout",
          "text": [
            "\n",
            "See the whole table with table.as_data_frame()\n",
            "\n",
            "Variable Importances: \n"
          ]
        },
        {
          "output_type": "display_data",
          "data": {
            "text/html": [
              "\n",
              "  <div id=\"df-1490ad52-5005-4578-b8aa-45407e5806e2\">\n",
              "    <div class=\"colab-df-container\">\n",
              "      <div>\n",
              "<style scoped>\n",
              "    .dataframe tbody tr th:only-of-type {\n",
              "        vertical-align: middle;\n",
              "    }\n",
              "\n",
              "    .dataframe tbody tr th {\n",
              "        vertical-align: top;\n",
              "    }\n",
              "\n",
              "    .dataframe thead th {\n",
              "        text-align: right;\n",
              "    }\n",
              "</style>\n",
              "<table border=\"1\" class=\"dataframe\">\n",
              "  <thead>\n",
              "    <tr style=\"text-align: right;\">\n",
              "      <th></th>\n",
              "      <th>variable</th>\n",
              "      <th>relative_importance</th>\n",
              "      <th>scaled_importance</th>\n",
              "      <th>percentage</th>\n",
              "    </tr>\n",
              "  </thead>\n",
              "  <tbody>\n",
              "    <tr>\n",
              "      <th>0</th>\n",
              "      <td>areas_m2</td>\n",
              "      <td>9.937332e+14</td>\n",
              "      <td>1.000000</td>\n",
              "      <td>0.539165</td>\n",
              "    </tr>\n",
              "    <tr>\n",
              "      <th>1</th>\n",
              "      <td>rooms</td>\n",
              "      <td>1.999907e+14</td>\n",
              "      <td>0.201252</td>\n",
              "      <td>0.108508</td>\n",
              "    </tr>\n",
              "    <tr>\n",
              "      <th>2</th>\n",
              "      <td>longitudes</td>\n",
              "      <td>1.374718e+14</td>\n",
              "      <td>0.138339</td>\n",
              "      <td>0.074587</td>\n",
              "    </tr>\n",
              "    <tr>\n",
              "      <th>3</th>\n",
              "      <td>latitudes</td>\n",
              "      <td>1.342991e+14</td>\n",
              "      <td>0.135146</td>\n",
              "      <td>0.072866</td>\n",
              "    </tr>\n",
              "    <tr>\n",
              "      <th>4</th>\n",
              "      <td>buildings_floor</td>\n",
              "      <td>1.076043e+14</td>\n",
              "      <td>0.108283</td>\n",
              "      <td>0.058382</td>\n",
              "    </tr>\n",
              "    <tr>\n",
              "      <th>5</th>\n",
              "      <td>watches</td>\n",
              "      <td>9.377140e+13</td>\n",
              "      <td>0.094363</td>\n",
              "      <td>0.050877</td>\n",
              "    </tr>\n",
              "    <tr>\n",
              "      <th>6</th>\n",
              "      <td>percent_of_building_height</td>\n",
              "      <td>7.330062e+13</td>\n",
              "      <td>0.073763</td>\n",
              "      <td>0.039770</td>\n",
              "    </tr>\n",
              "    <tr>\n",
              "      <th>7</th>\n",
              "      <td>apartment_floor</td>\n",
              "      <td>4.137454e+13</td>\n",
              "      <td>0.041635</td>\n",
              "      <td>0.022448</td>\n",
              "    </tr>\n",
              "    <tr>\n",
              "      <th>8</th>\n",
              "      <td>Yeni tikili</td>\n",
              "      <td>3.629349e+13</td>\n",
              "      <td>0.036522</td>\n",
              "      <td>0.019692</td>\n",
              "    </tr>\n",
              "    <tr>\n",
              "      <th>9</th>\n",
              "      <td>mülkiyyətçi</td>\n",
              "      <td>7.307613e+12</td>\n",
              "      <td>0.007354</td>\n",
              "      <td>0.003965</td>\n",
              "    </tr>\n",
              "    <tr>\n",
              "      <th>10</th>\n",
              "      <td>Has more 100 houses:0</td>\n",
              "      <td>6.195188e+12</td>\n",
              "      <td>0.006234</td>\n",
              "      <td>0.003361</td>\n",
              "    </tr>\n",
              "    <tr>\n",
              "      <th>11</th>\n",
              "      <td>Has more 100 houses:Real Əmlak Bakı  daşınmaz əmlak agentliyi</td>\n",
              "      <td>3.550516e+12</td>\n",
              "      <td>0.003573</td>\n",
              "      <td>0.001926</td>\n",
              "    </tr>\n",
              "    <tr>\n",
              "      <th>12</th>\n",
              "      <td>Credit_var</td>\n",
              "      <td>1.532312e+12</td>\n",
              "      <td>0.001542</td>\n",
              "      <td>0.000831</td>\n",
              "    </tr>\n",
              "    <tr>\n",
              "      <th>13</th>\n",
              "      <td>Has more 100 houses:New House Elmlər daşınmaz əmlak agentliyi</td>\n",
              "      <td>1.072129e+12</td>\n",
              "      <td>0.001079</td>\n",
              "      <td>0.000582</td>\n",
              "    </tr>\n",
              "    <tr>\n",
              "      <th>14</th>\n",
              "      <td>Has more 100 houses:Real Əmlak Gənclik daşınmaz əmlak agentliyi</td>\n",
              "      <td>7.626506e+11</td>\n",
              "      <td>0.000767</td>\n",
              "      <td>0.000414</td>\n",
              "    </tr>\n",
              "    <tr>\n",
              "      <th>15</th>\n",
              "      <td>Has more 100 houses:News Service daşınmaz əmlak agentliyi</td>\n",
              "      <td>5.950271e+11</td>\n",
              "      <td>0.000599</td>\n",
              "      <td>0.000323</td>\n",
              "    </tr>\n",
              "    <tr>\n",
              "      <th>16</th>\n",
              "      <td>Has more 100 houses:Real Əmlak Həzi Aslanov daşınmaz əmlak agentliyi</td>\n",
              "      <td>4.673853e+11</td>\n",
              "      <td>0.000470</td>\n",
              "      <td>0.000254</td>\n",
              "    </tr>\n",
              "    <tr>\n",
              "      <th>17</th>\n",
              "      <td>Has more 100 houses:Garant Əmlak daşınmaz əmlak agentliyi</td>\n",
              "      <td>4.350414e+11</td>\n",
              "      <td>0.000438</td>\n",
              "      <td>0.000236</td>\n",
              "    </tr>\n",
              "    <tr>\n",
              "      <th>18</th>\n",
              "      <td>Has more 100 houses:YeniPark daşınmaz əmlak agentliyi</td>\n",
              "      <td>4.196438e+11</td>\n",
              "      <td>0.000422</td>\n",
              "      <td>0.000228</td>\n",
              "    </tr>\n",
              "    <tr>\n",
              "      <th>19</th>\n",
              "      <td>Has more 100 houses:Dostluq Əmlak daşınmaz əmlak agentliyi</td>\n",
              "      <td>3.937849e+11</td>\n",
              "      <td>0.000396</td>\n",
              "      <td>0.000214</td>\n",
              "    </tr>\n",
              "  </tbody>\n",
              "</table>\n",
              "</div>\n",
              "      <button class=\"colab-df-convert\" onclick=\"convertToInteractive('df-1490ad52-5005-4578-b8aa-45407e5806e2')\"\n",
              "              title=\"Convert this dataframe to an interactive table.\"\n",
              "              style=\"display:none;\">\n",
              "        \n",
              "  <svg xmlns=\"http://www.w3.org/2000/svg\" height=\"24px\"viewBox=\"0 0 24 24\"\n",
              "       width=\"24px\">\n",
              "    <path d=\"M0 0h24v24H0V0z\" fill=\"none\"/>\n",
              "    <path d=\"M18.56 5.44l.94 2.06.94-2.06 2.06-.94-2.06-.94-.94-2.06-.94 2.06-2.06.94zm-11 1L8.5 8.5l.94-2.06 2.06-.94-2.06-.94L8.5 2.5l-.94 2.06-2.06.94zm10 10l.94 2.06.94-2.06 2.06-.94-2.06-.94-.94-2.06-.94 2.06-2.06.94z\"/><path d=\"M17.41 7.96l-1.37-1.37c-.4-.4-.92-.59-1.43-.59-.52 0-1.04.2-1.43.59L10.3 9.45l-7.72 7.72c-.78.78-.78 2.05 0 2.83L4 21.41c.39.39.9.59 1.41.59.51 0 1.02-.2 1.41-.59l7.78-7.78 2.81-2.81c.8-.78.8-2.07 0-2.86zM5.41 20L4 18.59l7.72-7.72 1.47 1.35L5.41 20z\"/>\n",
              "  </svg>\n",
              "      </button>\n",
              "      \n",
              "  <style>\n",
              "    .colab-df-container {\n",
              "      display:flex;\n",
              "      flex-wrap:wrap;\n",
              "      gap: 12px;\n",
              "    }\n",
              "\n",
              "    .colab-df-convert {\n",
              "      background-color: #E8F0FE;\n",
              "      border: none;\n",
              "      border-radius: 50%;\n",
              "      cursor: pointer;\n",
              "      display: none;\n",
              "      fill: #1967D2;\n",
              "      height: 32px;\n",
              "      padding: 0 0 0 0;\n",
              "      width: 32px;\n",
              "    }\n",
              "\n",
              "    .colab-df-convert:hover {\n",
              "      background-color: #E2EBFA;\n",
              "      box-shadow: 0px 1px 2px rgba(60, 64, 67, 0.3), 0px 1px 3px 1px rgba(60, 64, 67, 0.15);\n",
              "      fill: #174EA6;\n",
              "    }\n",
              "\n",
              "    [theme=dark] .colab-df-convert {\n",
              "      background-color: #3B4455;\n",
              "      fill: #D2E3FC;\n",
              "    }\n",
              "\n",
              "    [theme=dark] .colab-df-convert:hover {\n",
              "      background-color: #434B5C;\n",
              "      box-shadow: 0px 1px 3px 1px rgba(0, 0, 0, 0.15);\n",
              "      filter: drop-shadow(0px 1px 2px rgba(0, 0, 0, 0.3));\n",
              "      fill: #FFFFFF;\n",
              "    }\n",
              "  </style>\n",
              "\n",
              "      <script>\n",
              "        const buttonEl =\n",
              "          document.querySelector('#df-1490ad52-5005-4578-b8aa-45407e5806e2 button.colab-df-convert');\n",
              "        buttonEl.style.display =\n",
              "          google.colab.kernel.accessAllowed ? 'block' : 'none';\n",
              "\n",
              "        async function convertToInteractive(key) {\n",
              "          const element = document.querySelector('#df-1490ad52-5005-4578-b8aa-45407e5806e2');\n",
              "          const dataTable =\n",
              "            await google.colab.kernel.invokeFunction('convertToInteractive',\n",
              "                                                     [key], {});\n",
              "          if (!dataTable) return;\n",
              "\n",
              "          const docLinkHtml = 'Like what you see? Visit the ' +\n",
              "            '<a target=\"_blank\" href=https://colab.research.google.com/notebooks/data_table.ipynb>data table notebook</a>'\n",
              "            + ' to learn more about interactive tables.';\n",
              "          element.innerHTML = '';\n",
              "          dataTable['output_type'] = 'display_data';\n",
              "          await google.colab.output.renderOutput(dataTable, element);\n",
              "          const docLink = document.createElement('div');\n",
              "          docLink.innerHTML = docLinkHtml;\n",
              "          element.appendChild(docLink);\n",
              "        }\n",
              "      </script>\n",
              "    </div>\n",
              "  </div>\n",
              "  "
            ],
            "text/plain": [
              "                                                                variable  ...  percentage\n",
              "0                                                               areas_m2  ...    0.539165\n",
              "1                                                                  rooms  ...    0.108508\n",
              "2                                                             longitudes  ...    0.074587\n",
              "3                                                              latitudes  ...    0.072866\n",
              "4                                                        buildings_floor  ...    0.058382\n",
              "5                                                                watches  ...    0.050877\n",
              "6                                             percent_of_building_height  ...    0.039770\n",
              "7                                                        apartment_floor  ...    0.022448\n",
              "8                                                            Yeni tikili  ...    0.019692\n",
              "9                                                            mülkiyyətçi  ...    0.003965\n",
              "10                                                 Has more 100 houses:0  ...    0.003361\n",
              "11         Has more 100 houses:Real Əmlak Bakı  daşınmaz əmlak agentliyi  ...    0.001926\n",
              "12                                                            Credit_var  ...    0.000831\n",
              "13         Has more 100 houses:New House Elmlər daşınmaz əmlak agentliyi  ...    0.000582\n",
              "14       Has more 100 houses:Real Əmlak Gənclik daşınmaz əmlak agentliyi  ...    0.000414\n",
              "15             Has more 100 houses:News Service daşınmaz əmlak agentliyi  ...    0.000323\n",
              "16  Has more 100 houses:Real Əmlak Həzi Aslanov daşınmaz əmlak agentliyi  ...    0.000254\n",
              "17             Has more 100 houses:Garant Əmlak daşınmaz əmlak agentliyi  ...    0.000236\n",
              "18                 Has more 100 houses:YeniPark daşınmaz əmlak agentliyi  ...    0.000228\n",
              "19            Has more 100 houses:Dostluq Əmlak daşınmaz əmlak agentliyi  ...    0.000214\n",
              "\n",
              "[20 rows x 4 columns]"
            ]
          },
          "metadata": {}
        },
        {
          "output_type": "stream",
          "name": "stdout",
          "text": [
            "\n",
            "See the whole table with table.as_data_frame()\n"
          ]
        },
        {
          "output_type": "execute_result",
          "data": {
            "text/plain": [
              ""
            ]
          },
          "metadata": {},
          "execution_count": 386
        }
      ]
    },
    {
      "cell_type": "code",
      "source": [
        ""
      ],
      "metadata": {
        "id": "WJAQvaFE3jsG"
      },
      "execution_count": null,
      "outputs": []
    }
  ]
}