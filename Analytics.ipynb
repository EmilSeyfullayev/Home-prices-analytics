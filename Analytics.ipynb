{
  "nbformat": 4,
  "nbformat_minor": 0,
  "metadata": {
    "colab": {
      "name": "Analytics.ipynb",
      "provenance": [],
      "collapsed_sections": [],
      "mount_file_id": "1ssMOINw9xix8h6iYb6j1ZXVWsRjRigXp",
      "authorship_tag": "ABX9TyMm5u2ndO0cBt3tywck64BW",
      "include_colab_link": true
    },
    "kernelspec": {
      "name": "python3",
      "display_name": "Python 3"
    },
    "language_info": {
      "name": "python"
    }
  },
  "cells": [
    {
      "cell_type": "markdown",
      "metadata": {
        "id": "view-in-github",
        "colab_type": "text"
      },
      "source": [
        "<a href=\"https://colab.research.google.com/github/EmilSeyfullayev/Home-prices-analytics/blob/main/Analytics.ipynb\" target=\"_parent\"><img src=\"https://colab.research.google.com/assets/colab-badge.svg\" alt=\"Open In Colab\"/></a>"
      ]
    },
    {
      "cell_type": "markdown",
      "source": [
        "### Imports"
      ],
      "metadata": {
        "id": "UQ6E0qMWZXr_"
      }
    },
    {
      "cell_type": "code",
      "source": [
        "import pandas as pd\n",
        "import numpy as np\n",
        "import matplotlib.pyplot as plt\n",
        "import seaborn as sns\n",
        "sns.set_style('whitegrid')"
      ],
      "metadata": {
        "id": "MfXfvUURX5hh"
      },
      "execution_count": 137,
      "outputs": []
    },
    {
      "cell_type": "code",
      "source": [
        "!pip install gsheetsdb"
      ],
      "metadata": {
        "colab": {
          "base_uri": "https://localhost:8080/"
        },
        "id": "0Q0qaj51YMXE",
        "outputId": "21bb09bd-7f7a-4bb8-c399-80525124c23e"
      },
      "execution_count": 138,
      "outputs": [
        {
          "output_type": "stream",
          "name": "stdout",
          "text": [
            "Requirement already satisfied: gsheetsdb in /usr/local/lib/python3.7/dist-packages (0.1.13.1)\n",
            "Requirement already satisfied: requests>=2.20.0 in /usr/local/lib/python3.7/dist-packages (from gsheetsdb) (2.23.0)\n",
            "Requirement already satisfied: six in /usr/local/lib/python3.7/dist-packages (from gsheetsdb) (1.15.0)\n",
            "Requirement already satisfied: moz-sql-parser in /usr/local/lib/python3.7/dist-packages (from gsheetsdb) (4.40.21126)\n",
            "Requirement already satisfied: google-auth in /usr/local/lib/python3.7/dist-packages (from gsheetsdb) (1.35.0)\n",
            "Requirement already satisfied: urllib3!=1.25.0,!=1.25.1,<1.26,>=1.21.1 in /usr/local/lib/python3.7/dist-packages (from requests>=2.20.0->gsheetsdb) (1.24.3)\n",
            "Requirement already satisfied: chardet<4,>=3.0.2 in /usr/local/lib/python3.7/dist-packages (from requests>=2.20.0->gsheetsdb) (3.0.4)\n",
            "Requirement already satisfied: certifi>=2017.4.17 in /usr/local/lib/python3.7/dist-packages (from requests>=2.20.0->gsheetsdb) (2021.10.8)\n",
            "Requirement already satisfied: idna<3,>=2.5 in /usr/local/lib/python3.7/dist-packages (from requests>=2.20.0->gsheetsdb) (2.10)\n",
            "Requirement already satisfied: rsa<5,>=3.1.4 in /usr/local/lib/python3.7/dist-packages (from google-auth->gsheetsdb) (4.8)\n",
            "Requirement already satisfied: cachetools<5.0,>=2.0.0 in /usr/local/lib/python3.7/dist-packages (from google-auth->gsheetsdb) (4.2.4)\n",
            "Requirement already satisfied: pyasn1-modules>=0.2.1 in /usr/local/lib/python3.7/dist-packages (from google-auth->gsheetsdb) (0.2.8)\n",
            "Requirement already satisfied: setuptools>=40.3.0 in /usr/local/lib/python3.7/dist-packages (from google-auth->gsheetsdb) (57.4.0)\n",
            "Requirement already satisfied: pyasn1<0.5.0,>=0.4.6 in /usr/local/lib/python3.7/dist-packages (from pyasn1-modules>=0.2.1->google-auth->gsheetsdb) (0.4.8)\n",
            "Requirement already satisfied: mo-future==3.147.20327 in /usr/local/lib/python3.7/dist-packages (from moz-sql-parser->gsheetsdb) (3.147.20327)\n",
            "Requirement already satisfied: mo-logs==4.23.21108 in /usr/local/lib/python3.7/dist-packages (from moz-sql-parser->gsheetsdb) (4.23.21108)\n",
            "Requirement already satisfied: mo-dots==4.22.21108 in /usr/local/lib/python3.7/dist-packages (from moz-sql-parser->gsheetsdb) (4.22.21108)\n",
            "Requirement already satisfied: mo-imports==3.149.20327 in /usr/local/lib/python3.7/dist-packages (from mo-dots==4.22.21108->moz-sql-parser->gsheetsdb) (3.149.20327)\n",
            "Requirement already satisfied: mo-kwargs==4.22.21108 in /usr/local/lib/python3.7/dist-packages (from mo-logs==4.23.21108->moz-sql-parser->gsheetsdb) (4.22.21108)\n"
          ]
        }
      ]
    },
    {
      "cell_type": "code",
      "source": [
        "from gsheetsdb import connect"
      ],
      "metadata": {
        "id": "nyCRqWFxYuv2"
      },
      "execution_count": 139,
      "outputs": []
    },
    {
      "cell_type": "code",
      "source": [
        "conn = connect()"
      ],
      "metadata": {
        "id": "vEUXktOBY7s6"
      },
      "execution_count": 140,
      "outputs": []
    },
    {
      "cell_type": "code",
      "source": [
        "sheet_url = 'https://docs.google.com/spreadsheets/d/1J1Lw1vGLEIee31gMLiE8Oihy9LuWSKhvuDdf9qSEKMo/edit?usp=sharing'"
      ],
      "metadata": {
        "id": "D19cKtYHZDTm"
      },
      "execution_count": 141,
      "outputs": []
    },
    {
      "cell_type": "code",
      "source": [
        "df = pd.read_sql(f'SELECT * FROM \"{sheet_url}\"', conn)"
      ],
      "metadata": {
        "id": "cMHUpp7vY971"
      },
      "execution_count": 142,
      "outputs": []
    },
    {
      "cell_type": "code",
      "source": [
        "df.shape"
      ],
      "metadata": {
        "colab": {
          "base_uri": "https://localhost:8080/"
        },
        "id": "AXxpI5UUZJgc",
        "outputId": "76420417-8317-4d71-e333-c69cf10269d2"
      },
      "execution_count": 143,
      "outputs": [
        {
          "output_type": "execute_result",
          "data": {
            "text/plain": [
              "(16218, 26)"
            ]
          },
          "metadata": {},
          "execution_count": 143
        }
      ]
    },
    {
      "cell_type": "code",
      "source": [
        "len(df.drop_duplicates(subset='ids')) # No duplicate ids"
      ],
      "metadata": {
        "colab": {
          "base_uri": "https://localhost:8080/"
        },
        "id": "l6MU-fDcZqoE",
        "outputId": "36d567df-3062-48fb-8073-6dbb55859b4a"
      },
      "execution_count": 144,
      "outputs": [
        {
          "output_type": "execute_result",
          "data": {
            "text/plain": [
              "16218"
            ]
          },
          "metadata": {},
          "execution_count": 144
        }
      ]
    },
    {
      "cell_type": "markdown",
      "source": [
        "# Analytics"
      ],
      "metadata": {
        "id": "qydj-2oDZTTb"
      }
    },
    {
      "cell_type": "markdown",
      "source": [
        "## Preprocessing"
      ],
      "metadata": {
        "id": "XdvANu5IaIDa"
      }
    },
    {
      "cell_type": "code",
      "source": [
        "checkpoint_1 = df.iloc[:, :]"
      ],
      "metadata": {
        "id": "Y1xMSgWDcDbO"
      },
      "execution_count": 145,
      "outputs": []
    },
    {
      "cell_type": "code",
      "source": [
        "df = checkpoint_1.iloc[:, :]"
      ],
      "metadata": {
        "id": "6tJuSU-Pklf-"
      },
      "execution_count": 146,
      "outputs": []
    },
    {
      "cell_type": "code",
      "source": [
        "df.columns.values"
      ],
      "metadata": {
        "colab": {
          "base_uri": "https://localhost:8080/"
        },
        "id": "KpuVpY_WaWse",
        "outputId": "425fadd2-c6e2-432b-b4e9-e33e75c26f13"
      },
      "execution_count": 147,
      "outputs": [
        {
          "output_type": "execute_result",
          "data": {
            "text/plain": [
              "array(['ids', 'vipped_featured', 'prices', 'texts', 'categories',\n",
              "       'floors', 'areas_m2', 'rooms', 'documents', 'credits', 'address',\n",
              "       'district', 'latitudes', 'longitudes', 'ownerships', 'names',\n",
              "       'emails', 'phone_numbers_appened', 'ad_number', 'watches',\n",
              "       'ad_refreshed_date', 'agency_titles', 'photo_counts',\n",
              "       'phot_pseudo_links', 'date_of_parsing', 'deal_ended'], dtype=object)"
            ]
          },
          "metadata": {},
          "execution_count": 147
        }
      ]
    },
    {
      "cell_type": "code",
      "source": [
        "# Necessary columns\n",
        "necessary_columns = [\n",
        "                     \"ids\",\n",
        "                     \"vipped_featured\", \n",
        "                     \"prices\",\n",
        "                     \"categories\",\n",
        "                     \"floors\",\n",
        "                     \"areas_m2\",\n",
        "                     \"rooms\",\n",
        "                     \"documents\",\n",
        "                     \"credits\",\n",
        "                     \"address\",\n",
        "                     \"district\",\n",
        "                     \"latitudes\",\n",
        "                     \"longitudes\",\n",
        "                     \"ownerships\",\n",
        "                     \"watches\",\n",
        "                     \"ad_refreshed_date\",\n",
        "                     \"agency_titles\",\n",
        "                     \"date_of_parsing\",\n",
        "                     \"deal_ended\"\n",
        "]\n",
        "df = df[necessary_columns]"
      ],
      "metadata": {
        "id": "R8ms5yefcA6Y"
      },
      "execution_count": 148,
      "outputs": []
    },
    {
      "cell_type": "code",
      "source": [
        "df.head()"
      ],
      "metadata": {
        "colab": {
          "base_uri": "https://localhost:8080/",
          "height": 634
        },
        "id": "IiNcvHgsZuQG",
        "outputId": "2a702131-65ec-46de-fea6-c58f51f3de15"
      },
      "execution_count": 149,
      "outputs": [
        {
          "output_type": "execute_result",
          "data": {
            "text/html": [
              "\n",
              "  <div id=\"df-7a9d0739-e908-4e84-8c31-3da9b9ea456c\">\n",
              "    <div class=\"colab-df-container\">\n",
              "      <div>\n",
              "<style scoped>\n",
              "    .dataframe tbody tr th:only-of-type {\n",
              "        vertical-align: middle;\n",
              "    }\n",
              "\n",
              "    .dataframe tbody tr th {\n",
              "        vertical-align: top;\n",
              "    }\n",
              "\n",
              "    .dataframe thead th {\n",
              "        text-align: right;\n",
              "    }\n",
              "</style>\n",
              "<table border=\"1\" class=\"dataframe\">\n",
              "  <thead>\n",
              "    <tr style=\"text-align: right;\">\n",
              "      <th></th>\n",
              "      <th>ids</th>\n",
              "      <th>vipped_featured</th>\n",
              "      <th>prices</th>\n",
              "      <th>categories</th>\n",
              "      <th>floors</th>\n",
              "      <th>areas_m2</th>\n",
              "      <th>rooms</th>\n",
              "      <th>documents</th>\n",
              "      <th>credits</th>\n",
              "      <th>address</th>\n",
              "      <th>district</th>\n",
              "      <th>latitudes</th>\n",
              "      <th>longitudes</th>\n",
              "      <th>ownerships</th>\n",
              "      <th>watches</th>\n",
              "      <th>ad_refreshed_date</th>\n",
              "      <th>agency_titles</th>\n",
              "      <th>date_of_parsing</th>\n",
              "      <th>deal_ended</th>\n",
              "    </tr>\n",
              "  </thead>\n",
              "  <tbody>\n",
              "    <tr>\n",
              "      <th>0</th>\n",
              "      <td>2348807</td>\n",
              "      <td>featuredvipped</td>\n",
              "      <td>54 000</td>\n",
              "      <td>Köhnə tikili</td>\n",
              "      <td>2 / 5</td>\n",
              "      <td>50 m²</td>\n",
              "      <td>2</td>\n",
              "      <td>var</td>\n",
              "      <td>var</td>\n",
              "      <td>Ünvan: Bakı şəhəri, R.Şahsuvarov küç 31</td>\n",
              "      <td>Suraxanı r.; Hövsan q.</td>\n",
              "      <td>40.35582129</td>\n",
              "      <td>50.06357475</td>\n",
              "      <td>mülkiyyətçi</td>\n",
              "      <td>3363</td>\n",
              "      <td>01 Yanvar 2022</td>\n",
              "      <td>0</td>\n",
              "      <td>2022-01-03 11:36:55</td>\n",
              "      <td>0</td>\n",
              "    </tr>\n",
              "    <tr>\n",
              "      <th>1</th>\n",
              "      <td>1710054</td>\n",
              "      <td>vipped</td>\n",
              "      <td>289 000</td>\n",
              "      <td>Yeni tikili</td>\n",
              "      <td>5 / 17</td>\n",
              "      <td>180 m²</td>\n",
              "      <td>4</td>\n",
              "      <td>var</td>\n",
              "      <td>var</td>\n",
              "      <td>Ünvan: Bakı şəhəri, Affiyədin Cəlilov küç.</td>\n",
              "      <td>Şah İsmayıl Xətai m.; Xətai r.</td>\n",
              "      <td>40.37891689</td>\n",
              "      <td>49.875682</td>\n",
              "      <td>mülkiyyətçi</td>\n",
              "      <td>7348</td>\n",
              "      <td>22 Dekabr 2021</td>\n",
              "      <td>0</td>\n",
              "      <td>2022-01-03 11:36:55</td>\n",
              "      <td>0</td>\n",
              "    </tr>\n",
              "    <tr>\n",
              "      <th>2</th>\n",
              "      <td>2524899</td>\n",
              "      <td>vipped</td>\n",
              "      <td>159 000</td>\n",
              "      <td>Yeni tikili</td>\n",
              "      <td>12 / 19</td>\n",
              "      <td>58 m²</td>\n",
              "      <td>2</td>\n",
              "      <td>var</td>\n",
              "      <td>var</td>\n",
              "      <td>Ünvan: Bakı şəhəri, Azadlıq prospekti</td>\n",
              "      <td>ASAN Xidmət №1 ; TQDK ; Neftçi bazası ; Nəsimi r.</td>\n",
              "      <td>40.39841488</td>\n",
              "      <td>49.83920251</td>\n",
              "      <td>vasitəçi (agent)</td>\n",
              "      <td>197</td>\n",
              "      <td>28 Dekabr 2021</td>\n",
              "      <td>0</td>\n",
              "      <td>2022-01-03 11:36:55</td>\n",
              "      <td>0</td>\n",
              "    </tr>\n",
              "    <tr>\n",
              "      <th>3</th>\n",
              "      <td>2529070</td>\n",
              "      <td>vipped</td>\n",
              "      <td>175 000</td>\n",
              "      <td>Yeni tikili</td>\n",
              "      <td>7 / 7</td>\n",
              "      <td>117 m²</td>\n",
              "      <td>3</td>\n",
              "      <td>var</td>\n",
              "      <td>var</td>\n",
              "      <td>Ünvan: Bakı şəhəri, Xəqani Rüstəmov küçəsi 6</td>\n",
              "      <td>Əhmədli m.; Xətai r.</td>\n",
              "      <td>40.3816452</td>\n",
              "      <td>49.9584505</td>\n",
              "      <td>mülkiyyətçi</td>\n",
              "      <td>376</td>\n",
              "      <td>25 Dekabr 2021</td>\n",
              "      <td>0</td>\n",
              "      <td>2022-01-03 11:36:55</td>\n",
              "      <td>0</td>\n",
              "    </tr>\n",
              "    <tr>\n",
              "      <th>4</th>\n",
              "      <td>2541267</td>\n",
              "      <td>0</td>\n",
              "      <td>104 000</td>\n",
              "      <td>Yeni tikili</td>\n",
              "      <td>11 / 12</td>\n",
              "      <td>65 m²</td>\n",
              "      <td>2</td>\n",
              "      <td>var</td>\n",
              "      <td>xeyr</td>\n",
              "      <td>Ünvan: Bakı şəhəri, S.S.Axundov küç.</td>\n",
              "      <td>Azadlıq Prospekti m.; Binəqədi r.; 8-ci mikror...</td>\n",
              "      <td>40.42705637</td>\n",
              "      <td>49.84432445</td>\n",
              "      <td>vasitəçi (agent)</td>\n",
              "      <td>28</td>\n",
              "      <td>Bugün 15:20</td>\n",
              "      <td>New House 20 Yanvar daşınmaz əmlak agentliyi</td>\n",
              "      <td>2022-01-03 11:36:55</td>\n",
              "      <td>0</td>\n",
              "    </tr>\n",
              "  </tbody>\n",
              "</table>\n",
              "</div>\n",
              "      <button class=\"colab-df-convert\" onclick=\"convertToInteractive('df-7a9d0739-e908-4e84-8c31-3da9b9ea456c')\"\n",
              "              title=\"Convert this dataframe to an interactive table.\"\n",
              "              style=\"display:none;\">\n",
              "        \n",
              "  <svg xmlns=\"http://www.w3.org/2000/svg\" height=\"24px\"viewBox=\"0 0 24 24\"\n",
              "       width=\"24px\">\n",
              "    <path d=\"M0 0h24v24H0V0z\" fill=\"none\"/>\n",
              "    <path d=\"M18.56 5.44l.94 2.06.94-2.06 2.06-.94-2.06-.94-.94-2.06-.94 2.06-2.06.94zm-11 1L8.5 8.5l.94-2.06 2.06-.94-2.06-.94L8.5 2.5l-.94 2.06-2.06.94zm10 10l.94 2.06.94-2.06 2.06-.94-2.06-.94-.94-2.06-.94 2.06-2.06.94z\"/><path d=\"M17.41 7.96l-1.37-1.37c-.4-.4-.92-.59-1.43-.59-.52 0-1.04.2-1.43.59L10.3 9.45l-7.72 7.72c-.78.78-.78 2.05 0 2.83L4 21.41c.39.39.9.59 1.41.59.51 0 1.02-.2 1.41-.59l7.78-7.78 2.81-2.81c.8-.78.8-2.07 0-2.86zM5.41 20L4 18.59l7.72-7.72 1.47 1.35L5.41 20z\"/>\n",
              "  </svg>\n",
              "      </button>\n",
              "      \n",
              "  <style>\n",
              "    .colab-df-container {\n",
              "      display:flex;\n",
              "      flex-wrap:wrap;\n",
              "      gap: 12px;\n",
              "    }\n",
              "\n",
              "    .colab-df-convert {\n",
              "      background-color: #E8F0FE;\n",
              "      border: none;\n",
              "      border-radius: 50%;\n",
              "      cursor: pointer;\n",
              "      display: none;\n",
              "      fill: #1967D2;\n",
              "      height: 32px;\n",
              "      padding: 0 0 0 0;\n",
              "      width: 32px;\n",
              "    }\n",
              "\n",
              "    .colab-df-convert:hover {\n",
              "      background-color: #E2EBFA;\n",
              "      box-shadow: 0px 1px 2px rgba(60, 64, 67, 0.3), 0px 1px 3px 1px rgba(60, 64, 67, 0.15);\n",
              "      fill: #174EA6;\n",
              "    }\n",
              "\n",
              "    [theme=dark] .colab-df-convert {\n",
              "      background-color: #3B4455;\n",
              "      fill: #D2E3FC;\n",
              "    }\n",
              "\n",
              "    [theme=dark] .colab-df-convert:hover {\n",
              "      background-color: #434B5C;\n",
              "      box-shadow: 0px 1px 3px 1px rgba(0, 0, 0, 0.15);\n",
              "      filter: drop-shadow(0px 1px 2px rgba(0, 0, 0, 0.3));\n",
              "      fill: #FFFFFF;\n",
              "    }\n",
              "  </style>\n",
              "\n",
              "      <script>\n",
              "        const buttonEl =\n",
              "          document.querySelector('#df-7a9d0739-e908-4e84-8c31-3da9b9ea456c button.colab-df-convert');\n",
              "        buttonEl.style.display =\n",
              "          google.colab.kernel.accessAllowed ? 'block' : 'none';\n",
              "\n",
              "        async function convertToInteractive(key) {\n",
              "          const element = document.querySelector('#df-7a9d0739-e908-4e84-8c31-3da9b9ea456c');\n",
              "          const dataTable =\n",
              "            await google.colab.kernel.invokeFunction('convertToInteractive',\n",
              "                                                     [key], {});\n",
              "          if (!dataTable) return;\n",
              "\n",
              "          const docLinkHtml = 'Like what you see? Visit the ' +\n",
              "            '<a target=\"_blank\" href=https://colab.research.google.com/notebooks/data_table.ipynb>data table notebook</a>'\n",
              "            + ' to learn more about interactive tables.';\n",
              "          element.innerHTML = '';\n",
              "          dataTable['output_type'] = 'display_data';\n",
              "          await google.colab.output.renderOutput(dataTable, element);\n",
              "          const docLink = document.createElement('div');\n",
              "          docLink.innerHTML = docLinkHtml;\n",
              "          element.appendChild(docLink);\n",
              "        }\n",
              "      </script>\n",
              "    </div>\n",
              "  </div>\n",
              "  "
            ],
            "text/plain": [
              "       ids vipped_featured  ...     date_of_parsing deal_ended\n",
              "0  2348807  featuredvipped  ... 2022-01-03 11:36:55          0\n",
              "1  1710054          vipped  ... 2022-01-03 11:36:55          0\n",
              "2  2524899          vipped  ... 2022-01-03 11:36:55          0\n",
              "3  2529070          vipped  ... 2022-01-03 11:36:55          0\n",
              "4  2541267               0  ... 2022-01-03 11:36:55          0\n",
              "\n",
              "[5 rows x 19 columns]"
            ]
          },
          "metadata": {},
          "execution_count": 149
        }
      ]
    },
    {
      "cell_type": "code",
      "source": [
        "df.shape"
      ],
      "metadata": {
        "colab": {
          "base_uri": "https://localhost:8080/"
        },
        "id": "zEP45hv6Z7W9",
        "outputId": "d9d6a60b-00c2-4a29-feda-d0734e3b5fdd"
      },
      "execution_count": 150,
      "outputs": [
        {
          "output_type": "execute_result",
          "data": {
            "text/plain": [
              "(16218, 19)"
            ]
          },
          "metadata": {},
          "execution_count": 150
        }
      ]
    },
    {
      "cell_type": "markdown",
      "source": [
        "### Vipped Featured ordinary ads"
      ],
      "metadata": {
        "id": "2QZSs7H0ddB4"
      }
    },
    {
      "cell_type": "code",
      "source": [
        "df['vipped_featured'].value_counts()"
      ],
      "metadata": {
        "colab": {
          "base_uri": "https://localhost:8080/"
        },
        "id": "iZCjP7eGdikc",
        "outputId": "7bf9a100-adc3-49e2-81e2-57e42a4aae6b"
      },
      "execution_count": 151,
      "outputs": [
        {
          "output_type": "execute_result",
          "data": {
            "text/plain": [
              "0                 15872\n",
              "vipped              249\n",
              "featuredvipped       77\n",
              "featured             20\n",
              "Name: vipped_featured, dtype: int64"
            ]
          },
          "metadata": {},
          "execution_count": 151
        }
      ]
    },
    {
      "cell_type": "code",
      "source": [
        "ad_type = pd.get_dummies(df['vipped_featured'], prefix='ad_type', drop_first=True)\n",
        "ad_type # ad_type_0 is reference category"
      ],
      "metadata": {
        "colab": {
          "base_uri": "https://localhost:8080/",
          "height": 423
        },
        "id": "D7x4muM8duFi",
        "outputId": "ef917c3d-bd2e-4095-cbf7-da9b61aca9c9"
      },
      "execution_count": 152,
      "outputs": [
        {
          "output_type": "execute_result",
          "data": {
            "text/html": [
              "\n",
              "  <div id=\"df-19e905f7-6b9e-49b7-9dc3-da640502b710\">\n",
              "    <div class=\"colab-df-container\">\n",
              "      <div>\n",
              "<style scoped>\n",
              "    .dataframe tbody tr th:only-of-type {\n",
              "        vertical-align: middle;\n",
              "    }\n",
              "\n",
              "    .dataframe tbody tr th {\n",
              "        vertical-align: top;\n",
              "    }\n",
              "\n",
              "    .dataframe thead th {\n",
              "        text-align: right;\n",
              "    }\n",
              "</style>\n",
              "<table border=\"1\" class=\"dataframe\">\n",
              "  <thead>\n",
              "    <tr style=\"text-align: right;\">\n",
              "      <th></th>\n",
              "      <th>ad_type_featured</th>\n",
              "      <th>ad_type_featuredvipped</th>\n",
              "      <th>ad_type_vipped</th>\n",
              "    </tr>\n",
              "  </thead>\n",
              "  <tbody>\n",
              "    <tr>\n",
              "      <th>0</th>\n",
              "      <td>0</td>\n",
              "      <td>1</td>\n",
              "      <td>0</td>\n",
              "    </tr>\n",
              "    <tr>\n",
              "      <th>1</th>\n",
              "      <td>0</td>\n",
              "      <td>0</td>\n",
              "      <td>1</td>\n",
              "    </tr>\n",
              "    <tr>\n",
              "      <th>2</th>\n",
              "      <td>0</td>\n",
              "      <td>0</td>\n",
              "      <td>1</td>\n",
              "    </tr>\n",
              "    <tr>\n",
              "      <th>3</th>\n",
              "      <td>0</td>\n",
              "      <td>0</td>\n",
              "      <td>1</td>\n",
              "    </tr>\n",
              "    <tr>\n",
              "      <th>4</th>\n",
              "      <td>0</td>\n",
              "      <td>0</td>\n",
              "      <td>0</td>\n",
              "    </tr>\n",
              "    <tr>\n",
              "      <th>...</th>\n",
              "      <td>...</td>\n",
              "      <td>...</td>\n",
              "      <td>...</td>\n",
              "    </tr>\n",
              "    <tr>\n",
              "      <th>16213</th>\n",
              "      <td>0</td>\n",
              "      <td>0</td>\n",
              "      <td>0</td>\n",
              "    </tr>\n",
              "    <tr>\n",
              "      <th>16214</th>\n",
              "      <td>0</td>\n",
              "      <td>0</td>\n",
              "      <td>0</td>\n",
              "    </tr>\n",
              "    <tr>\n",
              "      <th>16215</th>\n",
              "      <td>0</td>\n",
              "      <td>0</td>\n",
              "      <td>0</td>\n",
              "    </tr>\n",
              "    <tr>\n",
              "      <th>16216</th>\n",
              "      <td>0</td>\n",
              "      <td>0</td>\n",
              "      <td>0</td>\n",
              "    </tr>\n",
              "    <tr>\n",
              "      <th>16217</th>\n",
              "      <td>0</td>\n",
              "      <td>0</td>\n",
              "      <td>0</td>\n",
              "    </tr>\n",
              "  </tbody>\n",
              "</table>\n",
              "<p>16218 rows × 3 columns</p>\n",
              "</div>\n",
              "      <button class=\"colab-df-convert\" onclick=\"convertToInteractive('df-19e905f7-6b9e-49b7-9dc3-da640502b710')\"\n",
              "              title=\"Convert this dataframe to an interactive table.\"\n",
              "              style=\"display:none;\">\n",
              "        \n",
              "  <svg xmlns=\"http://www.w3.org/2000/svg\" height=\"24px\"viewBox=\"0 0 24 24\"\n",
              "       width=\"24px\">\n",
              "    <path d=\"M0 0h24v24H0V0z\" fill=\"none\"/>\n",
              "    <path d=\"M18.56 5.44l.94 2.06.94-2.06 2.06-.94-2.06-.94-.94-2.06-.94 2.06-2.06.94zm-11 1L8.5 8.5l.94-2.06 2.06-.94-2.06-.94L8.5 2.5l-.94 2.06-2.06.94zm10 10l.94 2.06.94-2.06 2.06-.94-2.06-.94-.94-2.06-.94 2.06-2.06.94z\"/><path d=\"M17.41 7.96l-1.37-1.37c-.4-.4-.92-.59-1.43-.59-.52 0-1.04.2-1.43.59L10.3 9.45l-7.72 7.72c-.78.78-.78 2.05 0 2.83L4 21.41c.39.39.9.59 1.41.59.51 0 1.02-.2 1.41-.59l7.78-7.78 2.81-2.81c.8-.78.8-2.07 0-2.86zM5.41 20L4 18.59l7.72-7.72 1.47 1.35L5.41 20z\"/>\n",
              "  </svg>\n",
              "      </button>\n",
              "      \n",
              "  <style>\n",
              "    .colab-df-container {\n",
              "      display:flex;\n",
              "      flex-wrap:wrap;\n",
              "      gap: 12px;\n",
              "    }\n",
              "\n",
              "    .colab-df-convert {\n",
              "      background-color: #E8F0FE;\n",
              "      border: none;\n",
              "      border-radius: 50%;\n",
              "      cursor: pointer;\n",
              "      display: none;\n",
              "      fill: #1967D2;\n",
              "      height: 32px;\n",
              "      padding: 0 0 0 0;\n",
              "      width: 32px;\n",
              "    }\n",
              "\n",
              "    .colab-df-convert:hover {\n",
              "      background-color: #E2EBFA;\n",
              "      box-shadow: 0px 1px 2px rgba(60, 64, 67, 0.3), 0px 1px 3px 1px rgba(60, 64, 67, 0.15);\n",
              "      fill: #174EA6;\n",
              "    }\n",
              "\n",
              "    [theme=dark] .colab-df-convert {\n",
              "      background-color: #3B4455;\n",
              "      fill: #D2E3FC;\n",
              "    }\n",
              "\n",
              "    [theme=dark] .colab-df-convert:hover {\n",
              "      background-color: #434B5C;\n",
              "      box-shadow: 0px 1px 3px 1px rgba(0, 0, 0, 0.15);\n",
              "      filter: drop-shadow(0px 1px 2px rgba(0, 0, 0, 0.3));\n",
              "      fill: #FFFFFF;\n",
              "    }\n",
              "  </style>\n",
              "\n",
              "      <script>\n",
              "        const buttonEl =\n",
              "          document.querySelector('#df-19e905f7-6b9e-49b7-9dc3-da640502b710 button.colab-df-convert');\n",
              "        buttonEl.style.display =\n",
              "          google.colab.kernel.accessAllowed ? 'block' : 'none';\n",
              "\n",
              "        async function convertToInteractive(key) {\n",
              "          const element = document.querySelector('#df-19e905f7-6b9e-49b7-9dc3-da640502b710');\n",
              "          const dataTable =\n",
              "            await google.colab.kernel.invokeFunction('convertToInteractive',\n",
              "                                                     [key], {});\n",
              "          if (!dataTable) return;\n",
              "\n",
              "          const docLinkHtml = 'Like what you see? Visit the ' +\n",
              "            '<a target=\"_blank\" href=https://colab.research.google.com/notebooks/data_table.ipynb>data table notebook</a>'\n",
              "            + ' to learn more about interactive tables.';\n",
              "          element.innerHTML = '';\n",
              "          dataTable['output_type'] = 'display_data';\n",
              "          await google.colab.output.renderOutput(dataTable, element);\n",
              "          const docLink = document.createElement('div');\n",
              "          docLink.innerHTML = docLinkHtml;\n",
              "          element.appendChild(docLink);\n",
              "        }\n",
              "      </script>\n",
              "    </div>\n",
              "  </div>\n",
              "  "
            ],
            "text/plain": [
              "       ad_type_featured  ad_type_featuredvipped  ad_type_vipped\n",
              "0                     0                       1               0\n",
              "1                     0                       0               1\n",
              "2                     0                       0               1\n",
              "3                     0                       0               1\n",
              "4                     0                       0               0\n",
              "...                 ...                     ...             ...\n",
              "16213                 0                       0               0\n",
              "16214                 0                       0               0\n",
              "16215                 0                       0               0\n",
              "16216                 0                       0               0\n",
              "16217                 0                       0               0\n",
              "\n",
              "[16218 rows x 3 columns]"
            ]
          },
          "metadata": {},
          "execution_count": 152
        }
      ]
    },
    {
      "cell_type": "code",
      "source": [
        "df = pd.concat([df, ad_type], axis=1)\n",
        "df.columns.values"
      ],
      "metadata": {
        "colab": {
          "base_uri": "https://localhost:8080/"
        },
        "id": "qMIr_7TGeLVZ",
        "outputId": "2ee70529-e04c-4d1f-8522-d56b0e4396c5"
      },
      "execution_count": 153,
      "outputs": [
        {
          "output_type": "execute_result",
          "data": {
            "text/plain": [
              "array(['ids', 'vipped_featured', 'prices', 'categories', 'floors',\n",
              "       'areas_m2', 'rooms', 'documents', 'credits', 'address', 'district',\n",
              "       'latitudes', 'longitudes', 'ownerships', 'watches',\n",
              "       'ad_refreshed_date', 'agency_titles', 'date_of_parsing',\n",
              "       'deal_ended', 'ad_type_featured', 'ad_type_featuredvipped',\n",
              "       'ad_type_vipped'], dtype=object)"
            ]
          },
          "metadata": {},
          "execution_count": 153
        }
      ]
    },
    {
      "cell_type": "markdown",
      "source": [
        "### Price"
      ],
      "metadata": {
        "id": "WxFM2zYsbnwk"
      }
    },
    {
      "cell_type": "code",
      "source": [
        "df['prices'] = pd.to_numeric(\n",
        "    df['prices'].apply(lambda x: str(x).replace(\" \", \"\"))\n",
        ")"
      ],
      "metadata": {
        "id": "LO4A-N3SZ_Dk"
      },
      "execution_count": 154,
      "outputs": []
    },
    {
      "cell_type": "markdown",
      "source": [
        "### Categories"
      ],
      "metadata": {
        "id": "uDT-XJ7ielV4"
      }
    },
    {
      "cell_type": "code",
      "source": [
        "df['categories'].value_counts()"
      ],
      "metadata": {
        "colab": {
          "base_uri": "https://localhost:8080/"
        },
        "id": "DDsYwMgnevy2",
        "outputId": "ae7a2ee5-4196-4685-b2d0-8f262d6e6821"
      },
      "execution_count": 155,
      "outputs": [
        {
          "output_type": "execute_result",
          "data": {
            "text/plain": [
              "Yeni tikili     10900\n",
              "Köhnə tikili     5312\n",
              "0                   6\n",
              "Name: categories, dtype: int64"
            ]
          },
          "metadata": {},
          "execution_count": 155
        }
      ]
    },
    {
      "cell_type": "code",
      "source": [
        "categories = pd.get_dummies(df['categories'], drop_first=True) # 0 is reference category\n",
        "categories"
      ],
      "metadata": {
        "colab": {
          "base_uri": "https://localhost:8080/",
          "height": 423
        },
        "id": "npFAjGPEbt33",
        "outputId": "38e86ee4-746a-46d2-b483-4a091a6cf864"
      },
      "execution_count": 156,
      "outputs": [
        {
          "output_type": "execute_result",
          "data": {
            "text/html": [
              "\n",
              "  <div id=\"df-5076fd82-4d30-40a1-9823-a38bdf72d310\">\n",
              "    <div class=\"colab-df-container\">\n",
              "      <div>\n",
              "<style scoped>\n",
              "    .dataframe tbody tr th:only-of-type {\n",
              "        vertical-align: middle;\n",
              "    }\n",
              "\n",
              "    .dataframe tbody tr th {\n",
              "        vertical-align: top;\n",
              "    }\n",
              "\n",
              "    .dataframe thead th {\n",
              "        text-align: right;\n",
              "    }\n",
              "</style>\n",
              "<table border=\"1\" class=\"dataframe\">\n",
              "  <thead>\n",
              "    <tr style=\"text-align: right;\">\n",
              "      <th></th>\n",
              "      <th>Köhnə tikili</th>\n",
              "      <th>Yeni tikili</th>\n",
              "    </tr>\n",
              "  </thead>\n",
              "  <tbody>\n",
              "    <tr>\n",
              "      <th>0</th>\n",
              "      <td>1</td>\n",
              "      <td>0</td>\n",
              "    </tr>\n",
              "    <tr>\n",
              "      <th>1</th>\n",
              "      <td>0</td>\n",
              "      <td>1</td>\n",
              "    </tr>\n",
              "    <tr>\n",
              "      <th>2</th>\n",
              "      <td>0</td>\n",
              "      <td>1</td>\n",
              "    </tr>\n",
              "    <tr>\n",
              "      <th>3</th>\n",
              "      <td>0</td>\n",
              "      <td>1</td>\n",
              "    </tr>\n",
              "    <tr>\n",
              "      <th>4</th>\n",
              "      <td>0</td>\n",
              "      <td>1</td>\n",
              "    </tr>\n",
              "    <tr>\n",
              "      <th>...</th>\n",
              "      <td>...</td>\n",
              "      <td>...</td>\n",
              "    </tr>\n",
              "    <tr>\n",
              "      <th>16213</th>\n",
              "      <td>0</td>\n",
              "      <td>1</td>\n",
              "    </tr>\n",
              "    <tr>\n",
              "      <th>16214</th>\n",
              "      <td>0</td>\n",
              "      <td>1</td>\n",
              "    </tr>\n",
              "    <tr>\n",
              "      <th>16215</th>\n",
              "      <td>0</td>\n",
              "      <td>1</td>\n",
              "    </tr>\n",
              "    <tr>\n",
              "      <th>16216</th>\n",
              "      <td>0</td>\n",
              "      <td>1</td>\n",
              "    </tr>\n",
              "    <tr>\n",
              "      <th>16217</th>\n",
              "      <td>0</td>\n",
              "      <td>1</td>\n",
              "    </tr>\n",
              "  </tbody>\n",
              "</table>\n",
              "<p>16218 rows × 2 columns</p>\n",
              "</div>\n",
              "      <button class=\"colab-df-convert\" onclick=\"convertToInteractive('df-5076fd82-4d30-40a1-9823-a38bdf72d310')\"\n",
              "              title=\"Convert this dataframe to an interactive table.\"\n",
              "              style=\"display:none;\">\n",
              "        \n",
              "  <svg xmlns=\"http://www.w3.org/2000/svg\" height=\"24px\"viewBox=\"0 0 24 24\"\n",
              "       width=\"24px\">\n",
              "    <path d=\"M0 0h24v24H0V0z\" fill=\"none\"/>\n",
              "    <path d=\"M18.56 5.44l.94 2.06.94-2.06 2.06-.94-2.06-.94-.94-2.06-.94 2.06-2.06.94zm-11 1L8.5 8.5l.94-2.06 2.06-.94-2.06-.94L8.5 2.5l-.94 2.06-2.06.94zm10 10l.94 2.06.94-2.06 2.06-.94-2.06-.94-.94-2.06-.94 2.06-2.06.94z\"/><path d=\"M17.41 7.96l-1.37-1.37c-.4-.4-.92-.59-1.43-.59-.52 0-1.04.2-1.43.59L10.3 9.45l-7.72 7.72c-.78.78-.78 2.05 0 2.83L4 21.41c.39.39.9.59 1.41.59.51 0 1.02-.2 1.41-.59l7.78-7.78 2.81-2.81c.8-.78.8-2.07 0-2.86zM5.41 20L4 18.59l7.72-7.72 1.47 1.35L5.41 20z\"/>\n",
              "  </svg>\n",
              "      </button>\n",
              "      \n",
              "  <style>\n",
              "    .colab-df-container {\n",
              "      display:flex;\n",
              "      flex-wrap:wrap;\n",
              "      gap: 12px;\n",
              "    }\n",
              "\n",
              "    .colab-df-convert {\n",
              "      background-color: #E8F0FE;\n",
              "      border: none;\n",
              "      border-radius: 50%;\n",
              "      cursor: pointer;\n",
              "      display: none;\n",
              "      fill: #1967D2;\n",
              "      height: 32px;\n",
              "      padding: 0 0 0 0;\n",
              "      width: 32px;\n",
              "    }\n",
              "\n",
              "    .colab-df-convert:hover {\n",
              "      background-color: #E2EBFA;\n",
              "      box-shadow: 0px 1px 2px rgba(60, 64, 67, 0.3), 0px 1px 3px 1px rgba(60, 64, 67, 0.15);\n",
              "      fill: #174EA6;\n",
              "    }\n",
              "\n",
              "    [theme=dark] .colab-df-convert {\n",
              "      background-color: #3B4455;\n",
              "      fill: #D2E3FC;\n",
              "    }\n",
              "\n",
              "    [theme=dark] .colab-df-convert:hover {\n",
              "      background-color: #434B5C;\n",
              "      box-shadow: 0px 1px 3px 1px rgba(0, 0, 0, 0.15);\n",
              "      filter: drop-shadow(0px 1px 2px rgba(0, 0, 0, 0.3));\n",
              "      fill: #FFFFFF;\n",
              "    }\n",
              "  </style>\n",
              "\n",
              "      <script>\n",
              "        const buttonEl =\n",
              "          document.querySelector('#df-5076fd82-4d30-40a1-9823-a38bdf72d310 button.colab-df-convert');\n",
              "        buttonEl.style.display =\n",
              "          google.colab.kernel.accessAllowed ? 'block' : 'none';\n",
              "\n",
              "        async function convertToInteractive(key) {\n",
              "          const element = document.querySelector('#df-5076fd82-4d30-40a1-9823-a38bdf72d310');\n",
              "          const dataTable =\n",
              "            await google.colab.kernel.invokeFunction('convertToInteractive',\n",
              "                                                     [key], {});\n",
              "          if (!dataTable) return;\n",
              "\n",
              "          const docLinkHtml = 'Like what you see? Visit the ' +\n",
              "            '<a target=\"_blank\" href=https://colab.research.google.com/notebooks/data_table.ipynb>data table notebook</a>'\n",
              "            + ' to learn more about interactive tables.';\n",
              "          element.innerHTML = '';\n",
              "          dataTable['output_type'] = 'display_data';\n",
              "          await google.colab.output.renderOutput(dataTable, element);\n",
              "          const docLink = document.createElement('div');\n",
              "          docLink.innerHTML = docLinkHtml;\n",
              "          element.appendChild(docLink);\n",
              "        }\n",
              "      </script>\n",
              "    </div>\n",
              "  </div>\n",
              "  "
            ],
            "text/plain": [
              "       Köhnə tikili  Yeni tikili\n",
              "0                 1            0\n",
              "1                 0            1\n",
              "2                 0            1\n",
              "3                 0            1\n",
              "4                 0            1\n",
              "...             ...          ...\n",
              "16213             0            1\n",
              "16214             0            1\n",
              "16215             0            1\n",
              "16216             0            1\n",
              "16217             0            1\n",
              "\n",
              "[16218 rows x 2 columns]"
            ]
          },
          "metadata": {},
          "execution_count": 156
        }
      ]
    },
    {
      "cell_type": "code",
      "source": [
        "df = pd.concat([df, categories], axis=1)\n",
        "df.columns.values"
      ],
      "metadata": {
        "colab": {
          "base_uri": "https://localhost:8080/"
        },
        "id": "Fl8xglyjetm8",
        "outputId": "a45a0573-c5c1-442c-f736-16cf3db84321"
      },
      "execution_count": 157,
      "outputs": [
        {
          "output_type": "execute_result",
          "data": {
            "text/plain": [
              "array(['ids', 'vipped_featured', 'prices', 'categories', 'floors',\n",
              "       'areas_m2', 'rooms', 'documents', 'credits', 'address', 'district',\n",
              "       'latitudes', 'longitudes', 'ownerships', 'watches',\n",
              "       'ad_refreshed_date', 'agency_titles', 'date_of_parsing',\n",
              "       'deal_ended', 'ad_type_featured', 'ad_type_featuredvipped',\n",
              "       'ad_type_vipped', 'Köhnə tikili', 'Yeni tikili'], dtype=object)"
            ]
          },
          "metadata": {},
          "execution_count": 157
        }
      ]
    },
    {
      "cell_type": "markdown",
      "source": [
        "### Floors"
      ],
      "metadata": {
        "id": "bvvg2TC3fiGG"
      }
    },
    {
      "cell_type": "code",
      "source": [
        "df['floors'].value_counts()"
      ],
      "metadata": {
        "colab": {
          "base_uri": "https://localhost:8080/"
        },
        "id": "YBqQgifrfptq",
        "outputId": "4d9cff3f-4dd9-4fb8-9f4a-6fae7ecdf930"
      },
      "execution_count": 158,
      "outputs": [
        {
          "output_type": "execute_result",
          "data": {
            "text/plain": [
              "5 / 5      592\n",
              "4 / 5      589\n",
              "3 / 5      484\n",
              "2 / 5      458\n",
              "1 / 5      312\n",
              "          ... \n",
              "23 / 26      1\n",
              "22 / 27      1\n",
              "7 / 26       1\n",
              "9 / 24       1\n",
              "15 / 28      1\n",
              "Name: floors, Length: 341, dtype: int64"
            ]
          },
          "metadata": {},
          "execution_count": 158
        }
      ]
    },
    {
      "cell_type": "code",
      "source": [
        "apartment_floor = df['floors'].apply(lambda x: str(x).split(\" / \")[0])\n",
        "\n",
        "buildings_floor = []\n",
        "\n",
        "for i in df['floors']:\n",
        "  try:\n",
        "    buildings_floor.append(str(i).split(\" / \")[1])\n",
        "  except:\n",
        "    buildings_floor.append(np.nan)"
      ],
      "metadata": {
        "id": "a8kXU-CSftzA"
      },
      "execution_count": 159,
      "outputs": []
    },
    {
      "cell_type": "code",
      "source": [
        "df['apartment_floor'] = apartment_floor\n",
        "df['buildings_floor'] = buildings_floor"
      ],
      "metadata": {
        "id": "WdQ5KG31f5hh"
      },
      "execution_count": 160,
      "outputs": []
    },
    {
      "cell_type": "markdown",
      "source": [
        "### Area m2"
      ],
      "metadata": {
        "id": "nFTg1I_bizKb"
      }
    },
    {
      "cell_type": "code",
      "source": [
        "df['areas_m2'] = df['areas_m2'].apply(lambda x: float(x.rstrip(\" m²\")))"
      ],
      "metadata": {
        "id": "d0XIE93-lzME"
      },
      "execution_count": 161,
      "outputs": []
    },
    {
      "cell_type": "markdown",
      "source": [
        "### Rooms"
      ],
      "metadata": {
        "id": "-6czJ3vTl6y8"
      }
    },
    {
      "cell_type": "code",
      "source": [
        "df['rooms'] = pd.to_numeric(df['rooms'])"
      ],
      "metadata": {
        "id": "0IvGqDt_mhkR"
      },
      "execution_count": 162,
      "outputs": []
    },
    {
      "cell_type": "markdown",
      "source": [
        "### Documents and Credits availability"
      ],
      "metadata": {
        "id": "y10acit7s0q7"
      }
    },
    {
      "cell_type": "code",
      "source": [
        "df['documents'].value_counts()"
      ],
      "metadata": {
        "colab": {
          "base_uri": "https://localhost:8080/"
        },
        "id": "n3QRkAcftF6D",
        "outputId": "c6138790-e4f2-407f-efeb-1909b9f88a34"
      },
      "execution_count": 163,
      "outputs": [
        {
          "output_type": "execute_result",
          "data": {
            "text/plain": [
              "var    16212\n",
              "0          6\n",
              "Name: documents, dtype: int64"
            ]
          },
          "metadata": {},
          "execution_count": 163
        }
      ]
    },
    {
      "cell_type": "code",
      "source": [
        "df[df['documents'] == \"0\"] # so I think to drop all rows with this condition"
      ],
      "metadata": {
        "colab": {
          "base_uri": "https://localhost:8080/",
          "height": 423
        },
        "id": "hxegBDQXtHcd",
        "outputId": "8fbedafe-6b56-4cdc-c947-74e85323c4db"
      },
      "execution_count": 164,
      "outputs": [
        {
          "output_type": "execute_result",
          "data": {
            "text/html": [
              "\n",
              "  <div id=\"df-7befa03c-053f-407d-a69b-ee546ba4ed86\">\n",
              "    <div class=\"colab-df-container\">\n",
              "      <div>\n",
              "<style scoped>\n",
              "    .dataframe tbody tr th:only-of-type {\n",
              "        vertical-align: middle;\n",
              "    }\n",
              "\n",
              "    .dataframe tbody tr th {\n",
              "        vertical-align: top;\n",
              "    }\n",
              "\n",
              "    .dataframe thead th {\n",
              "        text-align: right;\n",
              "    }\n",
              "</style>\n",
              "<table border=\"1\" class=\"dataframe\">\n",
              "  <thead>\n",
              "    <tr style=\"text-align: right;\">\n",
              "      <th></th>\n",
              "      <th>ids</th>\n",
              "      <th>vipped_featured</th>\n",
              "      <th>prices</th>\n",
              "      <th>categories</th>\n",
              "      <th>floors</th>\n",
              "      <th>areas_m2</th>\n",
              "      <th>rooms</th>\n",
              "      <th>documents</th>\n",
              "      <th>credits</th>\n",
              "      <th>address</th>\n",
              "      <th>district</th>\n",
              "      <th>latitudes</th>\n",
              "      <th>longitudes</th>\n",
              "      <th>ownerships</th>\n",
              "      <th>watches</th>\n",
              "      <th>ad_refreshed_date</th>\n",
              "      <th>agency_titles</th>\n",
              "      <th>date_of_parsing</th>\n",
              "      <th>deal_ended</th>\n",
              "      <th>ad_type_featured</th>\n",
              "      <th>ad_type_featuredvipped</th>\n",
              "      <th>ad_type_vipped</th>\n",
              "      <th>Köhnə tikili</th>\n",
              "      <th>Yeni tikili</th>\n",
              "      <th>apartment_floor</th>\n",
              "      <th>buildings_floor</th>\n",
              "    </tr>\n",
              "  </thead>\n",
              "  <tbody>\n",
              "    <tr>\n",
              "      <th>574</th>\n",
              "      <td>2540391</td>\n",
              "      <td>0</td>\n",
              "      <td>0</td>\n",
              "      <td>0</td>\n",
              "      <td>0</td>\n",
              "      <td>0.0</td>\n",
              "      <td>0</td>\n",
              "      <td>0</td>\n",
              "      <td>xeyr</td>\n",
              "      <td>0</td>\n",
              "      <td>None</td>\n",
              "      <td>0</td>\n",
              "      <td>0</td>\n",
              "      <td>0</td>\n",
              "      <td>0</td>\n",
              "      <td>0</td>\n",
              "      <td>0</td>\n",
              "      <td>2022-01-03 13:48:28</td>\n",
              "      <td>0</td>\n",
              "      <td>0</td>\n",
              "      <td>0</td>\n",
              "      <td>0</td>\n",
              "      <td>0</td>\n",
              "      <td>0</td>\n",
              "      <td>0</td>\n",
              "      <td>NaN</td>\n",
              "    </tr>\n",
              "    <tr>\n",
              "      <th>1809</th>\n",
              "      <td>2537858</td>\n",
              "      <td>0</td>\n",
              "      <td>0</td>\n",
              "      <td>0</td>\n",
              "      <td>0</td>\n",
              "      <td>0.0</td>\n",
              "      <td>0</td>\n",
              "      <td>0</td>\n",
              "      <td>xeyr</td>\n",
              "      <td>0</td>\n",
              "      <td>None</td>\n",
              "      <td>0</td>\n",
              "      <td>0</td>\n",
              "      <td>0</td>\n",
              "      <td>0</td>\n",
              "      <td>0</td>\n",
              "      <td>0</td>\n",
              "      <td>2022-01-03 16:45:50</td>\n",
              "      <td>0</td>\n",
              "      <td>0</td>\n",
              "      <td>0</td>\n",
              "      <td>0</td>\n",
              "      <td>0</td>\n",
              "      <td>0</td>\n",
              "      <td>0</td>\n",
              "      <td>NaN</td>\n",
              "    </tr>\n",
              "    <tr>\n",
              "      <th>2176</th>\n",
              "      <td>2517926</td>\n",
              "      <td>0</td>\n",
              "      <td>0</td>\n",
              "      <td>0</td>\n",
              "      <td>0</td>\n",
              "      <td>0.0</td>\n",
              "      <td>0</td>\n",
              "      <td>0</td>\n",
              "      <td>xeyr</td>\n",
              "      <td>0</td>\n",
              "      <td>None</td>\n",
              "      <td>0</td>\n",
              "      <td>0</td>\n",
              "      <td>0</td>\n",
              "      <td>0</td>\n",
              "      <td>0</td>\n",
              "      <td>0</td>\n",
              "      <td>2022-01-04 02:11:18</td>\n",
              "      <td>0</td>\n",
              "      <td>0</td>\n",
              "      <td>0</td>\n",
              "      <td>0</td>\n",
              "      <td>0</td>\n",
              "      <td>0</td>\n",
              "      <td>0</td>\n",
              "      <td>NaN</td>\n",
              "    </tr>\n",
              "    <tr>\n",
              "      <th>4480</th>\n",
              "      <td>2529047</td>\n",
              "      <td>0</td>\n",
              "      <td>0</td>\n",
              "      <td>0</td>\n",
              "      <td>0</td>\n",
              "      <td>0.0</td>\n",
              "      <td>0</td>\n",
              "      <td>0</td>\n",
              "      <td>xeyr</td>\n",
              "      <td>0</td>\n",
              "      <td>None</td>\n",
              "      <td>0</td>\n",
              "      <td>0</td>\n",
              "      <td>0</td>\n",
              "      <td>0</td>\n",
              "      <td>0</td>\n",
              "      <td>0</td>\n",
              "      <td>2022-01-04 08:33:26</td>\n",
              "      <td>0</td>\n",
              "      <td>0</td>\n",
              "      <td>0</td>\n",
              "      <td>0</td>\n",
              "      <td>0</td>\n",
              "      <td>0</td>\n",
              "      <td>0</td>\n",
              "      <td>NaN</td>\n",
              "    </tr>\n",
              "    <tr>\n",
              "      <th>11144</th>\n",
              "      <td>2518566</td>\n",
              "      <td>0</td>\n",
              "      <td>0</td>\n",
              "      <td>0</td>\n",
              "      <td>0</td>\n",
              "      <td>0.0</td>\n",
              "      <td>0</td>\n",
              "      <td>0</td>\n",
              "      <td>xeyr</td>\n",
              "      <td>0</td>\n",
              "      <td>None</td>\n",
              "      <td>0</td>\n",
              "      <td>0</td>\n",
              "      <td>0</td>\n",
              "      <td>0</td>\n",
              "      <td>0</td>\n",
              "      <td>0</td>\n",
              "      <td>2022-01-04 10:59:18</td>\n",
              "      <td>0</td>\n",
              "      <td>0</td>\n",
              "      <td>0</td>\n",
              "      <td>0</td>\n",
              "      <td>0</td>\n",
              "      <td>0</td>\n",
              "      <td>0</td>\n",
              "      <td>NaN</td>\n",
              "    </tr>\n",
              "    <tr>\n",
              "      <th>12459</th>\n",
              "      <td>2502400</td>\n",
              "      <td>0</td>\n",
              "      <td>0</td>\n",
              "      <td>0</td>\n",
              "      <td>0</td>\n",
              "      <td>0.0</td>\n",
              "      <td>0</td>\n",
              "      <td>0</td>\n",
              "      <td>xeyr</td>\n",
              "      <td>0</td>\n",
              "      <td>None</td>\n",
              "      <td>0</td>\n",
              "      <td>0</td>\n",
              "      <td>0</td>\n",
              "      <td>0</td>\n",
              "      <td>0</td>\n",
              "      <td>0</td>\n",
              "      <td>2022-01-04 14:07:11</td>\n",
              "      <td>0</td>\n",
              "      <td>0</td>\n",
              "      <td>0</td>\n",
              "      <td>0</td>\n",
              "      <td>0</td>\n",
              "      <td>0</td>\n",
              "      <td>0</td>\n",
              "      <td>NaN</td>\n",
              "    </tr>\n",
              "  </tbody>\n",
              "</table>\n",
              "</div>\n",
              "      <button class=\"colab-df-convert\" onclick=\"convertToInteractive('df-7befa03c-053f-407d-a69b-ee546ba4ed86')\"\n",
              "              title=\"Convert this dataframe to an interactive table.\"\n",
              "              style=\"display:none;\">\n",
              "        \n",
              "  <svg xmlns=\"http://www.w3.org/2000/svg\" height=\"24px\"viewBox=\"0 0 24 24\"\n",
              "       width=\"24px\">\n",
              "    <path d=\"M0 0h24v24H0V0z\" fill=\"none\"/>\n",
              "    <path d=\"M18.56 5.44l.94 2.06.94-2.06 2.06-.94-2.06-.94-.94-2.06-.94 2.06-2.06.94zm-11 1L8.5 8.5l.94-2.06 2.06-.94-2.06-.94L8.5 2.5l-.94 2.06-2.06.94zm10 10l.94 2.06.94-2.06 2.06-.94-2.06-.94-.94-2.06-.94 2.06-2.06.94z\"/><path d=\"M17.41 7.96l-1.37-1.37c-.4-.4-.92-.59-1.43-.59-.52 0-1.04.2-1.43.59L10.3 9.45l-7.72 7.72c-.78.78-.78 2.05 0 2.83L4 21.41c.39.39.9.59 1.41.59.51 0 1.02-.2 1.41-.59l7.78-7.78 2.81-2.81c.8-.78.8-2.07 0-2.86zM5.41 20L4 18.59l7.72-7.72 1.47 1.35L5.41 20z\"/>\n",
              "  </svg>\n",
              "      </button>\n",
              "      \n",
              "  <style>\n",
              "    .colab-df-container {\n",
              "      display:flex;\n",
              "      flex-wrap:wrap;\n",
              "      gap: 12px;\n",
              "    }\n",
              "\n",
              "    .colab-df-convert {\n",
              "      background-color: #E8F0FE;\n",
              "      border: none;\n",
              "      border-radius: 50%;\n",
              "      cursor: pointer;\n",
              "      display: none;\n",
              "      fill: #1967D2;\n",
              "      height: 32px;\n",
              "      padding: 0 0 0 0;\n",
              "      width: 32px;\n",
              "    }\n",
              "\n",
              "    .colab-df-convert:hover {\n",
              "      background-color: #E2EBFA;\n",
              "      box-shadow: 0px 1px 2px rgba(60, 64, 67, 0.3), 0px 1px 3px 1px rgba(60, 64, 67, 0.15);\n",
              "      fill: #174EA6;\n",
              "    }\n",
              "\n",
              "    [theme=dark] .colab-df-convert {\n",
              "      background-color: #3B4455;\n",
              "      fill: #D2E3FC;\n",
              "    }\n",
              "\n",
              "    [theme=dark] .colab-df-convert:hover {\n",
              "      background-color: #434B5C;\n",
              "      box-shadow: 0px 1px 3px 1px rgba(0, 0, 0, 0.15);\n",
              "      filter: drop-shadow(0px 1px 2px rgba(0, 0, 0, 0.3));\n",
              "      fill: #FFFFFF;\n",
              "    }\n",
              "  </style>\n",
              "\n",
              "      <script>\n",
              "        const buttonEl =\n",
              "          document.querySelector('#df-7befa03c-053f-407d-a69b-ee546ba4ed86 button.colab-df-convert');\n",
              "        buttonEl.style.display =\n",
              "          google.colab.kernel.accessAllowed ? 'block' : 'none';\n",
              "\n",
              "        async function convertToInteractive(key) {\n",
              "          const element = document.querySelector('#df-7befa03c-053f-407d-a69b-ee546ba4ed86');\n",
              "          const dataTable =\n",
              "            await google.colab.kernel.invokeFunction('convertToInteractive',\n",
              "                                                     [key], {});\n",
              "          if (!dataTable) return;\n",
              "\n",
              "          const docLinkHtml = 'Like what you see? Visit the ' +\n",
              "            '<a target=\"_blank\" href=https://colab.research.google.com/notebooks/data_table.ipynb>data table notebook</a>'\n",
              "            + ' to learn more about interactive tables.';\n",
              "          element.innerHTML = '';\n",
              "          dataTable['output_type'] = 'display_data';\n",
              "          await google.colab.output.renderOutput(dataTable, element);\n",
              "          const docLink = document.createElement('div');\n",
              "          docLink.innerHTML = docLinkHtml;\n",
              "          element.appendChild(docLink);\n",
              "        }\n",
              "      </script>\n",
              "    </div>\n",
              "  </div>\n",
              "  "
            ],
            "text/plain": [
              "           ids vipped_featured  ...  apartment_floor buildings_floor\n",
              "574    2540391               0  ...                0             NaN\n",
              "1809   2537858               0  ...                0             NaN\n",
              "2176   2517926               0  ...                0             NaN\n",
              "4480   2529047               0  ...                0             NaN\n",
              "11144  2518566               0  ...                0             NaN\n",
              "12459  2502400               0  ...                0             NaN\n",
              "\n",
              "[6 rows x 26 columns]"
            ]
          },
          "metadata": {},
          "execution_count": 164
        }
      ]
    },
    {
      "cell_type": "code",
      "source": [
        "df = df[~(df['documents'] == \"0\")].reset_index(drop=True)"
      ],
      "metadata": {
        "id": "kRKT6KwGtTGU"
      },
      "execution_count": 167,
      "outputs": []
    },
    {
      "cell_type": "code",
      "source": [
        "df['documents'].value_counts() # drop whole column"
      ],
      "metadata": {
        "colab": {
          "base_uri": "https://localhost:8080/"
        },
        "id": "DwMZuqlPux-V",
        "outputId": "4566285c-8452-48ee-8894-45e94e15cc21"
      },
      "execution_count": 168,
      "outputs": [
        {
          "output_type": "execute_result",
          "data": {
            "text/plain": [
              "var    16212\n",
              "Name: documents, dtype: int64"
            ]
          },
          "metadata": {},
          "execution_count": 168
        }
      ]
    },
    {
      "cell_type": "code",
      "source": [
        "df = df.drop('documents', axis=1)"
      ],
      "metadata": {
        "id": "1bwb_vQZvAdH"
      },
      "execution_count": 169,
      "outputs": []
    },
    {
      "cell_type": "code",
      "source": [
        "df['credits'].value_counts()"
      ],
      "metadata": {
        "colab": {
          "base_uri": "https://localhost:8080/"
        },
        "id": "TDMy1dA5vIuZ",
        "outputId": "db64bd98-3c85-4e7a-b5a1-cebbc990eaf9"
      },
      "execution_count": 170,
      "outputs": [
        {
          "output_type": "execute_result",
          "data": {
            "text/plain": [
              "xeyr    13341\n",
              "var      2871\n",
              "Name: credits, dtype: int64"
            ]
          },
          "metadata": {},
          "execution_count": 170
        }
      ]
    },
    {
      "cell_type": "code",
      "source": [
        "credits = pd.get_dummies(df['credits'], prefix='Credit')\n",
        "credits = credits['Credit_var'] # Credit_xeyr will be reference category"
      ],
      "metadata": {
        "id": "_-E_9f8NvU0K"
      },
      "execution_count": 175,
      "outputs": []
    },
    {
      "cell_type": "code",
      "source": [
        "df = pd.concat([df, credits], axis=1)"
      ],
      "metadata": {
        "id": "urur0vOhvc_D"
      },
      "execution_count": 176,
      "outputs": []
    },
    {
      "cell_type": "markdown",
      "source": [
        "### Address and District"
      ],
      "metadata": {
        "id": "mypHnz47wote"
      }
    },
    {
      "cell_type": "code",
      "source": [
        "df['address'].isna().sum()"
      ],
      "metadata": {
        "colab": {
          "base_uri": "https://localhost:8080/"
        },
        "id": "OJkvgU60wqFS",
        "outputId": "8c7eb98d-08c6-48e9-8026-0e6702a7dd4b"
      },
      "execution_count": 180,
      "outputs": [
        {
          "output_type": "execute_result",
          "data": {
            "text/plain": [
              "0"
            ]
          },
          "metadata": {},
          "execution_count": 180
        }
      ]
    },
    {
      "cell_type": "code",
      "source": [
        "len(df['address'].unique())"
      ],
      "metadata": {
        "colab": {
          "base_uri": "https://localhost:8080/"
        },
        "id": "nB7_qR0SxRZ6",
        "outputId": "a845ff44-2a0d-4f07-992f-45c3bd9719a8"
      },
      "execution_count": 185,
      "outputs": [
        {
          "output_type": "execute_result",
          "data": {
            "text/plain": [
              "6495"
            ]
          },
          "metadata": {},
          "execution_count": 185
        }
      ]
    },
    {
      "cell_type": "code",
      "source": [
        "df['address'].value_counts().head(10)"
      ],
      "metadata": {
        "colab": {
          "base_uri": "https://localhost:8080/"
        },
        "id": "dwP_VoEcwzq-",
        "outputId": "e511bcd4-baaf-40a3-a8ab-14e97a09cf7c"
      },
      "execution_count": 193,
      "outputs": [
        {
          "output_type": "execute_result",
          "data": {
            "text/plain": [
              "Ünvan: Bakı şəhəri, Gəncə prospekti       241\n",
              "Ünvan: Bakı şəhəri, Mir Cəlal küç.        169\n",
              "Ünvan: Bakı şəhəri, Məhəmməd Hadi küç.    151\n",
              "Ünvan: Bakı şəhəri, Əsəd Əhmədov küç.     147\n",
              "Ünvan: Bakı şəhəri, Azadlıq pr.           144\n",
              "Ünvan: Bakı şəhəri, Gəncə pr.             135\n",
              "Ünvan: Bakı şəhəri, Təbriz küç.           117\n",
              "Ünvan: Bakı şəhəri, Şərifzadə küç.        112\n",
              "Ünvan: Bakı şəhəri, Azadlıq prospekti     111\n",
              "Ünvan: Bakı şəhəri, Gəncə prospekti        93\n",
              "Name: address, dtype: int64"
            ]
          },
          "metadata": {},
          "execution_count": 193
        }
      ]
    },
    {
      "cell_type": "code",
      "source": [
        "df['address'] = df['address'].apply(lambda x: x.lstrip(\"Ünvan: Bakı şəhəri, \"))"
      ],
      "metadata": {
        "id": "1o7Wgznrxo69"
      },
      "execution_count": 194,
      "outputs": []
    },
    {
      "cell_type": "code",
      "source": [
        "df['address'].value_counts().head(10)"
      ],
      "metadata": {
        "colab": {
          "base_uri": "https://localhost:8080/"
        },
        "id": "ibKVDlWCw_c4",
        "outputId": "6040584a-c486-4f96-d105-19c33492d8a5"
      },
      "execution_count": 197,
      "outputs": [
        {
          "output_type": "execute_result",
          "data": {
            "text/plain": [
              "Gəncə prospekti       241\n",
              "Mir Cəlal küç.        169\n",
              "Məhəmməd Hadi küç.    151\n",
              "Əsəd Əhmədov küç.     147\n",
              "Azadlıq pr.           145\n",
              "Gəncə pr.             135\n",
              "Təbriz küç.           117\n",
              "Azadlıq prospekti     116\n",
              "Şərifzadə küç.        112\n",
              "Gəncə prospekti        93\n",
              "Name: address, dtype: int64"
            ]
          },
          "metadata": {},
          "execution_count": 197
        }
      ]
    },
    {
      "cell_type": "code",
      "source": [
        "df['district'].value_counts().head(10)"
      ],
      "metadata": {
        "colab": {
          "base_uri": "https://localhost:8080/"
        },
        "id": "JVToY5QJyGvn",
        "outputId": "a6045266-6256-4cce-cb21-55929cc65f81"
      },
      "execution_count": 200,
      "outputs": [
        {
          "output_type": "execute_result",
          "data": {
            "text/plain": [
              "Yasamal r.; Yeni Yasamal q.                                     811\n",
              "Şah İsmayıl Xətai m.; Xətai r.                                  789\n",
              "Xətai r.; Əhmədli q.                                            502\n",
              "Nərimanov r.                                                    450\n",
              "İnşaatçılar m.; Yasamal r.                                      371\n",
              "Yasamal r.                                                      325\n",
              "Nəriman Nərimanov m.; Nərimanov r.                              266\n",
              "Nəriman Nərimanov m.; Nəriman Nərimanov parkı ; Nərimanov r.    242\n",
              "Sabunçu r.; Bakıxanov q.                                        241\n",
              "Azadlıq Prospekti m.; Binəqədi r.; 8-ci mikrorayon q.           230\n",
              "Name: district, dtype: int64"
            ]
          },
          "metadata": {},
          "execution_count": 200
        }
      ]
    },
    {
      "cell_type": "code",
      "source": [
        "def number_of_max_district_per_one_home():\n",
        "  n = 0\n",
        "  for i in df['district'].apply(lambda x: x.split(\"; \")):\n",
        "    if len(i) > n:\n",
        "      n = len(i)\n",
        "  \n",
        "  return n\n",
        "\n",
        "number_of_max_district_per_one_home()\n",
        "    \n"
      ],
      "metadata": {
        "colab": {
          "base_uri": "https://localhost:8080/"
        },
        "id": "MS7PQbsWycqc",
        "outputId": "b44f591b-2ef4-43e4-9984-14e48765fa96"
      },
      "execution_count": 206,
      "outputs": [
        {
          "output_type": "execute_result",
          "data": {
            "text/plain": [
              "12"
            ]
          },
          "metadata": {},
          "execution_count": 206
        }
      ]
    },
    {
      "cell_type": "code",
      "source": [
        "df['district'].apply(lambda x: x.split(\"; \"))"
      ],
      "metadata": {
        "colab": {
          "base_uri": "https://localhost:8080/"
        },
        "id": "GjmBoIJFy1cL",
        "outputId": "404f535b-4fdc-4cdc-df1c-c71cd63a6030"
      },
      "execution_count": 208,
      "outputs": [
        {
          "output_type": "execute_result",
          "data": {
            "text/plain": [
              "0                             [Suraxanı r., Hövsan q.]\n",
              "1                     [Şah İsmayıl Xətai m., Xətai r.]\n",
              "2    [ASAN Xidmət №1 , TQDK , Neftçi bazası , Nəsim...\n",
              "3                               [Əhmədli m., Xətai r.]\n",
              "4    [Azadlıq Prospekti m., Binəqədi r., 8-ci mikro...\n",
              "5    [Nəsimi bazarı , Koala parkı , Dostluq kinotea...\n",
              "6    [Nəriman Nərimanov m., Nəriman Nərimanov parkı...\n",
              "7                          [Suraxanı r., Qaraçuxur q.]\n",
              "8                             [8 Noyabr m., Nəsimi r.]\n",
              "9    [Axundov bağı , İqsadiyyat Universiteti , Dövl...\n",
              "Name: district, dtype: object"
            ]
          },
          "metadata": {},
          "execution_count": 208
        }
      ]
    },
    {
      "cell_type": "code",
      "source": [
        "districts_in_lists = df['district'].apply(lambda x: x.split(\"; \"))"
      ],
      "metadata": {
        "id": "ZT_u6h4O0e9k"
      },
      "execution_count": 223,
      "outputs": []
    },
    {
      "cell_type": "code",
      "source": [
        "districts = []\n",
        "\n",
        "for i in districts_in_lists:\n",
        "  for z in i:\n",
        "    districts.append(z.strip())"
      ],
      "metadata": {
        "id": "BqVEdwVH0Lti"
      },
      "execution_count": 224,
      "outputs": []
    },
    {
      "cell_type": "code",
      "source": [
        "districts[:10]"
      ],
      "metadata": {
        "colab": {
          "base_uri": "https://localhost:8080/"
        },
        "id": "kgp0U-JF0tUq",
        "outputId": "0a1e9552-0434-4f3a-a13b-adfb78edb91c"
      },
      "execution_count": 225,
      "outputs": [
        {
          "output_type": "execute_result",
          "data": {
            "text/plain": [
              "['Suraxanı r.',\n",
              " 'Hövsan q.',\n",
              " 'Şah İsmayıl Xətai m.',\n",
              " 'Xətai r.',\n",
              " 'ASAN Xidmət №1',\n",
              " 'TQDK',\n",
              " 'Neftçi bazası',\n",
              " 'Nəsimi r.',\n",
              " 'Əhmədli m.',\n",
              " 'Xətai r.']"
            ]
          },
          "metadata": {},
          "execution_count": 225
        }
      ]
    },
    {
      "cell_type": "code",
      "source": [
        "len(districts)"
      ],
      "metadata": {
        "colab": {
          "base_uri": "https://localhost:8080/"
        },
        "id": "a48BNYkG0vdO",
        "outputId": "142fd7e7-9f3a-45ab-e70b-ef4521218197"
      },
      "execution_count": 226,
      "outputs": [
        {
          "output_type": "execute_result",
          "data": {
            "text/plain": [
              "44878"
            ]
          },
          "metadata": {},
          "execution_count": 226
        }
      ]
    },
    {
      "cell_type": "code",
      "source": [
        "pd.Series(districts).value_counts().head(50)"
      ],
      "metadata": {
        "colab": {
          "base_uri": "https://localhost:8080/"
        },
        "id": "vcfX1iOH2-LC",
        "outputId": "42c5f9ac-0b06-4e67-b9d6-4d3894c56ea0"
      },
      "execution_count": 229,
      "outputs": [
        {
          "output_type": "execute_result",
          "data": {
            "text/plain": [
              "Yasamal r.                        3884\n",
              "Xətai r.                          3124\n",
              "Nəsimi r.                         2974\n",
              "Nərimanov r.                      2377\n",
              "Binəqədi r.                       1412\n",
              "Şah İsmayıl Xətai m.              1024\n",
              "Nizami r.                         1005\n",
              "Əhmədli q.                         960\n",
              "İnşaatçılar m.                     921\n",
              "Yeni Yasamal q.                    917\n",
              "Yasamal q.                         787\n",
              "Elmlər Akademiyası m.              743\n",
              "Nəriman Nərimanov m.               730\n",
              "Memar Əcəmi m.                     720\n",
              "Səbail r.                          717\n",
              "Həzi Aslanov m.                    621\n",
              "28 May m.                          528\n",
              "Nizami m.                          499\n",
              "Yasamal bazarı                     486\n",
              "8-ci kilometr q.                   456\n",
              "ASAN Xidmət №1                     453\n",
              "Nəriman Nərimanov parkı            422\n",
              "8-ci mikrorayon q.                 418\n",
              "Tibb Universiteti                  413\n",
              "9-cu mikrorayon q.                 400\n",
              "Gənclik m.                         374\n",
              "Həzi Aslanov q.                    343\n",
              "20 Yanvar m.                       341\n",
              "Qara Qarayev m.                    340\n",
              "Neftçi bazası                      338\n",
              "Azadlıq Prospekti m.               324\n",
              "Əhmədli m.                         322\n",
              "Neftçilər m.                       302\n",
              "Azərbaycan Dillər Universiteti     300\n",
              "8 Noyabr m.                        296\n",
              "Bakı Slavyan Universiteti          295\n",
              "Sabunçu r.                         293\n",
              "Sahil m.                           281\n",
              "Nəsimi bazarı                      281\n",
              "4-cü mikrorayon q.                 273\n",
              "ASAN Xidmət №3                     268\n",
              "Sirk                               262\n",
              "Səməd Vurğun parkı                 262\n",
              "Hüseyn Cavid parkı                 258\n",
              "Dövlət Statistika Komitəsi         250\n",
              "İçəri Şəhər m.                     243\n",
              "Bakıxanov q.                       242\n",
              "Təhsil Nazirliyi                   238\n",
              "Respublika stadionu                237\n",
              "Neft Akademiyası                   235\n",
              "dtype: int64"
            ]
          },
          "metadata": {},
          "execution_count": 229
        }
      ]
    },
    {
      "cell_type": "code",
      "source": [
        "len(set(districts))"
      ],
      "metadata": {
        "colab": {
          "base_uri": "https://localhost:8080/"
        },
        "id": "BjPNOuZE09rR",
        "outputId": "e704fc6b-609c-4dc1-9cad-a393ef3b0eaa"
      },
      "execution_count": 217,
      "outputs": [
        {
          "output_type": "execute_result",
          "data": {
            "text/plain": [
              "181"
            ]
          },
          "metadata": {},
          "execution_count": 217
        }
      ]
    },
    {
      "cell_type": "code",
      "source": [
        "districts_set = list(set(districts))"
      ],
      "metadata": {
        "id": "9Rj17wCZ1BAo"
      },
      "execution_count": 230,
      "outputs": []
    },
    {
      "cell_type": "code",
      "source": [
        "districts[:10]"
      ],
      "metadata": {
        "colab": {
          "base_uri": "https://localhost:8080/"
        },
        "id": "h6NRY3AY1KxB",
        "outputId": "25177f03-2296-46ce-8643-f5881a62ffd0"
      },
      "execution_count": 222,
      "outputs": [
        {
          "output_type": "execute_result",
          "data": {
            "text/plain": [
              "['Yeni Yasamal q.',\n",
              " 'Koroğlu m.',\n",
              " 'Rəssamlıq Akademiyası',\n",
              " 'Sabunçu r.',\n",
              " 'Biləcəri q.',\n",
              " 'Mehdiabad q.',\n",
              " 'Suraxanı q.',\n",
              " 'Qaraçuxur q.',\n",
              " 'Hüseyn Cavid parkı',\n",
              " 'Dərnəgül m.']"
            ]
          },
          "metadata": {},
          "execution_count": 222
        }
      ]
    },
    {
      "cell_type": "code",
      "source": [
        ""
      ],
      "metadata": {
        "id": "4PWi3zb92fU9"
      },
      "execution_count": null,
      "outputs": []
    }
  ]
}