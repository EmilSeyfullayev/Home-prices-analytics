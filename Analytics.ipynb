{
  "nbformat": 4,
  "nbformat_minor": 0,
  "metadata": {
    "colab": {
      "name": "Analytics.ipynb",
      "provenance": [],
      "collapsed_sections": [],
      "mount_file_id": "1ssMOINw9xix8h6iYb6j1ZXVWsRjRigXp",
      "authorship_tag": "ABX9TyPdo7T6sMZMbpq4e9IwRyD/",
      "include_colab_link": true
    },
    "kernelspec": {
      "name": "python3",
      "display_name": "Python 3"
    },
    "language_info": {
      "name": "python"
    }
  },
  "cells": [
    {
      "cell_type": "markdown",
      "metadata": {
        "id": "view-in-github",
        "colab_type": "text"
      },
      "source": [
        "<a href=\"https://colab.research.google.com/github/EmilSeyfullayev/Home-prices-analytics/blob/main/Analytics.ipynb\" target=\"_parent\"><img src=\"https://colab.research.google.com/assets/colab-badge.svg\" alt=\"Open In Colab\"/></a>"
      ]
    },
    {
      "cell_type": "markdown",
      "source": [
        "### Imports"
      ],
      "metadata": {
        "id": "UQ6E0qMWZXr_"
      }
    },
    {
      "cell_type": "code",
      "source": [
        "import pandas as pd\n",
        "import numpy as np\n",
        "import matplotlib.pyplot as plt\n",
        "import seaborn as sns\n",
        "sns.set_style('whitegrid')"
      ],
      "metadata": {
        "id": "MfXfvUURX5hh"
      },
      "execution_count": 64,
      "outputs": []
    },
    {
      "cell_type": "code",
      "source": [
        "!pip install gsheetsdb"
      ],
      "metadata": {
        "id": "0Q0qaj51YMXE"
      },
      "execution_count": null,
      "outputs": []
    },
    {
      "cell_type": "code",
      "source": [
        "from gsheetsdb import connect"
      ],
      "metadata": {
        "id": "nyCRqWFxYuv2"
      },
      "execution_count": 66,
      "outputs": []
    },
    {
      "cell_type": "code",
      "source": [
        "conn = connect()"
      ],
      "metadata": {
        "id": "vEUXktOBY7s6"
      },
      "execution_count": 69,
      "outputs": []
    },
    {
      "cell_type": "code",
      "source": [
        "sheet_url = 'https://docs.google.com/spreadsheets/d/1J1Lw1vGLEIee31gMLiE8Oihy9LuWSKhvuDdf9qSEKMo/edit?usp=sharing'"
      ],
      "metadata": {
        "id": "D19cKtYHZDTm"
      },
      "execution_count": 80,
      "outputs": []
    },
    {
      "cell_type": "code",
      "source": [
        "df = pd.read_sql(f'SELECT * FROM \"{sheet_url}\"', conn)"
      ],
      "metadata": {
        "id": "cMHUpp7vY971"
      },
      "execution_count": 81,
      "outputs": []
    },
    {
      "cell_type": "code",
      "source": [
        "df.shape"
      ],
      "metadata": {
        "colab": {
          "base_uri": "https://localhost:8080/"
        },
        "id": "AXxpI5UUZJgc",
        "outputId": "d8fcbac0-14ef-41a4-81a3-5e794a3b90af"
      },
      "execution_count": 82,
      "outputs": [
        {
          "output_type": "execute_result",
          "data": {
            "text/plain": [
              "(16218, 26)"
            ]
          },
          "metadata": {},
          "execution_count": 82
        }
      ]
    },
    {
      "cell_type": "code",
      "source": [
        "len(df.drop_duplicates(subset='ids')) # No duplicate ids"
      ],
      "metadata": {
        "colab": {
          "base_uri": "https://localhost:8080/"
        },
        "id": "l6MU-fDcZqoE",
        "outputId": "36e8deda-31f6-42dd-9409-d2bd9996c4c2"
      },
      "execution_count": 83,
      "outputs": [
        {
          "output_type": "execute_result",
          "data": {
            "text/plain": [
              "16218"
            ]
          },
          "metadata": {},
          "execution_count": 83
        }
      ]
    },
    {
      "cell_type": "markdown",
      "source": [
        "# Analytics"
      ],
      "metadata": {
        "id": "qydj-2oDZTTb"
      }
    },
    {
      "cell_type": "markdown",
      "source": [
        "## Preprocessing"
      ],
      "metadata": {
        "id": "XdvANu5IaIDa"
      }
    },
    {
      "cell_type": "code",
      "source": [
        "checkpoint_1 = df.iloc[:, :]"
      ],
      "metadata": {
        "id": "Y1xMSgWDcDbO"
      },
      "execution_count": 84,
      "outputs": []
    },
    {
      "cell_type": "code",
      "source": [
        "df = checkpoint_1.iloc[:, :]"
      ],
      "metadata": {
        "id": "6tJuSU-Pklf-"
      },
      "execution_count": 95,
      "outputs": []
    },
    {
      "cell_type": "code",
      "source": [
        "df.columns.values"
      ],
      "metadata": {
        "colab": {
          "base_uri": "https://localhost:8080/"
        },
        "id": "KpuVpY_WaWse",
        "outputId": "36f930ed-ac34-40a9-fd6a-3128ba3b3746"
      },
      "execution_count": 96,
      "outputs": [
        {
          "output_type": "execute_result",
          "data": {
            "text/plain": [
              "array(['ids', 'vipped_featured', 'prices', 'texts', 'categories',\n",
              "       'floors', 'areas_m2', 'rooms', 'documents', 'credits', 'address',\n",
              "       'district', 'latitudes', 'longitudes', 'ownerships', 'names',\n",
              "       'emails', 'phone_numbers_appened', 'ad_number', 'watches',\n",
              "       'ad_refreshed_date', 'agency_titles', 'photo_counts',\n",
              "       'phot_pseudo_links', 'date_of_parsing', 'deal_ended'], dtype=object)"
            ]
          },
          "metadata": {},
          "execution_count": 96
        }
      ]
    },
    {
      "cell_type": "code",
      "source": [
        "# Necessary columns\n",
        "necessary_columns = [\n",
        "                     \"ids\",\n",
        "                     \"vipped_featured\", \n",
        "                     \"prices\",\n",
        "                     \"categories\",\n",
        "                     \"floors\",\n",
        "                     \"areas_m2\",\n",
        "                     \"rooms\",\n",
        "                     \"documents\",\n",
        "                     \"credits\",\n",
        "                     \"address\",\n",
        "                     \"district\",\n",
        "                     \"latitudes\",\n",
        "                     \"longitudes\",\n",
        "                     \"ownerships\",\n",
        "                     \"watches\",\n",
        "                     \"ad_refreshed_date\",\n",
        "                     \"agency_titles\",\n",
        "                     \"date_of_parsing\",\n",
        "                     \"deal_ended\"\n",
        "]\n",
        "df = df[necessary_columns]"
      ],
      "metadata": {
        "id": "R8ms5yefcA6Y"
      },
      "execution_count": 97,
      "outputs": []
    },
    {
      "cell_type": "code",
      "source": [
        "df.head()"
      ],
      "metadata": {
        "colab": {
          "base_uri": "https://localhost:8080/",
          "height": 634
        },
        "id": "IiNcvHgsZuQG",
        "outputId": "b072e0e8-b80f-4b54-8180-24cdd7c90e48"
      },
      "execution_count": 98,
      "outputs": [
        {
          "output_type": "execute_result",
          "data": {
            "text/html": [
              "\n",
              "  <div id=\"df-0a901b36-60ef-4ff6-ad31-03e39e72dd1d\">\n",
              "    <div class=\"colab-df-container\">\n",
              "      <div>\n",
              "<style scoped>\n",
              "    .dataframe tbody tr th:only-of-type {\n",
              "        vertical-align: middle;\n",
              "    }\n",
              "\n",
              "    .dataframe tbody tr th {\n",
              "        vertical-align: top;\n",
              "    }\n",
              "\n",
              "    .dataframe thead th {\n",
              "        text-align: right;\n",
              "    }\n",
              "</style>\n",
              "<table border=\"1\" class=\"dataframe\">\n",
              "  <thead>\n",
              "    <tr style=\"text-align: right;\">\n",
              "      <th></th>\n",
              "      <th>vipped_featured</th>\n",
              "      <th>prices</th>\n",
              "      <th>categories</th>\n",
              "      <th>floors</th>\n",
              "      <th>areas_m2</th>\n",
              "      <th>rooms</th>\n",
              "      <th>documents</th>\n",
              "      <th>credits</th>\n",
              "      <th>address</th>\n",
              "      <th>district</th>\n",
              "      <th>latitudes</th>\n",
              "      <th>longitudes</th>\n",
              "      <th>ownerships</th>\n",
              "      <th>watches</th>\n",
              "      <th>ad_refreshed_date</th>\n",
              "      <th>agency_titles</th>\n",
              "      <th>date_of_parsing</th>\n",
              "      <th>deal_ended</th>\n",
              "    </tr>\n",
              "  </thead>\n",
              "  <tbody>\n",
              "    <tr>\n",
              "      <th>0</th>\n",
              "      <td>featuredvipped</td>\n",
              "      <td>54 000</td>\n",
              "      <td>Köhnə tikili</td>\n",
              "      <td>2 / 5</td>\n",
              "      <td>50 m²</td>\n",
              "      <td>2</td>\n",
              "      <td>var</td>\n",
              "      <td>var</td>\n",
              "      <td>Ünvan: Bakı şəhəri, R.Şahsuvarov küç 31</td>\n",
              "      <td>Suraxanı r.; Hövsan q.</td>\n",
              "      <td>40.35582129</td>\n",
              "      <td>50.06357475</td>\n",
              "      <td>mülkiyyətçi</td>\n",
              "      <td>3363</td>\n",
              "      <td>01 Yanvar 2022</td>\n",
              "      <td>0</td>\n",
              "      <td>2022-01-03 11:36:55</td>\n",
              "      <td>0</td>\n",
              "    </tr>\n",
              "    <tr>\n",
              "      <th>1</th>\n",
              "      <td>vipped</td>\n",
              "      <td>289 000</td>\n",
              "      <td>Yeni tikili</td>\n",
              "      <td>5 / 17</td>\n",
              "      <td>180 m²</td>\n",
              "      <td>4</td>\n",
              "      <td>var</td>\n",
              "      <td>var</td>\n",
              "      <td>Ünvan: Bakı şəhəri, Affiyədin Cəlilov küç.</td>\n",
              "      <td>Şah İsmayıl Xətai m.; Xətai r.</td>\n",
              "      <td>40.37891689</td>\n",
              "      <td>49.875682</td>\n",
              "      <td>mülkiyyətçi</td>\n",
              "      <td>7348</td>\n",
              "      <td>22 Dekabr 2021</td>\n",
              "      <td>0</td>\n",
              "      <td>2022-01-03 11:36:55</td>\n",
              "      <td>0</td>\n",
              "    </tr>\n",
              "    <tr>\n",
              "      <th>2</th>\n",
              "      <td>vipped</td>\n",
              "      <td>159 000</td>\n",
              "      <td>Yeni tikili</td>\n",
              "      <td>12 / 19</td>\n",
              "      <td>58 m²</td>\n",
              "      <td>2</td>\n",
              "      <td>var</td>\n",
              "      <td>var</td>\n",
              "      <td>Ünvan: Bakı şəhəri, Azadlıq prospekti</td>\n",
              "      <td>ASAN Xidmət №1 ; TQDK ; Neftçi bazası ; Nəsimi r.</td>\n",
              "      <td>40.39841488</td>\n",
              "      <td>49.83920251</td>\n",
              "      <td>vasitəçi (agent)</td>\n",
              "      <td>197</td>\n",
              "      <td>28 Dekabr 2021</td>\n",
              "      <td>0</td>\n",
              "      <td>2022-01-03 11:36:55</td>\n",
              "      <td>0</td>\n",
              "    </tr>\n",
              "    <tr>\n",
              "      <th>3</th>\n",
              "      <td>vipped</td>\n",
              "      <td>175 000</td>\n",
              "      <td>Yeni tikili</td>\n",
              "      <td>7 / 7</td>\n",
              "      <td>117 m²</td>\n",
              "      <td>3</td>\n",
              "      <td>var</td>\n",
              "      <td>var</td>\n",
              "      <td>Ünvan: Bakı şəhəri, Xəqani Rüstəmov küçəsi 6</td>\n",
              "      <td>Əhmədli m.; Xətai r.</td>\n",
              "      <td>40.3816452</td>\n",
              "      <td>49.9584505</td>\n",
              "      <td>mülkiyyətçi</td>\n",
              "      <td>376</td>\n",
              "      <td>25 Dekabr 2021</td>\n",
              "      <td>0</td>\n",
              "      <td>2022-01-03 11:36:55</td>\n",
              "      <td>0</td>\n",
              "    </tr>\n",
              "    <tr>\n",
              "      <th>4</th>\n",
              "      <td>0</td>\n",
              "      <td>104 000</td>\n",
              "      <td>Yeni tikili</td>\n",
              "      <td>11 / 12</td>\n",
              "      <td>65 m²</td>\n",
              "      <td>2</td>\n",
              "      <td>var</td>\n",
              "      <td>xeyr</td>\n",
              "      <td>Ünvan: Bakı şəhəri, S.S.Axundov küç.</td>\n",
              "      <td>Azadlıq Prospekti m.; Binəqədi r.; 8-ci mikror...</td>\n",
              "      <td>40.42705637</td>\n",
              "      <td>49.84432445</td>\n",
              "      <td>vasitəçi (agent)</td>\n",
              "      <td>28</td>\n",
              "      <td>Bugün 15:20</td>\n",
              "      <td>New House 20 Yanvar daşınmaz əmlak agentliyi</td>\n",
              "      <td>2022-01-03 11:36:55</td>\n",
              "      <td>0</td>\n",
              "    </tr>\n",
              "  </tbody>\n",
              "</table>\n",
              "</div>\n",
              "      <button class=\"colab-df-convert\" onclick=\"convertToInteractive('df-0a901b36-60ef-4ff6-ad31-03e39e72dd1d')\"\n",
              "              title=\"Convert this dataframe to an interactive table.\"\n",
              "              style=\"display:none;\">\n",
              "        \n",
              "  <svg xmlns=\"http://www.w3.org/2000/svg\" height=\"24px\"viewBox=\"0 0 24 24\"\n",
              "       width=\"24px\">\n",
              "    <path d=\"M0 0h24v24H0V0z\" fill=\"none\"/>\n",
              "    <path d=\"M18.56 5.44l.94 2.06.94-2.06 2.06-.94-2.06-.94-.94-2.06-.94 2.06-2.06.94zm-11 1L8.5 8.5l.94-2.06 2.06-.94-2.06-.94L8.5 2.5l-.94 2.06-2.06.94zm10 10l.94 2.06.94-2.06 2.06-.94-2.06-.94-.94-2.06-.94 2.06-2.06.94z\"/><path d=\"M17.41 7.96l-1.37-1.37c-.4-.4-.92-.59-1.43-.59-.52 0-1.04.2-1.43.59L10.3 9.45l-7.72 7.72c-.78.78-.78 2.05 0 2.83L4 21.41c.39.39.9.59 1.41.59.51 0 1.02-.2 1.41-.59l7.78-7.78 2.81-2.81c.8-.78.8-2.07 0-2.86zM5.41 20L4 18.59l7.72-7.72 1.47 1.35L5.41 20z\"/>\n",
              "  </svg>\n",
              "      </button>\n",
              "      \n",
              "  <style>\n",
              "    .colab-df-container {\n",
              "      display:flex;\n",
              "      flex-wrap:wrap;\n",
              "      gap: 12px;\n",
              "    }\n",
              "\n",
              "    .colab-df-convert {\n",
              "      background-color: #E8F0FE;\n",
              "      border: none;\n",
              "      border-radius: 50%;\n",
              "      cursor: pointer;\n",
              "      display: none;\n",
              "      fill: #1967D2;\n",
              "      height: 32px;\n",
              "      padding: 0 0 0 0;\n",
              "      width: 32px;\n",
              "    }\n",
              "\n",
              "    .colab-df-convert:hover {\n",
              "      background-color: #E2EBFA;\n",
              "      box-shadow: 0px 1px 2px rgba(60, 64, 67, 0.3), 0px 1px 3px 1px rgba(60, 64, 67, 0.15);\n",
              "      fill: #174EA6;\n",
              "    }\n",
              "\n",
              "    [theme=dark] .colab-df-convert {\n",
              "      background-color: #3B4455;\n",
              "      fill: #D2E3FC;\n",
              "    }\n",
              "\n",
              "    [theme=dark] .colab-df-convert:hover {\n",
              "      background-color: #434B5C;\n",
              "      box-shadow: 0px 1px 3px 1px rgba(0, 0, 0, 0.15);\n",
              "      filter: drop-shadow(0px 1px 2px rgba(0, 0, 0, 0.3));\n",
              "      fill: #FFFFFF;\n",
              "    }\n",
              "  </style>\n",
              "\n",
              "      <script>\n",
              "        const buttonEl =\n",
              "          document.querySelector('#df-0a901b36-60ef-4ff6-ad31-03e39e72dd1d button.colab-df-convert');\n",
              "        buttonEl.style.display =\n",
              "          google.colab.kernel.accessAllowed ? 'block' : 'none';\n",
              "\n",
              "        async function convertToInteractive(key) {\n",
              "          const element = document.querySelector('#df-0a901b36-60ef-4ff6-ad31-03e39e72dd1d');\n",
              "          const dataTable =\n",
              "            await google.colab.kernel.invokeFunction('convertToInteractive',\n",
              "                                                     [key], {});\n",
              "          if (!dataTable) return;\n",
              "\n",
              "          const docLinkHtml = 'Like what you see? Visit the ' +\n",
              "            '<a target=\"_blank\" href=https://colab.research.google.com/notebooks/data_table.ipynb>data table notebook</a>'\n",
              "            + ' to learn more about interactive tables.';\n",
              "          element.innerHTML = '';\n",
              "          dataTable['output_type'] = 'display_data';\n",
              "          await google.colab.output.renderOutput(dataTable, element);\n",
              "          const docLink = document.createElement('div');\n",
              "          docLink.innerHTML = docLinkHtml;\n",
              "          element.appendChild(docLink);\n",
              "        }\n",
              "      </script>\n",
              "    </div>\n",
              "  </div>\n",
              "  "
            ],
            "text/plain": [
              "  vipped_featured   prices  ...     date_of_parsing deal_ended\n",
              "0  featuredvipped   54 000  ... 2022-01-03 11:36:55          0\n",
              "1          vipped  289 000  ... 2022-01-03 11:36:55          0\n",
              "2          vipped  159 000  ... 2022-01-03 11:36:55          0\n",
              "3          vipped  175 000  ... 2022-01-03 11:36:55          0\n",
              "4               0  104 000  ... 2022-01-03 11:36:55          0\n",
              "\n",
              "[5 rows x 18 columns]"
            ]
          },
          "metadata": {},
          "execution_count": 98
        }
      ]
    },
    {
      "cell_type": "code",
      "source": [
        "df.shape"
      ],
      "metadata": {
        "colab": {
          "base_uri": "https://localhost:8080/"
        },
        "id": "zEP45hv6Z7W9",
        "outputId": "1256b434-864c-4ccc-a8b0-926ed71da4c5"
      },
      "execution_count": 99,
      "outputs": [
        {
          "output_type": "execute_result",
          "data": {
            "text/plain": [
              "(16218, 18)"
            ]
          },
          "metadata": {},
          "execution_count": 99
        }
      ]
    },
    {
      "cell_type": "markdown",
      "source": [
        "### Vipped Featured ordinary ads"
      ],
      "metadata": {
        "id": "2QZSs7H0ddB4"
      }
    },
    {
      "cell_type": "code",
      "source": [
        "df['vipped_featured'].value_counts()"
      ],
      "metadata": {
        "colab": {
          "base_uri": "https://localhost:8080/"
        },
        "id": "iZCjP7eGdikc",
        "outputId": "439609f5-f7c4-439f-d5b5-1472742b0811"
      },
      "execution_count": 100,
      "outputs": [
        {
          "output_type": "execute_result",
          "data": {
            "text/plain": [
              "0                 15872\n",
              "vipped              249\n",
              "featuredvipped       77\n",
              "featured             20\n",
              "Name: vipped_featured, dtype: int64"
            ]
          },
          "metadata": {},
          "execution_count": 100
        }
      ]
    },
    {
      "cell_type": "code",
      "source": [
        "ad_type = pd.get_dummies(df['vipped_featured'], prefix='ad_type', drop_first=True)\n",
        "ad_type # ad_type_0 is reference category"
      ],
      "metadata": {
        "colab": {
          "base_uri": "https://localhost:8080/",
          "height": 423
        },
        "id": "D7x4muM8duFi",
        "outputId": "cea0cf92-56b5-4896-b4a7-72a6bdd63015"
      },
      "execution_count": 101,
      "outputs": [
        {
          "output_type": "execute_result",
          "data": {
            "text/html": [
              "\n",
              "  <div id=\"df-490521e1-351b-4663-ab23-bbfb20d6972e\">\n",
              "    <div class=\"colab-df-container\">\n",
              "      <div>\n",
              "<style scoped>\n",
              "    .dataframe tbody tr th:only-of-type {\n",
              "        vertical-align: middle;\n",
              "    }\n",
              "\n",
              "    .dataframe tbody tr th {\n",
              "        vertical-align: top;\n",
              "    }\n",
              "\n",
              "    .dataframe thead th {\n",
              "        text-align: right;\n",
              "    }\n",
              "</style>\n",
              "<table border=\"1\" class=\"dataframe\">\n",
              "  <thead>\n",
              "    <tr style=\"text-align: right;\">\n",
              "      <th></th>\n",
              "      <th>ad_type_featured</th>\n",
              "      <th>ad_type_featuredvipped</th>\n",
              "      <th>ad_type_vipped</th>\n",
              "    </tr>\n",
              "  </thead>\n",
              "  <tbody>\n",
              "    <tr>\n",
              "      <th>0</th>\n",
              "      <td>0</td>\n",
              "      <td>1</td>\n",
              "      <td>0</td>\n",
              "    </tr>\n",
              "    <tr>\n",
              "      <th>1</th>\n",
              "      <td>0</td>\n",
              "      <td>0</td>\n",
              "      <td>1</td>\n",
              "    </tr>\n",
              "    <tr>\n",
              "      <th>2</th>\n",
              "      <td>0</td>\n",
              "      <td>0</td>\n",
              "      <td>1</td>\n",
              "    </tr>\n",
              "    <tr>\n",
              "      <th>3</th>\n",
              "      <td>0</td>\n",
              "      <td>0</td>\n",
              "      <td>1</td>\n",
              "    </tr>\n",
              "    <tr>\n",
              "      <th>4</th>\n",
              "      <td>0</td>\n",
              "      <td>0</td>\n",
              "      <td>0</td>\n",
              "    </tr>\n",
              "    <tr>\n",
              "      <th>...</th>\n",
              "      <td>...</td>\n",
              "      <td>...</td>\n",
              "      <td>...</td>\n",
              "    </tr>\n",
              "    <tr>\n",
              "      <th>16213</th>\n",
              "      <td>0</td>\n",
              "      <td>0</td>\n",
              "      <td>0</td>\n",
              "    </tr>\n",
              "    <tr>\n",
              "      <th>16214</th>\n",
              "      <td>0</td>\n",
              "      <td>0</td>\n",
              "      <td>0</td>\n",
              "    </tr>\n",
              "    <tr>\n",
              "      <th>16215</th>\n",
              "      <td>0</td>\n",
              "      <td>0</td>\n",
              "      <td>0</td>\n",
              "    </tr>\n",
              "    <tr>\n",
              "      <th>16216</th>\n",
              "      <td>0</td>\n",
              "      <td>0</td>\n",
              "      <td>0</td>\n",
              "    </tr>\n",
              "    <tr>\n",
              "      <th>16217</th>\n",
              "      <td>0</td>\n",
              "      <td>0</td>\n",
              "      <td>0</td>\n",
              "    </tr>\n",
              "  </tbody>\n",
              "</table>\n",
              "<p>16218 rows × 3 columns</p>\n",
              "</div>\n",
              "      <button class=\"colab-df-convert\" onclick=\"convertToInteractive('df-490521e1-351b-4663-ab23-bbfb20d6972e')\"\n",
              "              title=\"Convert this dataframe to an interactive table.\"\n",
              "              style=\"display:none;\">\n",
              "        \n",
              "  <svg xmlns=\"http://www.w3.org/2000/svg\" height=\"24px\"viewBox=\"0 0 24 24\"\n",
              "       width=\"24px\">\n",
              "    <path d=\"M0 0h24v24H0V0z\" fill=\"none\"/>\n",
              "    <path d=\"M18.56 5.44l.94 2.06.94-2.06 2.06-.94-2.06-.94-.94-2.06-.94 2.06-2.06.94zm-11 1L8.5 8.5l.94-2.06 2.06-.94-2.06-.94L8.5 2.5l-.94 2.06-2.06.94zm10 10l.94 2.06.94-2.06 2.06-.94-2.06-.94-.94-2.06-.94 2.06-2.06.94z\"/><path d=\"M17.41 7.96l-1.37-1.37c-.4-.4-.92-.59-1.43-.59-.52 0-1.04.2-1.43.59L10.3 9.45l-7.72 7.72c-.78.78-.78 2.05 0 2.83L4 21.41c.39.39.9.59 1.41.59.51 0 1.02-.2 1.41-.59l7.78-7.78 2.81-2.81c.8-.78.8-2.07 0-2.86zM5.41 20L4 18.59l7.72-7.72 1.47 1.35L5.41 20z\"/>\n",
              "  </svg>\n",
              "      </button>\n",
              "      \n",
              "  <style>\n",
              "    .colab-df-container {\n",
              "      display:flex;\n",
              "      flex-wrap:wrap;\n",
              "      gap: 12px;\n",
              "    }\n",
              "\n",
              "    .colab-df-convert {\n",
              "      background-color: #E8F0FE;\n",
              "      border: none;\n",
              "      border-radius: 50%;\n",
              "      cursor: pointer;\n",
              "      display: none;\n",
              "      fill: #1967D2;\n",
              "      height: 32px;\n",
              "      padding: 0 0 0 0;\n",
              "      width: 32px;\n",
              "    }\n",
              "\n",
              "    .colab-df-convert:hover {\n",
              "      background-color: #E2EBFA;\n",
              "      box-shadow: 0px 1px 2px rgba(60, 64, 67, 0.3), 0px 1px 3px 1px rgba(60, 64, 67, 0.15);\n",
              "      fill: #174EA6;\n",
              "    }\n",
              "\n",
              "    [theme=dark] .colab-df-convert {\n",
              "      background-color: #3B4455;\n",
              "      fill: #D2E3FC;\n",
              "    }\n",
              "\n",
              "    [theme=dark] .colab-df-convert:hover {\n",
              "      background-color: #434B5C;\n",
              "      box-shadow: 0px 1px 3px 1px rgba(0, 0, 0, 0.15);\n",
              "      filter: drop-shadow(0px 1px 2px rgba(0, 0, 0, 0.3));\n",
              "      fill: #FFFFFF;\n",
              "    }\n",
              "  </style>\n",
              "\n",
              "      <script>\n",
              "        const buttonEl =\n",
              "          document.querySelector('#df-490521e1-351b-4663-ab23-bbfb20d6972e button.colab-df-convert');\n",
              "        buttonEl.style.display =\n",
              "          google.colab.kernel.accessAllowed ? 'block' : 'none';\n",
              "\n",
              "        async function convertToInteractive(key) {\n",
              "          const element = document.querySelector('#df-490521e1-351b-4663-ab23-bbfb20d6972e');\n",
              "          const dataTable =\n",
              "            await google.colab.kernel.invokeFunction('convertToInteractive',\n",
              "                                                     [key], {});\n",
              "          if (!dataTable) return;\n",
              "\n",
              "          const docLinkHtml = 'Like what you see? Visit the ' +\n",
              "            '<a target=\"_blank\" href=https://colab.research.google.com/notebooks/data_table.ipynb>data table notebook</a>'\n",
              "            + ' to learn more about interactive tables.';\n",
              "          element.innerHTML = '';\n",
              "          dataTable['output_type'] = 'display_data';\n",
              "          await google.colab.output.renderOutput(dataTable, element);\n",
              "          const docLink = document.createElement('div');\n",
              "          docLink.innerHTML = docLinkHtml;\n",
              "          element.appendChild(docLink);\n",
              "        }\n",
              "      </script>\n",
              "    </div>\n",
              "  </div>\n",
              "  "
            ],
            "text/plain": [
              "       ad_type_featured  ad_type_featuredvipped  ad_type_vipped\n",
              "0                     0                       1               0\n",
              "1                     0                       0               1\n",
              "2                     0                       0               1\n",
              "3                     0                       0               1\n",
              "4                     0                       0               0\n",
              "...                 ...                     ...             ...\n",
              "16213                 0                       0               0\n",
              "16214                 0                       0               0\n",
              "16215                 0                       0               0\n",
              "16216                 0                       0               0\n",
              "16217                 0                       0               0\n",
              "\n",
              "[16218 rows x 3 columns]"
            ]
          },
          "metadata": {},
          "execution_count": 101
        }
      ]
    },
    {
      "cell_type": "code",
      "source": [
        "df = pd.concat([df, ad_type], axis=1)\n",
        "df.columns.values"
      ],
      "metadata": {
        "colab": {
          "base_uri": "https://localhost:8080/"
        },
        "id": "qMIr_7TGeLVZ",
        "outputId": "0ef95ff4-f4fe-46b2-c2b1-22b326325496"
      },
      "execution_count": 102,
      "outputs": [
        {
          "output_type": "execute_result",
          "data": {
            "text/plain": [
              "array(['vipped_featured', 'prices', 'categories', 'floors', 'areas_m2',\n",
              "       'rooms', 'documents', 'credits', 'address', 'district',\n",
              "       'latitudes', 'longitudes', 'ownerships', 'watches',\n",
              "       'ad_refreshed_date', 'agency_titles', 'date_of_parsing',\n",
              "       'deal_ended', 'ad_type_featured', 'ad_type_featuredvipped',\n",
              "       'ad_type_vipped'], dtype=object)"
            ]
          },
          "metadata": {},
          "execution_count": 102
        }
      ]
    },
    {
      "cell_type": "markdown",
      "source": [
        "### Price"
      ],
      "metadata": {
        "id": "WxFM2zYsbnwk"
      }
    },
    {
      "cell_type": "code",
      "source": [
        "df['prices'] = pd.to_numeric(\n",
        "    df['prices'].apply(lambda x: str(x).replace(\" \", \"\"))\n",
        ")"
      ],
      "metadata": {
        "id": "LO4A-N3SZ_Dk"
      },
      "execution_count": 103,
      "outputs": []
    },
    {
      "cell_type": "markdown",
      "source": [
        "### Categories"
      ],
      "metadata": {
        "id": "uDT-XJ7ielV4"
      }
    },
    {
      "cell_type": "code",
      "source": [
        "df['categories'].value_counts()"
      ],
      "metadata": {
        "colab": {
          "base_uri": "https://localhost:8080/"
        },
        "id": "DDsYwMgnevy2",
        "outputId": "43130f10-4614-48ec-e895-7f00c3b872ef"
      },
      "execution_count": 104,
      "outputs": [
        {
          "output_type": "execute_result",
          "data": {
            "text/plain": [
              "Yeni tikili     10900\n",
              "Köhnə tikili     5312\n",
              "0                   6\n",
              "Name: categories, dtype: int64"
            ]
          },
          "metadata": {},
          "execution_count": 104
        }
      ]
    },
    {
      "cell_type": "code",
      "source": [
        "categories = pd.get_dummies(df['categories'], drop_first=True) # 0 is reference category\n",
        "categories"
      ],
      "metadata": {
        "colab": {
          "base_uri": "https://localhost:8080/",
          "height": 423
        },
        "id": "npFAjGPEbt33",
        "outputId": "f4748cae-fbf3-4256-c8b1-ac2d5cb32964"
      },
      "execution_count": 105,
      "outputs": [
        {
          "output_type": "execute_result",
          "data": {
            "text/html": [
              "\n",
              "  <div id=\"df-5cb3c6b3-3fe5-4cce-a314-c7d92342e0a4\">\n",
              "    <div class=\"colab-df-container\">\n",
              "      <div>\n",
              "<style scoped>\n",
              "    .dataframe tbody tr th:only-of-type {\n",
              "        vertical-align: middle;\n",
              "    }\n",
              "\n",
              "    .dataframe tbody tr th {\n",
              "        vertical-align: top;\n",
              "    }\n",
              "\n",
              "    .dataframe thead th {\n",
              "        text-align: right;\n",
              "    }\n",
              "</style>\n",
              "<table border=\"1\" class=\"dataframe\">\n",
              "  <thead>\n",
              "    <tr style=\"text-align: right;\">\n",
              "      <th></th>\n",
              "      <th>Köhnə tikili</th>\n",
              "      <th>Yeni tikili</th>\n",
              "    </tr>\n",
              "  </thead>\n",
              "  <tbody>\n",
              "    <tr>\n",
              "      <th>0</th>\n",
              "      <td>1</td>\n",
              "      <td>0</td>\n",
              "    </tr>\n",
              "    <tr>\n",
              "      <th>1</th>\n",
              "      <td>0</td>\n",
              "      <td>1</td>\n",
              "    </tr>\n",
              "    <tr>\n",
              "      <th>2</th>\n",
              "      <td>0</td>\n",
              "      <td>1</td>\n",
              "    </tr>\n",
              "    <tr>\n",
              "      <th>3</th>\n",
              "      <td>0</td>\n",
              "      <td>1</td>\n",
              "    </tr>\n",
              "    <tr>\n",
              "      <th>4</th>\n",
              "      <td>0</td>\n",
              "      <td>1</td>\n",
              "    </tr>\n",
              "    <tr>\n",
              "      <th>...</th>\n",
              "      <td>...</td>\n",
              "      <td>...</td>\n",
              "    </tr>\n",
              "    <tr>\n",
              "      <th>16213</th>\n",
              "      <td>0</td>\n",
              "      <td>1</td>\n",
              "    </tr>\n",
              "    <tr>\n",
              "      <th>16214</th>\n",
              "      <td>0</td>\n",
              "      <td>1</td>\n",
              "    </tr>\n",
              "    <tr>\n",
              "      <th>16215</th>\n",
              "      <td>0</td>\n",
              "      <td>1</td>\n",
              "    </tr>\n",
              "    <tr>\n",
              "      <th>16216</th>\n",
              "      <td>0</td>\n",
              "      <td>1</td>\n",
              "    </tr>\n",
              "    <tr>\n",
              "      <th>16217</th>\n",
              "      <td>0</td>\n",
              "      <td>1</td>\n",
              "    </tr>\n",
              "  </tbody>\n",
              "</table>\n",
              "<p>16218 rows × 2 columns</p>\n",
              "</div>\n",
              "      <button class=\"colab-df-convert\" onclick=\"convertToInteractive('df-5cb3c6b3-3fe5-4cce-a314-c7d92342e0a4')\"\n",
              "              title=\"Convert this dataframe to an interactive table.\"\n",
              "              style=\"display:none;\">\n",
              "        \n",
              "  <svg xmlns=\"http://www.w3.org/2000/svg\" height=\"24px\"viewBox=\"0 0 24 24\"\n",
              "       width=\"24px\">\n",
              "    <path d=\"M0 0h24v24H0V0z\" fill=\"none\"/>\n",
              "    <path d=\"M18.56 5.44l.94 2.06.94-2.06 2.06-.94-2.06-.94-.94-2.06-.94 2.06-2.06.94zm-11 1L8.5 8.5l.94-2.06 2.06-.94-2.06-.94L8.5 2.5l-.94 2.06-2.06.94zm10 10l.94 2.06.94-2.06 2.06-.94-2.06-.94-.94-2.06-.94 2.06-2.06.94z\"/><path d=\"M17.41 7.96l-1.37-1.37c-.4-.4-.92-.59-1.43-.59-.52 0-1.04.2-1.43.59L10.3 9.45l-7.72 7.72c-.78.78-.78 2.05 0 2.83L4 21.41c.39.39.9.59 1.41.59.51 0 1.02-.2 1.41-.59l7.78-7.78 2.81-2.81c.8-.78.8-2.07 0-2.86zM5.41 20L4 18.59l7.72-7.72 1.47 1.35L5.41 20z\"/>\n",
              "  </svg>\n",
              "      </button>\n",
              "      \n",
              "  <style>\n",
              "    .colab-df-container {\n",
              "      display:flex;\n",
              "      flex-wrap:wrap;\n",
              "      gap: 12px;\n",
              "    }\n",
              "\n",
              "    .colab-df-convert {\n",
              "      background-color: #E8F0FE;\n",
              "      border: none;\n",
              "      border-radius: 50%;\n",
              "      cursor: pointer;\n",
              "      display: none;\n",
              "      fill: #1967D2;\n",
              "      height: 32px;\n",
              "      padding: 0 0 0 0;\n",
              "      width: 32px;\n",
              "    }\n",
              "\n",
              "    .colab-df-convert:hover {\n",
              "      background-color: #E2EBFA;\n",
              "      box-shadow: 0px 1px 2px rgba(60, 64, 67, 0.3), 0px 1px 3px 1px rgba(60, 64, 67, 0.15);\n",
              "      fill: #174EA6;\n",
              "    }\n",
              "\n",
              "    [theme=dark] .colab-df-convert {\n",
              "      background-color: #3B4455;\n",
              "      fill: #D2E3FC;\n",
              "    }\n",
              "\n",
              "    [theme=dark] .colab-df-convert:hover {\n",
              "      background-color: #434B5C;\n",
              "      box-shadow: 0px 1px 3px 1px rgba(0, 0, 0, 0.15);\n",
              "      filter: drop-shadow(0px 1px 2px rgba(0, 0, 0, 0.3));\n",
              "      fill: #FFFFFF;\n",
              "    }\n",
              "  </style>\n",
              "\n",
              "      <script>\n",
              "        const buttonEl =\n",
              "          document.querySelector('#df-5cb3c6b3-3fe5-4cce-a314-c7d92342e0a4 button.colab-df-convert');\n",
              "        buttonEl.style.display =\n",
              "          google.colab.kernel.accessAllowed ? 'block' : 'none';\n",
              "\n",
              "        async function convertToInteractive(key) {\n",
              "          const element = document.querySelector('#df-5cb3c6b3-3fe5-4cce-a314-c7d92342e0a4');\n",
              "          const dataTable =\n",
              "            await google.colab.kernel.invokeFunction('convertToInteractive',\n",
              "                                                     [key], {});\n",
              "          if (!dataTable) return;\n",
              "\n",
              "          const docLinkHtml = 'Like what you see? Visit the ' +\n",
              "            '<a target=\"_blank\" href=https://colab.research.google.com/notebooks/data_table.ipynb>data table notebook</a>'\n",
              "            + ' to learn more about interactive tables.';\n",
              "          element.innerHTML = '';\n",
              "          dataTable['output_type'] = 'display_data';\n",
              "          await google.colab.output.renderOutput(dataTable, element);\n",
              "          const docLink = document.createElement('div');\n",
              "          docLink.innerHTML = docLinkHtml;\n",
              "          element.appendChild(docLink);\n",
              "        }\n",
              "      </script>\n",
              "    </div>\n",
              "  </div>\n",
              "  "
            ],
            "text/plain": [
              "       Köhnə tikili  Yeni tikili\n",
              "0                 1            0\n",
              "1                 0            1\n",
              "2                 0            1\n",
              "3                 0            1\n",
              "4                 0            1\n",
              "...             ...          ...\n",
              "16213             0            1\n",
              "16214             0            1\n",
              "16215             0            1\n",
              "16216             0            1\n",
              "16217             0            1\n",
              "\n",
              "[16218 rows x 2 columns]"
            ]
          },
          "metadata": {},
          "execution_count": 105
        }
      ]
    },
    {
      "cell_type": "code",
      "source": [
        "df = pd.concat([df, categories], axis=1)\n",
        "df.columns.values"
      ],
      "metadata": {
        "colab": {
          "base_uri": "https://localhost:8080/"
        },
        "id": "Fl8xglyjetm8",
        "outputId": "932fd522-f43e-4d78-adfa-ee524d5ced1a"
      },
      "execution_count": 106,
      "outputs": [
        {
          "output_type": "execute_result",
          "data": {
            "text/plain": [
              "array(['vipped_featured', 'prices', 'categories', 'floors', 'areas_m2',\n",
              "       'rooms', 'documents', 'credits', 'address', 'district',\n",
              "       'latitudes', 'longitudes', 'ownerships', 'watches',\n",
              "       'ad_refreshed_date', 'agency_titles', 'date_of_parsing',\n",
              "       'deal_ended', 'ad_type_featured', 'ad_type_featuredvipped',\n",
              "       'ad_type_vipped', 'Köhnə tikili', 'Yeni tikili'], dtype=object)"
            ]
          },
          "metadata": {},
          "execution_count": 106
        }
      ]
    },
    {
      "cell_type": "markdown",
      "source": [
        "### Floors"
      ],
      "metadata": {
        "id": "bvvg2TC3fiGG"
      }
    },
    {
      "cell_type": "code",
      "source": [
        "df['floors'].value_counts()"
      ],
      "metadata": {
        "colab": {
          "base_uri": "https://localhost:8080/"
        },
        "id": "YBqQgifrfptq",
        "outputId": "219831fc-6f33-45d7-a2bb-bce1f4869a5d"
      },
      "execution_count": 107,
      "outputs": [
        {
          "output_type": "execute_result",
          "data": {
            "text/plain": [
              "5 / 5      592\n",
              "4 / 5      589\n",
              "3 / 5      484\n",
              "2 / 5      458\n",
              "1 / 5      312\n",
              "          ... \n",
              "23 / 26      1\n",
              "22 / 27      1\n",
              "7 / 26       1\n",
              "9 / 24       1\n",
              "15 / 28      1\n",
              "Name: floors, Length: 341, dtype: int64"
            ]
          },
          "metadata": {},
          "execution_count": 107
        }
      ]
    },
    {
      "cell_type": "code",
      "source": [
        "apartment_floor = df['floors'].apply(lambda x: str(x).split(\" / \")[0])\n",
        "\n",
        "buildings_floor = []\n",
        "\n",
        "for i in df['floors']:\n",
        "  try:\n",
        "    buildings_floor.append(str(i).split(\" / \")[1])\n",
        "  except:\n",
        "    buildings_floor.append(np.nan)"
      ],
      "metadata": {
        "id": "a8kXU-CSftzA"
      },
      "execution_count": 116,
      "outputs": []
    },
    {
      "cell_type": "code",
      "source": [
        "df['apartment_floor'] = apartment_floor\n",
        "df['buildings_floor'] = buildings_floor"
      ],
      "metadata": {
        "id": "WdQ5KG31f5hh"
      },
      "execution_count": 117,
      "outputs": []
    },
    {
      "cell_type": "markdown",
      "source": [
        "### Area m2"
      ],
      "metadata": {
        "id": "nFTg1I_bizKb"
      }
    },
    {
      "cell_type": "code",
      "source": [
        "df['areas_m2'] = df['areas_m2'].apply(lambda x: float(x.rstrip(\" m²\")))"
      ],
      "metadata": {
        "id": "d0XIE93-lzME"
      },
      "execution_count": 127,
      "outputs": []
    },
    {
      "cell_type": "code",
      "source": [
        "df.columns.values"
      ],
      "metadata": {
        "colab": {
          "base_uri": "https://localhost:8080/"
        },
        "id": "-6czJ3vTl6y8",
        "outputId": "cfe61167-4bdd-4cbd-9ca8-cdbf266f1f21"
      },
      "execution_count": 128,
      "outputs": [
        {
          "output_type": "execute_result",
          "data": {
            "text/plain": [
              "array(['vipped_featured', 'prices', 'categories', 'floors', 'areas_m2',\n",
              "       'rooms', 'documents', 'credits', 'address', 'district',\n",
              "       'latitudes', 'longitudes', 'ownerships', 'watches',\n",
              "       'ad_refreshed_date', 'agency_titles', 'date_of_parsing',\n",
              "       'deal_ended', 'ad_type_featured', 'ad_type_featuredvipped',\n",
              "       'ad_type_vipped', 'Köhnə tikili', 'Yeni tikili', 'apartment_floor',\n",
              "       'buildings_floor'], dtype=object)"
            ]
          },
          "metadata": {},
          "execution_count": 128
        }
      ]
    },
    {
      "cell_type": "code",
      "source": [
        ""
      ],
      "metadata": {
        "id": "0IvGqDt_mhkR"
      },
      "execution_count": null,
      "outputs": []
    }
  ]
}